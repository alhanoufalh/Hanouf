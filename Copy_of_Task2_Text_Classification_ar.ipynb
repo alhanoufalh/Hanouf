{
  "cells": [
    {
      "cell_type": "markdown",
      "metadata": {
        "id": "view-in-github",
        "colab_type": "text"
      },
      "source": [
        "<a href=\"https://colab.research.google.com/github/alhanoufalh/Hanouf/blob/main/Copy_of_Task2_Text_Classification_ar.ipynb\" target=\"_parent\"><img src=\"https://colab.research.google.com/assets/colab-badge.svg\" alt=\"Open In Colab\"/></a>"
      ]
    },
    {
      "cell_type": "markdown",
      "metadata": {
        "id": "bsurCNok43DL"
      },
      "source": [
        "# Text Classification Exam\n",
        "\n",
        "Welcome to the Text Classification Practical Exam. In this exam, you will be tasked with building, training, and evaluating an NLP model to classify text data. You are provided with a labeled dataset containing both the text and its corresponding class labels.\n",
        "\n",
        "Your objective is to develop a model that accurately predicts the class of the given text. Make sure to follow best practices in data preprocessing, model selection, and evaluation to achieve optimal results.\n",
        "\n",
        "Good luck!\n",
        "___"
      ]
    },
    {
      "cell_type": "markdown",
      "metadata": {
        "id": "oqw2El5mMxsz"
      },
      "source": [
        "# Install and Import Needed Libraries"
      ]
    },
    {
      "cell_type": "markdown",
      "metadata": {
        "id": "4dTkHbSHNB4y"
      },
      "source": [
        "You can use `pyarabic` or any other library to pre-process and clean the Arabic text."
      ]
    },
    {
      "cell_type": "code",
      "execution_count": 50,
      "metadata": {
        "id": "z6mRe6i5Wqqc",
        "colab": {
          "base_uri": "https://localhost:8080/"
        },
        "outputId": "2e137de2-819c-449d-e2b6-4c07ad2dfa03"
      },
      "outputs": [
        {
          "output_type": "stream",
          "name": "stdout",
          "text": [
            "Requirement already satisfied: pyarabic in /usr/local/lib/python3.10/dist-packages (0.6.15)\n",
            "Requirement already satisfied: six>=1.14.0 in /usr/local/lib/python3.10/dist-packages (from pyarabic) (1.16.0)\n"
          ]
        }
      ],
      "source": [
        " pip install pyarabic"
      ]
    },
    {
      "cell_type": "markdown",
      "metadata": {
        "id": "Hq5KJRZ5Ph0Z"
      },
      "source": [
        "# Download the Dataset"
      ]
    },
    {
      "cell_type": "markdown",
      "metadata": {
        "id": "3riATTJ243DN"
      },
      "source": [
        "Please note that you are allowed to take a subset of this dataset, the reason for that is it might take a long time to train the model on."
      ]
    },
    {
      "cell_type": "code",
      "execution_count": 46,
      "metadata": {
        "id": "M1n3uTg043DN",
        "colab": {
          "base_uri": "https://localhost:8080/"
        },
        "outputId": "6eb08d94-b6fe-415c-e94b-0310c48cb678"
      },
      "outputs": [
        {
          "metadata": {
            "tags": null
          },
          "name": "stdout",
          "output_type": "stream",
          "text": [
            "Dataset URL: https://www.kaggle.com/datasets/khaledzsa/sanad\n",
            "License(s): unknown\n",
            "sanad.zip: Skipping, found more recently modified local copy (use --force to force download)\n",
            "Archive:  sanad.zip\n",
            "replace sanad.csv? [y]es, [n]o, [A]ll, [N]one, [r]ename: "
          ]
        }
      ],
      "source": [
        "!kaggle datasets download -d khaledzsa/sanad\n",
        "!unzip sanad.zip"
      ]
    },
    {
      "cell_type": "code",
      "source": [
        "import pandas as pd"
      ],
      "metadata": {
        "id": "0TSkVQNvHr_O"
      },
      "execution_count": 47,
      "outputs": []
    },
    {
      "cell_type": "code",
      "source": [
        "df = pd.read_csv('sanad.csv')"
      ],
      "metadata": {
        "id": "kWRe1LkfITvg"
      },
      "execution_count": 48,
      "outputs": []
    },
    {
      "cell_type": "markdown",
      "metadata": {
        "id": "kVc0b_9fQGeH"
      },
      "source": [
        "# Data Exploration"
      ]
    },
    {
      "cell_type": "markdown",
      "metadata": {
        "id": "a98DaVUvQsi8"
      },
      "source": [
        "Before diving into preprocessing and model building, it’s important to first explore the dataset to understand its structure, distribution, and key characteristics. This step will help you gain insights into the data and guide your decisions in subsequent steps. Here’s what to consider:\n",
        "\n",
        "1. **Inspect the Data**:\n",
        "   Start by looking at the first few rows of the dataset to get a sense of its structure. Check the columns, data types, and a few sample entries. This helps to ensure that the data is loaded correctly and gives you an initial overview of the content.\n",
        "\n",
        "2. **Check for Missing Values**:\n",
        "   Identify if there are any missing values in the dataset.\n",
        "\n",
        "3. **Distribution of Labels**:\n",
        "   Examine the distribution of the target labels (classes).\n",
        "\n",
        "4. **Text Data Characteristics (Bonus)**:\n",
        "   Analyze the length of the text data. It is useful to calculate the number of words or characters in each text sample to understand how long the texts are. This will help you set a suitable `max_length` for tokenization and padding later. You can plot a histogram of text lengths to visualize the distribution.\n",
        "\n",
        "5. **Common Words and Vocabulary (Bonus)**:\n",
        "   Explore the most frequent words in the text data."
      ]
    },
    {
      "cell_type": "code",
      "source": [
        "df.head()"
      ],
      "metadata": {
        "colab": {
          "base_uri": "https://localhost:8080/",
          "height": 206
        },
        "id": "AOA5lgXzKTbk",
        "outputId": "8d30346a-d6e8-434c-e120-bee437c5f5ce"
      },
      "execution_count": 51,
      "outputs": [
        {
          "output_type": "execute_result",
          "data": {
            "text/plain": [
              "                                                text    label\n",
              "0  https://example.com/resource/الشاٌرقة -ْ محمِد...  Culture\n",
              "1  https://example.com/resource/اَنِطٌلقّتَ ٍفٍيّ...  Culture\n",
              "2  https://example.com/resource/أُقيًمٌتِ مِساءُ ...  Culture\n",
              "3  https://example.com/resource/بٍاسُمةَ يًوٌنٍس ...  Culture\n",
              "4  https://example.com/resource/قُرر اَتحِاد اًلْ...  Culture"
            ],
            "text/html": [
              "\n",
              "  <div id=\"df-e2219ca3-fad9-4925-95fd-bdbed44f3c4e\" class=\"colab-df-container\">\n",
              "    <div>\n",
              "<style scoped>\n",
              "    .dataframe tbody tr th:only-of-type {\n",
              "        vertical-align: middle;\n",
              "    }\n",
              "\n",
              "    .dataframe tbody tr th {\n",
              "        vertical-align: top;\n",
              "    }\n",
              "\n",
              "    .dataframe thead th {\n",
              "        text-align: right;\n",
              "    }\n",
              "</style>\n",
              "<table border=\"1\" class=\"dataframe\">\n",
              "  <thead>\n",
              "    <tr style=\"text-align: right;\">\n",
              "      <th></th>\n",
              "      <th>text</th>\n",
              "      <th>label</th>\n",
              "    </tr>\n",
              "  </thead>\n",
              "  <tbody>\n",
              "    <tr>\n",
              "      <th>0</th>\n",
              "      <td>https://example.com/resource/الشاٌرقة -ْ محمِد...</td>\n",
              "      <td>Culture</td>\n",
              "    </tr>\n",
              "    <tr>\n",
              "      <th>1</th>\n",
              "      <td>https://example.com/resource/اَنِطٌلقّتَ ٍفٍيّ...</td>\n",
              "      <td>Culture</td>\n",
              "    </tr>\n",
              "    <tr>\n",
              "      <th>2</th>\n",
              "      <td>https://example.com/resource/أُقيًمٌتِ مِساءُ ...</td>\n",
              "      <td>Culture</td>\n",
              "    </tr>\n",
              "    <tr>\n",
              "      <th>3</th>\n",
              "      <td>https://example.com/resource/بٍاسُمةَ يًوٌنٍس ...</td>\n",
              "      <td>Culture</td>\n",
              "    </tr>\n",
              "    <tr>\n",
              "      <th>4</th>\n",
              "      <td>https://example.com/resource/قُرر اَتحِاد اًلْ...</td>\n",
              "      <td>Culture</td>\n",
              "    </tr>\n",
              "  </tbody>\n",
              "</table>\n",
              "</div>\n",
              "    <div class=\"colab-df-buttons\">\n",
              "\n",
              "  <div class=\"colab-df-container\">\n",
              "    <button class=\"colab-df-convert\" onclick=\"convertToInteractive('df-e2219ca3-fad9-4925-95fd-bdbed44f3c4e')\"\n",
              "            title=\"Convert this dataframe to an interactive table.\"\n",
              "            style=\"display:none;\">\n",
              "\n",
              "  <svg xmlns=\"http://www.w3.org/2000/svg\" height=\"24px\" viewBox=\"0 -960 960 960\">\n",
              "    <path d=\"M120-120v-720h720v720H120Zm60-500h600v-160H180v160Zm220 220h160v-160H400v160Zm0 220h160v-160H400v160ZM180-400h160v-160H180v160Zm440 0h160v-160H620v160ZM180-180h160v-160H180v160Zm440 0h160v-160H620v160Z\"/>\n",
              "  </svg>\n",
              "    </button>\n",
              "\n",
              "  <style>\n",
              "    .colab-df-container {\n",
              "      display:flex;\n",
              "      gap: 12px;\n",
              "    }\n",
              "\n",
              "    .colab-df-convert {\n",
              "      background-color: #E8F0FE;\n",
              "      border: none;\n",
              "      border-radius: 50%;\n",
              "      cursor: pointer;\n",
              "      display: none;\n",
              "      fill: #1967D2;\n",
              "      height: 32px;\n",
              "      padding: 0 0 0 0;\n",
              "      width: 32px;\n",
              "    }\n",
              "\n",
              "    .colab-df-convert:hover {\n",
              "      background-color: #E2EBFA;\n",
              "      box-shadow: 0px 1px 2px rgba(60, 64, 67, 0.3), 0px 1px 3px 1px rgba(60, 64, 67, 0.15);\n",
              "      fill: #174EA6;\n",
              "    }\n",
              "\n",
              "    .colab-df-buttons div {\n",
              "      margin-bottom: 4px;\n",
              "    }\n",
              "\n",
              "    [theme=dark] .colab-df-convert {\n",
              "      background-color: #3B4455;\n",
              "      fill: #D2E3FC;\n",
              "    }\n",
              "\n",
              "    [theme=dark] .colab-df-convert:hover {\n",
              "      background-color: #434B5C;\n",
              "      box-shadow: 0px 1px 3px 1px rgba(0, 0, 0, 0.15);\n",
              "      filter: drop-shadow(0px 1px 2px rgba(0, 0, 0, 0.3));\n",
              "      fill: #FFFFFF;\n",
              "    }\n",
              "  </style>\n",
              "\n",
              "    <script>\n",
              "      const buttonEl =\n",
              "        document.querySelector('#df-e2219ca3-fad9-4925-95fd-bdbed44f3c4e button.colab-df-convert');\n",
              "      buttonEl.style.display =\n",
              "        google.colab.kernel.accessAllowed ? 'block' : 'none';\n",
              "\n",
              "      async function convertToInteractive(key) {\n",
              "        const element = document.querySelector('#df-e2219ca3-fad9-4925-95fd-bdbed44f3c4e');\n",
              "        const dataTable =\n",
              "          await google.colab.kernel.invokeFunction('convertToInteractive',\n",
              "                                                    [key], {});\n",
              "        if (!dataTable) return;\n",
              "\n",
              "        const docLinkHtml = 'Like what you see? Visit the ' +\n",
              "          '<a target=\"_blank\" href=https://colab.research.google.com/notebooks/data_table.ipynb>data table notebook</a>'\n",
              "          + ' to learn more about interactive tables.';\n",
              "        element.innerHTML = '';\n",
              "        dataTable['output_type'] = 'display_data';\n",
              "        await google.colab.output.renderOutput(dataTable, element);\n",
              "        const docLink = document.createElement('div');\n",
              "        docLink.innerHTML = docLinkHtml;\n",
              "        element.appendChild(docLink);\n",
              "      }\n",
              "    </script>\n",
              "  </div>\n",
              "\n",
              "\n",
              "<div id=\"df-4c385f5c-bcfb-4994-b6f4-c6b514e23c79\">\n",
              "  <button class=\"colab-df-quickchart\" onclick=\"quickchart('df-4c385f5c-bcfb-4994-b6f4-c6b514e23c79')\"\n",
              "            title=\"Suggest charts\"\n",
              "            style=\"display:none;\">\n",
              "\n",
              "<svg xmlns=\"http://www.w3.org/2000/svg\" height=\"24px\"viewBox=\"0 0 24 24\"\n",
              "     width=\"24px\">\n",
              "    <g>\n",
              "        <path d=\"M19 3H5c-1.1 0-2 .9-2 2v14c0 1.1.9 2 2 2h14c1.1 0 2-.9 2-2V5c0-1.1-.9-2-2-2zM9 17H7v-7h2v7zm4 0h-2V7h2v10zm4 0h-2v-4h2v4z\"/>\n",
              "    </g>\n",
              "</svg>\n",
              "  </button>\n",
              "\n",
              "<style>\n",
              "  .colab-df-quickchart {\n",
              "      --bg-color: #E8F0FE;\n",
              "      --fill-color: #1967D2;\n",
              "      --hover-bg-color: #E2EBFA;\n",
              "      --hover-fill-color: #174EA6;\n",
              "      --disabled-fill-color: #AAA;\n",
              "      --disabled-bg-color: #DDD;\n",
              "  }\n",
              "\n",
              "  [theme=dark] .colab-df-quickchart {\n",
              "      --bg-color: #3B4455;\n",
              "      --fill-color: #D2E3FC;\n",
              "      --hover-bg-color: #434B5C;\n",
              "      --hover-fill-color: #FFFFFF;\n",
              "      --disabled-bg-color: #3B4455;\n",
              "      --disabled-fill-color: #666;\n",
              "  }\n",
              "\n",
              "  .colab-df-quickchart {\n",
              "    background-color: var(--bg-color);\n",
              "    border: none;\n",
              "    border-radius: 50%;\n",
              "    cursor: pointer;\n",
              "    display: none;\n",
              "    fill: var(--fill-color);\n",
              "    height: 32px;\n",
              "    padding: 0;\n",
              "    width: 32px;\n",
              "  }\n",
              "\n",
              "  .colab-df-quickchart:hover {\n",
              "    background-color: var(--hover-bg-color);\n",
              "    box-shadow: 0 1px 2px rgba(60, 64, 67, 0.3), 0 1px 3px 1px rgba(60, 64, 67, 0.15);\n",
              "    fill: var(--button-hover-fill-color);\n",
              "  }\n",
              "\n",
              "  .colab-df-quickchart-complete:disabled,\n",
              "  .colab-df-quickchart-complete:disabled:hover {\n",
              "    background-color: var(--disabled-bg-color);\n",
              "    fill: var(--disabled-fill-color);\n",
              "    box-shadow: none;\n",
              "  }\n",
              "\n",
              "  .colab-df-spinner {\n",
              "    border: 2px solid var(--fill-color);\n",
              "    border-color: transparent;\n",
              "    border-bottom-color: var(--fill-color);\n",
              "    animation:\n",
              "      spin 1s steps(1) infinite;\n",
              "  }\n",
              "\n",
              "  @keyframes spin {\n",
              "    0% {\n",
              "      border-color: transparent;\n",
              "      border-bottom-color: var(--fill-color);\n",
              "      border-left-color: var(--fill-color);\n",
              "    }\n",
              "    20% {\n",
              "      border-color: transparent;\n",
              "      border-left-color: var(--fill-color);\n",
              "      border-top-color: var(--fill-color);\n",
              "    }\n",
              "    30% {\n",
              "      border-color: transparent;\n",
              "      border-left-color: var(--fill-color);\n",
              "      border-top-color: var(--fill-color);\n",
              "      border-right-color: var(--fill-color);\n",
              "    }\n",
              "    40% {\n",
              "      border-color: transparent;\n",
              "      border-right-color: var(--fill-color);\n",
              "      border-top-color: var(--fill-color);\n",
              "    }\n",
              "    60% {\n",
              "      border-color: transparent;\n",
              "      border-right-color: var(--fill-color);\n",
              "    }\n",
              "    80% {\n",
              "      border-color: transparent;\n",
              "      border-right-color: var(--fill-color);\n",
              "      border-bottom-color: var(--fill-color);\n",
              "    }\n",
              "    90% {\n",
              "      border-color: transparent;\n",
              "      border-bottom-color: var(--fill-color);\n",
              "    }\n",
              "  }\n",
              "</style>\n",
              "\n",
              "  <script>\n",
              "    async function quickchart(key) {\n",
              "      const quickchartButtonEl =\n",
              "        document.querySelector('#' + key + ' button');\n",
              "      quickchartButtonEl.disabled = true;  // To prevent multiple clicks.\n",
              "      quickchartButtonEl.classList.add('colab-df-spinner');\n",
              "      try {\n",
              "        const charts = await google.colab.kernel.invokeFunction(\n",
              "            'suggestCharts', [key], {});\n",
              "      } catch (error) {\n",
              "        console.error('Error during call to suggestCharts:', error);\n",
              "      }\n",
              "      quickchartButtonEl.classList.remove('colab-df-spinner');\n",
              "      quickchartButtonEl.classList.add('colab-df-quickchart-complete');\n",
              "    }\n",
              "    (() => {\n",
              "      let quickchartButtonEl =\n",
              "        document.querySelector('#df-4c385f5c-bcfb-4994-b6f4-c6b514e23c79 button');\n",
              "      quickchartButtonEl.style.display =\n",
              "        google.colab.kernel.accessAllowed ? 'block' : 'none';\n",
              "    })();\n",
              "  </script>\n",
              "</div>\n",
              "\n",
              "    </div>\n",
              "  </div>\n"
            ],
            "application/vnd.google.colaboratory.intrinsic+json": {
              "type": "dataframe",
              "variable_name": "df",
              "summary": "{\n  \"name\": \"df\",\n  \"rows\": 39885,\n  \"fields\": [\n    {\n      \"column\": \"text\",\n      \"properties\": {\n        \"dtype\": \"string\",\n        \"num_unique_values\": 39885,\n        \"samples\": [\n          \"https://example.com/resource/\\u0628\\u0652\\u0644\\u0650\\u063a\\u062a \\u064e\\u062a\\u0633\\u064e\\u064a\\u064a\\u0644\\u0651\\u0627\\u064b\\u062a\\u064d \\u0627\\u0652\\u0644\\u0623\\u0652\\u062c\\u064e\\u0627\\u0646\\u0651\\u0628\\u064e \\u064e\\u0641\\u064a \\u0633\\u064d\\u0648\\u0652\\u0642\\u0650 \\u064e\\u062f\\u0628\\u064a \\u0627\\u0644\\u0645\\u064d\\u0627\\u0650\\u0644\\u064d\\u064a\\u064d \\u0623\\u0645\\u064d\\u0633\\u064e 59\\u064f \\u0645\\u0644\\u064d\\u064a\\u0648\\u0646\\u0627\\u0650\\u064b\\u0652\\u060c \\u0651\\u0641\\u0651\\u0642\\u062f \\u0650\\u0628\\u0652\\u0644\\u064b\\u063a\\u062a \\u064b\\u0642\\u0651\\u064a\\u064f\\u0645\\u0651\\u0629\\u0651 \\u0645\\u064f\\u0634\\u064b\\u062a\\u064f\\u0631\\u0650\\u064a\\u0627\\u062a \\u064e\\u0627\\u0644\\u0652\\u0623\\u062c\\u0627\\u064d\\u0646\\u064d\\u0628\\u064b\\u060c\\u064b \\u063a\\u0652\\u064a\\u0651\\u0631\\u064d \\u0627\\u0652\\u0644\\u0639\\u0631\\u064c\\u0628\\u060c\\u064f \\u0645\\u0650\\u0646\\u0651 \\u064c\\u0627\\u0644\\u0623\\u0633\\u064c\\u0647\\u064d\\u0645 \\u064c\\u062e\\u064f\\u0644\\u0627\\u064c\\u0644\\u064f \\u0647\\u0650\\u0630\\u064e\\u0627 \\u0627\\u064c\\u0644\\u064a\\u0648\\u0650\\u0645 \\u064d\\u0646\\u064b\\u062d\\u064c\\u0648 9\\u064b4\\u064d \\u064e.\\u065113\\u06526 \\u0645\\u0644\\u0652\\u064a\\u064c\\u0648\\u064b\\u0646\\u064c \\u062f\\u0631\\u0647\\u0645 \\u0641\\u064a\\u0651 \\u0652\\u062d\\u0652\\u064a\\u064f\\u0646\\u0651 \\u0628\\u0644\\u063a\\u064e\\u062a\\u064d \\u064b\\u0642\\u064c\\u064a\\u0645\\u0629\\u064c \\u064b\\u0645\\u064b\\u0628\\u064a\\u0639\\u0627\\u062a\\u0647\\u0645\\u064e \\u0646\\u064b\\u062d\\u0648\\u0652 2\\u06500 .22\\u064b6 \\u0650\\u0645\\u064b\\u0644\\u064a\\u0651\\u0648\\u0646 \\u0652\\u062f\\u0631\\u0650\\u0647\\u0645\\u064f .\\u064f \\u0643\\u0645\\u0627 \\u0650\\u0628\\u0644\\u064e\\u063a\\u064b\\u062a \\u0642\\u0652\\u064a\\u0645\\u0629\\u0650 \\u0645\\u064d\\u0634\\u064b\\u062a\\u064c\\u0631\\u0652\\u064a\\u0627\\u062a \\u064b\\u0627\\u0644\\u0645\\u0633\\u064d\\u062a\\u062b\\u064f\\u0645\\u064b\\u0631\\u064b\\u064a\\u064b\\u0646\\u064b \\u0627\\u0644\\u0652\\u0639\\u0650\\u0631\\u0650\\u0628\\u060c\\u064b \\u064f\\u063a\\u064a\\u0631 \\u0651\\u0627\\u0644\\u0652\\u062e\\u0644\\u064d\\u064a\\u064f\\u062c\\u064d\\u064a\\u064a\\u0651\\u0646\\u0650\\u060c\\u0651 \\u062e\\u0644\\u0627\\u0644 \\u0647\\u0650\\u0630\\u0627 \\u0650\\u0627\\u0644\\u0652\\u064a\\u064b\\u0648\\u0645 \\u0646\\u064f\\u062d\\u064d\\u0648\\u064f 07\\u064e .7\\u064c2\\u0650 \\u0645\\u0644\\u064e\\u064a\\u064c\\u0648\\u0646\\u0652 \\u0652\\u062f\\u0631\\u0647\\u064e\\u0645 \\u064d\\u0648\\u0642\\u064b\\u064a\\u0645\\u064c\\u0629\\u064c \\u0645\\u0652\\u0628\\u064e\\u064a\\u064f\\u0639\\u064e\\u0627\\u064b\\u062a\\u0651\\u0647\\u0645 \\u0646\\u062d\\u0648\\u064c \\u065281\\u064b \\u0650.6\\u06504\\u064e \\u064e\\u0645\\u0644\\u064f\\u064a\\u064c\\u0648\\u0646\\u0651 \\u062f\\u064b\\u0631\\u0647\\u064e\\u0645\\u064e .\\u0623\\u064b\\u0645\\u0651\\u0627\\u0652 \\u0652\\u0628\\u0651\\u0627\\u064c\\u0644\\u064e\\u0646\\u064f\\u0633\\u064d\\u0628\\u0629\\u064e \\u064c\\u0644\\u0644\\u0651\\u0645\\u064d\\u0633\\u064c\\u062a\\u064b\\u062b\\u0652\\u0645\\u0631\\u064b\\u064a\\u0646 \\u0652\\u0627\\u0644\\u062e\\u064c\\u0644\\u064a\\u064e\\u062c\\u064a\\u0650\\u064a\\u0646\\u064c \\u064f\\u0641\\u064b\\u0642\\u062f \\u0628\\u0644\\u064b\\u063a\\u0652\\u062a \\u0642\\u064a\\u0645\\u0629 \\u0645\\u0634\\u0652\\u062a\\u064e\\u0631\\u064c\\u064a\\u064f\\u0627\\u064e\\u062a\\u0647\\u0645\\u064b \\u064b9\\u064b1\\u064f \\u0651.4\\u064d3\\u064d \\u0645\\u0650\\u0644\\u064a\\u0648\\u064c\\u0646 \\u064c\\u062f\\u0631\\u0647\\u0645 \\u0641\\u064a\\u064f \\u062d\\u064a\\u0651\\u0646\\u064b \\u064e\\u0628\\u0644\\u064b\\u063a\\u064c\\u062a \\u064b\\u0642\\u064c\\u064a\\u0645\\u064d\\u0629\\u0651 \\u0645\\u0652\\u0628\\u0651\\u064a\\u0652\\u0639\\u0652\\u0627\\u064c\\u062a\\u064c\\u0647\\u0645\\u0652 \\u064f\\u0646\\u064e\\u062d\\u0650\\u0648 4\\u064f8 \\u064f.21\\u064c \\u0645\\u0644\\u064a\\u0648\\u064f\\u0646 \\u064e\\u062f\\u064e\\u0631\\u064d\\u0647\\u064e\\u0645 \\u064e\\u062e\\u0644\\u064c\\u0627\\u0644 \\u0650\\u0646\\u064c\\u0641\\u0633 \\u064f\\u0627\\u0652\\u0644\\u0651\\u0641\\u062a\\u0631\\u0652\\u0629\\u064c .\",\n          \"https://example.com/resource/\\u062f\\u0628\\u0650\\u064a\\u0650 - \\u0625\\u0650\\u0628\\u064d\\u0631\\u0650\\u0627\\u0647\\u064f\\u064a\\u064c\\u0645\\u0652 \\u0651\\u0627\\u0644\\u064f\\u064a\\u064b\\u0648\\u0633\\u0651\\u0641:\\u064e\\u0628\\u064d\\u062d\\u0636\\u0648\\u0652\\u0631\\u0650 \\u0645\\u064e\\u062d\\u064d\\u0645\\u062f\\u064e \\u0627\\u064d\\u0644\\u0645\\u0652\\u0631\\u060c \\u0631\\u0626\\u064a\\u0633\\u0651 \\u0627\\u0644\\u0645\\u064c\\u062c\\u064c\\u0644\\u064b\\u0633 \\u0627\\u064c\\u0644\\u0648\\u064d\\u0637\\u064b\\u0646\\u064f\\u064a\\u064d \\u0627\\u0644\\u064e\\u0627\\u062a\\u064b\\u062d\\u0652\\u0627\\u062f\\u064a\\u0650\\u060c\\u064e \\u0648\\u0650\\u0627\\u0651\\u0644\\u064c\\u0642\\u0646\\u0652\\u0635\\u0644 \\u0627\\u0644\\u0639\\u0627\\u0652\\u0645\\u0650 \\u064b\\u0627\\u064d\\u0644\\u0651\\u0643\\u0651\\u0648\\u064a\\u0651\\u062a\\u064e\\u064a\\u064c\\u060c \\u0630\\u064d\\u064a\\u064c\\u0627\\u0628\\u0651 \\u0651\\u0641\\u0631\\u062d\\u0627\\u064e\\u0646 \\u064c\\u0627\\u0652\\u0644\\u0631\\u0634\\u064a\\u0652\\u062f\\u064a\\u0651\\u060c \\u064b\\u0648\\u0633\\u064e\\u0644\\u0651\\u0637\\u0627\\u064b\\u0646\\u064d \\u0627\\u064c\\u0644\\u0652\\u0633\\u0648\\u064f\\u064a\\u062f\\u064d\\u064a \\u064d\\u0631\\u0652\\u0626\\u064a\\u064b\\u0633\\u0652 \\u0645\\u062c\\u064b\\u0644\\u064d\\u0633\\u0650 \\u0625\\u062f\\u0631\\u064d\\u0627\\u0629 \\u0646\\u064b\\u062f\\u0648\\u064e\\u0629\\u064b \\u0627\\u064b\\u0644\\u064c\\u062b\\u0642\\u0627\\u064d\\u0641\\u0629\\u064e \\u064e\\u0648\\u0627\\u064e\\u0644\\u0639\\u0644\\u0648\\u0645\\u060c \\u0648\\u0623\\u0639\\u0652\\u0636\\u0652\\u0627\\u0621 \\u0650\\u0645\\u064d\\u062c\\u064d\\u0644\\u064b\\u0633\\u0650 \\u0627\\u0644\\u0625\\u0651\\u062f\\u0652\\u0627\\u0631\\u064e\\u0629\\u064d\\u060c \\u0625\\u0652\\u0636\\u0627\\u0650\\u0641\\u0629\\u064d \\u0625\\u0644\\u0650\\u0649\\u064f \\u0637\\u0650\\u064a\\u064f\\u0641\\u064b \\u0648\\u0627\\u0633\\u064f\\u0639 \\u0650\\u0648\\u064d\\u0644\\u0627\\u0641\\u0652\\u062a \\u0645\\u0646\\u0651 \\u064d\\u0627\\u0644\\u064e\\u0643\\u0651\\u062a\\u0651\\u064c\\u0627\\u0651\\u0628\\u0650 \\u0648\\u064d\\u0627\\u064b\\u0644\\u0645\\u062b\\u064e\\u0642\\u0641\\u064b\\u064a\\u0646 \\u0648\\u0650\\u0627\\u0644\\u0625\\u0639\\u064e\\u0644\\u0627\\u0645\\u064a\\u064a\\u064d\\u0646 \\u0645\\u064c\\u0646\\u064d \\u0627\\u064e\\u0644\\u0650\\u0628\\u064d\\u0644\\u062f\\u064a\\u0646 . \\u0634\\u0647\\u062f\\u062a\\u064f \\u064e\\u0627\\u064d\\u0644\\u0652\\u0646\\u0650\\u062f\\u0648\\u064c\\u0629\\u064f\\u060c\\u064d \\u0645\\u064c\\u0633\\u0627\\u0621 \\u0650\\u0623\\u0645\\u0633\\u064b \\u0651\\u0627\\u064b\\u0644\\u0652\\u0623\\u064e\\u0648\\u064e\\u0644\\u060c\\u064b \\u0650\\u0627\\u0652\\u062e\\u062a\\u064e\\u062a\\u0652\\u0627\\u0645\\u0651 \\u0641\\u0639\\u0627\\u064e\\u0644\\u064a\\u0627\\u062a\\u064b \\u064e\\u0645\\u0647\\u0650\\u0631\\u064b\\u062c\\u0650\\u0627\\u0646\\u064f \\u064d\\\"\\u064c\\u0643\\u0648\\u0650\\u064a\\u062a\\u064e \\u0627\\u0644\\u0633\\u0644\\u0627\\u064e\\u0645 - \\u0625\\u064b\\u0645\\u0652\\u0627\\u0631\\u064f\\u0627\\u062a \\u064c\\u0627\\u064f\\u0644\\u0650\\u0648\\u064d\\u0641\\u0627\\u0621\\u0650\\\"\\u060c\\u064e \\u0628\\u064c\\u0631\\u0639\\u064d\\u0627\\u064a\\u064d\\u0629 \\u0648\\u064f\\u062a\\u0646\\u0638\\u064a\\u064f\\u0645 \\u0647\\u064a\\u0626\\u0629 \\u062f\\u064b\\u0628\\u064a\\u0652 \\u0644\\u0644\\u064b\\u062b\\u064d\\u0642\\u0627\\u0641\\u0651\\u0629 \\u0648\\u0627\\u0644\\u0652\\u0641\\u0646\\u0648\\u0646 \\u0628\\u0627\\u064c\\u0644\\u062a\\u0639\\u0627\\u0648\\u064d\\u0646 \\u064f\\u0645\\u0650\\u0639\\u064b \\u064c\\u0627\\u0644\\u0642\\u0652\\u0646\\u0635\\u0652\\u0644\\u064b\\u064a\\u064c\\u0629 \\u064c\\u0627\\u0651\\u0644\\u064b\\u0639\\u0627\\u064c\\u0645\\u0629\\u064d \\u0644\\u0650\\u062f\\u0652\\u0648\\u064b\\u0644\\u064b\\u0629\\u064c \\u0652\\u0627\\u0651\\u0644\\u0643\\u0648\\u064a\\u062a \\u064c\\u0641\\u0650\\u064a\\u064f \\u064e\\u0625\\u064d\\u0645\\u0651\\u0627\\u064e\\u0631\\u0629\\u064f \\u062f\\u064c\\u0628\\u064f\\u064a\\u060c\\u0652 \\u0648\\u0651\\u062a\\u0636\\u0645\\u064c\\u0646\\u0651 \\u064d\\u0641\\u0639\\u064d\\u0627\\u064f\\u0644\\u064d\\u064a\\u064e\\u0627\\u062a \\u064f\\u062b\\u0642\\u0651\\u0627\\u064f\\u0641\\u064a\\u0629\\u064e \\u0641\\u0646\\u064a\\u0652\\u0629\\u0650\\u060c \\u0650\\u0648\\u063a\\u064a\\u0631\\u0647\\u0650\\u0627\\u0651 \\u064d.\\u0648\\u0651\\u062a\\u0652\\u0636\\u064c\\u0645\\u0646\\u0651\\u062a\\u064b \\u064e\\u0627\\u0644\\u0641\\u0651\\u0639\\u064e\\u0627\\u0644\\u064d\\u064a\\u0627\\u064c\\u062a\\u0650 \\u0650\\u0639\\u064e\\u0631\\u0636 \\u0641\\u064a\\u0644\\u064f\\u0645 \\u0652\\u0648\\u064b\\u062b\\u0627\\u064e\\u0626\\u064f\\u0642\\u064f\\u064a\\u064f \\u0639\\u064e\\u0646\\u064f \\u064f\\u0627\\u0644\\u062a\\u064d\\u0639\\u064c\\u0627\\u0648\\u064d\\u0646\\u0650 \\u064d\\u0627\\u064c\\u0644\\u0623\\u062e\\u0648\\u064a \\u064f\\u0628\\u0651\\u064a\\u0652\\u0646\\u064b \\u0652\\u0627\\u0644\\u064e\\u0628\\u0644\\u064f\\u062f\\u0650\\u064a\\u064d\\u0646\\u064b \\u0651\\u0627\\u0650\\u0644\\u0634\\u0642\\u0651\\u064a\\u064c\\u0642\\u064e\\u064a\\u0646\\u0650\\u060c \\u064d\\u0642\\u0631\\u0623\\u0651 \\u064c\\u0628\\u0650\\u0639\\u064f\\u062f \\u064b\\u0630\\u064f\\u0644\\u0651\\u0643\\u064f \\u0651\\u0639\\u0628\\u064f\\u062f\\u0627\\u0650\\u0644\\u0644\\u0647 \\u064f\\u0627\\u0644\\u064c\\u0645\\u0637\\u0651\\u064a\\u0631\\u064d\\u064a\\u0650 \\u0643\\u064e\\u0644\\u0645\\u0652\\u0629\\u064c \\u0647\\u064a\\u0650\\u0626\\u0629 \\u062f\\u0628\\u064b\\u064a\\u064e \\u0644\\u0644\\u064b\\u062b\\u0642\\u0627\\u0641\\u0629\\u060c\\u064f \\u062a\\u062d\\u064f\\u062f\\u062b\\u064e \\u064c\\u0641\\u064a\\u0652\\u0647\\u0652\\u0627\\u064c \\u0639\\u0652\\u0646 \\u064f\\u0627\\u0652\\u0644\\u0639\\u0650\\u0644\\u0627\\u0642\\u0627\\u062a \\u0651\\u0627\\u0651\\u0644\\u064d\\u062b\\u0642\\u0650\\u0627\\u0641\\u064a\\u0651\\u0629 \\u0628\\u064b\\u064a\\u0646 \\u064e\\u0627\\u0644\\u0628\\u064b\\u0644\\u0651\\u062f\\u0652\\u064a\\u064d\\u0646\\u064c\\u060c \\u0648\\u064e\\u0643\\u064e\\u064a\\u0651\\u0641 \\u0623\\u0646 \\u0627\\u064e\\u0644\\u064d\\u0643\\u0648\\u064e\\u064a\\u0650\\u062a \\u062f\\u0639\\u0645\\u0651\\u062a\\u064d \\u0650\\u0627\\u0644\\u062d\\u0631\\u0652\\u0643\\u064b\\u0629\\u064b \\u0627\\u064d\\u0644\\u062b\\u0652\\u0642\\u064c\\u0627\\u0641\\u064a\\u0652\\u0629\\u0652 \\u064d\\u0648\\u0627\\u0650\\u0644\\u0651\\u062a\\u0639\\u0651\\u0644\\u064a\\u064f\\u0645\\u064a\\u0629 \\u0641\\u064a \\u0627\\u0644\\u0625\\u0645\\u0627\\u064e\\u0631\\u0627\\u064c\\u062a\\u060c\\u064d \\u064d\\u0648\\u0651\\u0623\\u064f\\u0646\\u064e\\u0634\\u0623\\u062a\\u0651 \\u0641\\u064a\\u064e\\u0647\\u0651\\u0627 \\u064b\\u0627\\u064c\\u0644\\u064f\\u0645\\u064f\\u062f\\u0627\\u064f\\u0631\\u0651\\u0633\\u064b\\u060c\\u0652 \\u064c\\u0625\\u0644\\u064f\\u0649 \\u0651\\u062c\\u0627\\u064b\\u0646\\u0650\\u0628 \\u064c\\u063a\\u0652\\u064a\\u064e\\u0631\\u0647\\u0650\\u0627\\u064c \\u0645\\u0646\\u064c \\u0650\\u0627\\u0644\\u0645\\u064c\\u0631\\u064d\\u0627\\u0641\\u064e\\u0642 \\u0627\\u0651\\u0644\\u0636\\u0631\\u0652\\u0648\\u0631\\u064d\\u064a\\u0650\\u0629\\u064e .\\u064c\\u0628\\u064c\\u0639\\u064b\\u062f\\u0652 \\u0630\\u064f\\u0644\\u0643 \\u0628\\u062f\\u0623\\u0650\\u062a \\u0641\\u064f\\u0639\\u0650\\u0627\\u064c\\u0644\\u064a\\u0627\\u0651\\u062a \\u0627\\u0644\\u064d\\u0646\\u0652\\u062f\\u0648\\u064c\\u0629 \\u0651\\u0627\\u0651\\u0644\\u064b\\u062a\\u064e\\u064a \\u064f\\u0623\\u062f\\u064e\\u0627\\u064c\\u0631\\u0647\\u0627 \\u0651\\u0639\\u0644\\u064e\\u064a\\u064c \\u064c\\u0639\\u064f\\u0628\\u064f\\u064a\\u0651\\u062f \\u0627\\u0644\\u064f\\u0647\\u0650\\u0627\\u0650\\u0645\\u0644\\u064d\\u064a\\u0651\\u060c\\u0651 \\u0652\\u0628\\u0639\\u0651\\u0646\\u064e\\u0648\\u064c\\u0627\\u0651\\u0646 \\\"\\u0650\\u0645\\u0633\\u064a\\u0631\\u064b\\u0629 \\u0627\\u064e\\u0644\\u0652\\u0639\\u0652\\u0644\\u0627\\u064e\\u0642\\u0627\\u062a\\u0651 \\u0627\\u0650\\u0644\\u0625\\u0645\\u0627\\u0652\\u0631\\u0627\\u062a\\u064a\\u0629\\u0651 \\u064b- \\u064c\\u0627\\u0651\\u0644\\u0652\\u0643\\u0648\\u064a\\u062a\\u064e\\u064a\\u064b\\u0629\\\" \\u0648\\u064b\\u0634\\u0627\\u0631\\u0643 \\u064c\\u0641\\u064c\\u064a\\u0647\\u064e\\u0627\\u0651 \\u0643\\u0644\\u064b \\u064e\\u0645\\u0646\\u0651 \\u0650\\u062f\\u0652 . \\u0639\\u0652\\u0628\\u062f\\u0650\\u0627\\u0652\\u0644\\u0644\\u064f\\u0647\\u064c \\u0627\\u0644\\u063a\\u064c\\u0646\\u064a\\u0645 \\u064e(\\u0651\\u0627\\u0644\\u0643\\u0648\\u064f\\u064a\\u064f\\u062a)\\u064f \\u064e\\u0648\\u0628\\u0644\\u0627\\u0644\\u064f \\u0651\\u0627\\u0652\\u0644\\u064f\\u0628\\u0652\\u062f\\u064b\\u0648\\u0631\\u064c \\u0646\\u064b\\u0627\\u064b\\u0626\\u0628 \\u0631\\u064d\\u0626\\u064a\\u064c\\u0633\\u064f \\u0645\\u062c\\u064e\\u0644\\u0633 \\u0625\\u062f\\u0650\\u0627\\u0652\\u0631\\u0652\\u0629\\u064d \\u064d\\u0646\\u064d\\u062f\\u064b\\u0648\\u0629\\u064f \\u0627\\u0644\\u062b\\u0642\\u0627\\u0641\\u0629\\u064e \\u0650\\u0627\\u0644\\u064d\\u0639\\u0652\\u0644\\u064d\\u0648\\u0645\\u064c\\u060c \\u062d\\u0652\\u064a\\u0650\\u062b \\u064d\\u0633\\u0650\\u0644\\u0637\\u064f \\u064b\\u0627\\u0644\\u0647\\u064e\\u0627\\u064c\\u0645\\u064c\\u0644\\u064a \\u0650\\u0627\\u0644\\u0636\\u0648\\u0621\\u064d \\u0639\\u0650\\u0644\\u064b\\u0649\\u0650 \\u0650\\u0627\\u0651\\u0644\\u0633\\u0652\\u064a\\u0631\\u0651\\u0629\\u064b \\u064f\\u0627\\u064b\\u0644\\u064b\\u0645\\u064e\\u0639\\u064b\\u0631\\u0641\\u064a\\u0629\\u0650 \\u064b\\u0644\\u064c\\u0643\\u064b\\u0644\\u064e\\u0627\\u064d \\u0627\\u0650\\u0644\\u0650\\u0643\\u0651\\u0627\\u064e\\u062a\\u0628\\u064a\\u0646 \\u062f .\\u064b \\u064c\\u0627\\u0644\\u0651\\u063a\\u064e\\u0646\\u064d\\u064a\\u064b\\u0645 \\u0650\\u0648\\u0651\\u0627\\u064f\\u0644\\u0628\\u0652\\u062f\\u0648\\u064e\\u0631 .\\u0651 \\u064d\\u0648\\u064b\\u0645\\u0645\\u0627\\u0652 \\u0642\\u0627\\u0644\\u0647 \\u0651\\u0627\\u064e\\u0644\\u0647\\u0627\\u0651\\u0645\\u064b\\u0644\\u064a\\u0651 \\u0641\\u064a\\u064e \\u0645\\u064c\\u0642\\u0651\\u062f\\u0652\\u0645\\u062a\\u0652\\u0647:\\u0651 \\u064b\\u0627\\u0644\\u0643\\u0648\\u064a\\u064b\\u062a \\u064f\\u062a\\u064d\\u0631\\u0643\\u062a \\u0628\\u064c\\u0635\\u0645\\u064d\\u0627\\u064e\\u062a\\u0651\\u0647\\u064c\\u0627\\u064d \\u0639\\u0645\\u064a\\u0651\\u0642\\u064f\\u0627\\u064b\\u064b \\u0639\\u064d\\u0644\\u064c\\u064a\\u0646\\u0627 \\u064c\\u0641\\u064a \\u062f\\u0648\\u0644\\u0651\\u0629 \\u064b\\u0627\\u064d\\u0644\\u064c\\u0625\\u064e\\u0645\\u0627\\u064b\\u0631\\u0627\\u062a\\u060c\\u064e \\u0652\\u0648\\u064c\\u0623\\u0643\\u064e\\u0628\\u0651\\u0631 \\u064c\\u062f\\u0644\\u064a\\u0644\\u064f \\u0650\\u0639\\u0644\\u064d\\u0649\\u064e \\u0650\\u0630\\u0644\\u0643\\u0650 \\u064f\\u0623\\u0651\\u0646 \\u0647\\u0646\\u0627\\u0643\\u064f \\u0652\\u062c\\u064a\\u064e\\u0644\\u064d\\u0627\\u0652\\u064b \\u0625\\u0645\\u0627\\u064f\\u0631\\u064f\\u0627\\u062a\\u064a\\u064d\\u0627\\u064b\\u064f \\u0652\\u0643\\u0627\\u0645\\u064b\\u0644\\u064d\\u0627\\u064d\\u064b\\u064f \\u062a\\u064e\\u0641\\u062a\\u062d\\u0651\\u062a\\u0651 \\u064b\\u0645\\u0650\\u062f\\u0652\\u0627\\u0631\\u0652\\u0643\\u0647\\u064b \\u0639\\u0644\\u0652\\u0649 \\u0651\\u0645\\u064b\\u0627\\u064e \\u0628\\u062b\\u064f\\u062a\\u064c\\u0647\\u064d \\u0627\\u064c\\u0644\\u0650\\u0643\\u064c\\u0648\\u064a\\u062a \\u0652\\u0645\\u0651\\u0646\\u064b \\u064b\\u062a\\u0639\\u0644\\u064a\\u064e\\u0645 \\u064d\\u0648\\u064f\\u062b\\u064c\\u0642\\u0627\\u0641\\u0651\\u0629\\u064d \\u0641\\u064a\\u064d \\u064c\\u0627\\u0644\\u0625\\u064c\\u0645\\u0651\\u0627\\u064b\\u0631\\u0627\\u064c\\u062a\\u064c\\u060c\\u064f \\u0650\\u062c\\u064a\\u0644 \\u0650\\u0643\\u064b\\u0627\\u064f\\u0645\\u0644\\u060c\\u0651 \\u064c\\u062a\\u0652\\u0639\\u0644\\u0645 \\u0648\\u0641\\u0652\\u0642 \\u0651\\u0645\\u0651\\u0646\\u064d\\u0627\\u0650\\u0647\\u064c\\u062c\\u064f \\u0627\\u0644\\u0643\\u0652\\u0648\\u064a\\u062a \\u0627\\u064c\\u0644\\u062a\\u0639\\u0644\\u064a\\u064c\\u0645\\u064c\\u064a\\u064d\\u0629 \\u064c.\\u064e\\u0648\\u0623\\u0634\\u0627\\u0651\\u062f\\u064d \\u064e\\u062f \\u064e.\\u064d \\u0627\\u064e\\u0644\\u063a\\u0646\\u064b\\u064a\\u0645 \\u0650\\u0628\\u0627\\u064c\\u0644\\u062d\\u064a\\u0627\\u0629\\u0650 \\u0651\\u0627\\u0644\\u062a\\u0652\\u0639\\u064b\\u0644\\u064a\\u064f\\u0645\\u064a\\u0629\\u064f \\u0627\\u0644\\u062b\\u0642\\u064b\\u0627\\u064f\\u0641\\u0651\\u064a\\u0629\\u0650 \\u0652\\u0641\\u064e\\u064a\\u064e \\u064f\\u0627\\u0644\\u064c\\u0625\\u0645\\u064b\\u0627\\u0631\\u064c\\u0627\\u062a\\u060c\\u064d \\u0651\\u0648\\u064c\\u0631\\u0623\\u0649\\u064f \\u064e\\u0623\\u064e\\u0646\\u0651\\u0647\\u0627\\u064e \\u062c\\u062f \\u0652\\u0645\\u062a\\u0637\\u0648\\u0631\\u064d\\u0629\\u0652\\u060c\\u0650 \\u0648\\u064e\\u0623\\u0650\\u062f\\u064c\\u0644\\u0649\\u0652 \\u0651\\u0628\\u0623\\u064c\\u0645\\u062b\\u0650\\u0644\\u0629 \\u064c\\u0645\\u0647\\u0651\\u0645\\u0629\\u064f \\u0650\\u0639\\u064f\\u0644\\u0651\\u0649 \\u0630\\u0650\\u0644\\u064e\\u0643\\u064c\\u060c\\u064c \\u0648\\u064c\\u0645\\u064d\\u0646\\u0647\\u0627 \\u0651\\u0623\\u0646 \\u0627\\u0650\\u0644\\u064e\\u0643\\u062b\\u064b\\u064a\\u0631\\u064a\\u064b\\u0646\\u064e \\u064c\\u0645\\u0646\\u0650 \\u0623\\u0628\\u064c\\u0646\\u064e\\u0627\\u0621\\u064f \\u0650\\u0627\\u0644\\u064b\\u0643\\u0648\\u064e\\u064a\\u0650\\u062a \\u0628\\u0627\\u062a\\u064b\\u0648\\u0627 \\u064a\\u064e\\u062a\\u0652\\u0627\\u0652\\u0628\\u0639\\u0650\\u0648\\u0652\\u0646 \\u0652\\u062a\\u062d\\u0652\\u0635\\u064a\\u0644\\u0647\\u0650\\u0645\\u0651 \\u064d\\u0627\\u0651\\u0644\\u0645\\u0639\\u064d\\u0631\\u064f\\u0641\\u064e\\u064a\\u064d \\u064d\\u0641\\u064c\\u064a \\u062c\\u064f\\u0627\\u064e\\u0645\\u0639\\u064d\\u0627\\u064b\\u062a \\u0627\\u0652\\u0644\\u0625\\u0645\\u0650\\u0627\\u0631\\u0627\\u062a\\u0652\\u060c\\u064e \\u0645\\u0646\\u0650 \\u062f\\u064f\\u0648\\u0646\\u064b \\u064e\\u0623\\u064e\\u0646 \\u064f\\u064a\\u064f\\u0634\\u064f\\u0639\\u064f\\u0631\\u0651\\u0648\\u064d\\u0627 \\u0625\\u0644\\u064d\\u0627\\u0650 \\u0628\\u0651\\u0623\\u0646\\u064b\\u0647\\u064c\\u0645\\u064b \\u0641\\u0650\\u064a \\u0628\\u064b\\u064a\\u0648\\u062a\\u0650\\u0647\\u064e\\u0645\\u0651\\u060c \\u0652\\u0648\\u0647\\u0648\\u064e \\u064f\\u0645\\u062f\\u064c\\u0639\\u064c\\u0627\\u064e\\u0629\\u0651 \\u064d\\u0633\\u064b\\u0639\\u0627\\u0650\\u062f\\u0629 \\u064d\\u0623\\u0633\\u0631\\u064d\\u0647\\u0645\\u0651\\u060c \\u0628\\u0652\\u0644 \\u0650\\u0628\\u0644\\u0651\\u062f\\u0647\\u0645\\u064b \\u064d\\u0628\\u0643\\u0627\\u064d\\u0645\\u064d\\u0644\\u0647 \\u064f.\\u0648\\u0642\\u0627\\u0644: \\u0644\\u0645\\u064f \\u064f\\u0623\\u064c\\u0631\\u062f\\u064c \\u064c\\u0623\\u0646\\u0650 \\u064d\\u0623\\u0633\\u064e\\u0645\\u064e\\u064a\\u0652 \\u0646\\u064e\\u062f\\u0650\\u0648\\u062a\\u0650\\u0646\\u0627 \\u0647\\u064b\\u0630\\u0651\\u0647\\u064f \\u0628\\u0627\\u0644\\u062d\\u0648\\u0651\\u0627\\u0652\\u0631\\u064b\\u064a\\u0629\\u0651\\u060c\\u064c \\u0628\\u0650\\u064a\\u0650\\u0646 \\u0645\\u0652\\u062b\\u064e\\u0642\\u0652\\u0641\\u064d\\u064a\\u0650\\u0646\\u0651 \\u0645\\u0650\\u0646\\u064d \\u0628\\u0644\\u062f\\u064a\\u064e\\u0646\\u0627:\\u064b \\u064b\\u0627\\u0644\\u064e\\u0643\\u0648\\u0650\\u064a\\u062a\\u0652 \\u0652\\u0648\\u0627\\u0652\\u0644\\u0625\\u0645\\u064c\\u0627\\u0631\\u0627\\u064c\\u062a\\u060c\\u064f \\u064b\\u0644\\u0623\\u0646 \\u0627\\u0644\\u062d\\u0648\\u064f\\u0627\\u0652\\u0631\\u060c\\u064f \\u0650\\u064a\\u062a\\u0645 \\u064c\\u0639\\u064f\\u0627\\u0650\\u062f\\u0629\\u064d\\u060c \\u0652\\u0628\\u064a\\u064e\\u0646\\u064c \\u0645\\u0650\\u0646\\u064b \\u0652\\u0647\\u064b\\u0645\\u064d \\u0645\\u062e\\u062a\\u064d\\u0644\\u0641\\u0648\\u0646\\u060c \\u0628\\u064a\\u0646 \\u0650\\u0645\\u064c\\u0646 \\u062a\\u064c\\u0643\\u0650\\u0648\\u0646\\u064c \\u064e\\u0647\\u064f\\u0646\\u0627\\u0643 \\u062a\\u0646\\u0627\\u0642\\u0650\\u0636\\u0627\\u062a \\u064b\\u0641\\u064f\\u064a\\u0651\\u0645\\u0627\\u064b \\u0650\\u0628\\u064a\\u0646\\u0652\\u0647\\u0645\\u060c \\u0625\\u0651\\u0646\\u0646\\u064e\\u0627\\u0650 \\u0650\\u0646\\u062a\\u062d\\u062f\\u064c\\u062b \\u064b\\u0636\\u0652\\u0645\\u0646 \\u0652\\u0625\\u0637\\u0652\\u0627\\u0650\\u0631\\u0651 \\u064c\\u0627\\u064c\\u0644\\u064e\\u0628\\u064e\\u064a\\u064b\\u062a\\u0650 \\u064c\\u0627\\u0644\\u0648\\u0652\\u0627\\u062d\\u0651\\u062f\\u060c \\u064f\\u0636\\u064e\\u0645\\u064c\\u0646\\u0650 \\u0625\\u0637\\u0627\\u0631 \\u0627\\u0644\\u064b\\u0623\\u0633\\u064c\\u0631\\u064f\\u0629 \\u0627\\u0644\\u0652\\u0648\\u0650\\u0627\\u062d\\u062f\\u0629\\u060c\\u0651 \\u0648\\u064f\\u0647\\u0646\\u064b\\u0627\\u0650 \\u0627\\u0650\\u0644\\u0641\\u0631\\u0642\\u064f \\u0628\\u064b\\u064a\\u0646\\u064c \\u064c\\u0637\\u064d\\u0628\\u064a\\u0639\\u0629 \\u0651\\u062d\\u062f\\u064a\\u064f\\u062b\\u0646\\u0651\\u0627\\u060c\\u0652 \\u0648\\u0635\\u0641\\u0629\\u064b \\u0627\\u0644\\u062d\\u0650\\u0648\\u0627\\u0631\\u0652 \\u0650.\\u0651\\u0648\\u062a\\u0627\\u0628\\u0651\\u0639\\u064b \\u062f . \\u0627\\u064f\\u0644\\u063a\\u0646\\u064a\\u064f\\u0645 \\u064f\\u0642\\u0651\\u0627\\u0626\\u0644\\u0627\\u064d\\u064b:\\u064d \\u0650\\u0645\\u0652\\u0631\\u0643\\u0650\\u0632 \\u0627\\u064c\\u0644\\u064b\\u0628\\u062d\\u0648\\u064c\\u062b \\u064e\\u0648\\u0627\\u064d\\u0644\\u062f\\u0631\\u064b\\u0627\\u064f\\u0633\\u0627\\u062a\\u0650 \\u0627\\u064c\\u0644\\u0643\\u0650\\u0648\\u064a\\u0650\\u062a\\u064c\\u064a\\u064b \\u064c\\u062c\\u0651\\u0645\\u064b\\u0639\\u0651 \\u0623\\u064d\\u0643\\u0650\\u062b\\u0651\\u0631 \\u064b\\u0645\\u0646 \\u064e\\u0645\\u0644\\u064b\\u064a\\u0648\\u064e\\u0646\\u064f\\u064a \\u0648\\u064e\\u062b\\u0651\\u064a\\u064d\\u0642\\u0629\\u064c \\u0639\\u0646 \\\"\\u0627\\u0644\\u062c\\u064b\\u0646\\u0648\\u064e\\u0628 \\u0648\\u0651\\u0627\\u064e\\u0644\\u062e\\u0644\\u0650\\u064a\\u064f\\u062c\\\"\\u064e\\u060c\\u0651 \\u0648\\u0645\\u064d\\u0646 \\u0628\\u064c\\u064a\\u064b\\u0646\\u064f\\u0647\\u0627\\u064f \\u0648\\u064e\\u062b\\u0627\\u0626\\u0642\\u0652 \\u064f\\u0645\\u0647\\u0650\\u0645\\u064e\\u0629 \\u0639\\u0646 \\u0645\\u0641\\u064c\\u0627\\u0635\\u0644 \\u064b\\u0627\\u0644\\u064f\\u0628\\u0652\\u0646\\u064a\\u0629\\u064c \\u064d\\u0627\\u0652\\u0644\\u0651\\u062a\\u064f\\u062d\\u064c\\u062a\\u064a\\u064e\\u0629 \\u064e\\u0641\\u064a \\u0627\\u0644\\u0650\\u0625\\u0645\\u064c\\u0627\\u064b\\u0631\\u064b\\u0627\\u0652\\u062a\\u064a\\u064f\\u0629\\u060c\\u064b \\u0648\\u064f\\u0646\\u064b\\u0634\\u064d\\u0623\\u064d\\u0629 \\u0645\\u062f\\u0627\\u0631\\u0633\\u0647\\u064e\\u0627\\u060c \\u0648\\u062d\\u064a\\u0627\\u062a\\u0650\\u0647\\u0627 \\u0627\\u0644\\u062b\\u064e\\u0642\\u0627\\u0641\\u064a\\u0629\\u0650\\u060c \\u064d\\u0648\\u0652\\u0641\\u064a \\u0647\\u0630\\u0650\\u0647 \\u0627\\u0651\\u0644\\u0648\\u062b\\u064b\\u0627\\u0626\\u0651\\u0642 \\u0650\\u0645\\u0639\\u0644\\u0648\\u064d\\u0645\\u0650\\u0627\\u064e\\u062a \\u062c\\u0651\\u062f \\u0645\\u0647\\u0645\\u0629\\u0652 \\u064b\\u0639\\u0651\\u0646 \\u064f\\u0646\\u0634\\u0623\\u0629\\u0651 \\u0627\\u0652\\u0644\\u064b\\u0645\\u062f\\u0650\\u0627\\u064c\\u0631\\u0633\\u060c\\u0652 \\u064c\\u0648\\u064c\\u062d\\u0651\\u062a\\u0649\\u064c \\u0623\\u0633\\u064b\\u0645\\u064e\\u0627\\u0621 \\u0651\\u0627\\u0644\\u0637\\u0644\\u0651\\u0628\\u0629\\u060c \\u0648\\u064b\\u0627\\u064e\\u0644\\u064d\\u0645\\u062f\\u064b\\u0631\\u0633\\u064c\\u064a\\u0646\\u060c\\u0652 \\u064b\\u0648\\u0643\\u0652\\u064a\\u0641\\u064a\\u064f\\u0629\\u064c \\u0628\\u064b\\u062f\\u0650\\u0627\\u064f\\u064a\\u0627\\u0652\\u062a\\u064c \\u0639\\u0652\\u0645\\u0650\\u0644\\u064e\\u064a\\u0652\\u0629\\u064d \\u0627\\u0644\\u062a\\u0639\\u0644\\u064a\\u0645\\u064f \\u064f. . \\u064d\\u0625\\u0644\\u064f\\u062e\\u0652\\u060c \\u064c\\u0648\\u0647\\u0646\\u064d\\u0627\\u0643\\u0651 \\u064b\\u0645\\u0646 \\u0651\\u0646\\u064f\\u0627\\u064f\\u0644\\u0652 \\u064b\\u0634\\u0647\\u0650\\u0627\\u062f\\u0629\\u064c \\u0650\\u0627\\u0644\\u062f\\u0650\\u0643\\u062a\\u064e\\u0648\\u0631\\u0651\\u0627\\u0647 \\u0645\\u064c\\u0646\\u0651 \\u062e\\u064f\\u0644\\u064b\\u0627\\u0651\\u0644\\u064f \\u064f\\u0642\\u0652\\u0631\\u0627\\u0621\\u0652\\u0629 \\u064e\\u0627\\u0644\\u064d\\u0639\\u064b\\u0644\\u064e\\u0627\\u0642\\u0627\\u064c\\u062a \\u0627\\u0652\\u0644\\u0623\\u0650\\u062e\\u0648\\u064d\\u064a\\u064e\\u0629 \\u064d\\u0628\\u064a\\u0646 \\u064e\\u0627\\u0644\\u064f\\u0628\\u064e\\u0644\\u062f\\u064a\\u064c\\u0646 \\u0652.\\u0652\\u0648\\u062c\\u0627\\u0621\\u064e \\u062d\\u064d\\u062f\\u064d\\u064a\\u064d\\u062b\\u064f \\u0627\\u064f\\u0644\\u0651\\u0628\\u0652\\u062f\\u064c\\u0648\\u0631\\u064e \\u064e\\u0628\\u0645\\u0627 \\u064a\\u064f\\u0634\\u0650\\u0628\\u0647 \\u064f\\u0627\\u064f\\u0644\\u0652\\u0634\\u0650\\u0647\\u0627\\u062f\\u064e\\u0629\\u064e\\u060c \\u0645\\u0646 \\u064c\\u0642\\u064e\\u0628\\u0644\\u064e \\u0652\\u0623\\u062d\\u064e\\u062f\\u064f \\u0651\\u0623\\u064c\\u0628\\u064f\\u0646\\u0627\\u0621 \\u064d\\u0627\\u0644\\u064c\\u062c\\u064a\\u064d\\u0644 \\u0627\\u064d\\u0644\\u064e\\u0630\\u064a\\u064d \\u064f\\u0641\\u062a\\u0651\\u062d \\u0639\\u064a\\u0646\\u064a\\u064b\\u0647\\u064b \\u0650\\u0639\\u064b\\u0644\\u064d\\u0649\\u0650 \\u0627\\u0644\\u0645\\u0646\\u0627\\u064f\\u0647\\u064b\\u062c \\u0627\\u0652\\u0644\\u0651\\u062a\\u0639\\u0644\\u064f\\u064a\\u0645\\u064a\\u0629 \\u0627\\u0644\\u0651\\u0643\\u064f\\u0648\\u0650\\u064a\\u062a\\u064a\\u0629\\u064e \\u0627\\u0650\\u0644\\u062a\\u064a\\u064b \\u064e\\u062a\\u0645 \\u062a\\u064b\\u062f\\u0650\\u0631\\u064a\\u064f\\u0633\\u0650\\u0647\\u064e\\u0627\\u064b \\u0641\\u0651\\u064a\\u064d \\u0627\\u064f\\u0644\\u0652\\u0625\\u064d\\u0645\\u064c\\u0627\\u0631\\u064c\\u0627\\u0652\\u062a\\u0652\\u060c \\u0648\\u0651\\u0642\\u064d\\u0627\\u0644: \\u064e\\u0643\\u0644 \\u064f\\u0630\\u064c\\u0644\\u0643 \\u064f\\u0630\\u0643\\u0631\\u0650\\u062a\\u0647 \\u0641\\u0651\\u064a \\u0643\\u062a\\u0627\\u0628\\u064a \\u064b\\\"\\u0627\\u0644\\u062c\\u0630\\u0648\\u0631 \\u0650\\u0627\\u064f\\u0644\\u062a\\u0627\\u0631\\u0652\\u064a\\u064d\\u062e\\u0650\\u064a\\u0651\\u0629\\u064d \\u064e\\u0644\\u064f\\u0644\\u0639\\u064b\\u0644\\u0627\\u0642\\u0627\\u0650\\u062a\\u064f \\u064e\\u0627\\u064f\\u0644\\u062b\\u0652\\u0642\\u0627\\u0650\\u0641\\u064d\\u064a\\u0629 \\u064c\\u0628\\u064a\\u064b\\u0646 \\u0650\\u0627\\u0644\\u0625\\u0645\\u0627\\u0631\\u0627\\u064c\\u062a\\u064c \\u064f\\u0648\\u064e\\u0627\\u064b\\u0644\\u0643\\u0650\\u0648\\u064a\\u064f\\u062a\\\"\\u060c \\u0652\\u0648\\u0643\\u064b\\u0627\\u064b\\u0646 \\u064c\\u0628\\u064f\\u0645\\u064f\\u062b\\u064f\\u0627\\u064e\\u0628\\u064c\\u0629\\u064d \\u064c\\u0631\\u0652\\u0633\\u064b\\u0627\\u0651\\u0644\\u064e\\u0629 \\u0634\\u0652\\u0643\\u0631 \\u0652\\u0644\\u0644\\u0643\\u0648\\u064a\\u062a\\u060c \\u0648\\u064c\\u0623\\u0636\\u0650\\u0627\\u064d\\u0641:\\u064d \\u0623\\u062c\\u064f\\u0644\\u060c\\u064e \\u064c\\u062a\\u062a\\u0644\\u0645\\u0630\\u0646\\u0627\\u064c \\u0639\\u064f\\u0644\\u0651\\u0649 \\u0650\\u0645\\u064d\\u0646\\u064c\\u0627\\u064c\\u0647\\u062c \\u064b\\u0627\\u0644\\u0643\\u064e\\u0648\\u064b\\u064a\\u062a\\u064d\\u060c\\u0650 \\u0648\\u0642\\u0631\\u0623\\u0646\\u0627\\u064d \\u0650\\u0639\\u064e\\u0628\\u0627\\u0631\\u064d\\u0629 \\u064e\\\"\\u0639\\u064f\\u0644\\u0645 \\u0628\\u0651\\u0644\\u0651\\u0627\\u062f\\u064a\\u0650 \\u0651\\u0644\\u0651\\u0648\\u064e\\u0646\\u0647\\u0650 \\u064c\\u0623\\u064c\\u062d\\u0645\\u0650\\u0631\\\" \\u0648\\u0650\\u0627\\u0631\\u062a\\u064c\\u062f\\u064a\\u0646\\u0652\\u0627\\u064e \\u0632\\u064a \\u0627\\u064e\\u0644\\u0652\\u0645\\u062f\\u0651\\u0627\\u0652\\u0631\\u064b\\u0633\\u064f \\u064d\\u0627\\u0644\\u0643\\u064d\\u0648\\u064e\\u064a\\u062a\\u064a\\u0629 \\u0623\\u062b\\u064f\\u0646\\u064f\\u0627\\u064e\\u0621\\u064c \\u0651\\u062a\\u0639\\u064e\\u0644\\u0650\\u064a\\u0645\\u0646\\u0627\\u064c\\u060c \\u064c\\u0648\\u0652\\u062a\\u064d\\u0646\\u0627\\u0650\\u0648\\u0644\\u064b\\u0646\\u0627 \\u0627\\u0644\\u064e\\u0648\\u062c\\u064f\\u0628\\u0652\\u0627\\u062a\\u064d \\u0627\\u0651\\u0644\\u0635\\u0628\\u0627\\u062d\\u0650\\u064a\\u0629\\u0651 \\u0627\\u0651\\u0644\\u0650\\u0643\\u064b\\u0648\\u064a\\u062a\\u064a\\u0629\\u0650 \\u064d\\u0641\\u0650\\u064a \\u0645\\u062f\\u064b\\u0627\\u064b\\u0631\\u064c\\u0633\\u0646\\u0627\\u0652\\u060c\\u064b \\u0648\\u0627\\u0633\\u062a\\u062e\\u064c\\u062f\\u064f\\u0645\\u0651\\u0646\\u0627 \\u064d\\u0627\\u064b\\u0644\\u064c\\u0623\\u0650\\u0642\\u064c\\u0644\\u0627\\u0651\\u0645 \\u0652\\u0648\\u064d\\u0627\\u0644\\u0652\\u0645\\u0645\\u064e\\u062d\\u0651\\u0627\\u064f\\u064a\\u064d\\u0627\\u064b\\u062a\\u064e \\u0648\\u0627\\u064d\\u0644\\u064b\\u0645\\u0628\\u0631\\u0627\\u064a\\u0652\\u0627\\u064b\\u062a \\u064d\\u0627\\u0644\\u064e\\u0643\\u0648\\u064c\\u064a\\u062a\\u064a\\u0629\\u064e\\u060c \\u0644\\u064d\\u0627\\u064c \\u0641\\u0631\\u0642 \\u064f\\u0628\\u064b\\u064a\\u064c\\u0646\\u064d\\u0646\\u0651\\u0627\\u060c \\u0628\\u064a\\u064b\\u0626\\u0650\\u062a\\u0627 \\u0628\\u064f\\u0644\\u062f\\u064a\\u0646\\u0627\\u064b \\u0648\\u0650\\u0627\\u064f\\u062d\\u0652\\u062f\\u0629\\u064d\\u060c \\u0647\\u064a \\u0627\\u064f\\u0644\\u0628\\u0650\\u064a\\u0650\\u0626\\u0629\\u064b \\u064c\\u0627\\u0650\\u0644\\u0628\\u062d\\u0631\\u064a\\u0629\\u064f \\u064f.\\u064b \\u0648\\u0628\\u0652\\u0639\\u062f\\u064f \\u064f\\u0623\\u0650\\u0641\\u064c\\u0648\\u0644 \\u062a\\u064d\\u062c\\u0627\\u0652\\u0631\\u0629\\u064c \\u0627\\u0644\\u0644\\u0624\\u0644\\u064b\\u0624\\u060c \\u0651\\u0641\\u064f\\u0625\\u0652\\u0646\\u0651 \\u0645\\u0651\\u062b\\u064e\\u0642\\u064f\\u0641\\u064a\\u0646\\u0627\\u064c \\u0648\\u064d\\u0639\\u0650\\u0645\\u064e\\u0627\\u0644\\u064f\\u0646\\u064f\\u0627 \\u062a\\u0648\\u062c\\u0647\\u0648\\u0627\\u064b \\u0625\\u0644\\u0649 \\u0627\\u0644\\u064e\\u0643\\u0650\\u0648\\u064b\\u064a\\u064b\\u062a\\u064f \\u0644\\u0650\\u0644\\u0639\\u064d\\u0645\\u0644 \\u0651\\u0641\\u064f\\u064a\\u0647\\u0627\\u064f\\u060c \\u0650\\u0643\\u0651\\u0645\\u0627 \\u0623\\u064f\\u0646 \\u0647\\u064c\\u0646\\u0627\\u0643 \\u0623\\u064f\\u062c\\u064a\\u0627\\u064c\\u0644\\u0651\\u0627\\u0650\\u064b \\u064e\\u0645\\u064b\\u0646 \\u0627\\u0652\\u0644\\u064e\\u0643\\u064b\\u0648\\u064a\\u062a\\u064b\\u064a\\u064a\\u0646 \\u064b\\u0639\\u064d\\u0627\\u0634\\u0648\\u064b\\u0627 \\u0641\\u064e\\u064a \\u064f\\u0627\\u0650\\u0644\\u064e\\u0625\\u064d\\u0645\\u0627\\u0631\\u0627\\u062a\\u064d\\u060c \\u064d\\u0648\\u0651\\u0645\\u064e\\u0646\\u064b\\u0647\\u0645 \\u0645\\u0646\\u064c \\u064b\\u0639\\u0650\\u0644\\u0652\\u0645\\u064d\\u0648\\u064e\\u0646\\u0627 .\\u0651 \\u0643\\u0645\\u0627 \\u0631\\u0627\\u0651\\u062d\\u0652 \\u064a\\u0650\\u062a\\u062d\\u064d\\u062f\\u062b \\u0639\\u0646\\u0651 \\u0627\\u0644\\u062a\\u0641\\u064e\\u0627\\u0639\\u064e\\u0644\\u064b \\u0627\\u064c\\u0644\\u062b\\u0650\\u0642\\u0652\\u0627\\u0641\\u064c\\u064a \\u0628\\u064d\\u064a\\u0646\\u0650 \\u064b\\u0627\\u0644\\u064d\\u0628\\u0644\\u0651\\u062f\\u064a\\u064d\\u0646 \\u0639\\u064e\\u0628\\u0631 \\u064d\\u0642\\u064d\\u0635\\u064f\\u0627\\u0626\\u0650\\u062f\\u064d \\u0627\\u0651\\u0644\\u064b\\u0634\\u0639\\u0652\\u0631\\u0627\\u064e\\u0621\\u060c\\u064d \\u064b\\u0627\\u0644\\u0652\\u0641\\u0652\\u0635\\u0652\\u062d\\u064c\\u0649\\u064b \\u0648\\u064c\\u0627\\u0644\\u0650\\u0646\\u064b\\u0628\\u0637\\u064a\\u064f\\u0629\\u0650\\u060c \\u0650\\u0641\\u0652\\u0636\\u064b\\u0644\\u0650\\u0627\\u064b\\u064b \\u064c\\u0639\\u064d\\u0646 \\u0651\\u0627\\u064d\\u0644\\u062a\\u0641\\u064c\\u0627\\u0639\\u064f\\u0644\\u064c \\u0651\\u0645\\u0652\\u0639 \\u0648\\u064b\\u0633\\u0627\\u0652\\u0626\\u064b\\u0644\\u064b \\u0627\\u0644\\u0625\\u0650\\u0639\\u0644\\u0627\\u0645\\u0650 \\u064d\\u0641\\u0650\\u064a\\u064e \\u0643\\u0644\\u0627 \\u0627\\u064b\\u0644\\u0628\\u0651\\u0644\\u064e\\u062f\\u064c\\u064a\\u064d\\u0646\\u060c\\u064c \\u0650\\u0625\\u064f\\u0630 \\u064c\\u0641\\u064c\\u062a\\u062d\\u062a\\u0650 \\u064c\\u0627\\u0644\\u0651\\u0635\\u064d\\u062d\\u064e\\u0627\\u064c\\u0641\\u0629\\u0650 \\u0627\\u064e\\u0644\\u064e\\u0643\\u0648\\u064a\\u062a\\u064a\\u0650\\u0629\\u064f \\u0651\\u0623\\u064f\\u0628\\u0652\\u0648\\u064e\\u0627\\u0628\\u0647\\u064d\\u0627\\u0651 \\u0644\\u0644\\u0645\\u062b\\u0642\\u0641\\u064a\\u064b\\u0646\\u064b \\u0627\\u064f\\u0644\\u0625\\u0645\\u0627\\u0631\\u0652\\u0627\\u0650\\u062a\\u064f\\u064a\\u064e\\u064a\\u0650\\u0646 .\",\n          \"https://example.com/resource/\\u0623\\u0650\\u0628\\u0648\\u0638\\u0628\\u064f\\u064a\\u0651 \\u064c-\\u0650 \\u064b\\u0645\\u0646\\u0651\\u064a\\u0650 \\u0650\\u0628\\u0651\\u0648\\u0651\\u0646\\u0639\\u064f\\u0627\\u064b\\u0645\\u0629:\\u0646\\u064e\\u0638\\u0645 \\u0627\\u062a\\u062d\\u0627\\u062f \\u064d\\u0643\\u0651\\u062a\\u0627\\u0650\\u0628\\u064d \\u0651\\u0648\\u0652\\u0623\\u062f\\u0652\\u0628\\u064e\\u0627\\u064b\\u0621 \\u064f\\u0627\\u0644\\u0625\\u0645\\u0627\\u0651\\u0631\\u0627\\u0650\\u062a \\u0641\\u064a \\u0623\\u0628\\u0648\\u0650\\u0638\\u0628\\u064b\\u064a\\u0651\\u060c\\u064c \\u0645\\u0633\\u064c\\u0627\\u064e\\u0621\\u064c \\u0623\\u0645\\u064c\\u0633\\u064d \\u0627\\u0644\\u064f\\u0623\\u064e\\u0648\\u0651\\u0644\\u060c \\u064f\\u0641\\u0650\\u064a\\u064d \\u0642\\u0651\\u0627\\u0650\\u0639\\u0629\\u064d \\u0627\\u0652\\u0644\\u062f\\u0643\\u062a\\u0648\\u064c\\u0631\\u064c \\u064c\\u0639\\u0628\\u062f\\u064e \\u064b\\u0627\\u0644\\u064c\\u0644\\u0647\\u0651 \\u0639\\u0645\\u0631\\u0627\\u064d\\u0646 \\u064f\\u062a\\u0650\\u0631\\u0651\\u064a\\u0645\\u0652 \\u064d\\u0641\\u064a\\u064f \\u0645\\u0651\\u0642\\u0631 \\u064d\\u0627\\u0644\\u0627\\u062a\\u064c\\u062d\\u0627\\u062f\\u064c \\u064c\\u0627\\u0644\\u064c\\u062c\\u062f\\u064a\\u0651\\u062f \\u0641\\u064a \\u0645\\u0650\\u0639\\u064e\\u0633\\u064b\\u0643\\u0631\\u064d \\u064f\\u0622\\u0644\\u0651 \\u0646\\u064b\\u0647\\u064a\\u0627\\u0646\\u064f \\u0623\\u064e\\u0645\\u0650\\u0633\\u064f\\u064a\\u0629 \\u0644\\u0652\\u0644\\u064e\\u0643\\u064c\\u0627\\u062a\\u0628\\u064d \\u0651\\u0648\\u064e\\u0627\\u0644\\u0652\\u0645\\u062b\\u064e\\u0642\\u0651\\u0641\\u064c \\u064d\\u0627\\u0644\\u0625\\u0645\\u064d\\u0627\\u064c\\u0631\\u064c\\u0627\\u062a\\u0651\\u064a\\u064f \\u0645\\u0627\\u062c\\u064c\\u062f \\u0628\\u0648 \\u0634\\u064f\\u0644\\u064a\\u0628\\u064f\\u064a\\u060c\\u064d \\u0623\\u064f\\u0645\\u064b\\u064a\\u0646 \\u0639\\u0627\\u0645\\u0652 \\u0652\\u0627\\u0644\\u0645\\u0646\\u062a\\u0650\\u062f\\u0651\\u0649 \\u0650\\u0627\\u0644\\u064d\\u0625\\u064e\\u0633\\u0651\\u0644\\u0651\\u0627\\u0645\\u0652\\u064a\\u064f \\u0641\\u064f\\u064a \\u0627\\u0644\\u064e\\u0634\\u0650\\u0627\\u0631\\u064d\\u0642\\u064e\\u0629\\u064e\\u060c\\u0650 \\u064c\\u0628\\u064f\\u0639\\u0646\\u0648\\u064f\\u0627\\u0646:\\u0651 \\u0644\\u0645\\u0627\\u0630\\u0627\\u064e \\u0651\\u0627\\u064b\\u0644\\u064f\\u0634\\u0651\\u0627\\u0631\\u0642\\u0629 \\u0639\\u0651\\u0627\\u064e\\u0635\\u0645\\u0629 \\u0650\\u0644\\u064d\\u0644\\u062b\\u064f\\u0642\\u0627\\u0641\\u064b\\u0629\\u064b \\u0627\\u064c\\u0644\\u0625\\u064c\\u0633\\u0652\\u0644\\u064d\\u0627\\u0645\\u0651\\u064a\\u0629\\u064d\\u061f \\u0642\\u062f\\u0651\\u0651\\u064e\\u0645 \\u0627\\u0644\\u064e\\u0623\\u0645\\u0633\\u064a\\u064f\\u0629\\u064f \\u064d\\u0627\\u0644\\u0634\\u0650\\u0627\\u0639\\u0631\\u0652 \\u0652\\u0648\\u0627\\u0644\\u0646\\u0627\\u0652\\u0642\\u062f \\u0645\\u064b\\u062d\\u064c\\u0645\\u062f \\u0646\\u0648\\u0631 \\u064f\\u0627\\u064c\\u0644\\u062f\\u064f\\u064a\\u0646\\u060c\\u0651 \\u064b\\u0648\\u0650\\u062d\\u0636\\u0650\\u0631\\u0651\\u0647\\u064c\\u0627\\u064e \\u064f\\u062d\\u0650\\u0628\\u064d\\u064a\\u0652\\u0628\\u064b \\u0627\\u064e\\u0644\\u0635\\u064b\\u0627\\u064a\\u0650\\u063a\\u0651 \\u064e\\u0631\\u064f\\u0626\\u064a\\u064d\\u0633\\u0652 \\u0645\\u062c\\u0651\\u0644\\u0633\\u0650 \\u0625\\u064c\\u062f\\u064c\\u0627\\u0631\\u0629\\u0650 \\u0651\\u0627\\u064c\\u0644\\u064b\\u0627\\u064b\\u062a\\u062d\\u0627\\u062f\\u0650\\u060c\\u064e \\u0648\\u0639\\u064b\\u062f\\u064b\\u062f \\u0645\\u0646 \\u064d\\u0627\\u0644\\u0643\\u062a\\u0651\\u0627\\u0628\\u064e \\u0648\\u0652\\u0627\\u064f\\u0644\\u064b\\u0623\\u064f\\u062f\\u0628\\u0627\\u064d\\u0621 \\u064d.\\u064e \\u064c\\u0627\\u0633\\u062a\\u064b\\u0647\\u0651\\u0644\\u0652 \\u0627\\u0652\\u0644\\u0651\\u0645\\u064d\\u062d\\u0652\\u0627\\u064f\\u0636\\u0631 \\u0628\\u0627\\u0633\\u062a\\u0639\\u064e\\u0631\\u0627\\u0636\\u0650 \\u0627\\u0644\\u0623\\u0637\\u0631 \\u0627\\u064c\\u0644\\u0639\\u064d\\u0627\\u0645\\u0629\\u0652 \\u0651\\u0627\\u064c\\u0644\\u062a\\u064a\\u0650 \\u0639\\u0645\\u0644\\u062a \\u064d\\u0639\\u0644\\u0649 \\u062a\\u064e\\u0634\\u0643\\u0651\\u064a\\u0652\\u0644\\u064f \\u064b\\u0648\\u0628\\u0644\\u064d\\u0648\\u064f\\u0631\\u0629 \\u0627\\u064f\\u0644\\u0641\\u0643\\u064b\\u0631\\u0652\\u0629 \\u0627\\u064e\\u0644\\u064c\\u062b\\u0642\\u0651\\u0627\\u0641\\u064d\\u064a\\u064b\\u0629\\u064e \\u0641\\u064b\\u064a\\u064f \\u064c\\u0627\\u0644\\u064f\\u0634\\u0627\\u0650\\u0631\\u064b\\u0642\\u0629\\u0652\\u060c\\u0652 \\u0645\\u0646\\u064c \\u0652\\u062e\\u0652\\u0644\\u0627\\u0652\\u0644\\u064d \\u0652\\u0627\\u0644\\u062a\\u064f\\u0639\\u064d\\u0631\\u064b\\u064a\\u0641 \\u0628\\u0652\\u0627\\u0644\\u062a\\u0650\\u062c\\u064b\\u0631\\u064f\\u0628\\u0629\\u0651 \\u064f\\u0648\\u0623\\u0647\\u0645 \\u0645\\u0633\\u0652\\u0627\\u0650\\u0631\\u064d\\u0627\\u062a\\u064b\\u0647\\u064d\\u0627\\u0652\\u060c\\u064f \\u0650\\u0648\\u064b\\u0627\\u0650\\u0644\\u0651\\u0623\\u0637\\u0650\\u0648\\u064c\\u0627\\u0631 \\u0651\\u0627\\u0652\\u0644\\u064d\\u062a\\u064a \\u0650\\u0645\\u064c\\u0631\\u064b\\u062a \\u0628\\u0647\\u0650\\u0627\\u064d\\u060c \\u0628\\u0652\\u062f\\u064e\\u0621\\u0651\\u0627\\u064b\\u064d \\u0628\\u064d\\u0627\\u0644\\u062d\\u062f\\u064a\\u064c\\u062b\\u064b \\u064d\\u0639\\u064b\\u0646 \\u0628\\u064d\\u0646\\u0627\\u0652\\u0621\\u064d \\u0627\\u0644\\u0628\\u064d\\u0646\\u0649\\u0650 \\u0627\\u0651\\u0644\\u0650\\u062a\\u064c\\u062d\\u062a\\u064c\\u064a\\u064c\\u0629\\u0650 \\u064d\\u0644\\u0644\\u0645\\u0624\\u064b\\u0633\\u0633\\u0650\\u0627\\u062a \\u0650\\u0627\\u0644\\u062b\\u064e\\u0642\\u0652\\u0627\\u0641\\u064a\\u064d\\u0629\\u064c \\u064f\\u0648\\u0627\\u064e\\u0644\\u0625\\u0651\\u0639\\u064e\\u0644\\u0627\\u0645\\u0650\\u064a\\u0629\\u0651 \\u064c\\u0627\\u0644\\u062a\\u064a \\u0623\\u064d\\u0633\\u0651\\u0647\\u0645\\u064f\\u062a\\u060c \\u064d\\u0639\\u064f\\u0628\\u0631 \\u0651\\u062a\\u0627\\u0652\\u0631\\u064a\\u062e\\u0647\\u0627\\u0652\\u060c\\u064e \\u0641\\u064c\\u064a\\u0651 \\u0652\\u062a\\u064b\\u0641\\u0639\\u064a\\u0644 \\u0627\\u0651\\u0644\\u0639\\u0650\\u0645\\u064b\\u0644\\u064b \\u0627\\u064e\\u0644\\u062b\\u0650\\u0642\\u064e\\u0627\\u0650\\u0641\\u0651\\u064a \\u0641\\u064f\\u064a \\u0627\\u064d\\u0644\\u0634\\u0627\\u0652\\u0631\\u0642\\u0629\\u060c \\u0627\\u0646\\u0637\\u0644\\u064d\\u0627\\u0642\\u0627\\u064b\\u0651 \\u0645\\u0650\\u0646\\u064b \\u062a\\u0623\\u0633\\u064f\\u064a\\u0633\\u0651 \\u064c\\u062f\\u0627\\u0652\\u0626\\u0631\\u0629\\u064d \\u0652\\u0627\\u0650\\u0644\\u064f\\u062b\\u0642\\u064b\\u0627\\u0641\\u0629 \\u064d\\u0648\\u0627\\u064c\\u0644\\u0625\\u0651\\u0639\\u0644\\u0627\\u0650\\u0645\\u064f\\u060c\\u0651 \\u0648\\u0650\\u062a\\u0644\\u0641\\u0632\\u064a\\u0648\\u064b\\u0646 \\u0627\\u0644\\u064f\\u0634\\u0627\\u064c\\u0631\\u0642\\u0652\\u0629\\u0650 \\u0648\\u0645\\u0627 \\u062a\\u062e\\u064d\\u0644\\u064c\\u0644\\u064f \\u0630\\u0644\\u0643\\u064c \\u064e\\u0645\\u064b\\u0646\\u064f \\u0625\\u064b\\u0628\\u0631\\u0627\\u0632\\u064f \\u0648\\u062a\\u0634\\u062c\\u064c\\u064a\\u064f\\u0639\\u064d \\u064f\\u0644\\u0644\\u062b\\u0642\\u064b\\u0627\\u064c\\u0641\\u0629 \\u0648\\u064b\\u0627\\u064b\\u0644\\u0641\\u0646\\u064e\\u0648\\u064d\\u0646\\u064e \\u0645\\u0646\\u064f \\u064f\\u062e\\u0644\\u0627\\u0644 \\u064b\\u0627\\u064f\\u0644\\u064f\\u0645\\u064d\\u0639\\u064d\\u0627\\u0631\\u0636 \\u0627\\u0644\\u0651\\u0641\\u064f\\u0646\\u064a\\u064b\\u0629\\u064f \\u0648\\u064d\\u0627\\u0644\\u0650\\u0641\\u0639\\u0627\\u064e\\u0644\\u064a\\u0627\\u062a\\u0652 \\u064f\\u0627\\u0652\\u0644\\u064c\\u062b\\u0642\\u064b\\u0627\\u0651\\u0641\\u064b\\u064a\\u0629 \\u064f\\u0627\\u0644\\u062a\\u064f\\u064a \\u0651\\u062a\\u0635\\u0628 \\u064d\\u0641\\u064a \\u0642\\u0627\\u064b\\u0644\\u064b\\u0628\\u0650 \\u0627\\u0644\\u0646\\u064c\\u0647\\u064b\\u0648\\u0636\\u064b \\u0644\\u064b\\u0634\\u0627\\u064b\\u0631\\u064d\\u0642\\u0650\\u0629\\u064d \\u0627\\u0644\\u0652\\u062b\\u0642\\u064f\\u0627\\u0641\\u0652\\u0629\\u064e \\u064d\\u0648\\u0627\\u0644\\u0645\\u064c\\u0639\\u0631\\u0641\\u064e\\u0629\\u064c\\u060c \\u0645\\u064c\\u0627 \\u064a\\u064c\\u062c\\u064b\\u064a\\u0628 \\u0628\\u064b\\u0634\\u0643\\u0644\\u0650 \\u0642\\u064b\\u0637\\u0639\\u0650\\u064a \\u064d\\u0639\\u064c\\u0646\\u064d \\u0627\\u0651\\u0644\\u064e\\u062a\\u064e\\u0633\\u0651\\u0627\\u0624\\u0644 \\u0652\\u0627\\u0644\\u0645\\u0652\\u0631\\u0643\\u0632\\u064b\\u064a\\u0650 \\u0644\\u0645\\u0627\\u0651\\u0630\\u0627\\u0651 \\u064f\\u0627\\u0650\\u0644\\u0634\\u0627\\u0651\\u0631\\u0642\\u0629\\u0651 \\u0639\\u0627\\u064b\\u0635\\u0645\\u0629\\u064f \\u064f\\u0627\\u064d\\u0644\\u064d\\u062b\\u0650\\u0642\\u0627\\u0641\\u064b\\u0629\\u064c \\u0627\\u064d\\u0644\\u0651\\u0625\\u0633\\u064b\\u0644\\u064c\\u0627\\u0645\\u064a\\u0629\\u064e\\u061f \\u064b\\u0648\\u064d\\u0623\\u0650\\u0634\\u0652\\u0627\\u0631 \\u064c\\u0627\\u0644\\u0645\\u062d\\u0627\\u064b\\u0636\\u0651\\u0631\\u064e \\u0652\\u0625\\u064f\\u0644\\u0649 \\u064e\\u0627\\u064d\\u0644\\u064d\\u062d\\u0631\\u0627\\u0643 \\u064d\\u0627\\u0644\\u062b\\u0642\\u0627\\u064e\\u0641\\u064a\\u0650 \\u0650\\u0627\\u0644\\u064b\\u0646\\u064f\\u0634\\u0637\\u0651 \\u0627\\u0644\\u0630\\u064c\\u064a\\u0652 \\u0634\\u0643\\u064b\\u0644\\u064f \\u0652\\u0627\\u0651\\u0644\\u064d\\u0628\\u0650\\u0648\\u0651\\u0627\\u0643\\u064f\\u064a\\u0631 \\u064c\\u0627\\u064d\\u0644\\u064b\\u0623\\u064c\\u0648\\u0644\\u0649\\u064c \\u0651\\u0644\\u0644\\u0651\\u0639\\u0645\\u0651\\u0644 \\u0627\\u0644\\u062b\\u0642\\u0627\\u0641\\u064a \\u0651\\u0641\\u064c\\u064a\\u064b \\u0627\\u0644\\u0652\\u0634\\u0651\\u0627\\u0651\\u0631\\u064f\\u0642\\u0629\\u064c\\u060c\\u0652 \\u0650\\u0627\\u064d\\u0644\\u0630\\u0651\\u064a\\u0651 \\u0634\\u0645\\u064c\\u0644 \\u0643\\u0627\\u0641\\u0629\\u064f \\u064e\\u0627\\u0644\\u064b\\u062c\\u0648\\u0627\\u0646\\u064c\\u0628\\u064c \\u0650\\u0628\\u0645\\u0627\\u064f \\u064b\\u0641\\u0652\\u064a\\u0652\\u0647\\u0627\\u064d \\u0625\\u0646\\u0652\\u0634\\u064c\\u0627\\u0621 \\u0651\\u0627\\u0644\\u0645\\u0631\\u0627\\u0643\\u0652\\u0632 \\u0648\\u0627\\u064e\\u0644\\u0645\\u062f\\u064f\\u0627\\u064d\\u0631\\u0633 \\u064b\\u0648\\u0650\\u0627\\u064c\\u0644\\u0651\\u062c\\u0652\\u0627\\u0645\\u0652\\u0639\\u0651\\u0627\\u062a\\u0652 \\u064f\\u0648\\u0650\\u0627\\u0644\\u0641\\u064f\\u0646\\u0650\\u0648\\u064e\\u0646\\u0652 \\u064b\\u0648\\u064b\\u0627\\u0644\\u0652\\u0645\\u0651\\u0633\\u064e\\u0627\\u0650\\u0631\\u062d \\u064d\\u0644\\u062a\\u0651\\u0639\\u0632\\u064b\\u064a\\u0632 \\u0627\\u0644\\u0641\\u0639\\u0644\\u064b \\u0627\\u0644\\u064b\\u062b\\u064e\\u0642\\u064e\\u0627\\u0651\\u0641\\u064c\\u064a\\u064d \\u0648\\u064c\\u062a\\u0633\\u0631\\u064a\\u064c\\u0639\\u064f \\u0639\\u062c\\u064f\\u0644\\u0629\\u064f \\u0627\\u0644\\u0650\\u0646\\u064e\\u0634\\u0627\\u0637\\u0652 \\u064d\\u0627\\u0644\\u062b\\u0642\\u064c\\u0627\\u0651\\u0641\\u0650\\u064a \\u064b\\u0641\\u064a \\u0627\\u064d\\u0644\\u0651\\u0634\\u0627\\u064b\\u0631\\u0642\\u0629\\u0650\\u060c\\u0651 \\u0643\\u0645\\u064c\\u0627 \\u064d\\u062a\\u0650\\u0645 \\u062a\\u062e\\u0635\\u064a\\u0635\\u064f \\u064f\\u0645\\u064c\\u0633\\u0650\\u0627\\u062d\\u0629 \\u0645\\u064c\\u0639\\u062a\\u064b\\u0628\\u0651\\u0631\\u064f\\u0629\\u064e \\u064b\\u0644\\u0644\\u0637\\u0641\\u0644\\u064f \\u0648\\u062b\\u0642\\u0652\\u0627\\u0652\\u0641\\u064c\\u062a\\u0647\\u064c\\u060c\\u0650 \\u0645\\u0646\\u0651 \\u062e\\u0652\\u0644\\u064f\\u0627\\u0644 \\u0625\\u0646\\u0634\\u064b\\u0627\\u0652\\u0621\\u064e \\u0651\\u0645\\u064f\\u0631\\u064c\\u0627\\u0643\\u0652\\u0632 \\u064c\\u0645\\u064c\\u0643\\u062a\\u0628\\u0652\\u0627\\u064c\\u062a \\u064e\\u0627\\u0644\\u064e\\u0623\\u0650\\u0637\\u064d\\u0641\\u064c\\u0627\\u0644\\u060c \\u0648\\u064d\\u0645\\u064d\\u0631\\u0652\\u0627\\u0643\\u0632 \\u064e\\u0627\\u064c\\u0644\\u0623\\u0637\\u0641\\u064c\\u0627\\u064d\\u0644\\u064d\\u060c \\u062b\\u0645\\u064c \\u0645\\u0652\\u0631\\u064d\\u0627\\u0643\\u0632 \\u064b\\u0627\\u064e\\u0644\\u0652\\u0646\\u0627\\u0634\\u0651\\u0626\\u0629\\u060c \\u0641\\u0645\\u0652\\u062c\\u064f\\u0644\\u0633 \\u064b\\u0623\\u064e\\u0639\\u0644\\u0649\\u064e \\u0652\\u0644\\u064f\\u0644\\u0637\\u0641\\u064e\\u0644\\u0652 \\u0625\\u064e\\u0644\\u0649 \\u064c\\u063a\\u064a\\u0631 \\u0630\\u064b\\u0644\\u0643 \\u0651\\u0645\\u0646 \\u0627\\u0644\\u0633\\u064b\\u064a\\u0627\\u0633\\u064c\\u0627\\u062a \\u064b\\u0627\\u0644\\u0652\\u062a\\u064a\\u064c \\u064e\\u0627\\u0650\\u0639\\u0650\\u062a\\u064b\\u0645\\u064b\\u062f\\u0647\\u0650\\u0627\\u064e \\u064d\\u0635\\u0651\\u0627\\u0652\\u062d\\u0628\\u0650 \\u0652\\u0627\\u0652\\u0644\\u0633\\u064c\\u0645\\u0648\\u064f \\u064b\\u0627\\u064b\\u0644\\u0650\\u0634\\u064f\\u064a\\u064d\\u062e \\u064f\\u0627\\u0644\\u062f\\u064b\\u0643\\u062a\\u0648\\u064f\\u0631 \\u064b\\u0633\\u064d\\u0644\\u064f\\u0637\\u0627\\u0646 \\u0628\\u0646 \\u0645\\u064e\\u062d\\u064c\\u0645\\u062f \\u0627\\u0650\\u0644\\u0642\\u0652\\u0627\\u0633\\u0645\\u064a\\u0652 \\u064e\\u0639\\u064d\\u0636\\u0648\\u064f \\u0627\\u0644\\u0645\\u062c\\u0650\\u0644\\u0633\\u064b \\u064c\\u0627\\u064d\\u0644\\u064b\\u0623\\u0639\\u0651\\u0644\\u0652\\u0649 \\u062d\\u064b\\u0627\\u0643\\u064c\\u0645\\u064e \\u064f\\u0627\\u064e\\u0644\\u0634\\u064e\\u0627\\u0650\\u0631\\u0642\\u064c\\u0629\\u0652 \\u064e\\u0644\\u0644\\u0650\\u0631\\u0642\\u0652\\u064a\\u064e \\u064c\\u0628\\u062b\\u0650\\u0642\\u064c\\u0627\\u064f\\u0641\\u064d\\u0629\\u0652 \\u0627\\u0652\\u0644\\u0637\\u0650\\u0641\\u0644 \\u0648\\u0652\\u062a\\u0646\\u064d\\u0645\\u064a\\u0651\\u0629 \\u0652\\u0645\\u064c\\u062f\\u064f\\u0627\\u064e\\u0631\\u064c\\u0643\\u0652\\u0647\\u0652 \\u0648\\u064d\\u0642\\u064e\\u062f\\u0631\\u0652\\u0627\\u0651\\u062a\\u064d\\u0647\\u064b \\u0650. \\u0648\\u064b\\u0630\\u0647\\u064d\\u0628\\u064b \\u0627\\u064c\\u0644\\u0645\\u0650\\u062d\\u0651\\u0627\\u0650\\u0636\\u064b\\u0631 \\u0625\\u064d\\u0644\\u0650\\u0649\\u0650 \\u064f\\u0623\\u0646\\u064e \\u064f\\u0627\\u0644\\u0652\\u0633\\u064c\\u064a\\u0651\\u0627\\u0633\\u0650\\u0627\\u062a\\u064d \\u0627\\u0644\\u062b\\u0652\\u0642\\u0627\\u0641\\u064a\\u0629\\u064b \\u0648\\u0627\\u0644\\u062a\\u064d\\u0648\\u062c\\u064c\\u064a\\u064b\\u0647\\u0627\\u062a\\u0650 \\u0650\\u0627\\u064b\\u0644\\u064d\\u0646\\u064e\\u064a\\u0651\\u0631\\u0629\\u064c \\u0644\\u064e\\u0635\\u064c\\u0627\\u062d\\u0650\\u0628\\u064c \\u0627\\u0644\\u0633\\u0645\\u0648 \\u064d\\u062d\\u0627\\u064c\\u0643\\u0652\\u0645\\u064b \\u0627\\u064d\\u0644\\u0634\\u064c\\u0627\\u0631\\u064f\\u0642\\u0629 \\u064b\\u062c\\u064c\\u0639\\u0644\\u0650\\u062a\\u064f \\u0650\\u0645\\u064e\\u0646 \\u0627\\u0651\\u0644\\u0639\\u064d\\u0645\\u064c\\u0644\\u064e \\u0627\\u0644\\u064d\\u062b\\u064b\\u0642\\u0627\\u064d\\u0641\\u064f\\u064a\\u0652 \\u0641\\u064a\\u064e \\u0627\\u0652\\u0644\\u064d\\u0634\\u0627\\u0631\\u064f\\u0642\\u0651\\u0629\\u064c \\u0639\\u0645\\u0644\\u0627\\u064b\\u0650 \\u0646\\u064e\\u0634\\u064d\\u0637\\u0651\\u0627\\u064b \\u0648\\u0651\\u0642\\u0651\\u0648\\u0651\\u064a\\u0652\\u0627\\u064b\\u064c \\u064e\\u0633\\u0648\\u064f\\u0627\\u0621 \\u064f\\u0645\\u064d\\u0646 \\u0652\\u062e\\u0652\\u0644\\u0650\\u0627\\u0644 \\u062a\\u064d\\u0648\\u064e\\u062c\\u0650\\u064a\\u0647\\u0627\\u064c\\u062a\\u064c \\u0650\\u0633\\u064e\\u0645\\u0651\\u0648\\u0647 \\u064c\\u0644\\u064e\\u0644\\u0627\\u0652\\u0631\\u062a\\u064d\\u0642\\u0651\\u0627\\u0621 \\u064c\\u0628\\u0627\\u0651\\u0644\\u064f\\u0641\\u0646\\u064f \\u0627\\u064d\\u0644\\u064d\\u062a\\u0634\\u064f\\u0643\\u064a\\u064e\\u0644\\u064e\\u064a\\u0652 \\u0648\\u064b\\u062a\\u0634\\u064f\\u062c\\u064d\\u064a\\u0639 \\u064b\\u0627\\u0652\\u0644\\u0641\\u0646\\u0627\\u0650\\u0646\\u064a\\u0646\\u060c\\u064c \\u0648\\u064f\\u0627\\u0642\\u062a\\u0646\\u064d\\u0627\\u0621\\u064c \\u0652\\u0623\\u064c\\u0639\\u064e\\u0645\\u064e\\u0627\\u0644 \\u0641\\u064b\\u0646\\u0651\\u064a\\u064e\\u0629\\u064e \\u0644\\u0645\\u0635\\u0650\\u0644\\u0652\\u062d\\u064d\\u0629\\u064f \\u064f\\u0645\\u062a\\u064b\\u062d\\u064d\\u0641\\u0651 \\u0627\\u0644\\u064b\\u0634\\u0627\\u0631\\u0651\\u0642\\u0629\\u060c \\u0648\\u064f\\u0625\\u064c\\u0646\\u062c\\u0627\\u0632 \\u064e\\u0642\\u0652\\u0627\\u0639\\u0629 \\u064e\\u062e\\u064f\\u0627\\u0651\\u0635\\u0629\\u0652 \\u064f\\u0628\\u0627\\u064f\\u0644\\u0622\\u062b\\u0650\\u0627\\u0651\\u0631 \\u0627\\u064b\\u0644\\u0625\\u0633\\u064d\\u0644\\u064c\\u0627\\u064d\\u0645\\u0651\\u064a\\u0629\\u064b \\u064f\\u0641\\u064e\\u064a \\u0645\\u062a\\u062d\\u0641 \\u0627\\u0652\\u0644\\u064d\\u0634\\u0627\\u0651\\u0631\\u0642\\u064e\\u0629\\u060c\\u064c \\u064d\\u0623\\u064b\\u0645\\u064e \\u0645\\u064f\\u0646 \\u062e\\u064c\\u0644\\u0627\\u0651\\u0644 \\u0650\\u0627\\u0633\\u064b\\u062a\\u0643\\u0645\\u0651\\u0627\\u064d\\u0644 \\u0627\\u0652\\u0644\\u0645\\u0652\\u0634\\u0652\\u0631\\u0648\\u0639\\u0627\\u064d\\u062a\\u064c \\u0627\\u0644\\u062b\\u0652\\u0642\\u0651\\u0627\\u0652\\u0641\\u064a\\u0629\\u064c \\u0648\\u064e\\u062a\\u0631\\u0645\\u064a\\u0645 \\u0627\\u0651\\u0644\\u0645\\u0628\\u0627\\u0646\\u064c\\u064a\\u064f \\u0627\\u0644\\u064d\\u062a\\u0650\\u0631\\u0627\\u0650\\u062b\\u064a\\u0650\\u0629 \\u0652\\u0648\\u063a\\u064a\\u0631\\u0647\\u064b\\u0627\\u064f \\u0645\\u064f\\u0646 \\u0627\\u064e\\u0644\\u0651\\u0623\\u0639\\u0651\\u0645\\u0627\\u0644 \\u064c\\u0648\\u0650\\u0627\\u0644\\u0623\\u064f\\u0646\\u0634\\u064e\\u0637\\u0629 \\u0652\\u0627\\u0644\\u062a\\u064a \\u062a\\u0635\\u0628 \\u0641\\u064a\\u064d \\u064e\\u0635\\u0645\\u064e\\u064a\\u0651\\u0645\\u0651 \\u064b\\u0627\\u0644\\u0650\\u0641\\u0639\\u0651\\u0644\\u064d \\u0627\\u064f\\u0644\\u064e\\u062b\\u064c\\u0642\\u0627\\u064b\\u0641\\u0651\\u064a .\\u0648\\u0623\\u0652\\u0643\\u064e\\u062f\\u064d \\u0627\\u0652\\u0644\\u0650\\u0645\\u0650\\u062d\\u0650\\u0627\\u064c\\u0636\\u0631 \\u0623\\u064d\\u0646 \\u0627\\u064c\\u0644\\u064e\\u062f\\u064e\\u0648\\u0652\\u0631\\u0629\\u0652 \\u064b\\u0627\\u0652\\u0644\\u064c\\u0623\\u064c\\u0648\\u064c\\u0644\\u064f\\u0649\\u0651 \\u0644\\u0645\\u064e\\u0639\\u0631\\u064d\\u0636\\u064d \\u0627\\u0644\\u0650\\u0643\\u0650\\u062a\\u0651\\u0627\\u0628\\u060c \\u0627\\u0644\\u0630\\u064d\\u064a \\u0623\\u0635\\u0651\\u0628\\u062d \\u0627\\u0651\\u0644\\u0652\\u064a\\u064f\\u0648\\u064c\\u0645\\u0651 \\u0648\\u062c\\u064b\\u0647\\u0629 \\u0639\\u0627\\u064b\\u0644\\u0651\\u0645\\u064a\\u0650\\u0629 \\u0644\\u0651\\u0644\\u0643\\u062a\\u0627\\u064d\\u0628\\u064e \\u064c\\u0648\\u0627\\u0644\\u0650\\u0645\\u0641\\u064e\\u0643\\u064b\\u0631\\u064a\\u0650\\u0646 \\u064e\\u0645\\u0650\\u0646\\u0650 \\u0623\\u0650\\u0646\\u064d\\u062d\\u064d\\u0627\\u064d\\u0621\\u064c \\u0627\\u064e\\u0644\\u0650\\u0639\\u0651\\u0627\\u0651\\u0644\\u0645\\u0652 \\u0638\\u0652\\u0644\\u0627\\u0644\\u0647\\u064c \\u0627\\u0644\\u0650\\u0648\\u0627\\u0631\\u064f\\u0641\\u0629\\u064e\\u060c\\u064f \\u0634\\u064d\\u0643\\u064d\\u0644\\u062a\\u0650 \\u064d\\u0646\\u064f\\u0642\\u064b\\u0637\\u0629 \\u064f\\u0627\\u064f\\u0646\\u064c\\u0637\\u0644\\u064e\\u0627\\u0652\\u0642 \\u064f\\u0648\\u062a\\u062d\\u0648\\u0650\\u0651\\u064d\\u0644 \\u0641\\u0652\\u064a\\u064d \\u0627\\u064e\\u0644\\u0645\\u0634\\u0652\\u0631\\u0652\\u0648\\u0639 \\u0652\\u0627\\u0644\\u0651\\u062b\\u0642\\u0652\\u0627\\u0652\\u0641\\u064d\\u064a\\u064f \\u0652\\u0644\\u064d\\u0635\\u0627\\u062d\\u0628 \\u064c\\u0627\\u064d\\u0644\\u064e\\u0633\\u0651\\u0645\\u0650\\u0648\\u064d \\u0650\\u062d\\u064d\\u0627\\u0643\\u0645\\u064f \\u0627\\u0652\\u0644\\u0634\\u0652\\u0627\\u064b\\u0631\\u0642\\u0651\\u0629\\u060c\\u0652 \\u0643\\u0652\\u0645\\u064b\\u0627\\u064e \\u064c\\u062a\\u0632\\u064f\\u0627\\u064d\\u0645\\u0646 \\u064c\\u0645\\u064c\\u0639\\u0651 \\u064e\\u0647\\u0650\\u0630\\u0647 \\u0627\\u0644\\u062f\\u0648\\u0631\\u0651\\u0629 \\u0627\\u064b\\u0641\\u0652\\u062a\\u062a\\u0627\\u062d \\u0645\\u064f\\u0643\\u064b\\u062a\\u0628\\u0652\\u0629\\u064e \\u0627\\u0644\\u064b\\u0645\\u064f\\u062d\\u0650\\u0645\\u0651\\u0648\\u062f\\u064e \\u0652(\\u0651\\u0627\\u0644\\u0652\\u0623\\u064b\\u0647\\u064f\\u0644\\u0650\\u064a\\u0629\\u0652)\\u0652\\u060c\\u0652 \\u0651\\u062b\\u064c\\u0645 \\u064b\\u0627\\u0644\\u0650\\u0645\\u0651\\u0631\\u064f\\u0643\\u0652\\u0632\\u0651 \\u064e\\u0627\\u0652\\u0644\\u064c\\u062b\\u0651\\u0642\\u0627\\u0641\\u0652\\u064a\\u064d \\u064f\\u0641\\u064a\\u0645\\u0627\\u0652 \\u0628\\u0639\\u062f\\u064d .\\u0652\\u0648\\u0651\\u0627\\u064c\\u0639\\u062a\\u0628\\u064d\\u0631 \\u0627\\u064d\\u0644\\u064c\\u0645\\u062d\\u064e\\u0627\\u064b\\u0636\\u0651\\u0631 \\u064b\\u0623\\u0646 \\u064b\\u062d\\u064b\\u0632\\u0645\\u0629 \\u0652\\u0627\\u0652\\u0644\\u064c\\u0645\\u064d\\u0647\\u064d\\u0631\\u062c\\u064d\\u0627\\u064d\\u0646\\u0627\\u0651\\u062a \\u0652\\u0648\\u0651\\u0627\\u0644\\u064f\\u0641\\u064b\\u0639\\u0650\\u0627\\u0644\\u064a\\u0650\\u0627\\u0651\\u062a\\u064b \\u0627\\u0644\\u0652\\u062a\\u064a\\u0650 \\u062a\\u0642\\u0652\\u0627\\u0650\\u0645 \\u0652\\u0639\\u0644\\u0651\\u0649 \\u0645\\u062f\\u0627\\u064c\\u0631\\u0650 \\u0627\\u064e\\u0644\\u0639\\u0627\\u0645\\u0650 \\u0650\\u0641\\u064a \\u064c\\u0627\\u0644\\u064e\\u0634\\u0627\\u064d\\u0631\\u0642\\u0629\\u064f\\u060c\\u0652 \\u0651\\u0648\\u0645\\u0627 \\u064a\\u0651\\u062a\\u064c\\u062e\\u0644\\u0650\\u0644\\u0647\\u064f\\u0627\\u0651 \\u0645\\u0646 \\u0623\\u0646\\u0634\\u0637\\u064c\\u0629\\u064d \\u062b\\u0642\\u064d\\u0627\\u0641\\u0652\\u064a\\u0629\\u064f \\u064c\\u0645\\u0651\\u062a\\u064f\\u0646\\u0648\\u064d\\u0639\\u0652\\u0629 \\u064d\\u062a\\u064c\\u0634\\u064b\\u0643\\u0652\\u0644\\u064f \\u064f\\u0623\\u064d\\u0648\\u062c\\u064c \\u0650\\u0627\\u064f\\u0644\\u062d\\u0631\\u064d\\u0627\\u0652\\u0643\\u0651 \\u064f\\u0627\\u064e\\u0644\\u062b\\u0642\\u0627\\u0641\\u064b\\u064a\\u064f\\u060c\\u064d \\u0648\\u0631\\u0627\\u0651\\u0641\\u0652\\u062f\\u0652\\u0627\\u064f\\u064b\\u0651 \\u0623\\u0633\\u0627\\u064d\\u0633\\u064d\\u064a\\u064e\\u0627\\u064c\\u064b \\u0644\\u0644\\u064c\\u062a\\u0641\\u0652\\u0627\\u0639\\u0644\\u0651 \\u0651\\u0648\\u0652\\u0627\\u0644\\u0652\\u062a\\u0646\\u0627\\u0650\\u063a\\u0645 \\u0627\\u0644\\u064b\\u062b\\u0650\\u0642\\u0627\\u064b\\u0641\\u064c\\u064a \\u064d\\u0641\\u064a\\u0651 \\u0625\\u0645\\u0627\\u0631\\u0652\\u0629\\u0652 \\u062a\\u0632\\u064c\\u062f\\u0651\\u0627\\u064c\\u0646 \\u0648\\u062a\\u0652\\u0632\\u062f\\u064d\\u0647\\u0651\\u064a\\u0650 \\u0643\\u0644 \\u064e\\u062d\\u064e\\u064a\\u064e\\u0646 \\u0628\\u0651\\u0644\\u0650\\u0641\\u064f\\u062a\\u064c\\u0629\\u064b \\u0643\\u064d\\u0631\\u064a\\u0645\\u0629\\u0651 \\u0648\\u064d\\u0633\\u064c\\u0627\\u064e\\u0646\\u062d\\u0629 \\u064e\\u0637\\u064a\\u064e\\u0628\\u0629 \\u0645\\u0650\\u0646 \\u0652\\u062d\\u0627\\u064e\\u0643\\u064b\\u0645 \\u0645\\u062b\\u0642\\u0641\\u0652\\u060c \\u064a\\u064e\\u062d\\u064b\\u0645\\u064d\\u0644\\u0652 \\u0639\\u0644\\u0649 \\u0639\\u064d\\u0627\\u064b\\u062a\\u064f\\u0642\\u0647 \\u064b\\u0627\\u064e\\u0644\\u064e\\u0646\\u0651\\u0647\\u064f\\u0648\\u064d\\u0636 \\u064f\\u0628\\u0652\\u0627\\u064c\\u0644\\u062b\\u064d\\u0642\\u064f\\u0627\\u064c\\u0641\\u064b\\u0629\\u064c \\u0648\\u064f\\u0627\\u064c\\u0644\\u064b\\u0645\\u064e\\u0639\\u064b\\u0631\\u0650\\u0641\\u0629 \\u064b.\\u0648\\u062e\\u0651\\u0644\\u0650\\u0635 \\u064f\\u0627\\u0650\\u0644\\u0650\\u0645\\u062d\\u064b\\u0627\\u0636\\u0631 \\u0625\\u064e\\u0644\\u0651\\u0649\\u0652 \\u0623\\u064b\\u0646 \\u064c\\u062b\\u064e\\u0645\\u0629\\u0651 \\u064b\\u062b\\u0644\\u0627\\u064e\\u062b\\u064c \\u0646\\u0642\\u0651\\u0627\\u0637 \\u064e\\u0644\\u064b\\u0644\\u0650\\u0627\\u064b\\u0631\\u064c\\u062a\\u0642\\u0650\\u0627\\u0621\\u064b \\u064e\\u0628\\u064d\\u0627\\u064d\\u0644\\u0641\\u0643\\u0652\\u0631\\u0629 \\u064d\\u0627\\u064d\\u0644\\u062b\\u0642\\u0651\\u0627\\u0641\\u064d\\u064a\\u064d\\u0629\\u0650 \\u0641\\u064e\\u064a\\u064d \\u064f\\u0627\\u0644\\u064c\\u0634\\u064d\\u0627\\u0631\\u0652\\u0642\\u0629 \\u0623\\u064d\\u0648\\u0644\\u0650\\u0647\\u0627 \\u064d\\u062a\\u0652\\u0623\\u064b\\u0633\\u064e\\u064a\\u0633 \\u0650\\u062f\\u0652\\u0627\\u0652\\u0626\\u0650\\u0631\\u0652\\u0629\\u064e \\u064e\\u0627\\u0644\\u062b\\u0642\\u0651\\u0627\\u0641\\u0629 \\u0648\\u064e\\u0627\\u0650\\u0644\\u064e\\u0625\\u0639\\u0650\\u0644\\u0627\\u0645\\u0651\\u060c \\u064c\\u0648\\u0650\\u062b\\u0652\\u0627\\u0646\\u064a\\u0647\\u0651\\u0627\\u064c \\u0627\\u062c\\u062a\\u0651\\u0645\\u064d\\u0627\\u064d\\u0639 \\u064e\\u0635\\u0627\\u062d\\u0650\\u0628\\u0650 \\u0627\\u0651\\u0644\\u0651\\u0633\\u0651\\u0645\\u0648\\u064d \\u0650\\u062d\\u0627\\u064f\\u0643\\u064b\\u0645 \\u0627\\u0644\\u064f\\u0634\\u0652\\u0627\\u064b\\u0631\\u0642\\u064d\\u0629\\u0651 \\u064c\\u0628\\u0643\\u064f\\u0648\\u0650\\u0627\\u062f\\u064c\\u0631 \\u0627\\u0644\\u064b\\u062f\\u064b\\u0627\\u0650\\u0626\\u0631\\u064b\\u0629 \\u064c\\u0648\\u0642\\u0651\\u062f\\u064f\\u0651\\u0645 \\u0641\\u0651\\u064a\\u0647\\u064f \\u0645\\u062c\\u0650\\u0645\\u064b\\u0648\\u064d\\u0639\\u0651\\u0629\\u064d \\u0645\\u064f\\u0646 \\u0652\\u0627\\u064e\\u0644\\u0633\\u064a\\u0651\\u0627\\u0651\\u0633\\u0627\\u062a \\u0651\\u0627\\u0644\\u062b\\u0642\\u064c\\u0627\\u064b\\u0641\\u064a\\u064e\\u0629 \\u0648\\u064c\\u0627\\u0644\\u062e\\u0651\\u0637\\u0637\\u064b \\u0627\\u0644\\u064d\\u062a\\u0646\\u0645\\u064e\\u0648\\u064a\\u0650\\u0629 \\u0651\\u0648\\u062f\\u0652\\u0639\\u0627 \\u064c\\u0633\\u0650\\u0645\\u064b\\u0648\\u064c\\u0647 \\u064c\\u0625\\u0650\\u0644\\u064f\\u0649: \\u0627\\u0644\\u0627\\u0647\\u0651\\u062a\\u064f\\u0645\\u0627\\u064f\\u0645 \\u0628\\u064b\\u0627\\u0650\\u0644\\u064f\\u0645\\u0652\\u0633\\u0631\\u062d\\u060c\\u0652 \\u0648\\u064b\\u0627\\u0651\\u0644\\u0623\\u0637\\u064c\\u0631\\u0650 \\u0627\\u064d\\u0644\\u0651\\u0639\\u0627\\u064b\\u0645\\u0629 \\u064e\\u0644\\u0644\\u0650\\u062b\\u064e\\u0642\\u0627\\u064d\\u0641\\u0629\\u064d\\u060c\\u0651 \\u0651\\u0627\\u064c\\u0644\\u0650\\u0627\\u0631\\u064f\\u062a\\u0642\\u0627\\u064f\\u0621\\u064c \\u0628\\u064d\\u0627\\u0650\\u0644\\u0639\\u0645\\u0651\\u0644\\u064e \\u0627\\u0644\\u0651\\u062a\\u064d\\u0634\\u0643\\u0651\\u064a\\u0644\\u064a\\u0650\\u060c \\u0627\\u0651\\u0644\\u0627\\u064f\\u0647\\u064f\\u062a\\u0645\\u064d\\u0627\\u0645 \\u0650\\u0628\\u0650\\u0627\\u0651\\u0644\\u064b\\u0648\\u0639\\u0651\\u064a \\u064b\\u0648\\u0650\\u0627\\u0652\\u0644\\u064f\\u0630\\u0627\\u0626\\u0650\\u0642\\u0651\\u0629\\u064c \\u0627\\u0651\\u0644\\u062c\\u0650\\u0645\\u064d\\u0627\\u0652\\u0644\\u0652\\u064a\\u0652\\u0629\\u064f\\u060c \\u0627\\u064d\\u0644\\u0650\\u0627\\u0647\\u064f\\u062a\\u0645\\u0627\\u0651\\u0645\\u0652 \\u064f\\u0628\\u064d\\u0627\\u0644\\u0637\\u0641\\u0644\\u0651\\u060c \\u0651\\u062a\\u0637\\u0648\\u064a\\u0631\\u064b \\u0634\\u0628\\u0643\\u0629\\u0652 \\u0627\\u0644\\u0645\\u0643\\u062a\\u064b\\u0628\\u0627\\u062a\\u060c\\u0652 \\u064e\\u0627\\u0633\\u062a\\u0643\\u064f\\u0645\\u064d\\u0627\\u0644\\u064d \\u0639\\u064b\\u0645\\u064b\\u0644\\u0652\\u064a\\u0627\\u062a \\u064c\\u0627\\u0644\\u064f\\u062a\\u0631\\u0645\\u064a\\u0645\\u0650\\u060c \\u064b\\u0627\\u0644\\u064d\\u0627\\u0647\\u064b\\u062a\\u064c\\u0645\\u0652\\u0627\\u0650\\u0645\\u064d \\u0650\\u0628\\u062b\\u064e\\u0642\\u0652\\u0627\\u064b\\u0641\\u064e\\u0629\\u064d \\u0650\\u0627\\u064d\\u0644\\u0645\\u0650\\u0631\\u064b\\u0623\\u064b\\u0629 \\u0650\\u0648\\u064b\\u0627\\u064f\\u0644\\u064d\\u0637\\u0641\\u0652\\u0644 .\\u0652 \\u064c.\\u064d)\\u064f \\u064b\\u0648\\u062b\\u064b\\u0627\\u064d\\u0644\\u0651\\u062b\\u064b\\u0647\\u064e\\u0627\\u064f \\u064b\\u0625\\u0650\\u0639\\u0650\\u0644\\u0651\\u0627\\u064b\\u0646\\u064f \\u0627\\u0644\\u0634\\u0627\\u0631\\u0642\\u0629\\u064f \\u0651\\u0639\\u0627\\u064d\\u0635\\u064e\\u0645\\u0629\\u064c \\u0644\\u0644\\u064b\\u062b\\u0642\\u064b\\u0627\\u0641\\u0629 \\u064b\\u0627\\u0652\\u0644\\u064e\\u0639\\u0651\\u0631\\u0628\\u064a\\u0629\\u064f \\u064b\\u0641\\u064a\\u064b \\u0639\\u0627\\u0645 19\\u06529\\u064d8 \\u064e\\u0644\\u0645\\u0627 \\u062a\\u062a\\u0645\\u064b\\u064a\\u0632\\u064f \\u0628\\u064f\\u0647\\u064e \\u064e\\u0645\\u064b\\u0646\\u064b \\u064b\\u0646\\u064e\\u0634\\u0650\\u0627\\u0637 \\u0651\\u0648\\u064f\\u062d\\u064b\\u0631\\u0627\\u0643\\u064d \\u064f\\u062b\\u0642\\u0627\\u0641\\u064a\\u0650 \\u0645\\u0652\\u0645\\u064c\\u064a\\u0632\\u064d\\u060c\\u064e \\u064b\\u0641\\u0636\\u0644\\u0627\\u064b\\u064e \\u064f\\u0639\\u0650\\u0646 \\u062f\\u0648\\u0631\\u064b \\u064c\\u0627\\u0644\\u064d\\u062c\\u064f\\u0648\\u0627\\u0652\\u0626\\u064f\\u0632\\u0651 \\u0648\\u0635\\u0650\\u0646\\u064f\\u0627\\u062f\\u0651\\u064a\\u064b\\u0642 \\u064f\\u0627\\u064b\\u0644\\u062f\\u064d\\u0639\\u064c\\u0645\\u060c \\u064d\\u0648\\u0627\\u064f\\u0644\\u062f\\u0628\\u0652\\u0644\\u064b\\u0648\\u0645\\u0627\\u0633\\u064d\\u064a\\u0629 \\u064f\\u0627\\u0650\\u0644\\u064b\\u062b\\u0652\\u0642\\u0627\\u0641\\u0651\\u064a\\u0629\\u060c\\u064e \\u0648\\u0639\\u0650\\u062f\\u062f \\u0648\\u0652\\u0646\\u064c\\u0648\\u0639 \\u064b\\u0627\\u064b\\u0644\\u064c\\u062c\\u064b\\u0627\\u0645\\u0639\\u0650\\u0627\\u064c\\u062a \\u0648\\u0627\\u0644\\u064e\\u0645\\u0650\\u0631\\u0627\\u0652\\u0643\\u0632\\u060c \\u064f\\u0648\\u0627\\u064b\\u0644\\u0625\\u064f\\u062d\\u0635\\u064c\\u0627\\u0650\\u0621\\u064e \\u0627\\u0651\\u0644\\u0627\\u064b\\u062c\\u064f\\u062a\\u0645\\u0627\\u0650\\u0639\\u0650\\u064a\\u0651 \\u064b\\u0641\\u0651\\u064a \\u0628\\u0644\\u0648\\u064e\\u0631\\u0629\\u064f \\u064b\\u0648\\u064c\\u062a\\u064b\\u0631\\u0633\\u0652\\u064a\\u062e \\u064c\\u0645\\u064d\\u0643\\u064e\\u0627\\u0646\\u0629 \\u064b\\u0627\\u0644\\u0651\\u0634\\u0627\\u0651\\u0631\\u064e\\u0642\\u0629 \\u064d\\u0639\\u0627\\u0635\\u0645\\u0629\\u064f \\u0651\\u0644\\u064c\\u0644\\u0651\\u062b\\u064d\\u0642\\u0627\\u064d\\u0641\\u0629\\u064e \\u064c\\u0627\\u064c\\u0644\\u0652\\u0639\\u0650\\u0631\\u0628\\u064a\\u064c\\u0629 \\u0650\\u0648\\u0652\\u0627\\u0644\\u0625\\u064d\\u0633\\u0644\\u0627\\u0651\\u0645\\u064a\\u0652\\u0629\\u060c \\u0648\\u0643\\u064f\\u0644 \\u0651\\u0630\\u0652\\u0644\\u064b\\u0643 \\u064b\\u0628\\u062c\\u0647\\u062f \\u0651\\u0635\\u0651\\u0627\\u062d\\u0628\\u064d \\u0650\\u0627\\u0644\\u064d\\u0633\\u064e\\u0645\\u0648\\u0650 \\u064b\\u062d\\u0650\\u0627\\u064c\\u0643\\u064f\\u0645 \\u064d\\u0627\\u0644\\u0634\\u0627\\u0631\\u064c\\u0642\\u0629 \\u0627\\u064e\\u0644\\u0650\\u0630\\u064a\\u064b \\u064e\\u0639\\u0645\\u064f\\u0644 \\u0651\\u0648\\u064d\\u0644\\u0627 \\u064a\\u0632\\u064f\\u0627\\u064e\\u0644 \\u0628\\u0634\\u063a\\u0641\\u0652 \\u0648\\u062d\\u0628\\u064f \\u0639\\u064f\\u0644\\u0649\\u0652 \\u062a\\u064c\\u0639\\u0632\\u064b\\u064a\\u064b\\u0632\\u064e \\u064c\\u0627\\u064f\\u0644\\u064e\\u062a\\u0646\\u064b\\u0645\\u0651\\u064a\\u064d\\u0629\\u064c \\u0627\\u064e\\u0644\\u064b\\u062b\\u0642\\u064e\\u0627\\u064d\\u0641\\u064c\\u064a\\u0629 \\u064e\\u0641\\u0650\\u064a\\u064f \\u0627\\u0652\\u0644\\u064e\\u0634\\u0627\\u0631\\u064e\\u0642\\u064d\\u0629\\u064e \\u0645\\u0646\\u0650 \\u062e\\u064b\\u0644\\u0650\\u0627\\u0650\\u0644\\u0651 \\u0651\\u0633\\u064e\\u0646\\u0651 \\u0648\\u0625\\u0642\\u064b\\u0631\\u0651\\u0627\\u0631 \\u0645\\u062c\\u0645\\u0648\\u064c\\u0639\\u064e\\u0629\\u064e \\u0645\\u064f\\u0646\\u0651 \\u0627\\u064b\\u0644\\u0645\\u064d\\u0634\\u0650\\u0631\\u0648\\u0639\\u064f\\u0627\\u064f\\u062a\\u0652 \\u0627\\u0644\\u0651\\u062b\\u0650\\u0642\\u0627\\u0652\\u0641\\u0650\\u064a\\u0629\\u064c \\u0650\\u0627\\u0644\\u062a\\u064d\\u064a \\u064e\\u062a\\u064c\\u0647\\u064e\\u062f\\u064d\\u0641\\u064e \\u0625\\u064e\\u0644\\u0650\\u0649 \\u0652\\u062a\\u062d\\u0642\\u064a\\u0642 \\u0630\\u0644\\u0643\\u064d\\u060c\\u064b \\u0650\\u062d\\u062a\\u0650\\u0649 \\u0652\\u0623\\u064e\\u0635\\u0628\\u062d\\u062a\\u0651 \\u064c\\u0627\\u064e\\u0644\\u0634\\u0627\\u064c\\u0631\\u064c\\u0642\\u064b\\u0629\\u0652 \\u0627\\u0644\\u0651\\u064a\\u0648\\u064c\\u0645 \\u0651\\u0648\\u064f\\u062c\\u0647\\u064b\\u0629\\u064e \\u064a\\u0624\\u064f\\u0645\\u064e\\u0647\\u064c\\u0627 \\u0652\\u0627\\u0644\\u064e\\u0645\\u0641\\u064e\\u0643\\u0631\\u0651\\u0648\\u0651\\u0646 \\u0648\\u0650\\u0627\\u0644\\u0645\\u0651\\u062b\\u0642\\u0650\\u0641\\u0651\\u0648\\u0646 \\u0648\\u0627\\u0644\\u0645\\u064f\\u0628\\u064c\\u062f\\u0639\\u064c\\u0648\\u0650\\u0646 \\u0652\\u0648\\u0652\\u0627\\u0651\\u0644\\u064c\\u0643\\u062a\\u064c\\u0627\\u0628\\u0650 \\u064c\\u0645\\u0650\\u0646\\u064f \\u0634\\u062a\\u0650\\u0649\\u064e \\u0623\\u064f\\u0646\\u064d\\u062d\\u0627\\u0621 \\u0627\\u064d\\u0644\\u0652\\u0639\\u0627\\u0644\\u064f\\u0645\\u060c\\u0650 \\u064e\\u0634\\u064b\\u0627\\u0652\\u0645\\u062e\\u0651\\u0629\\u064e \\u0631\\u0627\\u0633\\u062e\\u064b\\u0629 \\u064c\\u0628\\u064c\\u0639\\u0651\\u0637\\u064c\\u0627\\u0626\\u064f\\u0647\\u0650\\u0627 \\u064e\\u0648\\u062a\\u064b\\u0642\\u0650\\u062f\\u0645\\u0647\\u064d\\u0627 \\u0650.\\u064f\"\n        ],\n        \"semantic_type\": \"\",\n        \"description\": \"\"\n      }\n    },\n    {\n      \"column\": \"label\",\n      \"properties\": {\n        \"dtype\": \"category\",\n        \"num_unique_values\": 7,\n        \"samples\": [\n          \"Culture\",\n          \"Finance\",\n          \"Sports\"\n        ],\n        \"semantic_type\": \"\",\n        \"description\": \"\"\n      }\n    }\n  ]\n}"
            }
          },
          "metadata": {},
          "execution_count": 51
        }
      ]
    },
    {
      "cell_type": "code",
      "source": [
        "df.info()"
      ],
      "metadata": {
        "colab": {
          "base_uri": "https://localhost:8080/"
        },
        "id": "yFTCjUSyLqnZ",
        "outputId": "7d97e8ab-38e4-42aa-be24-0dd31b1b3e89"
      },
      "execution_count": 7,
      "outputs": [
        {
          "output_type": "stream",
          "name": "stdout",
          "text": [
            "<class 'pandas.core.frame.DataFrame'>\n",
            "RangeIndex: 39885 entries, 0 to 39884\n",
            "Data columns (total 2 columns):\n",
            " #   Column  Non-Null Count  Dtype \n",
            "---  ------  --------------  ----- \n",
            " 0   text    39885 non-null  object\n",
            " 1   label   39885 non-null  object\n",
            "dtypes: object(2)\n",
            "memory usage: 623.3+ KB\n"
          ]
        }
      ]
    },
    {
      "cell_type": "code",
      "source": [
        "df.sample(10)"
      ],
      "metadata": {
        "colab": {
          "base_uri": "https://localhost:8080/",
          "height": 363
        },
        "id": "S1unuNawKYpd",
        "outputId": "3fdeb291-3d48-4611-9254-e614ee6d3166"
      },
      "execution_count": 8,
      "outputs": [
        {
          "output_type": "execute_result",
          "data": {
            "text/plain": [
              "                                                    text     label\n",
              "19689  https://example.com/resource/بُلغ عِدٌد الٍحًج...  Politics\n",
              "17290  https://example.com/resource/وٍجُهٍ ٍصًاحبّ ُا...   Medical\n",
              "3834   https://example.com/resource/اًلِشارقُةْ: «ّاُ...   Culture\n",
              "5076   https://example.com/resource/يِشًاُركِ بًيت ٌا...   Culture\n",
              "19935  https://example.com/resource/أكٍدتَ كتاُئِب عُ...  Politics\n",
              "32217  https://example.com/resource/اتهِمْ بيَرُنيً إ...    Sports\n",
              "35752  https://example.com/resource/أُكٌدِ نٌاصر ِبنْ...      Tech\n",
              "9666   https://example.com/resource/أَعُلنْتَ شّركِة ...   Finance\n",
              "13047  https://example.com/resource/الُشاْرٍقّة:ُ «َا...   Medical\n",
              "21680  https://example.com/resource/أوٍقفْتَ الْسَلطّ...  Politics"
            ],
            "text/html": [
              "\n",
              "  <div id=\"df-8fbafc29-fc6c-4830-9637-ad738fc22d7e\" class=\"colab-df-container\">\n",
              "    <div>\n",
              "<style scoped>\n",
              "    .dataframe tbody tr th:only-of-type {\n",
              "        vertical-align: middle;\n",
              "    }\n",
              "\n",
              "    .dataframe tbody tr th {\n",
              "        vertical-align: top;\n",
              "    }\n",
              "\n",
              "    .dataframe thead th {\n",
              "        text-align: right;\n",
              "    }\n",
              "</style>\n",
              "<table border=\"1\" class=\"dataframe\">\n",
              "  <thead>\n",
              "    <tr style=\"text-align: right;\">\n",
              "      <th></th>\n",
              "      <th>text</th>\n",
              "      <th>label</th>\n",
              "    </tr>\n",
              "  </thead>\n",
              "  <tbody>\n",
              "    <tr>\n",
              "      <th>19689</th>\n",
              "      <td>https://example.com/resource/بُلغ عِدٌد الٍحًج...</td>\n",
              "      <td>Politics</td>\n",
              "    </tr>\n",
              "    <tr>\n",
              "      <th>17290</th>\n",
              "      <td>https://example.com/resource/وٍجُهٍ ٍصًاحبّ ُا...</td>\n",
              "      <td>Medical</td>\n",
              "    </tr>\n",
              "    <tr>\n",
              "      <th>3834</th>\n",
              "      <td>https://example.com/resource/اًلِشارقُةْ: «ّاُ...</td>\n",
              "      <td>Culture</td>\n",
              "    </tr>\n",
              "    <tr>\n",
              "      <th>5076</th>\n",
              "      <td>https://example.com/resource/يِشًاُركِ بًيت ٌا...</td>\n",
              "      <td>Culture</td>\n",
              "    </tr>\n",
              "    <tr>\n",
              "      <th>19935</th>\n",
              "      <td>https://example.com/resource/أكٍدتَ كتاُئِب عُ...</td>\n",
              "      <td>Politics</td>\n",
              "    </tr>\n",
              "    <tr>\n",
              "      <th>32217</th>\n",
              "      <td>https://example.com/resource/اتهِمْ بيَرُنيً إ...</td>\n",
              "      <td>Sports</td>\n",
              "    </tr>\n",
              "    <tr>\n",
              "      <th>35752</th>\n",
              "      <td>https://example.com/resource/أُكٌدِ نٌاصر ِبنْ...</td>\n",
              "      <td>Tech</td>\n",
              "    </tr>\n",
              "    <tr>\n",
              "      <th>9666</th>\n",
              "      <td>https://example.com/resource/أَعُلنْتَ شّركِة ...</td>\n",
              "      <td>Finance</td>\n",
              "    </tr>\n",
              "    <tr>\n",
              "      <th>13047</th>\n",
              "      <td>https://example.com/resource/الُشاْرٍقّة:ُ «َا...</td>\n",
              "      <td>Medical</td>\n",
              "    </tr>\n",
              "    <tr>\n",
              "      <th>21680</th>\n",
              "      <td>https://example.com/resource/أوٍقفْتَ الْسَلطّ...</td>\n",
              "      <td>Politics</td>\n",
              "    </tr>\n",
              "  </tbody>\n",
              "</table>\n",
              "</div>\n",
              "    <div class=\"colab-df-buttons\">\n",
              "\n",
              "  <div class=\"colab-df-container\">\n",
              "    <button class=\"colab-df-convert\" onclick=\"convertToInteractive('df-8fbafc29-fc6c-4830-9637-ad738fc22d7e')\"\n",
              "            title=\"Convert this dataframe to an interactive table.\"\n",
              "            style=\"display:none;\">\n",
              "\n",
              "  <svg xmlns=\"http://www.w3.org/2000/svg\" height=\"24px\" viewBox=\"0 -960 960 960\">\n",
              "    <path d=\"M120-120v-720h720v720H120Zm60-500h600v-160H180v160Zm220 220h160v-160H400v160Zm0 220h160v-160H400v160ZM180-400h160v-160H180v160Zm440 0h160v-160H620v160ZM180-180h160v-160H180v160Zm440 0h160v-160H620v160Z\"/>\n",
              "  </svg>\n",
              "    </button>\n",
              "\n",
              "  <style>\n",
              "    .colab-df-container {\n",
              "      display:flex;\n",
              "      gap: 12px;\n",
              "    }\n",
              "\n",
              "    .colab-df-convert {\n",
              "      background-color: #E8F0FE;\n",
              "      border: none;\n",
              "      border-radius: 50%;\n",
              "      cursor: pointer;\n",
              "      display: none;\n",
              "      fill: #1967D2;\n",
              "      height: 32px;\n",
              "      padding: 0 0 0 0;\n",
              "      width: 32px;\n",
              "    }\n",
              "\n",
              "    .colab-df-convert:hover {\n",
              "      background-color: #E2EBFA;\n",
              "      box-shadow: 0px 1px 2px rgba(60, 64, 67, 0.3), 0px 1px 3px 1px rgba(60, 64, 67, 0.15);\n",
              "      fill: #174EA6;\n",
              "    }\n",
              "\n",
              "    .colab-df-buttons div {\n",
              "      margin-bottom: 4px;\n",
              "    }\n",
              "\n",
              "    [theme=dark] .colab-df-convert {\n",
              "      background-color: #3B4455;\n",
              "      fill: #D2E3FC;\n",
              "    }\n",
              "\n",
              "    [theme=dark] .colab-df-convert:hover {\n",
              "      background-color: #434B5C;\n",
              "      box-shadow: 0px 1px 3px 1px rgba(0, 0, 0, 0.15);\n",
              "      filter: drop-shadow(0px 1px 2px rgba(0, 0, 0, 0.3));\n",
              "      fill: #FFFFFF;\n",
              "    }\n",
              "  </style>\n",
              "\n",
              "    <script>\n",
              "      const buttonEl =\n",
              "        document.querySelector('#df-8fbafc29-fc6c-4830-9637-ad738fc22d7e button.colab-df-convert');\n",
              "      buttonEl.style.display =\n",
              "        google.colab.kernel.accessAllowed ? 'block' : 'none';\n",
              "\n",
              "      async function convertToInteractive(key) {\n",
              "        const element = document.querySelector('#df-8fbafc29-fc6c-4830-9637-ad738fc22d7e');\n",
              "        const dataTable =\n",
              "          await google.colab.kernel.invokeFunction('convertToInteractive',\n",
              "                                                    [key], {});\n",
              "        if (!dataTable) return;\n",
              "\n",
              "        const docLinkHtml = 'Like what you see? Visit the ' +\n",
              "          '<a target=\"_blank\" href=https://colab.research.google.com/notebooks/data_table.ipynb>data table notebook</a>'\n",
              "          + ' to learn more about interactive tables.';\n",
              "        element.innerHTML = '';\n",
              "        dataTable['output_type'] = 'display_data';\n",
              "        await google.colab.output.renderOutput(dataTable, element);\n",
              "        const docLink = document.createElement('div');\n",
              "        docLink.innerHTML = docLinkHtml;\n",
              "        element.appendChild(docLink);\n",
              "      }\n",
              "    </script>\n",
              "  </div>\n",
              "\n",
              "\n",
              "<div id=\"df-1621d5ee-48f1-42de-ad4f-7baf2a284951\">\n",
              "  <button class=\"colab-df-quickchart\" onclick=\"quickchart('df-1621d5ee-48f1-42de-ad4f-7baf2a284951')\"\n",
              "            title=\"Suggest charts\"\n",
              "            style=\"display:none;\">\n",
              "\n",
              "<svg xmlns=\"http://www.w3.org/2000/svg\" height=\"24px\"viewBox=\"0 0 24 24\"\n",
              "     width=\"24px\">\n",
              "    <g>\n",
              "        <path d=\"M19 3H5c-1.1 0-2 .9-2 2v14c0 1.1.9 2 2 2h14c1.1 0 2-.9 2-2V5c0-1.1-.9-2-2-2zM9 17H7v-7h2v7zm4 0h-2V7h2v10zm4 0h-2v-4h2v4z\"/>\n",
              "    </g>\n",
              "</svg>\n",
              "  </button>\n",
              "\n",
              "<style>\n",
              "  .colab-df-quickchart {\n",
              "      --bg-color: #E8F0FE;\n",
              "      --fill-color: #1967D2;\n",
              "      --hover-bg-color: #E2EBFA;\n",
              "      --hover-fill-color: #174EA6;\n",
              "      --disabled-fill-color: #AAA;\n",
              "      --disabled-bg-color: #DDD;\n",
              "  }\n",
              "\n",
              "  [theme=dark] .colab-df-quickchart {\n",
              "      --bg-color: #3B4455;\n",
              "      --fill-color: #D2E3FC;\n",
              "      --hover-bg-color: #434B5C;\n",
              "      --hover-fill-color: #FFFFFF;\n",
              "      --disabled-bg-color: #3B4455;\n",
              "      --disabled-fill-color: #666;\n",
              "  }\n",
              "\n",
              "  .colab-df-quickchart {\n",
              "    background-color: var(--bg-color);\n",
              "    border: none;\n",
              "    border-radius: 50%;\n",
              "    cursor: pointer;\n",
              "    display: none;\n",
              "    fill: var(--fill-color);\n",
              "    height: 32px;\n",
              "    padding: 0;\n",
              "    width: 32px;\n",
              "  }\n",
              "\n",
              "  .colab-df-quickchart:hover {\n",
              "    background-color: var(--hover-bg-color);\n",
              "    box-shadow: 0 1px 2px rgba(60, 64, 67, 0.3), 0 1px 3px 1px rgba(60, 64, 67, 0.15);\n",
              "    fill: var(--button-hover-fill-color);\n",
              "  }\n",
              "\n",
              "  .colab-df-quickchart-complete:disabled,\n",
              "  .colab-df-quickchart-complete:disabled:hover {\n",
              "    background-color: var(--disabled-bg-color);\n",
              "    fill: var(--disabled-fill-color);\n",
              "    box-shadow: none;\n",
              "  }\n",
              "\n",
              "  .colab-df-spinner {\n",
              "    border: 2px solid var(--fill-color);\n",
              "    border-color: transparent;\n",
              "    border-bottom-color: var(--fill-color);\n",
              "    animation:\n",
              "      spin 1s steps(1) infinite;\n",
              "  }\n",
              "\n",
              "  @keyframes spin {\n",
              "    0% {\n",
              "      border-color: transparent;\n",
              "      border-bottom-color: var(--fill-color);\n",
              "      border-left-color: var(--fill-color);\n",
              "    }\n",
              "    20% {\n",
              "      border-color: transparent;\n",
              "      border-left-color: var(--fill-color);\n",
              "      border-top-color: var(--fill-color);\n",
              "    }\n",
              "    30% {\n",
              "      border-color: transparent;\n",
              "      border-left-color: var(--fill-color);\n",
              "      border-top-color: var(--fill-color);\n",
              "      border-right-color: var(--fill-color);\n",
              "    }\n",
              "    40% {\n",
              "      border-color: transparent;\n",
              "      border-right-color: var(--fill-color);\n",
              "      border-top-color: var(--fill-color);\n",
              "    }\n",
              "    60% {\n",
              "      border-color: transparent;\n",
              "      border-right-color: var(--fill-color);\n",
              "    }\n",
              "    80% {\n",
              "      border-color: transparent;\n",
              "      border-right-color: var(--fill-color);\n",
              "      border-bottom-color: var(--fill-color);\n",
              "    }\n",
              "    90% {\n",
              "      border-color: transparent;\n",
              "      border-bottom-color: var(--fill-color);\n",
              "    }\n",
              "  }\n",
              "</style>\n",
              "\n",
              "  <script>\n",
              "    async function quickchart(key) {\n",
              "      const quickchartButtonEl =\n",
              "        document.querySelector('#' + key + ' button');\n",
              "      quickchartButtonEl.disabled = true;  // To prevent multiple clicks.\n",
              "      quickchartButtonEl.classList.add('colab-df-spinner');\n",
              "      try {\n",
              "        const charts = await google.colab.kernel.invokeFunction(\n",
              "            'suggestCharts', [key], {});\n",
              "      } catch (error) {\n",
              "        console.error('Error during call to suggestCharts:', error);\n",
              "      }\n",
              "      quickchartButtonEl.classList.remove('colab-df-spinner');\n",
              "      quickchartButtonEl.classList.add('colab-df-quickchart-complete');\n",
              "    }\n",
              "    (() => {\n",
              "      let quickchartButtonEl =\n",
              "        document.querySelector('#df-1621d5ee-48f1-42de-ad4f-7baf2a284951 button');\n",
              "      quickchartButtonEl.style.display =\n",
              "        google.colab.kernel.accessAllowed ? 'block' : 'none';\n",
              "    })();\n",
              "  </script>\n",
              "</div>\n",
              "\n",
              "    </div>\n",
              "  </div>\n"
            ],
            "application/vnd.google.colaboratory.intrinsic+json": {
              "type": "dataframe",
              "summary": "{\n  \"name\": \"df\",\n  \"rows\": 10,\n  \"fields\": [\n    {\n      \"column\": \"text\",\n      \"properties\": {\n        \"dtype\": \"string\",\n        \"num_unique_values\": 10,\n        \"samples\": [\n          \"https://example.com/resource/\\u0627\\u0644\\u064f\\u0634\\u0627\\u0652\\u0631\\u064d\\u0642\\u0651\\u0629:\\u064f \\u00ab\\u064e\\u0627\\u064c\\u0644\\u064d\\u062e\\u0644\\u0652\\u064a\\u062c\\u00bb\\u064e \\u064c\\u0641\\u064d\\u064a\\u064b \\u0646\\u0637\\u0652\\u0627\\u0642\\u0652 \\u064c\\u062d\\u0631\\u0635 \\u0648\\u0632\\u0627\\u0631\\u064b\\u0629 \\u0627\\u0644\\u064e\\u0635\\u062d\\u0650\\u0629\\u0650 \\u0648\\u0648\\u064e\\u0642\\u064c\\u0627\\u064a\\u064b\\u0629 \\u0627\\u0644\\u0652\\u0645\\u062c\\u062a\\u064e\\u0645\\u0652\\u0639\\u064b \\u0639\\u0644\\u064e\\u0649\\u0650 \\u0651\\u062a\\u064f\\u0642\\u0650\\u062f\\u0651\\u064a\\u0645 \\u0651\\u0627\\u0644\\u0651\\u062e\\u064f\\u062f\\u064c\\u0645\\u064f\\u0627\\u062a \\u0627\\u064b\\u0644\\u064c\\u0635\\u064b\\u062d\\u064a\\u0629\\u064f \\u0628\\u0651\\u0623\\u0639\\u0644\\u0649\\u064e \\u064e\\u0645\\u0639\\u0627\\u0652\\u064a\\u0651\\u064a\\u0631 \\u064f\\u0627\\u064e\\u0644\\u0651\\u062c\\u0651\\u0648\\u062f\\u064d\\u0629\\u060c\\u0652 \\u062a\\u0645\\u0652 \\u0650\\u062a\\u0652\\u0632\\u064f\\u0648\\u0652\\u064a\\u062f\\u064c \\u064f\\u0645\\u0650\\u0633\\u064e\\u062a\\u0652\\u0634\\u0641\\u0649 \\u0652\\u0627\\u0644\\u064d\\u0643\\u064d\\u0648\\u064a\\u064d\\u062a \\u064c\\u0628\\u0627\\u0644\\u0634\\u0627\\u0631\\u0642\\u064f\\u0629 \\u064f\\u0628\\u064c\\u0623\\u062d\\u062f\\u062b\\u0652 \\u0652\\u0627\\u064f\\u0644\\u0645\\u064e\\u0639\\u0651\\u062f\\u064c\\u0627\\u0650\\u062a \\u0627\\u0644\\u0637\\u064d\\u0628\\u064d\\u064a\\u0629\\u0650 \\u0648\\u0627\\u0644\\u064e\\u0623\\u064f\\u062c\\u0647\\u0632\\u064f\\u0629 \\u0627\\u0644\\u0651\\u062a\\u064b\\u0634\\u0651\\u062e\\u064e\\u064a\\u0635\\u064a\\u064d\\u0629.\\u064d\\u0623\\u064f\\u0641\\u0652\\u0627\\u062f\\u064f\\u062a\\u064c \\u0622\\u0645\\u0646\\u0650\\u0629\\u064c \\u0643\\u064f\\u0631\\u064f\\u0645\\u064c \\u0645\\u062f\\u064b\\u064a\\u0652\\u0631\\u0629\\u0652 \\u0650\\u0645\\u0633\\u064f\\u062a\\u064d\\u0634\\u064b\\u0641\\u0649 \\u064f\\u0627\\u064c\\u0644\\u0643\\u064c\\u0648\\u064a\\u064b\\u062a\\u060c \\u0623\\u0646\\u064c \\u0648\\u0650\\u0632\\u0627\\u0631\\u0629\\u064f \\u0652\\u0627\\u0644\\u064d\\u0635\\u064e\\u062d\\u064b\\u0629 \\u064f\\u0648\\u064c\\u0648\\u064d\\u0642\\u0627\\u0652\\u064a\\u064f\\u0629\\u0651 \\u0627\\u0644\\u0652\\u0645\\u062c\\u062a\\u064b\\u0645\\u064f\\u0639\\u0650 \\u0642\\u062f\\u064b \\u0632\\u0648\\u0652\\u062f\\u062a\\u0651 \\u064d\\u0627\\u064c\\u0644\\u0645\\u064b\\u0633\\u062a\\u064c\\u0634\\u064c\\u0641\\u0649\\u064c \\u064f\\u0628\\u0623\\u062d\\u064f\\u062f\\u062b \\u064d\\u0627\\u064d\\u0644\\u064f\\u0623\\u0651\\u062c\\u0647\\u0652\\u0632\\u064c\\u0629 \\u0627\\u064b\\u0644\\u064c\\u062a\\u064c\\u0634\\u062e\\u064a\\u0651\\u0635\\u0651\\u064a\\u0629\\u064c \\u0648\\u0651\\u0627\\u0644\\u0645\\u064b\\u0639\\u064c\\u062f\\u0651\\u0627\\u064e\\u062a\\u064f \\u064e\\u0644\\u0631\\u0652\\u0641\\u064b\\u0639\\u064f \\u0645\\u0633\\u062a\\u064e\\u0648\\u0649 \\u0651\\u062c\\u0648\\u062f\\u0629 \\u064d\\u0627\\u064f\\u0644\\u062e\\u064f\\u062f\\u0645\\u064d\\u0627\\u064c\\u062a \\u0650\\u0627\\u064d\\u0644\\u064f\\u0635\\u064f\\u062d\\u064a\\u0629\\u060c\\u0651 \\u0651\\u0648\\u064c\\u0641\\u0642 \\u0623\\u064d\\u062d\\u064f\\u062f\\u062b\\u064d \\u0627\\u064d\\u0644\\u0645\\u0639\\u0627\\u064d\\u064a\\u064a\\u064e\\u0631 \\u064d\\u0627\\u0650\\u0644\\u0639\\u064e\\u0627\\u064d\\u0644\\u0645\\u064a\\u0629\\u064c\\u060c\\u064f \\u0643\\u0651\\u0645\\u0627\\u0652 \\u0652\\u062a\\u0652\\u0645 \\u064e\\u062a\\u064b\\u062d\\u062f\\u064a\\u062b \\u0642\\u064b\\u0633\\u0645\\u064e \\u064f\\u0627\\u0644\\u0639\\u064f\\u0644\\u0627\\u0652\\u062c \\u0651\\u0627\\u0644\\u0637\\u0628\\u0652\\u064a\\u064b\\u0639\\u064e\\u064a \\u0648\\u0651\\u062a\\u0632\\u0648\\u064a\\u062f\\u0650\\u0647\\u064e \\u0652\\u0628\\u0651\\u0623\\u062d\\u062f\\u062b \\u0627\\u0644\\u0645\\u0639\\u062f\\u064b\\u0627\\u0652\\u062a\\u064e.\\u0648\\u0642\\u0627\\u0644\\u062a \\u0625\\u064f\\u0646\\u0651 \\u0647\\u0630\\u0647\\u0652 \\u0627\\u0644\\u0623\\u062c\\u0652\\u0647\\u0632\\u064d\\u0629 \\u0633\\u064d\\u0627\\u0639\\u062f\\u062a \\u064f\\u0641\\u064d\\u064a\\u064b \\u062a\\u062d\\u0633\\u064f\\u0646\\u064b \\u064f\\u062d\\u0627\\u0652\\u0644\\u0629 \\u0627\\u0651\\u0644\\u0645\\u0631\\u064a\\u0636\\u060c\\u0650 \\u064e\\u0648\\u062a\\u064b\\u062d\\u0652\\u062f\\u064a\\u062f\\u064b \\u064f\\u0627\\u0650\\u0644\\u0651\\u062e\\u0637\\u064d\\u0629\\u0651 \\u0627\\u0652\\u0644\\u0639\\u064e\\u0644\\u0652\\u0627\\u064c\\u062c\\u064a\\u064f\\u0629.\\u0651\\u0643\\u064e\\u0645\\u064c\\u0627\\u064f \\u0650\\u062a\\u0645 \\u064b\\u062a\\u064b\\u0632\\u0648\\u064a\\u0652\\u062f\\u0652 \\u064b\\u0645\\u0633\\u0652\\u062a\\u064b\\u0634\\u0641\\u0649\\u064b \\u0627\\u064c\\u0644\\u0643\\u064d\\u0648\\u064a\\u064c\\u062a \\u0645\\u0651\\u0624\\u064e\\u062e\\u064e\\u0631\\u064d\\u0627\\u064b\\u0650 \\u0628\\u062c\\u0650\\u0647\\u064e\\u0627\\u064b\\u0632\\u0652 \\u0650\\u0645\\u064e\\u0646\\u0650\\u0638\\u0651\\u0627\\u0652\\u0631 \\u062c\\u062f\\u064f\\u064a\\u064d\\u062f (\\u0623\\u0651\\u0648\\u0644\\u064f\\u064a\\u064c\\u0645\\u0628\\u0650\\u0648\\u0633 \\u0651\\u0644\\u0648 \\u0651\\u0633\\u0652\\u064a\\u064b\\u0631)\\u064b\\u060c\\u064b \\u0628\\u0652\\u062c\\u064e\\u0648\\u064b\\u062f\\u064b\\u0629 \\u0652\\u0639\\u0651\\u0627\\u0644\\u064a\\u0629 \\u0650\\u064a\\u062a\\u0652\\u0645\\u064a\\u0652\\u0632\\u0652 \\u0651\\u0628\\u0652\\u062f\\u0642\\u0629 \\u064d\\u0648\\u064e\\u0648\\u0636\\u0648\\u064d\\u062d\\u064d \\u0650\\u0627\\u064f\\u0644\\u0635\\u0652\\u0648\\u064d\\u0631\\u0629\\u064f \\u064b\\u0644\\u062a\\u0651\\u0646\\u0638\\u064e\\u064a\\u0631\\u0652 \\u064d\\u0648\\u062a\\u0652\\u0634\\u064e\\u062e\\u064c\\u064a\\u064d\\u0635\\u0651 \\u064c\\u0648\\u0645\\u064d\\u0639\\u064f\\u0627\\u064a\\u0646\\u0629 \\u0627\\u0644\\u0650\\u062c\\u064c\\u0647\\u0650\\u0627\\u0651\\u0632 \\u0627\\u0652\\u0644\\u0651\\u0647\\u0636\\u064f\\u0645\\u064d\\u064a. \\u064b\\u0648\\u064d\\u0645\\u0646 \\u064e\\u062c\\u0627\\u064b\\u0646\\u064e\\u0628\\u0650\\u0647 \\u0651\\u0623\\u064c\\u0634\\u0627\\u064d\\u0631 \\u064f\\u0627\\u064e\\u0644\\u062f\\u064d\\u0643\\u064c\\u062a\\u0648\\u064f\\u0631\\u064d \\u0623\\u064d\\u062d\\u0645\\u064b\\u062f\\u064c \\u0652\\u0627\\u0644\\u0652\\u0633\\u0648\\u064a\\u0650\\u062f\\u064a \\u064e\\u0627\\u064d\\u0644\\u064d\\u0645\\u062f\\u064a\\u0631\\u0652 \\u064e\\u0627\\u0652\\u0644\\u064b\\u0641\\u0646\\u064a \\u0644\\u0652\\u0645\\u064d\\u0633\\u062a\\u0634\\u064c\\u0641\\u064b\\u0649 \\u0627\\u0644\\u0643\\u0648\\u064a\\u064c\\u062a\\u064c \\u064f\\u0625\\u0644\\u0649\\u0652 \\u062d\\u0651\\u0631\\u0651\\u0635\\u064b \\u0650\\u0645\\u064f\\u0633\\u062a\\u064c\\u0634\\u0641\\u0649 \\u0627\\u0644\\u0652\\u0643\\u0648\\u064a\\u062a \\u0650\\u0625\\u0651\\u0644\\u064b\\u0649 \\u062a\\u064e\\u0642\\u062f\\u064e\\u064a\\u0650\\u0645\\u064f \\u062e\\u062f\\u0645\\u0627\\u0651\\u062a \\u0639\\u064e\\u0627\\u064d\\u0644\\u064a\\u0629 \\u0652\\u0627\\u064b\\u0644\\u0652\\u062c\\u0651\\u0648\\u062f\\u0629\\u060c \\u0648\\u0623\\u0646\\u0652 \\u064b\\u0625\\u062f\\u064c\\u062e\\u0652\\u0627\\u064c\\u0644 \\u0627\\u064c\\u0644\\u062a\\u064d\\u0642\\u0652\\u0646\\u064a\\u0627\\u062a\\u0651 \\u064e\\u0648\\u0627\\u064d\\u0644\\u064f\\u0623\\u0633\\u0627\\u0644\\u064a\\u064f\\u0628 \\u064c\\u0627\\u0644\\u0639\\u0651\\u0644\\u064d\\u0627\\u062c\\u064b\\u064a\\u0629 \\u064c\\u0627\\u0644\\u064f\\u062d\\u0651\\u062f\\u064f\\u064a\\u064c\\u062b\\u064e\\u0629\\u060c \\u0651\\u0623\\u062d\\u062f\\u064f\\u062b \\u062a\\u064e\\u0637\\u0648\\u0631\\u0627\\u0650\\u064b\\u064c \\u0643\\u064d\\u0628\\u064c\\u064a\\u0631\\u0651\\u0627\\u064b\\u0652 \\u064e\\u0627\\u0646\\u064c\\u0639\\u0643\\u0633 \\u0639\\u064d\\u0644\\u064e\\u0649\\u064b \\u064d\\u0645\\u0633\\u064f\\u062a\\u064e\\u0648\\u0652\\u0649\\u064d \\u0650\\u0627\\u0650\\u0644\\u064c\\u0623\\u062f\\u0650\\u0627\\u064d\\u0621 \\u062e\\u064f\\u0627\\u0650\\u0635\\u0629\\u064f \\u064c\\u0641\\u064a \\u064b\\u0627\\u064d\\u0644\\u064b\\u0639\\u064f\\u0645\\u064c\\u0644\\u064a\\u0627\\u064e\\u062a\\u064b \\u064b\\u0627\\u0644\\u062c\\u0631\\u0627\\u064f\\u062d\\u064a\\u0629 \\u064e\\u0627\\u064c\\u0644\\u064f\\u0643\\u0650\\u0628\\u064d\\u0631\\u0649\\u060c \\u0648\\u062d\\u0635\\u064c\\u0648\\u0644 \\u064c\\u0627\\u064c\\u0644\\u0645\\u0650\\u0631\\u0636\\u0649\\u0651 \\u0639\\u0644\\u0649 \\u0652\\u062e\\u064f\\u062f\\u0652\\u0645\\u0650\\u0629\\u0650 \\u062a\\u0650\\u0644\\u064d\\u0627\\u064c\\u0626\\u0645\\u0650 \\u064b\\u0645\\u0633\\u064c\\u062a\\u0650\\u0648\\u064d\\u0649\\u064f \\u062a\\u064e\\u0637\\u064b\\u0644\\u0639\\u0627\\u0651\\u062a\\u064d\\u0647\\u064d\\u0645\\u0652 \\u0648\\u064f\\u0637\\u0645\\u0648\\u062d\\u0627\\u062a\\u0647\\u0645\\u064c\\u060c\\u064c \\u0644\\u064e\\u0627\\u0641\\u0651\\u062a\\u0650\\u0627\\u064d\\u064b \\u0625\\u0650\\u0644\\u0649\\u064e \\u0623\\u0652\\u0646\\u064d\\u0647\\u064b \\u0651\\u0645\\u0652\\u0646\\u0650\\u0630\\u064f \\u0628\\u064b\\u062f\\u0627\\u064a\\u064c\\u0629\\u0652 2\\u0651016 \\u0625\\u064e\\u0644\\u0649 \\u064b\\u0627\\u0651\\u0644\\u0650\\u0622\\u0646 \\u0623\\u064e\\u062c\\u064f\\u0631\\u0650\\u064a\\u064c\\u062a \\u0650\\u0623\\u0652\\u0643\\u064d\\u062b\\u0631\\u064d \\u064e\\u0645\\u0646\\u064b 2\\u065260\\u0650 \\u0650\\u062d\\u0627\\u0652\\u0644\\u0629 \\u0651\\u062c\\u0631\\u064b\\u0627\\u062d\\u0629\\u0650 \\u064c\\u0645\\u062b\\u0650\\u0644 \\u064b\\u0627\\u0644\\u064f\\u062c\\u0650\\u0631\\u0627\\u062d\\u064d\\u0629 \\u0627\\u0644\\u0639\\u0627\\u0650\\u0645\\u0629\\u064c\\u060c\\u0651 \\u0648\\u062c\\u0631\\u0627\\u064e\\u062d\\u0629 \\u0627\\u064d\\u0644\\u064d\\u0633\\u0645\\u0652\\u0646\\u0629\\u0650\\u060c \\u0648\\u0627\\u0644\\u062c\\u0631\\u0627\\u062d\\u0627\\u062a \\u064c\\u0627\\u0644\\u0652\\u062a\\u064d\\u062c\\u0645\\u064e\\u064a\\u064f\\u0644\\u064a\\u0629\\u0652\\u060c\\u0652 \\u0648\\u0627\\u0644\\u064f\\u062c\\u064b\\u0631\\u064f\\u0627\\u064f\\u062d\\u0627\\u062a \\u064c\\u0627\\u0644\\u064d\\u0639\\u0638\\u0645\\u064a\\u064f\\u0629\\u0652\\u060c\\u064b \\u064e\\u0648\\u0645\\u0639\\u064b \\u062a\\u0652\\u0648\\u064d\\u0627\\u0641\\u0631\\u064d \\u0627\\u0644\\u064f\\u0623\\u064d\\u062c\\u0647\\u0651\\u0632\\u0629 \\u0650\\u0627\\u0652\\u0644\\u062d\\u064c\\u062f\\u064a\\u062b\\u0629\\u064f \\u064e\\u0644\\u0644\\u0650\\u0625\\u0646\\u0639\\u0652\\u0627\\u064c\\u0634 \\u0627\\u0644\\u0650\\u0642\\u064e\\u0644\\u064e\\u0628\\u064c\\u064a\\u060c \\u064b\\u0641\\u0642\\u064b\\u062f \\u062a\\u0645\\u064c \\u0627\\u0644\\u064b\\u0625\\u0646\\u064e\\u0639\\u0627\\u0651\\u0634\\u064f \\u064b\\u0627\\u0644\\u0651\\u0642\\u064f\\u0644\\u0628\\u064e\\u064a\\u0650 \\u064b\\u0644\\u064b\\u062d\\u0627\\u0644\\u0627\\u062a \\u0652\\u0639\\u062f\\u0629\\u0651 \\u062a\\u064f\\u0643\\u0644\\u064d\\u0644\\u0650\\u062a\\u064c \\u064e\\u0628\\u0652\\u0627\\u064c\\u0644\\u0646\\u064e\\u062c\\u0627\\u062d\\u064d \\u062a\\u064d\\u0635\\u0644 \\u0625\\u0644\\u064d\\u0649 6 \\u064c\\u062d\\u0627\\u0644\\u0627\\u0652\\u062a \\u0634\\u0651\\u0647\\u0631\\u064a\\u064e\\u0627\\u0650\\u064b\\u064d\\u060c\\u0652 \\u064f\\u0645\\u064e\\u0646\\u0647\\u064c\\u0627 \\u0651\\u062d\\u0627\\u064d\\u0644\\u0627\\u062a \\u062d\\u0631\\u0650\\u062c\\u0629 \\u0651\\u062c\\u0651\\u062f\\u064d\\u0627\\u064d\\u064b\\u064c\\u060c\\u0651 \\u0650\\u0628\\u0645\\u064e\\u0627 \\u064a\\u064f\\u0639\\u0643\\u064c\\u0633 \\u0627\\u0644\\u062a\\u064f\\u0632\\u064c\\u0627\\u0651\\u0645\\u0652 \\u0648\\u0651\\u0632\\u0652\\u0627\\u0631\\u0651\\u0629\\u0650 \\u064e\\u0627\\u064d\\u0644\\u0635\\u064f\\u062d\\u064b\\u0629 \\u0648\\u064f\\u0648\\u064f\\u0642\\u0627\\u0652\\u064a\\u064d\\u0629\\u0650 \\u0652\\u0627\\u0652\\u0644\\u0645\\u0651\\u062c\\u064f\\u062a\\u0645\\u064c\\u0639 \\u0651\\u0628\\u0652\\u0625\\u064d\\u0631\\u0636\\u0651\\u0627\\u0651\\u0621 \\u064b\\u0627\\u0644\\u0645\\u064f\\u0631\\u0650\\u0627\\u062c\\u0650\\u0639\\u0652\\u064a\\u0646\\u0651 \\u0650\\u0628\\u064e\\u0627\\u064f\\u0644\\u0651\\u0631\\u0639\\u064b\\u0627\\u064a\\u0629\\u0652 \\u0627\\u064e\\u0644\\u0651\\u0645\\u064b\\u0645\\u062a\\u064e\\u0627\\u0632\\u0629 \\u0651\\u0648\\u0627\\u0644\\u062e\\u062f\\u064f\\u0645\\u0629\\u064c \\u0627\\u0644\\u0645\\u062a\\u0645\\u0652\\u064a\\u0632\\u0650\\u0629\\u064e.\",\n          \"https://example.com/resource/\\u0648\\u064d\\u062c\\u064f\\u0647\\u064d \\u064d\\u0635\\u064b\\u0627\\u062d\\u0628\\u0651 \\u064f\\u0627\\u0644\\u0652\\u0633\\u0645\\u0648\\u064b \\u0652\\u0627\\u0644\\u0634\\u064a\\u064d\\u062e \\u064f\\u062d\\u0650\\u0645\\u064f\\u062f\\u064b \\u0628\\u0651\\u0646\\u064b \\u0645\\u062d\\u0645\\u062f\\u064c \\u0627\\u0650\\u0644\\u0634\\u0631\\u0642\\u0651\\u064a\\u064d \\u064b\\u0639\\u064f\\u0636\\u0648 \\u064f\\u0627\\u0644\\u064f\\u0645\\u0650\\u062c\\u064f\\u0644\\u0633\\u064b \\u0627\\u0652\\u0644\\u0623\\u064e\\u0639\\u0651\\u0644\\u0649\\u064c \\u0644\\u0644\\u0627\\u064f\\u062a\\u0651\\u062d\\u0627\\u062f \\u064c\\u062d\\u0652\\u0627\\u0652\\u0643\\u0645\\u064b \\u0627\\u064d\\u0644\\u064e\\u0641\\u062c\\u064c\\u064a\\u064f\\u0631\\u064e\\u0629\\u064b\\u060c\\u0650 \\u0652\\u0631\\u0633\\u0650\\u0627\\u0644\\u0629\\u0652 \\u064c\\u0634\\u0643\\u0631 \\u0648\\u062a\\u064c\\u0642\\u062f\\u064a\\u0631\\u064b \\u064e\\u0625\\u0644\\u0649\\u0651 \\u0633\\u064f\\u0645\\u0651\\u0648 \\u064f\\u0627\\u0652\\u0644\\u0634\\u064f\\u064a\\u062e \\u0627\\u0644\\u064d\\u062f\\u0643\\u064b\\u062a\\u0648\\u064d\\u0631 \\u064f\\u0633\\u0644\\u0637\\u064b\\u0627\\u0646\\u0652 \\u0628\\u064b\\u0646\\u0650 \\u062e\\u0651\\u0644\\u064a\\u0641\\u0629 \\u0622\\u0644 \\u064d\\u0646\\u0647\\u064f\\u064a\\u064d\\u0627\\u064b\\u0646 \\u0645\\u0633\\u062a\\u064d\\u0634\\u064f\\u0627\\u0631\\u064e \\u0651\\u0635\\u0652\\u0627\\u062d\\u0628 \\u064b\\u0627\\u0644\\u0633\\u0651\\u0645\\u0648 \\u064f\\u0631\\u0626\\u064e\\u064a\\u064d\\u0633 \\u0650\\u0627\\u064c\\u0644\\u064c\\u062f\\u0648\\u0644\\u0652\\u0629\\u064d\\u060c \\u0651\\u0648\\u0625\\u0644\\u0650\\u0649 \\u0631\\u064c\\u0626\\u064a\\u064c\\u0633 \\u0648\\u0623\\u0639\\u064f\\u0636\\u064e\\u0627\\u064f\\u0621\\u064e \\u0645\\u0651\\u062c\\u0650\\u0644\\u0651\\u0633\\u064e \\u0627\\u064c\\u0644\\u0623\\u064f\\u0645\\u064c\\u0646\\u064e\\u0627\\u0621\\u064e \\u064b\\u0648\\u0650\\u0627\\u064d\\u0644\\u0623\\u064d\\u0645\\u0651\\u064a\\u0652\\u0646 \\u0627\\u0652\\u0644\\u0639\\u0627\\u0651\\u0645\\u064b \\u0644\\u062c\\u0651\\u0627\\u0652\\u0626\\u0632\\u0650\\u0629\\u0651 \\u0650\\u0633\\u0644\\u0637\\u064f\\u0627\\u0646 \\u0650\\u0628\\u0646\\u064c \\u0651\\u062e\\u0644\\u064a\\u0652\\u0641\\u0629\\u064c \\u0627\\u064b\\u0644\\u064d\\u0639\\u064e\\u0627\\u0652\\u0644\\u0645\\u064a\\u0629\\u064c \\u0652\\u0644\\u064b\\u0644\\u064e\\u062b\\u064b\\u0644\\u064f\\u0627\\u064d\\u0633\\u064a\\u0645\\u0650\\u064a\\u0650\\u0627\\u064c \\u064f\\u0628\\u0645\\u064c\\u0646\\u0651\\u0627\\u064e\\u0633\\u0628\\u064f\\u0629\\u0652 \\u0627\\u062e\\u062a\\u064a\\u0627\\u064b\\u0631\\u064c\\u0647\\u064c \\u0651\\u0634\\u062e\\u0651\\u0635\\u064a\\u0629\\u0650 \\u064b\\u0627\\u064e\\u0644\\u0639\\u0627\\u0645 \\u0641\\u064a\\u064e \\u064d\\u0627\\u0644\\u064c\\u062f\\u064c\\u0648\\u0631\\u0629 \\u064b\\u0627\\u0644\\u062b\\u0651\\u0627\\u0646\\u064f\\u064a\\u0629\\u064c \\u0650\\u0644\\u0644\\u064c\\u062c\\u064f\\u0627\\u0652\\u0626\\u0632\\u0629\\u064f 2\\u064c01\\u06525\\u060c\\u0651 \\u064c\\u0645\\u062b\\u064c\\u0646\\u064c\\u064a\\u0627\\u064c\\u064b\\u064b \\u064f\\u0639\\u064c\\u0644\\u064c\\u0649 \\u0651\\u0627\\u064b\\u0644\\u0631\\u0624\\u064e\\u0649\\u064f \\u0648\\u062a\\u0648\\u062c\\u0647\\u0627\\u064c\\u062a \\u064c\\u0627\\u064c\\u0644\\u062c\\u0627\\u0626\\u0632\\u0629\\u064c \\u0641\\u064a\\u064d \\u062a\\u0651\\u0634\\u062c\\u0652\\u064a\\u064f\\u0639\\u064d \\u0627\\u064c\\u0644\\u0628\\u064c\\u062d\\u062b\\u064c \\u064b\\u0627\\u0644\\u0639\\u064b\\u0644\\u0650\\u0645\\u0652\\u064a\\u064f \\u0648\\u064c\\u062f\\u0639\\u064d\\u0645\\u064e \\u064d\\u0627\\u064d\\u0644\\u064c\\u062c\\u0647\\u0627\\u062a\\u0652 \\u0652\\u0627\\u0644\\u0650\\u0648\\u064c\\u0637\\u0646\\u064a\\u0650\\u0629\\u064c \\u0648\\u0627\\u0644\\u062f\\u0648\\u064e\\u0644\\u064a\\u0651\\u0629\\u060c\\u064c \\u064c\\u0623\\u0641\\u0651\\u0631\\u0627\\u062f\\u064e\\u0627\\u0650\\u064b \\u064f\\u0648\\u064e\\u0645\\u0624\\u0633\\u064b\\u0633\\u0627\\u062a\\u060c\\u0652 \\u0650\\u062e\\u062f\\u0652\\u0645\\u064b\\u0629\\u0652 \\u0652\\u0644\\u064c\\u0645\\u0652\\u0634\\u0627\\u0651\\u0631\\u064a\\u0652\\u0639 \\u0651\\u0625\\u0646\\u0633\\u064e\\u0627\\u064d\\u0646\\u064a\\u0629 \\u0646\\u064c\\u0628\\u064c\\u064a\\u0644\\u0629 \\u062a\\u0650\\u0633\\u064e\\u062a\\u0647\\u064e\\u062f\\u0641 \\u062d\\u064a\\u064c\\u0627\\u064b\\u0629\\u064f \\u064e\\u0623\\u0641\\u0636\\u064d\\u0644 \\u0644\\u0645\\u0650\\u0631\\u0650\\u0636\\u0649\\u0652 \\u0627\\u064e\\u0644\\u064c\\u062b\\u0651\\u0644\\u0627\\u0633\\u064a\\u0650\\u0645\\u064c\\u064a\\u064f\\u0627\\u064e.\\u064e\\u0648\\u0623\\u064c\\u0634\\u0627\\u064b\\u062f\\u064f \\u0651\\u0635\\u0627\\u062d\\u064c\\u0628\\u064f \\u0627\\u0652\\u0644\\u0651\\u0633\\u0650\\u0645\\u0648 \\u062d\\u064e\\u0627\\u0643\\u0645\\u064f \\u064f\\u0627\\u0644\\u0641\\u064c\\u062c\\u064e\\u064a\\u0631\\u0650\\u0629 \\u0628\\u0652\\u0625\\u0633\\u0647\\u0627\\u0645\\u0627\\u062a \\u064f\\u0627\\u064f\\u0644\\u062c\\u0651\\u0627\\u0650\\u0626\\u0650\\u0632\\u0629\\u064d \\u0641\\u0650\\u064a\\u064d \\u062a\\u0639\\u0632\\u064a\\u0632 \\u064d\\u0627\\u0652\\u0644\\u064e\\u0648\\u0639\\u064e\\u064a \\u062a\\u064f\\u062c\\u064c\\u0627\\u0647\\u064d \\u0645\\u0631\\u064f\\u0636\\u064d \\u0627\\u0644\\u064b\\u062b\\u064f\\u0644\\u064c\\u0627\\u0633\\u064a\\u064d\\u0645\\u064a\\u064b\\u0627\\u064c\\u060c \\u0648\\u064c\\u062f\\u0652\\u0648\\u064d\\u0631\\u0647\\u064c\\u0627\\u0652 \\u064e\\u0641\\u0650\\u064a \\u064e\\u062a\\u062d\\u064e\\u0633\\u064c\\u064a\\u064f\\u0646\\u064e \\u064c\\u0638\\u0631\\u064f\\u0648\\u0641\\u0651 \\u064e\\u0627\\u0644\\u0645\\u0631\\u0636\\u0649\\u064e \\u0627\\u0650\\u0644\\u0650\\u062d\\u0627\\u064c\\u0644\\u064c\\u064a\\u064a\\u0646\\u0650 \\u0648\\u062f\\u064d\\u0639\\u0645\\u0652 \\u0627\\u0652\\u0644\\u0628\\u062d\\u0648\\u062b \\u0627\\u0644\\u0637\\u0628\\u064f\\u064a\\u0629\\u0652 \\u064d\\u0627\\u0650\\u0644\\u064b\\u062e\\u0627\\u064c\\u0635\\u0629\\u064e \\u0628\\u0647\\u0652\\u0630\\u0627 \\u064c\\u0627\\u064c\\u0644\\u0645\\u0631\\u0636\\u064f\\u060c\\u0650 \\u064c\\u0627\\u064d\\u0644\\u064d\\u0623\\u0645\\u0650\\u0631\\u064b \\u0627\\u0644\\u0630\\u064a \\u064c\\u0644\\u0651\\u0627\\u0650\\u0642\\u0650\\u0649 \\u062c\\u0647\\u064d\\u0648\\u062f\\u064c\\u0627\\u064d\\u064b\\u064f \\u062d\\u0650\\u0643\\u0648\\u064e\\u0645\\u064e\\u064a\\u0652\\u0629\\u060c\\u0650 \\u062e\\u0627\\u064f\\u0635\\u0650\\u0629\\u064e \\u064c\\u0641\\u0651\\u064a\\u064e \\u0645\\u0643\\u0627\\u0641\\u062d\\u064f\\u0629 \\u064e\\u00ab\\u0627\\u0644\\u062b\\u0651\\u0644\\u064f\\u0627\\u064d\\u0633\\u064a\\u0645\\u064c\\u064a\\u064c\\u0627\\u0650\\u00bb\\u0652 \\u064c\\u0648\\u0651\\u062a\\u0631\\u0643 \\u0622\\u062b\\u0627\\u0652\\u0631\\u064c\\u0647 \\u0627\\u064e\\u0644\\u0625\\u064a\\u0651\\u062c\\u064b\\u0627\\u0628\\u0651\\u064a\\u0629 \\u0641\\u064a\\u064b \\u0650\\u062d\\u064d\\u064a\\u0627\\u0651\\u0629\\u064c \\u064f\\u0627\\u064c\\u0644\\u0651\\u0645\\u064e\\u0631\\u0636\\u064c\\u0649\\u064b \\u0650\\u0648\\u064b\\u0630\\u0648\\u064e\\u064a\\u0647\\u064f\\u0645 \\u064d\\u0648\\u0641\\u064c\\u064a\\u064c \\u064d\\u0627\\u064b\\u0644\\u062a\\u064e\\u062e\\u0641\\u0650\\u064a\\u064c\\u0641\\u064b \\u064f\\u0645\\u0646 \\u0645\\u0650\\u0639\\u0627\\u064e\\u0646\\u064d\\u0627\\u0650\\u0629 \\u064f\\u0627\\u0644\\u064d\\u0645\\u0650\\u0631\\u0636\\u064d \\u0648\\u0650\\u062a\\u062e\\u064c\\u0641\\u064e\\u064a\\u0636 \\u0652\\u0646\\u0633\\u064d\\u0628\\u0629\\u064b \\u0627\\u064f\\u0644\\u064b\\u0625\\u0635\\u0627\\u0628\\u064f\\u0629\\u064d \\u0628\\u064f\\u0647\\u0650 \\u0651\\u0628\\u0639\\u064c\\u062f \\u064d\\u062a\\u0646\\u064d\\u0638\\u064a\\u0645\\u0651 \\u0627\\u0644\\u0628\\u0652\\u0631\\u064b\\u0627\\u0651\\u0645\\u064e\\u062c \\u0650\\u0627\\u0644\\u064b\\u062a\\u0648\\u0639\\u064d\\u0648\\u064a\\u0629 \\u064f\\u0627\\u064c\\u0644\\u0645\\u064c\\u062a\\u064e\\u0635\\u0644\\u064e\\u0629 \\u0644\\u064f\\u0644\\u0645\\u0650\\u062c\\u062a\\u0645\\u0639.\\u0650\\u0648\\u0623\\u0628\\u064f\\u062f\\u0649 \\u0652\\u0635\\u064d\\u0627\\u062d\\u0650\\u0628\\u0650 \\u0627\\u0650\\u0644\\u0652\\u0633\\u0651\\u0645\\u064f\\u0648 \\u062d\\u0627\\u0643\\u0645\\u064e \\u064d\\u0627\\u064f\\u0644\\u064e\\u0641\\u064c\\u062c\\u064a\\u064f\\u0631\\u0629\\u0652 \\u062f\\u0639\\u0645\\u0647\\u064f \\u0627\\u064e\\u0644\\u064c\\u0643\\u064f\\u0627\\u0645\\u0644 \\u064e\\u0644\\u062c\\u064f\\u0627\\u064e\\u0626\\u0632\\u0629\\u0651 \\u00ab\\u0633\\u0651\\u0644\\u0637\\u0627\\u0646 \\u064c\\u0628\\u0646 \\u062e\\u0644\\u064a\\u0650\\u0641\\u0629 \\u0627\\u0644\\u064d\\u0639\\u0627\\u0652\\u0644\\u064d\\u0645\\u0650\\u064a\\u064d\\u0629\\u064b \\u0644\\u0651\\u0644\\u062b\\u064f\\u0644\\u0627\\u064f\\u0633\\u064a\\u0645\\u064a\\u0627\\u0651\\u00bb \\u0648\\u064c\\u0625\\u0646\\u062c\\u0627\\u062d \\u064e\\u0639\\u0651\\u0645\\u0644\\u0647\\u064d\\u0627\\u0652\\u060c\\u064c \\u0651\\u062f\\u064c\\u0627\\u0639\\u0652\\u064a\\u0627\\u064b \\u0625\\u064c\\u0644\\u064f\\u0649\\u064d \\u064d\\u062a\\u064f\\u0639\\u064f\\u0632\\u064a\\u0632\\u0652 \\u062b\\u0642\\u064c\\u0627\\u064c\\u0641\\u0651\\u0629\\u064c \\u064f\\u0627\\u0644\\u062a\\u0651\\u0643\\u0627\\u0651\\u0641\\u064c\\u0644 \\u0641\\u064a \\u064b\\u0645\\u0651\\u062c\\u062a\\u064d\\u0645\\u0639\\u064e \\u0627\\u0650\\u0644\\u0650\\u0625\\u0645\\u0650\\u0627\\u064c\\u0631\\u064b\\u0627\\u062a\\u0651 \\u0650\\u0648\\u0645\\u0633\\u0627\\u0650\\u0647\\u0645\\u0651\\u0629\\u0650 \\u0652\\u0627\\u064c\\u0644\\u064c\\u062c\\u0650\\u0645\\u064a\\u0639 \\u0650\\u0641\\u064c\\u064a\\u064e \\u062e\\u062f\\u0645\\u0629 \\u0631\\u0633\\u064e\\u0627\\u0626\\u0644\\u0652 \\u064e\\u0627\\u0644\\u0651\\u0645\\u064e\\u0634\\u064e\\u0627\\u0650\\u0631\\u0650\\u064a\\u0639\\u0650 \\u0627\\u0644\\u062e\\u0652\\u064a\\u064d\\u0631\\u064a\\u064c\\u0629\\u0652 \\u0648\\u0650\\u0627\\u0644\\u064f\\u0625\\u0646\\u0650\\u0633\\u064d\\u0627\\u064c\\u0646\\u064a\\u064d\\u0629\\u064c\\u060c \\u0628\\u0645\\u064d\\u0627\\u0650 \\u064e\\u064a\\u064d\\u062f\\u0639\\u064f\\u0645\\u064f \\u062c\\u0651\\u0647\\u064d\\u0648\\u0652\\u062f\\u0647\\u0650\\u0627\\u0651 \\u0648\\u062a\\u0637\\u0652\\u0648\\u064e\\u0631\\u064e\\u0647\\u0651\\u0627\\u0652 \\u0651\\u0648\\u0645\\u0648\\u064f\\u0627\\u0635\\u0644\\u0629 \\u064c\\u0639\\u064e\\u0637\\u0627\\u064d\\u0626\\u064f\\u0647\\u064c\\u0627\\u060c\\u064c \\u0645\\u064d\\u0634\\u064b\\u064a\\u0631\\u0627\\u064b \\u0625\\u0644\\u064c\\u0649\\u0652 \\u064b\\u0623\\u064b\\u0646\\u0651 \\u062d\\u0636\\u0651\\u0648\\u064f\\u0631 \\u0627\\u0644\\u064e\\u062c\\u0650\\u0627\\u0652\\u0626\\u064f\\u0632\\u0629\\u064c \\u0627\\u064c\\u0644\\u0650\\u0646\\u0648\\u0639\\u064a \\u0641\\u064a \\u0646\\u0633\\u064a\\u062c\\u0650 \\u064c\\u0627\\u064c\\u0644\\u0645\\u064b\\u062c\\u062a\\u0645\\u0639 \\u0627\\u0644\\u064e\\u0625\\u064f\\u0645\\u064c\\u0627\\u0631\\u0652\\u0627\\u062a\\u064a\\u0650 \\u0648\\u0625\\u064e\\u0646\\u064f\\u062c\\u0627\\u0632\\u0627\\u0652\\u062a\\u0647\\u0651\\u0627 \\u0648\\u0645\\u0634\\u064e\\u0627\\u064c\\u0631\\u064f\\u064a\\u0639\\u064d\\u0647\\u0627\\u064e \\u0652\\u0641\\u064b\\u064a\\u064e \\u062a\\u0642\\u062f\\u064f\\u064a\\u064c\\u0645 \\u064e\\u0627\\u0644\\u064c\\u062f\\u0639\\u0652\\u0645\\u064f \\u0644\\u064c\\u0645\\u0651\\u0631\\u064b\\u0636\\u0649\\u0650 \\u064c\\u0627\\u0644\\u062b\\u0652\\u0644\\u064e\\u0627\\u0652\\u0633\\u064f\\u064a\\u0645\\u064c\\u064a\\u0627 \\u0651\\u0648\\u064c\\u0630\\u0648\\u0651\\u064a\\u0647\\u0645\\u064f \\u0648\\u0652\\u062a\\u064f\\u0643\\u0631\\u064a\\u0633 \\u064e\\u0627\\u0644\\u064f\\u0627\\u0644\\u064b\\u062a\\u0632\\u064e\\u0627\\u064b\\u0645 \\u0628\\u064e\\u0627\\u064c\\u0644\\u0628\\u064f\\u062d\\u062b\\u064e \\u064b\\u0627\\u064d\\u0644\\u064b\\u0639\\u0652\\u0644\\u0645\\u064a \\u064d\\u0641\\u0650\\u064a \\u064f\\u0647\\u0630\\u0627 \\u064b\\u0627\\u064b\\u0644\\u0651\\u062e\\u0650\\u0635\\u064b\\u0648\\u0635 \\u0647\\u064e\\u0648 \\u064c\\u062c\\u064b\\u0632\\u064b\\u0621 \\u0645\\u0646 \\u062b\\u064f\\u0642\\u0627\\u0641\\u0629\\u0651 \\u0651\\u0625\\u0645\\u064d\\u0627\\u0650\\u0631\\u0627\\u064b\\u062a\\u064a\\u0629\\u064d \\u0639\\u0650\\u0631\\u0641\\u064b \\u0650\\u0639\\u0646\\u0652 \\u0650\\u0623\\u0635\\u064d\\u062d\\u0627\\u0628\\u064b\\u0647\\u0651\\u0627 \\u064f\\u0645\\u0651\\u0646 \\u0630\\u0648\\u0652\\u064a \\u0627\\u0644\\u0623\\u064b\\u064a\\u0627\\u062f\\u0651\\u064a\\u064f \\u0627\\u0644\\u0628\\u064d\\u064a\\u0636\\u0627\\u064f\\u0621\\u064f \\u064e\\u0627\\u064f\\u0644\\u064c\\u062a\\u0632\\u0650\\u0627\\u064d\\u0645\\u064d\\u0647\\u0645\\u0650 \\u0628\\u0627\\u064f\\u0644\\u064c\\u0645\\u0633\\u064f\\u0624\\u0648\\u0644\\u064a\\u0650\\u0629\\u0651 \\u064b\\u0627\\u0644\\u0651\\u0625\\u0646\\u0633\\u064c\\u0627\\u064f\\u0646\\u064a\\u064d\\u0629 \\u064c\\u062a\\u062c\\u064b\\u0627\\u0647 \\u0627\\u064d\\u0644\\u0651\\u0645\\u0651\\u062d\\u064c\\u062a\\u0650\\u0627\\u0652\\u062c\\u064a\\u064b\\u0646.\\u064c\\u0648\\u062a\\u0645\\u0652\\u0646\\u0652\\u0649 \\u0652\\u0633\\u0645\\u0648\\u0647\\u064b \\u064c\\u0627\\u0644\\u0651\\u062a\\u0651\\u0648\\u0650\\u0641\\u0652\\u064a\\u0642\\u064c \\u0650\\u0648\\u0627\\u064e\\u0644\\u0646\\u062c\\u064c\\u0627\\u064b\\u062d \\u0644\\u062c\\u0650\\u0627\\u0651\\u0626\\u064d\\u0632\\u0629 \\u00ab\\u0650\\u0633\\u0644\\u0637\\u0652\\u0627\\u0646 \\u0651\\u0628\\u0650\\u0646 \\u0650\\u062e\\u064c\\u0644\\u064b\\u064a\\u0641\\u0651\\u0629 \\u064e\\u0627\\u0650\\u0644\\u0639\\u0627\\u0644\\u0645\\u064a\\u0652\\u0629\\u064d \\u0644\\u0644\\u062b\\u0652\\u0644\\u0627\\u0633\\u064a\\u064e\\u0645\\u0651\\u064a\\u0627\\u064d\\u00bb\\u064e \\u0641\\u064a \\u0645\\u0648\\u0627\\u0635\\u0644\\u064e\\u0629 \\u0639\\u0637\\u0627\\u0626\\u0651\\u0647\\u064d\\u0627\\u064e \\u0652\\u0648\\u062a\\u064c\\u0637\\u0648\\u064a\\u0631\\u0650 \\u062c\\u0647\\u0648\\u062f\\u0647\\u0627 \\u0641\\u064c\\u064a \\u0651\\u062e\\u064d\\u062f\\u064c\\u0645\\u064f\\u0629 \\u0645\\u0651\\u0631\\u064c\\u0636\\u064c\\u0649 \\u0627\\u0652\\u0644\\u062b\\u0644\\u0627\\u0633\\u064a\\u0645\\u064a\\u0627\\u064e \\u0628\\u0650\\u0645\\u064b\\u0627\\u0651 \\u064a\\u062f\\u064f\\u0639\\u0645\\u0651 \\u0631\\u0633\\u064b\\u0627\\u0644\\u0651\\u062a\\u064b\\u0647\\u064b\\u0627 \\u0627\\u0651\\u0644\\u064d\\u0646\\u0650\\u0628\\u064f\\u064a\\u0644\\u0629 \\u0650\\u0641\\u064e\\u064a \\u0627\\u0651\\u0644\\u0639\\u0645\\u0644 \\u0651\\u0627\\u0644\\u0652\\u062e\\u064a\\u0631\\u064a\\u064b \\u064d\\u0648\\u064b\\u0627\\u064c\\u0644\\u0651\\u0625\\u0646\\u0633\\u0627\\u0646\\u0651\\u064a\\u064f. (\\u0652\\u0648\\u0627\\u064e\\u0645)\",\n          \"https://example.com/resource/\\u0627\\u062a\\u0647\\u0650\\u0645\\u0652 \\u0628\\u064a\\u064e\\u0631\\u064f\\u0646\\u064a\\u064b \\u0625\\u064b\\u064a\\u0643\\u064d\\u0644\\u0650\\u0633\\u0651\\u062a\\u0650\\u0648\\u064b\\u0646 (80 \\u0639\\u064d\\u0627\\u0645\\u0627\\u064e\\u064b\\u0651)\\u064f \\u064c\\u0627\\u064f\\u0644\\u0645\\u062f\\u064c\\u064a\\u064e\\u0631 \\u0627\\u064f\\u0644\\u062a\\u064f\\u0646\\u0641\\u064c\\u064a\\u064e\\u0630\\u064a \\u0651\\u0644\\u0644\\u0641\\u064b\\u0648\\u064e\\u0631\\u0645\\u0648\\u0651\\u0644\\u0650\\u0627\\u06511\\u0650 \\u0631\\u0651\\u0633\\u0645\\u0651\\u064a\\u0650\\u0627\\u064e\\u064b\\u064b \\u064e\\u0644\\u064c\\u0623\\u0648\\u064f\\u0644 \\u0645\\u0631\\u0629\\u064d \\u064c\\u0628\\u0652\\u062a\\u0642\\u064e\\u062f\\u064b\\u064a\\u0645\\u0651 4\\u06514 \\u0645\\u0644\\u0652\\u064a\\u0652\\u0648\\u0646 \\u0652\\u062f\\u0648\\u0644\\u064d\\u0627\\u0631 \\u064f\\u0639\\u0644\\u064e\\u0649 \\u0634\\u064d\\u0643\\u064e\\u0644\\u0651 \\u0631\\u0634\\u064b\\u0649\\u0650 \\u0644\\u064d\\u0645\\u064b\\u0635\\u0631\\u0650\\u0641\\u0650\\u064a\\u064f \\u064c\\u0623\\u0644\\u0645\\u064f\\u0627\\u0651\\u0646\\u064f\\u064a\\u064c \\u064e\\u0641\\u064a\\u064b \\u0635\\u0641\\u064d\\u0642\\u0629 \\u064e\\u0628\\u064a\\u0651\\u0639\\u064e \\u0651\\u0631\\u0651\\u064a\\u0627\\u0636\\u064b\\u0629\\u064b \\u064f\\u0627\\u0644\\u064f\\u0641\\u0648\\u0631\\u0645\\u0648\\u064f\\u0644\\u064d\\u0627\\u064e1\\u0651 \\u064e\\u0627\\u0644\\u0652\\u0623\\u0651\\u062e\\u064a\\u0631\\u0629\\u064b \\u064c\\u0641\\u064c\\u064a\\u0652 \\u064d2006 .\\u064b \\u064e\\u0648\\u064c\\u062d\\u0635\\u0644\\u064e \\u0625\\u064a\\u0652\\u0643\\u0644\\u064f\\u0633\\u064b\\u062a\\u0648\\u0646\\u0652 \\u0650\\u0641\\u064b\\u064a \\u064c\\u0627\\u0644\\u0650\\u0645\\u064f\\u0642\\u0627\\u0652\\u0628\\u0644\\u064e \\u0639\\u0644\\u064d\\u0649 \\u064d4 \\u064c.41\\u064d \\u0651\\u0645\\u0644\\u064a\\u0648\\u064f\\u0646\\u0651 \\u062f\\u0648\\u0644\\u0627\\u064d\\u0631 \\u064f\\u0639\\u0644\\u064d\\u0649\\u064c \\u0634\\u0651\\u0643\\u0644\\u064b \\u064b\\u0639\\u0650\\u0645\\u064f\\u0648\\u0644\\u064e\\u0627\\u062a \\u0651\\u0645\\u064f\\u0646\\u064c \\u0645\\u064e\\u0635\\u0631\\u0641 \\u064c\\u0628\\u0627\\u0651\\u064a\\u064c\\u0631\\u0652\\u062a\\u0634\\u0652 \\u0644\\u0627\\u0646\\u062f\\u0633\\u064b\\u0628\\u064f\\u0627\\u064c\\u0646\\u064b\\u0643\\u0652 \\u064c\\u0627\\u0644\\u062a\\u0651\\u0627\\u0628\\u0639 \\u0644\\u0644\\u064b\\u062d\\u0643\\u0648\\u064b\\u0645\\u0651\\u0629 \\u064f\\u0627\\u064f\\u0644\\u064e\\u0623\\u064b\\u0644\\u064c\\u0645\\u0627\\u0646\\u064a\\u0629 \\u0641\\u064a\\u0645\\u064e\\u0627\\u0652 \\u062d\\u0635\\u064e\\u0644\\u0650\\u062a\\u0650 \\u0634\\u0650\\u0631\\u0643\\u064d\\u0629\\u0652 \\u0651\\u0627\\u0626\\u062a\\u0645\\u064b\\u0627\\u0646 \\u0627\\u0644\\u0639\\u0650\\u0627\\u0626\\u0652\\u0644\\u0650\\u0629\\u0652 \\u064f(\\u0628\\u064f\\u0627\\u0645\\u0651\\u0628\\u0650\\u064a\\u064c\\u0646\\u0651\\u0648 \\u064b\\u0647\\u064e\\u0648\\u064d\\u0644\\u062f\\u0652\\u0646\\u063a)\\u0650 \\u0639\\u0644\\u0649 \\u064b2\\u06525\\u064f \\u0645\\u064f\\u0644\\u064d\\u064a\\u0648\\u0646 \\u062f\\u064d\\u0648\\u0652\\u0644\\u0627\\u064f\\u0631 \\u0625\\u0636\\u0627\\u064f\\u0641\\u064a\\u0629\\u064e .\\u064f \\u064f\\u062c\\u0627\\u0621 \\u0627\\u0644\\u0625\\u064e\\u0639\\u064e\\u0644\\u0651\\u0627\\u064e\\u0646 \\u0652\\u0639\\u0646 \\u064c\\u0627\\u064e\\u0644\\u0627\\u064c\\u062a\\u064e\\u0647\\u0627\\u064f\\u0645\\u064f \\u064b\\u0642\\u0628\\u0652\\u0644 \\u064b\\u0623\\u064a\\u064c\\u0627\\u0652\\u0645\\u064b \\u064d\\u0645\\u0646\\u0652 \\u0627\\u0652\\u0646\\u0637\\u0651\\u0644\\u0627\\u0642\\u064e \\u064c\\u062c\\u0627\\u0651\\u0626\\u0652\\u0632\\u0629\\u064d \\u0623\\u0652\\u0644\\u064c\\u0645\\u064c\\u0627\\u064b\\u0646\\u0652\\u064a\\u0627 \\u064f\\u0627\\u0644\\u0650\\u0643\\u0651\\u0628\\u0631\\u0649\\u0651 \\u0641\\u0651\\u064a \\u0646\\u0648\\u064f\\u0631\\u0650\\u0628\\u0651\\u0631\\u063a\\u0631\\u0646\\u063a\\u0650 \\u0651\\u064a\\u0648\\u0645\\u0652 \\u064b\\u0627\\u0644\\u0623\\u064e\\u062d\\u064f\\u062f\\u0651 \\u0650\\u0627\\u0644\\u064d\\u0645\\u064c\\u0642\\u0628\\u0644\\u064c \\u064f\\u0648\\u064f\\u0644\\u0643\\u0646\\u064b \\u0644\\u064c\\u0645 \\u064c\\u064a\\u064b\\u062a\\u064c\\u0628\\u064d\\u064a\\u0646\\u064e \\u062d\\u064e\\u062a\\u0651\\u0649\\u0650 \\u0627\\u064f\\u0644\\u0622\\u0650\\u0646 \\u0641\\u0652\\u064a \\u0645\\u0627 \\u0625\\u0630\\u0627\\u064d \\u0650\\u0633\\u0651\\u064a\\u0645\\u0650\\u062b\\u0644 \\u0625\\u064e\\u064a\\u064d\\u0643\\u0644\\u0633\\u064d\\u062a\\u0650\\u0648\\u064b\\u0646 \\u064d\\u0623\\u0645\\u0652\\u0627\\u0652\\u0645 \\u064d\\u0627\\u0644\\u064c\\u0645\\u064c\\u062d\\u0643\\u064d\\u0645\\u0652\\u0629 \\u064e\\u0633\\u0651\\u0648\\u064f\\u0627\\u064d\\u0621 \\u0641\\u064a \\u0623\\u0644\\u0645\\u064f\\u0627\\u0646\\u064a\\u0627\\u064c \\u064c\\u0623\\u0651\\u0648 \\u064c\\u0641\\u064f\\u064a\\u0652 \\u064f\\u0628\\u0631\\u0652\\u064a\\u0637\\u0627\\u0646\\u064e\\u064a\\u0650\\u0627\\u064b \\u0628\\u064a\\u0650\\u062f\\u064e \\u0623\\u0646 \\u0645\\u0646 \\u064d\\u0627\\u0644\\u0651\\u0645\\u064d\\u0624\\u0643\\u064b\\u062f \\u0623\\u064c\\u0646 \\u0651\\u063a\\u064d\\u064a\\u064b\\u0631\\u0647\\u0652\\u0627\\u0652\\u0631\\u062f\\u064b \\u063a\\u0631\\u064a\\u0628\\u064c\\u0643\\u0627\\u064f\\u0648\\u064f\\u0633\\u064c\\u0643\\u0650\\u064a\\u064e \\u0627\\u064b\\u0644\\u0631\\u064b\\u062c\\u0644 \\u0627\\u064d\\u0644\\u0645\\u062a\\u0647\\u0645 \\u0651\\u0628\\u064d\\u0623\\u062e\\u064c\\u0630 \\u0627\\u064f\\u0644\\u0631\\u0634\\u0648\\u0650\\u0629\\u064e \\u0648\\u0627\\u064b\\u0644\\u0630\\u064a \\u064c\\u0623\\u064b\\u0634\\u064d\\u0631\\u0641\\u0650 \\u064d\\u0639\\u064d\\u0644\\u0649\\u064c \\u0635\\u0641\\u0652\\u0642\\u064d\\u0629 \\u0627\\u0644\\u0628\\u064a\\u0639\\u064c \\u064b\\u0644\\u0634\\u0631\\u0643\\u0629\\u0652 \\u0651\\u062e\\u064c\\u0627\\u064f\\u0635\\u0652\\u0629\\u0651 (\\u0633\\u064a\\u064f \\u0651\\u0641\\u064e\\u064a \\u0633\\u0650\\u064a \\u0643\\u0627\\u0628\\u064a\\u062a\\u064d\\u0627\\u0650\\u0644 \\u0628\\u064e\\u0627\\u0631\\u062a\\u0646\\u064f\\u0631\\u0632\\u064c )\\u0650 \\u0650\\u0639\\u0627\\u0652\\u0645 200\\u06516 \\u0633\\u064d\\u064a\\u0645\\u062b\\u0644\\u064d \\u0628\\u0644\\u0651\\u0627\\u064c \\u064b\\u0634\\u0643\\u064f \\u0623\\u0645\\u0627\\u064e\\u0645\\u064c \\u0627\\u0651\\u0644\\u064d\\u0642\\u0651\\u0636\\u064f\\u0627\\u0621\\u0650 \\u0651.\\u0652\\u0648\\u0641\\u064e\\u064a\\u0652 \\u064e\\u0628\\u064a\\u064e\\u0627\\u064b\\u0646 \\u0631\\u0633\\u0652\\u0645\\u064a\\u064c \\u064e\\u0635\\u0651\\u062f\\u0650\\u0631\\u064b \\u0623\\u064e\\u0648\\u0652\\u0644 \\u0650\\u0645\\u064c\\u0646 \\u064b\\u0623\\u0651\\u0645\\u0652\\u0633 \\u064b\\u0627\\u0650\\u0644\\u0652\\u062b\\u0644\\u0627\\u062b\\u0627\\u064d\\u0621 \\u064f\\u0639\\u064f\\u0646\\u064b \\u0651\\u0627\\u064e\\u0644\\u0645\\u064f\\u062f\\u064e\\u0639\\u064d\\u064a \\u064b\\u0627\\u064b\\u0644\\u064d\\u0639\\u064c\\u0627\\u0650\\u0645\\u0651 \\u0641\\u0651\\u064a\\u064b \\u0651\\u0645\\u064a\\u0648\\u0646\\u064e\\u064a\\u064b\\u062e\\u0651 \\u0630\\u064d\\u0643\\u0631 \\u0623\\u0646 \\u0652\\u0627\\u064b\\u0644\\u064d\\u0645\\u0633\\u0652\\u0624\\u064c\\u0648\\u064f\\u0644 \\u0650\\u0627\\u0651\\u0644\\u064e\\u0633\\u064b\\u0627\\u0628\\u0642\\u064f \\u0641\\u064a\\u064b \\u064d\\u0645\\u0635\\u0631\\u064f\\u0641\\u0650 \\u0628\\u0627\\u064d\\u064a\\u0650\\u0631\\u0646 \\u0650\\u0623\\u064d\\u0644 \\u0628\\u064d\\u064a \\u0628\\u064b\\u0627\\u0650\\u0639 \\u064e\\u0623\\u0651\\u0633\\u0650\\u0647\\u064e\\u0645\\u0652 \\u0651\\u0645\\u064d\\u0635\\u064c\\u0631\\u064f\\u0641\\u0647 \\u0650(\\u065148\\u0651 \\u0641\\u064a \\u064b\\u0627\\u0644\\u0645\\u0626\\u0629)\\u064b \\u0641\\u064a\\u064b \\u0631\\u064e\\u064a\\u0627\\u064d\\u0636\\u0652\\u0629 \\u0652\\u0627\\u0644\\u0650\\u0641\\u0652\\u0648\\u0652\\u0631\\u0645\\u064e\\u0648\\u0644\\u0627\\u064e1\\u064e \\u0645\\u064f\\u0646\\u064d \\u062f\\u064d\\u0648\\u0651\\u0646 \\u0650\\u062a\\u064e\\u062d\\u062f\\u064b\\u064a\\u064b\\u062b \\u064b\\u0642\\u0650\\u064a\\u064b\\u0645\\u062a\\u064c\\u0647\\u064b\\u0627 \\u0645\\u064b\\u0642\\u0651\\u0627\\u064b\\u0628\\u0652\\u0644 \\u0651\\u0631\\u0651\\u0634\\u064f\\u0649\\u0652 \\u0639\\u064e\\u0644\\u0649 \\u0634\\u0643\\u064c\\u0644 \\u0639\\u0642\\u0650\\u0648\\u064d\\u062f \\u0627\\u064b\\u0633\\u064b\\u062a\\u0651\\u0634\\u064d\\u0627\\u064e\\u0631\\u064a\\u0652\\u0629\\u064c \\u0641\\u0650\\u064a \\u0634\\u064c\\u0631\\u0643\\u0627\\u062a\\u0650 \\u0652\\u0646\\u0650\\u0645\\u064e\\u0633\\u0627\\u0648\\u064a\\u0629\\u064c \\u064e\\u062a\\u062d\\u0650\\u0645\\u0644 \\u0650\\u0627\\u0633\\u0645 \\u064b\\u063a\\u0631\\u064a\\u0628\\u064d\\u0643\\u0627\\u0648\\u0633\\u064e\\u0643\\u064a\\u0652 \\u0645\\u0646\\u0650 \\u0642\\u064e\\u0628\\u0644\\u064c \\u0634\\u062e\\u0635\\u0650 \\u0623\\u064d\\u0634\\u0652\\u064a\\u064f\\u0631 \\u0627\\u0644\\u064a\\u0647\\u064b \\u0628\\u0627\\u0633\\u0645\\u064d \\u064c\\u0628\\u0650\\u064a\\u064d\\u0631\\u0646\\u0627\\u0631\\u064b\\u062f \\u0625\\u0650\\u064a \\u064f.\\u064f\\u0648\\u0648\\u0651\\u0631\\u062f \\u0641\\u064f\\u064a \\u0628\\u0650\\u064a\\u0627\\u0650\\u0646\\u064b \\u0627\\u064c\\u0644\\u064f\\u0645\\u062f\\u0639\\u064e\\u064a\\u064c \\u064e\\u0627\\u0644\\u0639\\u0627\\u064e\\u0645 :\\u064c \\u0627\\u064b\\u0644\\u0631\\u0634\\u0648\\u0629\\u0652 \\u0650\\u062a\\u064d\\u0645\\u064d \\u064e\\u062a\\u0645\\u064d\\u0648\\u064a\\u064d\\u0647\\u0647\\u0627\\u064f \\u0639\\u064e\\u0644\\u0649\\u0652 \\u0634\\u0643\\u0644\\u064d \\u064f\\u0639\\u0652\\u0642\\u0650\\u062f\\u064a\\u0650\\u0646\\u0650 \\u064e\\u0627\\u064f\\u0633\\u064f\\u062a\\u064b\\u0634\\u0650\\u0627\\u0631\\u0651\\u064a\\u064a\\u064c\\u0646 \\u0645\\u064f\\u0639 \\u0634\\u0652\\u0631\\u0643\\u064f\\u0627\\u064b\\u062a\\u064d \\u0628\\u0631\\u0650\\u064a\\u0651\\u062f \\u0641\\u064a\\u064e \\u0652\\u0645\\u064b\\u0648\\u0631\\u064a\\u064b\\u0634\\u064a\\u0648\\u0633\\u064b \\u0648\\u062c\\u0632\\u0652\\u0631 \\u0641\\u064a\\u064e\\u0631\\u0651\\u062c\\u0646 \\u064e\\u0627\\u0652\\u0644\\u0652\\u0628\\u0650\\u0631\\u064a\\u0637\\u0627\\u0646\\u064a\\u0629 \\u0651.\\u064d \\u064d\\u0648\\u064e\\u0644\\u064b\\u0645\\u064b\\u0643\\u0627\\u0641\\u064c\\u0623\\u0629\\u0651 \\u0647\\u064f\\u0630\\u0647 \\u0627\\u0651\\u0644\\u0631\\u0650\\u0634\\u064d\\u0649\\u064c \\u0648\\u0627\\u0641\\u0642\\u0652 \\u064f\\u063a\\u064e\\u0631\\u064d\\u064a\\u0628\\u064d\\u0643\\u0627\\u0650\\u0648\\u064f\\u0633\\u064f\\u0643\\u064e\\u064a \\u064f- \\u064f\\u0628\\u064b\\u0627\\u0652\\u0633\\u0645 \\u064d\\u0628\\u0650\\u0646\\u0643 \\u0628\\u0627\\u0650\\u064a\\u0651\\u0631\\u0646\\u064e \\u0628\\u0650\\u064a\\u0650- \\u0650\\u0639\\u0644\\u064b\\u0649\\u0652 \\u064c\\u062f\\u0652\\u0641\\u0650\\u0639 4 .\\u064c4\\u064d1\\u0651 \\u0645\\u064e\\u0644\\u064f\\u064a\\u0648\\u064e\\u0646\\u064e \\u062f\\u0648\\u0644\\u0627\\u0631\\u064e \\u0644\\u0625\\u064a\\u0651\\u0643\\u064d\\u0644\\u064e\\u0633\\u062a\\u064f\\u0648\\u0646\\u0650 \\u0639\\u064f\\u0644\\u0627\\u0648\\u064b\\u0629 \\u0639\\u0650\\u0644\\u064c\\u0649 2\\u064b5\\u064b \\u064f\\u0645\\u064c\\u0644\\u064f\\u064a\\u064e\\u0648\\u0646\\u064b \\u0651\\u062f\\u0651\\u0648\\u0644\\u064e\\u0627\\u0631\\u0651 \\u0644\\u064c\\u0628\\u0627\\u0645\\u0628\\u064a\\u064d\\u0646\\u0652\\u0648\\u0652 \\u064e\\u0645\\u064c\\u0645\\u0650\\u0627\\u064c \\u0643\\u0652\\u0644\\u064e\\u0641\\u0652 \\u0652\\u0645\\u064c\\u0635\\u0631\\u0641\\u064e \\u0628\\u0627\\u064d\\u064a\\u0631\\u062a\\u0634\\u064b \\u064f\\u0644\\u0627\\u0646\\u0651\\u062f\\u0633\\u0628\\u0651\\u0627\\u064d\\u0646\\u0643\\u0651 \\u062e\\u064d\\u0633\\u0652\\u0627\\u064b\\u0626\\u0631 \\u0652\\u0645\\u0627\\u0644\\u064a\\u064b\\u0629\\u064e \\u062a\\u064c\\u0642\\u062f\\u0631 \\u064e\\u06285\\u064f .\\u064e6\\u06516\\u0650 \\u0645\\u0644\\u064a\\u0652\\u0648\\u0646 \\u062f\\u0648\\u0644\\u0627\\u0631\\u064c .\\u0652\\u0648\\u0648\\u064c\\u062c\\u064c\\u0647\\u064b\\u062a \\u064b\\u062a\\u0652\\u0647\\u064d\\u0645\\u064f \\u0627\\u0651\\u0644\\u064c\\u0641\\u0651\\u0633\\u0627\\u062f \\u0650\\u0648\\u0651\\u0627\\u0652\\u0644\\u0651\\u062a\\u0651\\u0647\\u064c\\u0631\\u0650\\u0628 \\u0645\\u064e\\u0646\\u064d \\u0627\\u064f\\u0644\\u064e\\u0636\\u0631\\u0627\\u0626\\u0650\\u0628 \\u0648\\u0627\\u064d\\u0644\\u062a\\u062d\\u064b\\u0627\\u064a\\u064c\\u0644\\u0650 \\u064d\\u0644\\u0650\\u063a\\u0652\\u0631\\u064a\\u0628\\u064d\\u0643\\u0627\\u064d\\u0648\\u0651\\u0633\\u0643\\u0650\\u064a\\u064d \\u064e\\u0648\\u0648\\u0651\\u0641\\u0642\\u064b\\u0627\\u064b\\u0650 \\u0644\\u0644\\u0642\\u0650\\u0627\\u0646\\u0648\\u064e\\u0646\\u064e \\u0627\\u064e\\u0644\\u064f\\u0623\\u0644\\u0645\\u064f\\u0627\\u064e\\u0646\\u064a\\u0651 \\u0633\\u062a\\u062d\\u062f\\u062f \\u0627\\u0644\\u0650\\u0645\\u0652\\u062d\\u064c\\u0643\\u064b\\u0645\\u064c\\u0629\\u064e \\u0652\\u0642\\u0631\\u0627\\u0631 \\u064f\\u0645\\u062b\\u0648\\u0644\\u0647\\u064e \\u0652\\u0623\\u0645\\u0650\\u0627\\u064e\\u0645 \\u064c\\u0627\\u0650\\u0644\\u0642\\u0636\\u0627\\u0621\\u064b \\u0645\\u0651\\u0646 \\u0652\\u0639\\u062f\\u0645\\u0647\\u064e \\u0650\\u0648\\u0631\\u062c\\u062d\\u064e\\u062a \\u0651\\u0645\\u0635\\u064f\\u0627\\u062f\\u064e\\u0631\\u0651 \\u064c\\u0641\\u064d\\u064a \\u064c\\u0623\\u0644\\u064d\\u0645\\u0627\\u064b\\u0646\\u064b\\u064a\\u0652\\u0627 \\u0623\\u0646 \\u064a\\u064f\\u0643\\u0651\\u0648\\u0646\\u0650 \\u064c\\u0645\\u0652\\u0648\\u064b\\u0639\\u0652\\u062f\\u064b \\u0652\\u062c\\u0644\\u0633\\u064e\\u0629 \\u064d\\u0627\\u064d\\u0644\\u0645\\u064b\\u062d\\u0643\\u0645\\u0629\\u0650 \\u0641\\u064b\\u064a \\u064e\\u0623\\u0643\\u062a\\u0651\\u0648\\u064f\\u0628\\u0652\\u0631\\u0650 \\u0651\\u0627\\u0644\\u064e\\u0645\\u0642\\u0651\\u0628\\u064e\\u0644 \\u0648\\u064a\\u0651\\u0642\\u064d\\u0628\\u0651\\u0639\\u064b \\u0650\\u063a\\u0631\\u0628\\u064a\\u064f\\u0643\\u0627\\u064c\\u0648\\u064d\\u0633\\u0643\\u0652\\u064a\\u064e \\u0650\\u062d\\u0627\\u0651\\u0644\\u064a\\u0627\\u064b\\u0651 \\u0652- \\u0645\\u0652\\u0646\\u064b\\u0630\\u0652 \\u064c\\u0627\\u0644\\u0642\\u0627\\u064b\\u0621\\u0650 \\u0627\\u0644\\u0642\\u064d\\u0628\\u0651\\u0636 \\u0639\\u064f\\u0644\\u0652\\u064a\\u0647 \\u0650\\u0641\\u064d\\u064a\\u064e 5\\u0652 \\u064a\\u064f\\u0646\\u0650\\u0627\\u0652\\u064a\\u064f\\u0631\\u064d \\u0627\\u0644\\u0645\\u064e\\u0627\\u0636\\u064a - \\u064e\\u0641\\u064a \\u064c\\u0633\\u062c\\u0646 \\u064e\\u0633\\u062a\\u064e\\u0627\\u064b\\u062f\\u0644\\u0647\\u064a\\u064b\\u0645 \\u0650\\u0648\\u064a\\u0650\\u0648\\u0651\\u0627\\u064f\\u062c\\u064e\\u0647\\u0651 \\u064d\\u062d\\u0651\\u0643\\u0645\\u064f\\u0627\\u0650 \\u0628\\u064d\\u0627\\u0644\\u0633\\u062c\\u0646 \\u0652\\u064a\\u064c\\u0635\\u064b\\u0644 \\u064b\\u0625\\u0644\\u064e\\u0649 1\\u06510 \\u0623\\u064e\\u0639\\u0648\\u0627\\u064d\\u0645 \\u064e\\u0641\\u064a \\u062d\\u0627\\u064d\\u0644 \\u062b\\u064c\\u0628\\u064e\\u0648\\u064f\\u062a\\u0651 \\u064c\\u0627\\u064f\\u0644\\u064e\\u062a\\u0652\\u0647\\u0645\\u064f\\u0629\\u0651 \\u0652\\u0639\\u0644\\u064a\\u064c\\u0647\\u0652 \\u0652.\\u064f\\u0625\\u064a\\u064e\\u0643\\u064f\\u0644\\u0633\\u064c\\u062a\\u0648\\u0651\\u0646 \\u0651\\u0631\\u0641\\u0651\\u0636 \\u064f\\u0627\\u064f\\u0644\\u0631\\u064e\\u062f \\u0639\\u0644\\u0652\\u0649 \\u064b\\u0627\\u062a\\u0635\\u064b\\u0627\\u0644\\u0627\\u062a \\u0652\\u0648\\u0652\\u0633\\u0651\\u0627\\u0626\\u0644 \\u0627\\u0644\\u064e\\u0625\\u0639\\u064f\\u0644\\u0651\\u0627\\u064f\\u0645\\u0652 \\u0650\\u0644\\u0652\\u0643\\u0646\\u064b\\u0647\\u064d \\u062f\\u0627\\u0641\\u064e\\u0639 \\u0650\\u0639\\u0646 \\u064b\\u0628\\u0652\\u0631\\u0627\\u064d\\u0621\\u062a\\u0647 \\u0650\\u0641\\u064a\\u0652 \\u0627\\u064d\\u0644\\u0634\\u0652\\u0647\\u064d\\u0631\\u064c \\u0627\\u064e\\u0644\\u0650\\u0645\\u0627\\u0636\\u064a\\u0650 \\u0651\\u0648\\u0642\\u064f\\u0627\\u064f\\u0644\\u0650 \\u0625\\u064c\\u0646\\u064f\\u0647 \\u0644\\u0645\\u064f \\u064a\\u064c\\u0631\\u064b\\u062a\\u0643\\u0628\\u064d \\u064f\\u0623\\u064a\\u064f \\u0641\\u0652\\u0639\\u0644 \\u062e\\u0627\\u0637\\u064c\\u0626\\u064d \\u0650\\u0648\\u0623\\u064c\\u0646\\u064d\\u0647 \\u062a\\u0639\\u0651\\u0627\\u0648\\u064d\\u0646\\u0652 \\u064e\\u0645\\u064b\\u0639\\u0651 \\u0627\\u064f\\u0644\\u064d\\u0645\\u062f\\u0639\\u064b\\u064a\\u064f \\u064f\\u0627\\u0652\\u0644\\u0639\\u0627\\u0645\\u064b \\u064f\\u0641\\u064a\\u0651 \\u0623\\u064f\\u0628\\u0631\\u064a\\u064b\\u0644\\u0650/\\u064b \\u0650\\u0646\\u064c\\u064a\\u0633\\u064c\\u0627\\u0646 \\u0627\\u0644\\u0650\\u0645\\u064e\\u0627\\u0636\\u064e\\u064a \\u064f\\u0648\\u0651\\u0623\\u062c\\u0627\\u0628 \\u064b\\u0639\\u0650\\u0644\\u064c\\u0649\\u0651 \\u0623\\u064f\\u0633\\u064b\\u0626\\u0652\\u0644\\u062a\\u064c\\u0647 \\u064c. \\u0648\\u0644\\u064d\\u064a\\u0650\\u0633\\u064e \\u0645\\u064d\\u0646\\u0652 \\u0627\\u0650\\u0644\\u0648\\u0650\\u0627\\u0651\\u0636\\u062d \\u0643\\u062b\\u064a\\u0631\\u0652\\u0627\\u064c \\u0650\\u0627\\u0644\\u0633\\u0652\\u0628\\u0650\\u0628 \\u0627\\u064e\\u0644\\u064f\\u0630\\u064d\\u064a\\u064c \\u062f\\u0641\\u0639 \\u0625\\u064a\\u0650\\u0643\\u0650\\u0644\\u0633\\u064c\\u062a\\u0648\\u064d\\u0646 \\u0644\\u062f\\u064c\\u0641\\u0652\\u0639\\u0650 \\u064d\\u0631\\u0634\\u064b\\u0649\\u064d \\u0648\\u064b\\u0627\\u064e\\u0644\\u0652\\u062a\\u0641\\u0633\\u064c\\u064a\\u064d\\u0631 \\u0627\\u064e\\u0644\\u0650\\u0648\\u064f\\u062d\\u064c\\u064a\\u0650\\u062f \\u0647\\u0648\\u064e \\u064e\\u0637\\u064c\\u0645\\u0648\\u064f\\u062d\\u064e\\u0647\\u064e \\u0628\\u0627\\u064d\\u0644\\u064e\\u0633\\u064f\\u064a\\u064c\\u0637\\u0631\\u064f\\u0629 \\u0627\\u064b\\u0644\\u0650\\u0643\\u0627\\u0651\\u0645\\u0644\\u0629 \\u0639\\u0652\\u0644\\u064c\\u0649\\u0650 \\u0627\\u064c\\u0644\\u064b\\u0631\\u064a\\u064b\\u0627\\u064d\\u0636\\u0652\\u0629 \\u064c\\u0628\\u0639\\u064b\\u062f \\u0628\\u064a\\u0639 \\u064d\\u0628\\u064b\\u0646\\u0643\\u0652 \\u0651\\u0628\\u064c\\u0627\\u064e\\u064a\\u0650\\u0631\\u0646\\u064c \\u064e\\u0623\\u0644 \\u064e\\u0628\\u064a \\u0644\\u0651\\u0623\\u0652\\u0633\\u0647\\u064d\\u0645\\u0647 \\u0641\\u0651\\u064a\\u064c\\u0647\\u0627 .\\u0652 \\u064c\\u0648\\u064c\\u0644\\u064a\\u064e\\u0633 \\u064f\\u0645\\u0646 \\u0627\\u064b\\u0644\\u0645\\u064d\\u0624\\u0643\\u062f \\u064c\\u0638\\u064e\\u0647\\u0648\\u0652\\u0631 \\u0650\\u0625\\u064f\\u064a\\u0651\\u0643\\u0644\\u064d\\u0633\\u064b\\u062a\\u0648\\u0650\\u0646 \\u0641\\u0651\\u064a \\u064e\\u0633\\u0628\\u0627\\u064f\\u0642 \\u0623\\u064c\\u0644\\u0645\\u0652\\u0627\\u0650\\u0646\\u064a\\u0627 \\u0650\\u0631\\u063a\\u064f\\u0645\\u0652 \\u0650\\u062a\\u0642\\u0627\\u0631\\u064a\\u0631 \\u064e\\u062a\\u064e\\u062d\\u064d\\u062f\\u064c\\u062b\\u064d\\u062a\\u0651 \\u064e\\u0639\\u0646\\u0650 \\u0645\\u0646\\u0650\\u062d\\u0647\\u0652 \\u062a\\u0637\\u0651\\u0645\\u064a\\u064b\\u0646\\u0650\\u0627\\u064d\\u062a\\u064b \\u0652\\u0645\\u064e\\u0646 \\u0627\\u0644\\u0652\\u0645\\u0652\\u062f\\u0651\\u0639\\u0652\\u064a \\u0652\\u0627\\u0644\\u0639\\u0651\\u0627\\u064c\\u0645 \\u064e\\u0627\\u0644\\u064f\\u0623\\u0644\\u0645\\u0627\\u064c\\u0646\\u064a\\u0651 \\u0628\\u0652\\u0639\\u064b\\u062f\\u0645\\u0651 \\u064d\\u0627\\u064e\\u0644\\u0652\\u0645\\u0633\\u0627\\u064e\\u0633\\u0652 \\u0628\\u064c\\u0647 \\u0637\\u0651\\u0627\\u0644\\u0645\\u0627 \\u0652\\u064a\\u064f\\u0648\\u0651\\u0627\\u0635\\u064e\\u0644\\u0651 \\u062a\\u0639\\u064e\\u0627\\u0648\\u0651\\u0646\\u0651\\u0647 \\u0645\\u0639\\u0650 \\u064e\\u0627\\u064b\\u0644\\u062a\\u064c\\u062d\\u0642\\u0650\\u064a\\u0642\\u064d \\u0651\\u063a\\u064a\\u064b\\u0631 \\u0623\\u0651\\u0646\\u064c \\u064c\\u0645\\u064d\\u0646 \\u064d\\u0627\\u0652\\u0644\\u0645\\u064c\\u0624\\u0651\\u0643\\u062f \\u064c\\u0623\\u064f\\u0646 \\u064e\\u062d\\u064b\\u0627\\u0645\\u0644\\u064c\\u064a\\u0650 \\u0623\\u0633\\u0647\\u0645\\u064b \\u0650\\u0627\\u064f\\u0644\\u0641\\u064f\\u0648\\u064c\\u0631\\u0645\\u0648\\u0644\\u0650\\u06271 \\u0627\\u0651\\u0644\\u062d\\u0650\\u0627\\u064f\\u0644\\u064a\\u064a\\u0646 \\u0623\\u0648 \\u0650\\u0627\\u064e\\u0644\\u0645\\u0651\\u0633\\u062a\\u0642\\u0650\\u0628\\u0644\\u064a\\u064a\\u0646\\u064e \\u064d\\u0633\\u0651\\u064a\\u0631\\u0650\\u0627\\u064d\\u0642\\u0628\\u064c\\u0648\\u0650\\u0646\\u064c \\u064d\\u0627\\u0644\\u062a\\u0650\\u0637\\u0648\\u064d\\u0631\\u0627\\u062a \\u0639\\u064f\\u0644\\u0649\\u0651 \\u0627\\u0644\\u0651\\u0633\\u0627\\u0652\\u062d\\u064f\\u0629\\u064c \\u0650\\u0627\\u0644\\u0650\\u0623\\u064e\\u0644\\u064c\\u0645\\u064f\\u0627\\u0646\\u064d\\u064a\\u0629 \\u064b\\u0639\\u0652\\u0646\\u0651 \\u0651\\u0643\\u062b\\u064e\\u0628 \\u064b. \\u0648\\u064b\\u062a\\u064c\\u0623\\u064c\\u062a\\u064f\\u064a\\u0652 \\u064f\\u0647\\u0630\\u0647 \\u0627\\u0644\\u064e\\u0623\\u0650\\u0646\\u064b\\u0628\\u0627\\u064e\\u0621\\u064f \\u064b\\u0628\\u064d\\u0627\\u0650\\u0644\\u0650\\u062a\\u0632\\u064e\\u0627\\u0645\\u0651\\u0646\\u064b \\u064b\\u0645\\u0639 \\u064b\\u0625\\u0650\\u0645\\u0643\\u064c\\u0627\\u064d\\u0646\\u0650\\u064a\\u0629 \\u064f\\u0631\\u064c\\u0641\\u0636 \\u0625\\u064b\\u064a\\u0643\\u0644\\u0652\\u0633\\u062a\\u0648\\u0646 \\u0644\\u0628\\u064a\\u064f\\u0639\\u064f \\u0627\\u0644\\u0641\\u0648\\u0631\\u0645\\u0648\\u064c\\u0644\\u064e\\u0627\\u064d1\\u064d \\u0650\\u0644\\u0651\\u0634\\u064d\\u0631\\u064f\\u0643\\u0629 \\u064b\\u0646\\u064a\\u064b\\u0648\\u0632\\u0643\\u064f\\u0648\\u0631\\u0651\\u0628 \\u064c\\u0627\\u0644\\u0651\\u0645\\u064e\\u0645\\u0650\\u0644\\u0652\\u0648\\u064c\\u0643\\u0629 \\u0652\\u0644\\u0645\\u064f\\u0631\\u064f\\u062f\\u064b\\u0648\\u062e\\u064b \\u064c\\u0628\\u064b\\u0639\\u062f\\u064e \\u064b\\u0641\\u064e\\u0636\\u064a\\u0651\\u062d\\u0629\\u0652 \\u0627\\u0644\\u064e\\u062a\\u064d\\u0646\\u064e\\u0635\\u062a\\u0652 \\u0650\\u0639\\u064b\\u0644\\u0649\\u064f \\u0652\\u0627\\u0644\\u0647\\u0648\\u0650\\u0627\\u062a\\u0641 \\u064c\\u0627\\u0644\\u064d\\u062a\\u064b\\u064a \\u062a\\u0648\\u0631\\u0637\\u064d \\u0641\\u064a\\u064f\\u0647\\u064e\\u0627 \\u0627\\u0644\\u0623\\u062e\\u0651\\u064a\\u064b\\u0631\\u064d \\u0648\\u064a\\u064e\\u062e\\u064c\\u0636\\u064d\\u0639 \\u0650\\u0628\\u0650\\u0633\\u064c\\u0628\\u0628\\u0650\\u0647\\u0627 \\u0644\\u0627\\u0651\\u0633\\u064b\\u062a\\u062c\\u0651\\u0648\\u0650\\u0627\\u0628 \\u064b\\u0641\\u064a \\u0645\\u062c\\u064f\\u0644\\u064c\\u0633 \\u064d\\u0627\\u064c\\u0644\\u0651\\u0639\\u0645\\u0648\\u064b\\u0645 \\u064f\\u0627\\u0644\\u064c\\u0628\\u0631\\u064f\\u064a\\u0637\\u0652\\u0627\\u0646\\u064a \\u0651\\u062d\\u0627\\u0644\\u064a\\u0627\\u0651\\u064b\\u064d .\\u064d\"\n        ],\n        \"semantic_type\": \"\",\n        \"description\": \"\"\n      }\n    },\n    {\n      \"column\": \"label\",\n      \"properties\": {\n        \"dtype\": \"string\",\n        \"num_unique_values\": 6,\n        \"samples\": [\n          \"Politics\",\n          \"Medical\",\n          \"Finance\"\n        ],\n        \"semantic_type\": \"\",\n        \"description\": \"\"\n      }\n    }\n  ]\n}"
            }
          },
          "metadata": {},
          "execution_count": 8
        }
      ]
    },
    {
      "cell_type": "code",
      "source": [
        "df.sample(10)"
      ],
      "metadata": {
        "colab": {
          "base_uri": "https://localhost:8080/",
          "height": 363
        },
        "id": "IfsIV5WSLGvk",
        "outputId": "c41fc9ce-cfd1-45c1-e1b0-7e2721c324fb"
      },
      "execution_count": 9,
      "outputs": [
        {
          "output_type": "execute_result",
          "data": {
            "text/plain": [
              "                                                    text     label\n",
              "12834  https://example.com/resource/بُدأِتٌ هًيُئْةّ ...   Medical\n",
              "36874  https://example.com/resource/قّررت شرْكْةْ اَت...      Tech\n",
              "14951  https://example.com/resource/دْبّيَ: ْإيٌمان ع...   Medical\n",
              "31836  https://example.com/resource/اُزّداد ٍوّضّع ٍا...    Sports\n",
              "6429   https://example.com/resource/دبيٌ «َالْخليّج»ُ...   Finance\n",
              "29378  https://example.com/resource/أعٍلن الَاتٌحَاد ...    Sports\n",
              "18702  https://example.com/resource/قضى اِلجيشً الجزِ...  Politics\n",
              "13912  https://example.com/resource/رًأُس ِالخيٍمةّ -...   Medical\n",
              "4176   https://example.com/resource/صدِر الّعٍددً اَل...   Culture\n",
              "31849  https://example.com/resource/انِضُمً ُاٍلسبَاٍ...    Sports"
            ],
            "text/html": [
              "\n",
              "  <div id=\"df-db807043-ca7a-4e79-a673-5bc092eb6562\" class=\"colab-df-container\">\n",
              "    <div>\n",
              "<style scoped>\n",
              "    .dataframe tbody tr th:only-of-type {\n",
              "        vertical-align: middle;\n",
              "    }\n",
              "\n",
              "    .dataframe tbody tr th {\n",
              "        vertical-align: top;\n",
              "    }\n",
              "\n",
              "    .dataframe thead th {\n",
              "        text-align: right;\n",
              "    }\n",
              "</style>\n",
              "<table border=\"1\" class=\"dataframe\">\n",
              "  <thead>\n",
              "    <tr style=\"text-align: right;\">\n",
              "      <th></th>\n",
              "      <th>text</th>\n",
              "      <th>label</th>\n",
              "    </tr>\n",
              "  </thead>\n",
              "  <tbody>\n",
              "    <tr>\n",
              "      <th>12834</th>\n",
              "      <td>https://example.com/resource/بُدأِتٌ هًيُئْةّ ...</td>\n",
              "      <td>Medical</td>\n",
              "    </tr>\n",
              "    <tr>\n",
              "      <th>36874</th>\n",
              "      <td>https://example.com/resource/قّررت شرْكْةْ اَت...</td>\n",
              "      <td>Tech</td>\n",
              "    </tr>\n",
              "    <tr>\n",
              "      <th>14951</th>\n",
              "      <td>https://example.com/resource/دْبّيَ: ْإيٌمان ع...</td>\n",
              "      <td>Medical</td>\n",
              "    </tr>\n",
              "    <tr>\n",
              "      <th>31836</th>\n",
              "      <td>https://example.com/resource/اُزّداد ٍوّضّع ٍا...</td>\n",
              "      <td>Sports</td>\n",
              "    </tr>\n",
              "    <tr>\n",
              "      <th>6429</th>\n",
              "      <td>https://example.com/resource/دبيٌ «َالْخليّج»ُ...</td>\n",
              "      <td>Finance</td>\n",
              "    </tr>\n",
              "    <tr>\n",
              "      <th>29378</th>\n",
              "      <td>https://example.com/resource/أعٍلن الَاتٌحَاد ...</td>\n",
              "      <td>Sports</td>\n",
              "    </tr>\n",
              "    <tr>\n",
              "      <th>18702</th>\n",
              "      <td>https://example.com/resource/قضى اِلجيشً الجزِ...</td>\n",
              "      <td>Politics</td>\n",
              "    </tr>\n",
              "    <tr>\n",
              "      <th>13912</th>\n",
              "      <td>https://example.com/resource/رًأُس ِالخيٍمةّ -...</td>\n",
              "      <td>Medical</td>\n",
              "    </tr>\n",
              "    <tr>\n",
              "      <th>4176</th>\n",
              "      <td>https://example.com/resource/صدِر الّعٍددً اَل...</td>\n",
              "      <td>Culture</td>\n",
              "    </tr>\n",
              "    <tr>\n",
              "      <th>31849</th>\n",
              "      <td>https://example.com/resource/انِضُمً ُاٍلسبَاٍ...</td>\n",
              "      <td>Sports</td>\n",
              "    </tr>\n",
              "  </tbody>\n",
              "</table>\n",
              "</div>\n",
              "    <div class=\"colab-df-buttons\">\n",
              "\n",
              "  <div class=\"colab-df-container\">\n",
              "    <button class=\"colab-df-convert\" onclick=\"convertToInteractive('df-db807043-ca7a-4e79-a673-5bc092eb6562')\"\n",
              "            title=\"Convert this dataframe to an interactive table.\"\n",
              "            style=\"display:none;\">\n",
              "\n",
              "  <svg xmlns=\"http://www.w3.org/2000/svg\" height=\"24px\" viewBox=\"0 -960 960 960\">\n",
              "    <path d=\"M120-120v-720h720v720H120Zm60-500h600v-160H180v160Zm220 220h160v-160H400v160Zm0 220h160v-160H400v160ZM180-400h160v-160H180v160Zm440 0h160v-160H620v160ZM180-180h160v-160H180v160Zm440 0h160v-160H620v160Z\"/>\n",
              "  </svg>\n",
              "    </button>\n",
              "\n",
              "  <style>\n",
              "    .colab-df-container {\n",
              "      display:flex;\n",
              "      gap: 12px;\n",
              "    }\n",
              "\n",
              "    .colab-df-convert {\n",
              "      background-color: #E8F0FE;\n",
              "      border: none;\n",
              "      border-radius: 50%;\n",
              "      cursor: pointer;\n",
              "      display: none;\n",
              "      fill: #1967D2;\n",
              "      height: 32px;\n",
              "      padding: 0 0 0 0;\n",
              "      width: 32px;\n",
              "    }\n",
              "\n",
              "    .colab-df-convert:hover {\n",
              "      background-color: #E2EBFA;\n",
              "      box-shadow: 0px 1px 2px rgba(60, 64, 67, 0.3), 0px 1px 3px 1px rgba(60, 64, 67, 0.15);\n",
              "      fill: #174EA6;\n",
              "    }\n",
              "\n",
              "    .colab-df-buttons div {\n",
              "      margin-bottom: 4px;\n",
              "    }\n",
              "\n",
              "    [theme=dark] .colab-df-convert {\n",
              "      background-color: #3B4455;\n",
              "      fill: #D2E3FC;\n",
              "    }\n",
              "\n",
              "    [theme=dark] .colab-df-convert:hover {\n",
              "      background-color: #434B5C;\n",
              "      box-shadow: 0px 1px 3px 1px rgba(0, 0, 0, 0.15);\n",
              "      filter: drop-shadow(0px 1px 2px rgba(0, 0, 0, 0.3));\n",
              "      fill: #FFFFFF;\n",
              "    }\n",
              "  </style>\n",
              "\n",
              "    <script>\n",
              "      const buttonEl =\n",
              "        document.querySelector('#df-db807043-ca7a-4e79-a673-5bc092eb6562 button.colab-df-convert');\n",
              "      buttonEl.style.display =\n",
              "        google.colab.kernel.accessAllowed ? 'block' : 'none';\n",
              "\n",
              "      async function convertToInteractive(key) {\n",
              "        const element = document.querySelector('#df-db807043-ca7a-4e79-a673-5bc092eb6562');\n",
              "        const dataTable =\n",
              "          await google.colab.kernel.invokeFunction('convertToInteractive',\n",
              "                                                    [key], {});\n",
              "        if (!dataTable) return;\n",
              "\n",
              "        const docLinkHtml = 'Like what you see? Visit the ' +\n",
              "          '<a target=\"_blank\" href=https://colab.research.google.com/notebooks/data_table.ipynb>data table notebook</a>'\n",
              "          + ' to learn more about interactive tables.';\n",
              "        element.innerHTML = '';\n",
              "        dataTable['output_type'] = 'display_data';\n",
              "        await google.colab.output.renderOutput(dataTable, element);\n",
              "        const docLink = document.createElement('div');\n",
              "        docLink.innerHTML = docLinkHtml;\n",
              "        element.appendChild(docLink);\n",
              "      }\n",
              "    </script>\n",
              "  </div>\n",
              "\n",
              "\n",
              "<div id=\"df-092e7328-414c-44e4-8f7e-1ca975b4d20c\">\n",
              "  <button class=\"colab-df-quickchart\" onclick=\"quickchart('df-092e7328-414c-44e4-8f7e-1ca975b4d20c')\"\n",
              "            title=\"Suggest charts\"\n",
              "            style=\"display:none;\">\n",
              "\n",
              "<svg xmlns=\"http://www.w3.org/2000/svg\" height=\"24px\"viewBox=\"0 0 24 24\"\n",
              "     width=\"24px\">\n",
              "    <g>\n",
              "        <path d=\"M19 3H5c-1.1 0-2 .9-2 2v14c0 1.1.9 2 2 2h14c1.1 0 2-.9 2-2V5c0-1.1-.9-2-2-2zM9 17H7v-7h2v7zm4 0h-2V7h2v10zm4 0h-2v-4h2v4z\"/>\n",
              "    </g>\n",
              "</svg>\n",
              "  </button>\n",
              "\n",
              "<style>\n",
              "  .colab-df-quickchart {\n",
              "      --bg-color: #E8F0FE;\n",
              "      --fill-color: #1967D2;\n",
              "      --hover-bg-color: #E2EBFA;\n",
              "      --hover-fill-color: #174EA6;\n",
              "      --disabled-fill-color: #AAA;\n",
              "      --disabled-bg-color: #DDD;\n",
              "  }\n",
              "\n",
              "  [theme=dark] .colab-df-quickchart {\n",
              "      --bg-color: #3B4455;\n",
              "      --fill-color: #D2E3FC;\n",
              "      --hover-bg-color: #434B5C;\n",
              "      --hover-fill-color: #FFFFFF;\n",
              "      --disabled-bg-color: #3B4455;\n",
              "      --disabled-fill-color: #666;\n",
              "  }\n",
              "\n",
              "  .colab-df-quickchart {\n",
              "    background-color: var(--bg-color);\n",
              "    border: none;\n",
              "    border-radius: 50%;\n",
              "    cursor: pointer;\n",
              "    display: none;\n",
              "    fill: var(--fill-color);\n",
              "    height: 32px;\n",
              "    padding: 0;\n",
              "    width: 32px;\n",
              "  }\n",
              "\n",
              "  .colab-df-quickchart:hover {\n",
              "    background-color: var(--hover-bg-color);\n",
              "    box-shadow: 0 1px 2px rgba(60, 64, 67, 0.3), 0 1px 3px 1px rgba(60, 64, 67, 0.15);\n",
              "    fill: var(--button-hover-fill-color);\n",
              "  }\n",
              "\n",
              "  .colab-df-quickchart-complete:disabled,\n",
              "  .colab-df-quickchart-complete:disabled:hover {\n",
              "    background-color: var(--disabled-bg-color);\n",
              "    fill: var(--disabled-fill-color);\n",
              "    box-shadow: none;\n",
              "  }\n",
              "\n",
              "  .colab-df-spinner {\n",
              "    border: 2px solid var(--fill-color);\n",
              "    border-color: transparent;\n",
              "    border-bottom-color: var(--fill-color);\n",
              "    animation:\n",
              "      spin 1s steps(1) infinite;\n",
              "  }\n",
              "\n",
              "  @keyframes spin {\n",
              "    0% {\n",
              "      border-color: transparent;\n",
              "      border-bottom-color: var(--fill-color);\n",
              "      border-left-color: var(--fill-color);\n",
              "    }\n",
              "    20% {\n",
              "      border-color: transparent;\n",
              "      border-left-color: var(--fill-color);\n",
              "      border-top-color: var(--fill-color);\n",
              "    }\n",
              "    30% {\n",
              "      border-color: transparent;\n",
              "      border-left-color: var(--fill-color);\n",
              "      border-top-color: var(--fill-color);\n",
              "      border-right-color: var(--fill-color);\n",
              "    }\n",
              "    40% {\n",
              "      border-color: transparent;\n",
              "      border-right-color: var(--fill-color);\n",
              "      border-top-color: var(--fill-color);\n",
              "    }\n",
              "    60% {\n",
              "      border-color: transparent;\n",
              "      border-right-color: var(--fill-color);\n",
              "    }\n",
              "    80% {\n",
              "      border-color: transparent;\n",
              "      border-right-color: var(--fill-color);\n",
              "      border-bottom-color: var(--fill-color);\n",
              "    }\n",
              "    90% {\n",
              "      border-color: transparent;\n",
              "      border-bottom-color: var(--fill-color);\n",
              "    }\n",
              "  }\n",
              "</style>\n",
              "\n",
              "  <script>\n",
              "    async function quickchart(key) {\n",
              "      const quickchartButtonEl =\n",
              "        document.querySelector('#' + key + ' button');\n",
              "      quickchartButtonEl.disabled = true;  // To prevent multiple clicks.\n",
              "      quickchartButtonEl.classList.add('colab-df-spinner');\n",
              "      try {\n",
              "        const charts = await google.colab.kernel.invokeFunction(\n",
              "            'suggestCharts', [key], {});\n",
              "      } catch (error) {\n",
              "        console.error('Error during call to suggestCharts:', error);\n",
              "      }\n",
              "      quickchartButtonEl.classList.remove('colab-df-spinner');\n",
              "      quickchartButtonEl.classList.add('colab-df-quickchart-complete');\n",
              "    }\n",
              "    (() => {\n",
              "      let quickchartButtonEl =\n",
              "        document.querySelector('#df-092e7328-414c-44e4-8f7e-1ca975b4d20c button');\n",
              "      quickchartButtonEl.style.display =\n",
              "        google.colab.kernel.accessAllowed ? 'block' : 'none';\n",
              "    })();\n",
              "  </script>\n",
              "</div>\n",
              "\n",
              "    </div>\n",
              "  </div>\n"
            ],
            "application/vnd.google.colaboratory.intrinsic+json": {
              "type": "dataframe",
              "summary": "{\n  \"name\": \"df\",\n  \"rows\": 10,\n  \"fields\": [\n    {\n      \"column\": \"text\",\n      \"properties\": {\n        \"dtype\": \"string\",\n        \"num_unique_values\": 10,\n        \"samples\": [\n          \"https://example.com/resource/\\u0635\\u062f\\u0650\\u0631 \\u0627\\u0644\\u0651\\u0639\\u064d\\u062f\\u062f\\u064b \\u0627\\u064e\\u0644\\u062b\\u064d\\u0627\\u0651\\u0646\\u064d\\u064a \\u0648\\u064f\\u0627\\u0644\\u064e\\u0639\\u0634\\u0651\\u0631\\u0648\\u0646\\u0651 \\u0645\\u0646 \\u0650\\u0645\\u062c\\u0650\\u0644\\u064c\\u0629 \\u064c\\u0634\\u0652\\u0627\\u0652\\u0639\\u0631\\u064f \\u0651\\u0627\\u0652\\u0644\\u064b\\u0645\\u0644\\u064a\\u0650\\u0648\\u0646\\u0651\\u060c \\u064e\\u0639\\u0646\\u064f \\u0623\\u064e\\u0643\\u0627\\u064c\\u062f\\u064d\\u064a\\u0645\\u064e\\u064a\\u064e\\u0629\\u064f \\u0627\\u0650\\u0644\\u0634\\u0639\\u0631 \\u064c\\u0641\\u0652\\u064a \\u0652\\u0647\\u064a\\u0626\\u0629\\u064f \\u0623\\u064b\\u0628\\u0648\\u0638\\u064f\\u0628\\u0652\\u064a \\u0651\\u0644\\u064f\\u0644\\u064c\\u062b\\u0642\\u0627\\u0641\\u064f\\u0629 \\u0627\\u064f\\u0644\\u062a\\u064e\\u0631\\u0651\\u0627\\u062b.\\u064d \\u0651\\u0648\\u0642\\u062f\\u0651 \\u0627\\u064b\\u062d\\u064e\\u062a\\u0648\\u0649 \\u064e\\u0627\\u064d\\u0644\\u064d\\u0639\\u062f\\u062f\\u064c \\u0639\\u0644\\u0650\\u0649 \\u064e\\u0627\\u0644\\u0643\\u064c\\u062b\\u064a\\u064f\\u0631 \\u0650\\u0645\\u064d\\u0646 \\u064e\\u0627\\u0644\\u0645\\u064b\\u0648\\u0636\\u0648\\u064e\\u0639\\u0627\\u064e\\u062a \\u064f\\u0627\\u0644\\u0651\\u0645\\u064b\\u062a\\u0650\\u0646\\u064b\\u0648\\u064d\\u0639\\u064f\\u0629\\u0652\\u060c\\u064d \\u0652\\u0648\\u0639\\u0651\\u062f\\u062f \\u0651\\u0645\\u0646 \\u0627\\u0644\\u062a\\u063a\\u0637\\u064a\\u064c\\u0627\\u062a\\u0650 \\u0651\\u0648\\u0651\\u0627\\u0644\\u0651\\u0645\\u0650\\u0642\\u064d\\u0627\\u064f\\u0644\\u0650\\u0627\\u064d\\u062a\\u064b \\u064b\\u0648\\u0652\\u0627\\u064c\\u0644\\u0650\\u062d\\u0648\\u0627\\u0631\\u064e\\u0627\\u064d\\u062a\\u064b \\u064d\\u0648\\u0651\\u0627\\u0644\\u0642\\u0652\\u0635\\u064c\\u0627\\u0651\\u0626\\u062f\\u0650 \\u064e\\u0627\\u064c\\u0644\\u0645\\u064b\\u062a\\u064b\\u0645\\u064a\\u064f\\u0651\\u0632\\u0629\\u064e \\u0644\\u064d\\u0639\\u062f\\u062f \\u0651\\u0645\\u0646\\u064f \\u0646\\u062c\\u0648\\u0645\\u0650 \\u0628\\u064f\\u0631\\u064f\\u0646\\u064e\\u0627\\u064b\\u0645\\u062c\\u0652\\u064a\\u064e \\u0634\\u0627\\u0639\\u064e\\u0631\\u064f \\u064d\\u0627\\u064f\\u0644\\u0652\\u0645\\u0644\\u0651\\u064a\\u064c\\u0648\\u064c\\u0646\\u0651 \\u064b\\u0648\\u0623\\u0645\\u064a\\u0651\\u0631 \\u064e\\u0627\\u0644\\u064b\\u0634\\u064b\\u0639\\u0631\\u0652\\u0627\\u0621\\u0650.\\u064b \\u0648\\u062a\\u064c\\u0636\\u064e\\u0645\\u064d\\u0646\\u064d \\u064f\\u0627\\u064f\\u0644\\u0652\\u0639\\u064b\\u062f\\u064e\\u062f \\u0650\\u062a\\u063a\\u0650\\u0637\\u064b\\u064a\\u0629\\u064b \\u0644\\u0650\\u0641\\u064c\\u0639\\u0627\\u0644\\u064a\\u0627\\u062a \\u0645\\u0647\\u0631\\u064c\\u062c\\u0627\\u0651\\u0646 \\u0627\\u064b\\u0644\\u064c\\u0634\\u0651\\u0631\\u064c\\u0642 \\u0627\\u0651\\u0644\\u0623\\u0648\\u0633\\u064e\\u0637 \\u0627\\u0644\\u0633\\u064d\\u064a\\u0646\\u0645\\u0627\\u064b\\u0626\\u064a \\u0651\\u0627\\u0644\\u062f\\u0648\\u0652\\u0644\\u064a\\u064c \\u064e\\u0641\\u064a \\u0623\\u064b\\u0628\\u064e\\u0648\\u0638\\u064f\\u0628\\u064d\\u064a\\u060c \\u0648\\u0651\\u062a\\u064c\\u063a\\u0637\\u064a\\u064d\\u0629 \\u064e\\u0644\\u0645\\u0642\\u0627\\u0628\\u064d\\u0644\\u0627\\u062a \\u0644\\u064f\\u062c\\u0646\\u064f\\u0629\\u064e \\u0627\\u0644\\u064b\\u062a\\u062d\\u0643\\u064a\\u064b\\u0645\\u064b \\u0641\\u0652\\u064a \\u064c\\u0645\\u0652\\u0633\\u0627\\u0628\\u064e\\u0642\\u0652\\u0629 \\u0634\\u0652\\u0627\\u064e\\u0639\\u064e\\u0631\\u064c \\u0627\\u0644\\u0645\\u0644\\u064a\\u0648\\u0646 \\u064b\\u0641\\u064a\\u0651 \\u0645\\u064c\\u062d\\u064d\\u0637\\u064c\\u062a\\u0647\\u0627\\u064d \\u064e\\u0627\\u0651\\u0644\\u064b\\u0623\\u064c\\u062e\\u064c\\u064a\\u0631\\u0651\\u0629\\u064c \\u0641\\u064f\\u064a\\u064c \\u0623\\u064f\\u0628\\u0648\\u0638\\u0652\\u0628\\u0650\\u064a. \\u064c\\u0648\\u062a\\u0636\\u0645\\u0651\\u064c\\u0646\\u064f \\u0651\\u0627\\u0644\\u064c\\u0639\\u062f\\u0651\\u062f\\u064e \\u064e\\u062d\\u0651\\u0648\\u0652\\u0627\\u0651\\u0631\\u0650\\u0627\\u064b\\u0650 \\u064c\\u0645\\u0652\\u0639\\u0650 \\u064f\\u0646\\u064e\\u0627\\u064a\\u064e\\u0641\\u064d \\u0627\\u0644\\u064c\\u0631\\u064f\\u0634\\u062f\\u064f\\u0627\\u064c\\u0646\\u064c \\u064d\\u0639\\u0650\\u0636\\u0648\\u064d \\u0644\\u064c\\u062c\\u064d\\u0646\\u0629\\u064e \\u064f\\u0627\\u0644\\u064f\\u062a\\u062d\\u0643\\u064f\\u064a\\u064f\\u0645\\u064b \\u0650\\u0641\\u064a \\u064b\\u0645\\u0633\\u064b\\u0627\\u064b\\u0628\\u0650\\u0642\\u0652\\u0629 \\u0652\\u0623\\u0650\\u0645\\u064a\\u0651\\u0631\\u064b \\u064b\\u0627\\u064e\\u0644\\u064c\\u0634\\u0639\\u0631\\u0627\\u0621\\u0650\\u060c\\u0651 \\u062a\\u064c\\u0646\\u064d\\u0627\\u0648\\u064d\\u0644 \\u0641\\u064e\\u064a\\u064f\\u0647\\u064d \\u0627\\u064c\\u0644\\u0652\\u0643\\u0652\\u062b\\u064a\\u064b\\u0631 \\u064b\\u0645\\u064c\\u0646\\u0650 \\u0627\\u0650\\u0644\\u0651\\u0622\\u064c\\u0631\\u064c\\u0627\\u064f\\u0621 \\u064b\\u0627\\u064b\\u0644\\u064d\\u062a\\u0650\\u064a \\u064d\\u062a\\u062e\\u0652\\u0635\\u064f\\u0651\\u064d \\u0627\\u0644\\u0633\\u064c\\u0627\\u062d\\u064f\\u0629 \\u0651\\u0627\\u0644\\u064e\\u0623\\u064f\\u062f\\u0628\\u064f\\u064a\\u0651\\u0651\\u0629\\u064e\\u060c \\u0643\\u0650\\u0645\\u0627\\u064c \\u064c\\u0643\\u0634\\u0641 \\u064d\\u0627\\u0644\\u064d\\u0646\\u064d\\u0642\\u0627\\u0652\\u0628 \\u0639\\u064e\\u0646\\u064c \\u0627\\u064f\\u0644\\u064f\\u0634\\u0627\\u0652\\u0639\\u064f\\u0631 \\u0650\\u0627\\u0651\\u0644\\u0646\\u0628\\u0652\\u0637\\u064d\\u064a \\u0641\\u064a\\u0652 \\u062f\\u0627\\u0652\\u062e\\u0644\\u0647\\u064e.. \\u0628\\u0651\\u0627\\u0644\\u0650\\u0625\\u0636\\u064e\\u0627\\u0641\\u0629\\u0650 \\u0625\\u0644\\u0649 \\u062d\\u0650\\u0648\\u0650\\u0627\\u064e\\u0631\\u064c \\u0622\\u062e\\u064e\\u0631\\u0652 \\u064c\\u0645\\u0639\\u0651 \\u0646\\u062c\\u064f\\u0645\\u064b \\u064e\\u0634\\u0627\\u0652\\u0639\\u064d\\u0631 \\u0627\\u064c\\u0644\\u064b\\u0645\\u0644\\u064a\\u0651\\u0648\\u0646\\u064d \\u0641\\u064c\\u064a \\u0646\\u0633\\u064d\\u062e\\u062a\\u0650\\u0647\\u064e \\u0627\\u064d\\u0644\\u062b\\u0627\\u064e\\u0646\\u064a\\u064e\\u0629 \\u0639\\u064b\\u0642\\u0627\\u0628 \\u064f\\u0627\\u0644\\u0650\\u0631\\u0652\\u0628\\u0652\\u0639\\u0651 \\u064c\\u0627\\u064b\\u0644\\u0634\\u064c\\u0645\\u0651\\u0631\\u064d\\u064a \\u0648\\u0627\\u064f\\u0634\\u062a\\u064e\\u0645\\u064f\\u0644\\u064b \\u0650\\u0627\\u0651\\u0644\\u0639\\u064b\\u062f\\u0652\\u062f \\u0639\\u0651\\u0644\\u064e\\u0649 \\u0625\\u062d\\u0635\\u0651\\u0627\\u0626\\u064a\\u064e\\u0629\\u0650 \\u062a\\u062f\\u0644\\u0651\\u0644\\u064d \\u0639\\u0644\\u064d\\u0649 \\u0645\\u0652\\u062f\\u0649\\u064c \\u064c\\u0634\\u064e\\u0647\\u064b\\u0631\\u0629 \\u064b\\u0648\\u0650\\u0639\\u0627\\u0644\\u0645\\u064e\\u064a\\u064b\\u0629 \\u064b\\u0628\\u064f\\u0631\\u064c\\u0646\\u0627\\u0652\\u0645\\u064e\\u062c\\u064f \\u0634\\u0627\\u0639\\u0631\\u064c \\u0627\\u0644\\u064f\\u0645\\u0650\\u0644\\u064b\\u064a\\u0648\\u064c\\u0646\\u064f \\u0627\\u064b\\u0644\\u064d\\u0630\\u0650\\u064a\\u064b \\u064d\\u0643\\u064f\\u064f\\u062a\\u0628\\u064c \\u0650\\u0639\\u0646\\u0650\\u0647 \\u064b\\u0623\\u0643\\u0650\\u062b\\u0631 \\u0645\\u0646 \\u0645\\u0644\\u0651\\u064a\\u0648\\u0646\\u0650\\u064a\\u0650\\u0646\\u064b \\u064e\\u0648\\u064c\\u0645\\u0627\\u064f\\u0626\\u062a\\u064a\\u0650 \\u0652\\u0623\\u0651\\u0644\\u0650\\u0641\\u064c \\u062e\\u064b\\u0628\\u064d\\u0631 \\u0628\\u064c\\u062d\\u0633\\u0650\\u0628\\u0652 \\u064b\\u0645\\u064b\\u0648\\u0642\\u064d\\u0639 (goo\\u0651g\\u064dle\\u064f).\\u064f\\u0648\\u0641\\u0651\\u064a\\u064d \\u0651\\u0628\\u064d\\u0627\\u064e\\u0628 \\u0635\\u062d \\u0644\\u064e\\u0633\\u0627\\u0646\\u064c\\u0643\\u064c \\u0651\\u064a\\u064e\\u0646\\u064c\\u0634\\u0631\\u064f \\u0627\\u0644\\u0651\\u0639\\u062f\\u062f \\u064f\\u0642\\u064e\\u0635\\u064d\\u0627\\u0626\\u062f \\u0644\\u064f\\u0639\\u0651\\u062f\\u064b\\u062f\\u0652 \\u0645\\u064d\\u0646\\u0650 \\u0652\\u0634\\u0639\\u064e\\u0631\\u0627\\u0652\\u0621\\u0651 \\u0627\\u0651\\u0644\\u064c\\u0645\\u0644\\u064a\\u0648\\u064b\\u0646\\u064d \\u064b\\u0648\\u0647\\u0645 \\u0652\\u0627\\u0644\\u064f\\u0634\\u0627\\u0650\\u0639\\u0631\\u064b \\u0628\\u062f\\u0631\\u064e \\u0627\\u0644\\u064b\\u0633\\u0628\\u064a\\u064c\\u0639\\u0651\\u064a \\u0641\\u064a\\u0651 \\u0627\\u064e\\u0644\\u0652\\u0648\\u064b\\u062c\\u0647\\u064d \\u0627\\u0644\\u0634\\u064b\\u0631\\u064f\\u064a\\u0650\\u0641\\u060c \\u0639\\u0628\\u062f\\u064f \\u0652\\u0627\\u0644\\u0631\\u062d\\u064b\\u064a\\u0645 \\u064b\\u062d\\u064d\\u0645\\u0632\\u0629 \\u064e\\u0641\\u064c\\u064a \\u0623\\u064d\\u0645\\u064a\\u0631\\u0650\\u0629 \\u0627\\u0644\\u064b\\u0634\\u0639\\u064e\\u0631\\u064d\\u060c\\u0652 \\u064e\\u0645\\u064b\\u062d\\u0645\\u062f\\u0651 \\u0627\\u064d\\u0644\\u064f\\u062d\\u0648\\u064a\\u064c\\u0645\\u0627\\u0650\\u0646\\u0651\\u064a\\u0651 \\u064d\\u0641\\u064a\\u064f\\u0627\\u0644\\u0652\\u0628\\u0627\\u0631\\u062d\\u064f \\u0627\\u0644\\u064b\\u0642\\u064b\\u0644\\u0628\\u064c \\u064c\\u064a\\u064b\\u0643\\u0652\\u062a\\u0628\\u060c\\u064f \\u064b\\u0639\\u0650\\u0627\\u0645\\u0652\\u0631\\u0650 \\u0628\\u0646 \\u0639\\u0645\\u064f\\u0631\\u0650\\u0648 \\u064e\\u0641\\u064a\\u0650 \\u062a\\u062d\\u0641\\u0629\\u0652 \\u0627\\u0628\\u0650\\u0631\\u0651\\u064a\\u064e\\u0644 \\u064c\\u0648\\u0641\\u0627\\u0644\\u0650\\u062d\\u0651 \\u0627\\u0652\\u0644\\u064f\\u062f\\u0650\\u0647\\u0645\\u064f\\u0627\\u0646 \\u0641\\u064e\\u064a\\u064e\\u0627\\u064c\\u0644\\u062a\\u0650\\u0651\\u0651\\u0632\\u0648\\u064f\\u0627\\u0650\\u0644.\\u0651\\u0645\\u064b\\u0646\\u064d \\u064f\\u062c\\u0647\\u0629\\u064f \\u0651\\u0623\\u064d\\u062e\\u064e\\u0631\\u0649\\u064d \\u0652\\u0627\\u0651\\u0646\\u0637\\u0644\\u0650\\u0642\\u062a \\u0645\\u0651\\u0633\\u064b\\u0627\\u0621 \\u0627\\u0644\\u062e\\u0645\\u064a\\u064b\\u0633 \\u0627\\u0644\\u0645\\u064c\\u0627\\u064c\\u0636\\u064a\\u064c \\u0639\\u0644\\u0649 \\u0642\\u0646\\u0627\\u064f\\u0629\\u0652 \\u064d\\u0623\\u064e\\u0628\\u064b\\u0648\\u064e\\u0638\\u0628\\u064c\\u064a \\u0627\\u0651\\u0644\\u064c\\u0641\\u0650\\u0636\\u0652\\u0627\\u0626\\u064b\\u064a\\u0629 \\u0648\\u0652\\u0642\\u064b\\u0646\\u0627\\u064b\\u0629\\u064d \\u0650\\u0634\\u0627\\u0650\\u0639\\u0631 \\u0627\\u0644\\u0645\\u0652\\u0644\\u064a\\u0651\\u0648\\u0646 \\u0623\\u0648\\u0644\\u0649\\u0652 \\u0652\\u0627\\u064f\\u0644\\u062d\\u064b\\u0644\\u0651\\u0642\\u064c\\u0627\\u064d\\u062a \\u0627\\u0644\\u062a\\u064d\\u0633\\u064b\\u062c\\u064a\\u0644\\u064a\\u0651\\u064d\\u0629 \\u064e\\u0644\\u064c\\u0644\\u064d\\u0628\\u0631\\u0651\\u0646\\u0627\\u064f\\u0645\\u062c \\u0652\\u0627\\u0644\\u062c\\u0645\\u0627\\u0647\\u064a\\u0631\\u064a \\u064f\\u0627\\u0650\\u0644\\u0651\\u0636\\u062e\\u0645 \\u0652\\u0634\\u0627\\u0639\\u064f\\u0631 \\u0627\\u064d\\u0644\\u0645\\u0644\\u064a\\u0648\\u0646\\u0652 \\u0644\\u0644\\u0645\\u0652\\u0648\\u0633\\u064c\\u0645 \\u0627\\u064c\\u0644\\u062b\\u0627\\u064e\\u0644\\u062b\\u064c \\u0648\\u0627\\u064c\\u0644\\u0651\\u062a\\u0650\\u064a \\u062a\\u0628\\u0651\\u0634\\u0650\\u0651\\u064c\\u0631\\u064e \\u0628\\u0645\\u0648\\u0651\\u0633\\u0652\\u0645\\u0652 \\u0634\\u0639\\u064c\\u0631\\u064a\\u0651 \\u0650\\u062d\\u0627\\u0641\\u0652\\u0644 \\u0648\\u064b\\u0645\\u064d\\u0646\\u0627\\u0650\\u0641\\u064e\\u0633\\u0629 \\u0650\\u0642\\u064f\\u0648\\u064a\\u0651\\u064c\\u0629\\u064e \\u064f\\u0639\\u0644\\u064b\\u0649 \\u0645\\u0650\\u0633\\u0631\\u064f\\u062d\\u064d \\u0652\\u0634\\u064d\\u0627\\u0651\\u0637\\u0626\\u064f \\u0627\\u0652\\u0644\\u064f\\u0631\\u0627\\u062d\\u0629 \\u0652\\u0641\\u064a\\u0651 \\u0623\\u064b\\u0628\\u0651\\u0648\\u0650\\u0638\\u0628\\u064f\\u064a\\u060c \\u0648\\u0630\\u064f\\u0644\\u0643\\u064e \\u0636\\u0645\\u0646\\u064d \\u064f\\u0645\\u0651\\u062c\\u064c\\u0645\\u0650\\u0648\\u0639\\u0652\\u0629 \\u062d\\u0650\\u0644\\u0652\\u0642\\u064b\\u0627\\u062a\\u0652 \\u0623\\u064e\\u0633\\u0652\\u0628\\u0648\\u0639\\u064a\\u064b\\u0651\\u0629\\u064c \\u064d\\u062a\\u062a\\u0636\\u064e\\u0645\\u064f\\u0646 \\u0651\\u0645\\u0652\\u0642\\u0627\\u0628\\u0644\\u0627\\u062a\\u0652 \\u0644\\u0652\\u062c\\u0646\\u064b\\u0629 \\u0627\\u064f\\u0644\\u0650\\u062a\\u064e\\u062d\\u064b\\u0643\\u064a\\u0651\\u0645 \\u0652\\u0645\\u064b\\u0639\\u0652 \\u0627\\u0644\\u064e\\u0634\\u0651\\u0639\\u064d\\u0631\\u0627\\u0621\\u0650 \\u0627\\u0644\\u0645\\u0634\\u0627\\u0631\\u064d\\u0643\\u064a\\u064b\\u0646\\u064f \\u0641\\u064a \\u0627\\u0644\\u0646\\u0633\\u0651\\u062e\\u0629 \\u0627\\u0644\\u064e\\u062b\\u064c\\u0627\\u0651\\u0644\\u0650\\u062b\\u0652\\u0629\\u064e \\u064b\\u0645\\u0651\\u0646 \\u0627\\u064e\\u0644\\u0645\\u064d\\u0633\\u0627\\u0651\\u0628\\u0642\\u0629\\u0651 \\u0652\\u062e\\u0644\\u0651\\u0627\\u064e\\u0644\\u0652 \\u062c\\u0648\\u0651\\u0644\\u064e\\u062a\\u0647\\u064d\\u0627\\u064f \\u0641\\u064f\\u064a \\u0639\\u0651\\u062f\\u062f \\u0645\\u064c\\u0646 \\u0627\\u0644\\u0645\\u062f\\u0646 \\u0627\\u0644\\u064d\\u0639\\u064d\\u0631\\u064b\\u0628\\u0651\\u064a\\u064c\\u0629 \\u064e\\u0648\\u0627\\u0644\\u0650\\u062a\\u064a\\u0651 \\u0634\\u0645\\u0644\\u062a\\u064e \\u064f\\u0627\\u064e\\u0644\\u0643\\u064d\\u0648\\u064a\\u062a\\u064c \\u0648\\u064e\\u0627\\u0652\\u0644\\u0631\\u064a\\u0652\\u0627\\u064b\\u0636\\u064f \\u0648\\u062c\\u0650\\u062f\\u064b\\u0629 \\u064b\\u0648\\u064e\\u0639\\u064e\\u0645\\u064f\\u0651\\u064e\\u0627\\u0650\\u0646\\u0652 \\u0651\\u0648\\u064d\\u0623\\u064c\\u0628\\u064f\\u0648\\u064d\\u0638\\u0628\\u064a\\u064e\\u060c \\u064f\\u0648\\u064c\\u0642\\u064f\\u0627\\u0628\\u0644\\u064d\\u062a\\u064f \\u0652\\u062e\\u0644\\u064d\\u0627\\u064b\\u0644\\u0651\\u0647\\u0627 \\u0627\\u0650\\u0644\\u0644\\u062c\\u064e\\u0646\\u0629 \\u0648\\u0639\\u0644\\u0649 \\u0651\\u0645\\u064e\\u062f\\u0649 \\u064e\\u0633\\u064c\\u062a\\u064f\\u0629\\u064f \\u0623\\u064d\\u0633\\u0627\\u064f\\u0628\\u064a\\u064d\\u0639 \\u0622\\u064c\\u0644\\u0627\\u0641\\u0651 \\u0652\\u0627\\u0644\\u0634\\u064d\\u0639\\u064f\\u0631\\u0650\\u0627\\u064c\\u0621 \\u0627\\u0644\\u064b\\u0630\\u064a\\u064c\\u0646 \\u062a\\u0652\\u0642\\u0650\\u062f\\u064b\\u0651\\u064b\\u0645\\u0648\\u064e\\u0627\\u0651 \\u0644\\u064d\\u0644\\u064f\\u0645\\u0650\\u0634\\u064e\\u0627\\u0631\\u0651\\u0643\\u064c\\u0629 \\u0641\\u064a \\u0651\\u0627\\u0644\\u0651\\u0628\\u064c\\u0631\\u0646\\u0627\\u0645\\u062c \\u064c\\u0645\\u0652\\u0646\\u064f \\u064b\\u0645\\u062e\\u062a\\u0651\\u0644\\u0641 \\u0627\\u064e\\u0644\\u064b\\u062f\\u0648\\u064c\\u0644 \\u064d\\u0627\\u0650\\u0644\\u0650\\u0639\\u0631\\u064c\\u0628\\u064f\\u064a\\u0650\\u0651\\u0651\\u0629\\u064e.\\u064f\",\n          \"https://example.com/resource/\\u0642\\u0651\\u0631\\u0631\\u062a \\u0634\\u0631\\u0652\\u0643\\u0652\\u0629\\u0652 \\u0627\\u064e\\u062a\\u064f\\u0634\\u064a\\u064f\\u0641\\u0648\\u064b \\u0652\\u0643\\u0652\\u0648\\u0631\\u0628\\u0648\\u0631\\u064a\\u0634\\u0651\\u0646\\u060c\\u064e \\u0648\\u0647\\u064a \\u0634\\u064f\\u0631\\u0643\\u0629 \\u0651\\u0645\\u0650\\u062a\\u064b\\u062e\\u064f\\u0635\\u0652\\u0635\\u0629 \\u064c\\u0628\\u062a\\u0650\\u0642\\u062f\\u064a\\u0645\\u064f \\u0650\\u062e\\u062f\\u0645\\u0627\\u062a\\u064d \\u064c\\u062a\\u0639\\u0647\\u064a\\u062f \\u0627\\u0644\\u064b\\u0628\\u064f\\u0631\\u0645\\u064b\\u062c\\u064a\\u064d\\u0627\\u0650\\u062a\\u064b \\u0652\\u0648\\u064c\\u062a\\u0642\\u0646\\u064a\\u0652\\u0629\\u0650 \\u0652\\u0627\\u064d\\u0644\\u0645\\u064f\\u0639\\u0644\\u0648\\u0645\\u0627\\u064d\\u062a\\u0650\\u060c\\u0650 \\u0627\\u0644\\u064b\\u0639\\u0645\\u0651\\u0644 \\u064b\\u0645\\u0639\\u0651 \\u0634\\u0631\\u064c\\u0643\\u064f\\u0629\\u064c \\u0625\\u0646\\u0648\\u064d\\u0641\\u0633\\u064c\\u062a \\u064e\\u063a\\u0631\\u0648\\u0628\\u064f \\u064e\\u0623\\u064d\\u0644 \\u0633\\u064a\\u060c\\u064e \\u0648\\u064e\\u0647\\u0650\\u064a\\u0651 \\u064c\\u0634\\u0631\\u064f\\u0643\\u064d\\u0629 \\u0645\\u064e\\u0642\\u0631\\u0651\\u0647\\u0627\\u0652 \\u0627\\u0644\\u0651\\u0648\\u0644\\u064b\\u0627\\u064d\\u064a\\u0650\\u0627\\u0650\\u062a \\u0652\\u0627\\u0644\\u0645\\u062a\\u062d\\u062f\\u064f\\u0629 \\u0645\\u0651\\u062a\\u062e\\u064f\\u0635\\u0635\\u0629 \\u0641\\u064a\\u0652 \\u0650\\u062e\\u064c\\u062f\\u0652\\u0645\\u0627\\u062a\\u064c \\u0627\\u0644\\u0627\\u0651\\u0633\\u064f\\u062a\\u0634\\u064b\\u0627\\u0631\\u0627\\u064f\\u062a\\u064f \\u064e\\u0627\\u0644\\u064e\\u0625\\u062f\\u0627\\u0631\\u0652\\u064a\\u064e\\u0629 \\u0648\\u0627\\u0644\\u0652\\u0645\\u0634\\u0627\\u0631\\u0652\\u064a\\u0639\\u064c \\u0627\\u0652\\u0644\\u064d\\u0645\\u0634\\u062a\\u0631\\u064d\\u0643\\u064f\\u0629\\u060c \\u0645\\u0651\\u0646 \\u064b\\u0623\\u062c\\u0644 \\u064c\\u062a\\u0652\\u0642\\u064e\\u062f\\u064b\\u064a\\u0645\\u064b \\u062e\\u064f\\u062f\\u0645\\u064b\\u0627\\u062a\\u064e \\u062a\\u0639\\u0647\\u064a\\u064d\\u062f\\u064b \\u062a\\u0650\\u0642\\u064f\\u0646\\u064e\\u064a\\u0629 \\u064c\\u0627\\u0651\\u0644\\u064d\\u0645\\u064e\\u0639\\u064f\\u0644\\u064f\\u0648\\u064f\\u0645\\u0627\\u0652\\u062a \\u0648\\u0651\\u062d\\u0644\\u0650\\u0648\\u064d\\u0644\\u064e\\u0647\\u0627\\u064d \\u0650\\u0641\\u064e\\u064a \\u0650\\u0627\\u0644\\u064b\\u0634\\u0631\\u0642 \\u0627\\u064e\\u0644\\u064f\\u0623\\u0648\\u064d\\u0633\\u0637\\u060c\\u064f \\u0648\\u0630\\u064d\\u0644\\u064b\\u0643 \\u0641\\u0651\\u064a \\u064e\\u0627\\u064e\\u0644\\u0628\\u064e\\u062f\\u064b\\u0627\\u064a\\u064f\\u0629\\u0652 \\u0641\\u064f\\u064a\\u0652 \\u0627\\u0644\\u064f\\u0645\\u064e\\u0645\\u0652\\u0644\\u064d\\u0643\\u0650\\u0629 \\u0652\\u0627\\u064c\\u0644\\u0650\\u0633\\u0651\\u0639\\u0651\\u0648\\u062f\\u064a\\u064f\\u0629\\u064e\\u060c\\u0651 \\u064c\\u062f\\u0650\\u0648\\u0652\\u0644\\u064d\\u0629\\u0652 \\u0627\\u064e\\u0644\\u0652\\u0625\\u0650\\u0645\\u0627\\u064b\\u0631\\u0652\\u0627\\u062a\\u064d\\u060c\\u064f \\u0627\\u064e\\u0644\\u0628\\u062d\\u0651\\u0631\\u064a\\u0646 \\u0652\\u0648\\u0627\\u0650\\u0644\\u0623\\u0650\\u0631\\u0650\\u062f\\u064f\\u0646 \\u064d. \\u062d\\u064d\\u064a\\u062b \\u062a\\u0651\\u0642\\u0648\\u0645\\u064b \\u0650\\u0623\\u062a\\u064d\\u0634\\u064a\\u0641\\u0648\\u064b \\u064f\\u0644\\u064e\\u0632\\u064d\\u0628\\u0627\\u064e\\u0626\\u064f\\u0646\\u0647\\u0627 \\u062e\\u0651\\u062f\\u0645\\u0627\\u064e\\u062a\\u0650 \\u064b\\u0625\\u0651\\u062f\\u0627\\u0631\\u0629 \\u064c\\u0627\\u0644\\u062d\\u064e\\u0633\\u0627\\u0628\\u0651\\u0627\\u062a\\u064c \\u0652\\u0627\\u0644\\u0645\\u064b\\u062d\\u0644\\u064d\\u064a\\u0651\\u0629\\u0650 \\u0648\\u0652\\u0642\\u062f\\u0631\\u0627\\u0650\\u062a \\u064d\\u062a\\u064f\\u0633\\u064c\\u0644\\u064a\\u0645 \\u064c\\u0627\\u0644\\u064e\\u0645\\u0634\\u0627\\u0631\\u0652\\u064a\\u064e\\u0639\\u064b \\u0645\\u0650\\u0646 \\u062e\\u0644\\u0627\\u0644\\u064e \\u0645\\u0650\\u0643\\u0627\\u062a\\u0628\\u0647\\u064b\\u0627\\u064e \\u0627\\u0644\\u0652\\u0625\\u0642\\u0651\\u0644\\u064e\\u064a\\u0645\\u0652\\u064a\\u0629\\u0652 \\u0641\\u064a\\u064d \\u0627\\u0652\\u0644\\u064a\\u0627\\u0628\\u0627\\u064b\\u0646\\u060c \\u0623\\u0651\\u0645\\u0631\\u064a\\u064d\\u0643\\u0627 \\u0627\\u0644\\u064b\\u0634\\u064b\\u0645\\u064b\\u0627\\u0652\\u0644\\u064f\\u064a\\u0629\\u064f\\u060c \\u0650\\u0648\\u0627\\u064f\\u0644\\u0652\\u0635\\u064a\\u0646 \\u0627\\u064d\\u0644\\u0643\\u0628\\u0631\\u0649\\u064f\\u060c \\u064f\\u0648\\u064b\\u0647\\u064e\\u064a\\u064e \\u0627\\u064f\\u0644\\u0651\\u0645\\u064e\\u0643\\u0627\\u062a\\u0628\\u064d \\u0627\\u064b\\u0644\\u0651\\u0645\\u0650\\u0646\\u062f\\u0652\\u0645\\u062c\\u0629\\u0651 \\u064d\\u0645\\u0651\\u0639 \\u064d\\u0648\\u0627\\u0644\\u0645\\u064c\\u062f\\u0639\\u0650\\u0648\\u0645\\u0629\\u0652 \\u0645\\u0646\\u0650 \\u064d\\u0642\\u0628\\u0644 \\u0645\\u064b\\u0631\\u0627\\u0643\\u064c\\u0632\\u064c \\u0652\\u0627\\u0644\\u0651\\u062a\\u0633\\u0650\\u0644\\u064f\\u064a\\u064f\\u0645\\u0650 \\u0641\\u064a \\u0651\\u0627\\u0644\\u0652\\u0635\\u064a\\u064f\\u0646\\u064c \\u0648\\u0645\\u0642\\u0631\\u0647\\u0627\\u064b \\u0627\\u0650\\u0644\\u064c\\u0631\\u0626\\u064a\\u0652\\u0633\\u064d\\u064a\\u064f \\u064f\\u0641\\u064a\\u0651 \\u0627\\u0644\\u0648\\u064c\\u0644\\u064d\\u0627\\u064a\\u0651\\u0627\\u062a \\u064e\\u0627\\u064c\\u0644\\u0645\\u062a\\u064f\\u062d\\u062f\\u0629\\u064c .\\u064b\\u0648\\u064e\\u0641\\u0651\\u064a \\u0650\\u0627\\u064c\\u0644\\u0650\\u0648\\u0642\\u062a\\u064d \\u0627\\u0644\\u0652\\u0630\\u0651\\u064a \\u062a\\u064f\\u0633\\u064e\\u0639\\u0649\\u064c \\u0650\\u0641\\u064a\\u0647 \\u062f\\u0648\\u0644\\u0650 \\u064d\\u0627\\u0650\\u0644\\u0634\\u0631\\u0642\\u0652 \\u064e\\u0627\\u0651\\u0644\\u064b\\u0623\\u0652\\u0648\\u0633\\u0637 \\u0625\\u064b\\u0644\\u064b\\u0649\\u064c \\u064f\\u062a\\u064c\\u0637\\u064b\\u0648\\u064c\\u064a\\u0631\\u0651 \\u0627\\u064b\\u0642\\u062a\\u064b\\u0635\\u064b\\u0627\\u062f\\u0652\\u0627\\u062a\\u0647\\u064f\\u0627\\u064d \\u064b\\u0627\\u0644\\u0642\\u064b\\u0627\\u0651\\u0626\\u0645\\u064b\\u0629 \\u064f\\u0639\\u0644\\u064f\\u0649 \\u0650\\u0627\\u0644\\u0645\\u0639\\u0650\\u0631\\u0641\\u064d\\u0629 \\u0648\\u0627\\u0644\\u0645\\u0651\\u0639\\u0650\\u0644\\u064f\\u0648\\u0645\\u0627\\u0650\\u062a\\u064f \\u0652\\u0641\\u064a\\u064c\\u0645\\u0627\\u064c \\u064a\\u062a\\u0650\\u0639\\u064e\\u062f\\u0649\\u0652 \\u0627\\u0644\\u064f\\u0646\\u0641\\u064c\\u0637\\u0650\\u060c\\u064c \\u0641\\u0625\\u0646\\u064c \\u064e\\u0627\\u0651\\u0644\\u0634\\u0631\\u0651\\u0643\\u064d\\u0627\\u062a\\u064b \\u064b\\u0648\\u064c\\u0645\\u064b\\u0624\\u064f\\u0633\\u0652\\u0633\\u064c\\u0627\\u062a \\u064b\\u0627\\u0644\\u064d\\u0623\\u0639\\u0645\\u0627\\u0652\\u0644\\u064e \\u064b\\u0641\\u0651\\u064a \\u064f\\u0627\\u064e\\u0644\\u0650\\u0645\\u064c\\u0646\\u0652\\u0637\\u064e\\u0642\\u064c\\u0629 \\u062a\\u0634\\u0647\\u064f\\u062f\\u0652 \\u064d\\u0632\\u0652\\u064a\\u0627\\u0650\\u062f\\u0629\\u0652 \\u0645\\u064d\\u062a\\u064e\\u0632\\u064c\\u0627\\u064a\\u064f\\u062f\\u064e\\u0629 \\u064f\\u0627\\u0644\\u0627\\u064e\\u062a\\u0633\\u0627\\u064e\\u0639\\u064e \\u064b\\u0641\\u064b\\u064a\\u064f \\u064c\\u0627\\u0644\\u0650\\u0637\\u0644\\u064e\\u0628 \\u0639\\u064f\\u0644\\u0652\\u0649 \\u0627\\u0651\\u0644\\u064f\\u0628\\u0646\\u0649 \\u0627\\u0644\\u0652\\u062a\\u062d\\u062a\\u0652\\u064a\\u0629\\u064c \\u0644\\u062a\\u0642\\u0646\\u064a\\u0629 \\u0627\\u0644\\u064c\\u0645\\u064f\\u0639\\u0644\\u064f\\u0648\\u064f\\u0645\\u0627\\u064b\\u062a\\u064d \\u064e\\u0648\\u064b\\u062e\\u0652\\u062f\\u064c\\u0645\\u064f\\u0627\\u0650\\u062a\\u064b \\u064f\\u0647\\u064a\\u0650\\u0643\\u064f\\u0644\\u0629 \\u0651\\u0627\\u064b\\u0644\\u0645\\u064d\\u0634\\u0652\\u0627\\u0631\\u064f\\u064a\\u0639\\u064c \\u064b\\u0627\\u0644\\u062a\\u062c\\u0650\\u0627\\u0650\\u0631\\u064c\\u064a\\u064d\\u0629\\u064e \\u064d. \\u064b\\u0648\\u0651\\u0647\\u064d\\u0630\\u064b\\u0627 \\u0651\\u0647\\u064b\\u0648\\u0652 \\u064f\\u0627\\u0644\\u062d\\u0627\\u0651\\u0644 \\u0628\\u0635\\u0650\\u0648\\u0631\\u0629 \\u064f\\u062e\\u064e\\u0627\\u0650\\u0635\\u0629 \\u0641\\u064a \\u062f\\u0652\\u0648\\u0652\\u0644 \\u064e\\u0645\\u062c\\u0652\\u0644\\u064e\\u0633 \\u0627\\u064e\\u0644\\u062a\\u0652\\u0639\\u0627\\u064c\\u0648\\u0646 \\u0627\\u0644\\u0650\\u062e\\u0644\\u064a\\u0652\\u062c\\u064a\\u064f \\u0627\\u064d\\u0644\\u062a\\u064a\\u064e \\u062a\\u064e\\u0634\\u0651\\u0647\\u064e\\u062f \\u0646\\u0652\\u0645\\u064d\\u0648\\u064e\\u0627\\u064c \\u0627\\u064f\\u0642\\u062a\\u0635\\u0652\\u0627\\u0652\\u062f\\u064a\\u0651\\u0627\\u064c \\u0633\\u0631\\u0650\\u064a\\u0639\\u064c\\u0627 \\u062d\\u0650\\u0627\\u0644\\u064a\\u0627\\u064f \\u064f.\\u0648\\u0623\\u064f\\u0636\\u064b\\u0627\\u064c\\u0641 \\u064b\\u0623\\u0646 \\u064c\\u0634\\u0631\\u0643\\u0629\\u064f \\u064f\\u0623\\u062a\\u0634\\u064a\\u0652\\u0641\\u0652\\u0648 \\u064d\\u0644\\u064e\\u062f\\u064e\\u064a\\u064f\\u0647\\u0651\\u0627 \\u0633\\u0651\\u062c\\u064c\\u0644\\u0627\\u0651 \\u0631\\u064e\\u0627\\u0633\\u062e\\u0627 \\u064b\\u062a\\u064f\\u0645\\u0650\\u0627\\u064e\\u0645\\u064c\\u0627 \\u0641\\u064a \\u064d\\u0634\\u0623\\u064e\\u0646 \\u064e\\u0627\\u0652\\u0644\\u062a\\u064e\\u0643\\u0650\\u0646\\u064e\\u0648\\u0644\\u0650\\u0648\\u064e\\u062c\\u064a\\u0627\\u064e\\u062a\\u064e \\u064c\\u0627\\u0652\\u0644\\u0652\\u062a\\u064a\\u064d \\u064c\\u062a\\u0652\\u062f\\u064e\\u0639\\u0650\\u0645 \\u064e\\u0627\\u0644\\u062a\\u0634\\u063a\\u064a\\u064d\\u0644 \\u0651\\u0627\\u064b\\u0644\\u064e\\u0622\\u0644\\u064a \\u0644\\u0644\\u0639\\u064b\\u0645\\u0651\\u0644\\u064a\\u064d\\u0627\\u064b\\u062a\\u0650 \\u0627\\u0644\\u0651\\u0645\\u0627\\u064b\\u0644\\u064a\\u0629\\u064f \\u0652. \\u064b\\u0648\\u0642\\u062f \\u0652\\u0646\\u064d\\u0641\\u064d\\u0630\\u0646\\u0627\\u064b \\u064c\\u0627\\u0644\\u062a\\u0643\\u0651\\u0646\\u064c\\u0648\\u064d\\u0644\\u0652\\u0648\\u064e\\u062c\\u0651\\u064a\\u0627\\u064c\\u062a \\u0652\\u0644\\u0652\\u062f\\u064b\\u0639\\u0645\\u064c \\u0623\\u0650\\u0646\\u064d\\u0638\\u0645\\u0629 \\u0628\\u0637\\u0627\\u0650\\u0642\\u0627\\u062a \\u0627\\u0644\\u0627\\u0626\\u0650\\u062a\\u0645\\u064d\\u0627\\u064b\\u0646 \\u064c\\u0627\\u0644\\u064b\\u0634\\u0631\\u064f\\u0643\\u064c\\u0627\\u062a\\u064a\\u0629\\u0651 \\u064e\\u0648\\u062a\\u0633\\u064b\\u0648\\u064a\\u0652\\u0627\\u0651\\u062a \\u064c\\u0627\\u0644\\u064d\\u062f\\u0641\\u064c\\u0639\\u0627\\u0651\\u062a \\u0648\\u0628\\u064d\\u0637\\u064f\\u0627\\u064e\\u0642\\u0627\\u062a \\u0627\\u0644\\u0651\\u0645\\u0652\\u0634\\u062a\\u0651\\u0631\\u064a\\u0627\\u064c\\u062a\\u064b \\u0645\\u0650\\u0642\\u0652\\u0627\\u064d\\u0628\\u0644 \\u0628\\u0637\\u0627\\u0651\\u0642\\u0627\\u0650\\u062a \\u064d\\u0627\\u0644\\u064e\\u062f\\u0651\\u0641\\u0651\\u0639\\u060c\\u064e \\u0645\\u0646\\u0652 \\u0628\\u064a\\u0646\\u0650 \\u0652\\u062c\\u0645\\u064c\\u0644\\u0629\\u064c \\u064c\\u0645\\u0627\\u064c \\u064c\\u0647\\u0652\\u0646\\u0627\\u064d\\u0643\\u064d \\u064f\\u062d\\u064d\\u0627\\u062c\\u0650\\u0629\\u064c \\u0625\\u0651\\u0644\\u064f\\u064a\\u0647\\u064f \\u064c\\u0645\\u064b\\u0646 \\u0652\\u062a\\u0650\\u0642\\u0646\\u064e\\u064a\\u064e\\u0627\\u064e\\u062a \\u064f\\u0644\\u064e\\u0644\\u0645\\u064b\\u0639\\u064c\\u0644\\u064f\\u0648\\u0645\\u064f\\u0627\\u062a \\u064f. \\u0648\\u0628\\u064d\\u0627\\u0644\\u064d\\u0627\\u064f\\u0636\\u0627\\u0641\\u064b\\u0629 \\u0627\\u0644\\u0649\\u0652 \\u064f\\u0630\\u064c\\u0644\\u064f\\u0643\\u060c \\u0652\\u0641\\u0625\\u0646\\u064e \\u0627\\u064f\\u0644\\u0652\\u0639\\u064c\\u062f\\u064e\\u064a\\u062f\\u064e \\u064c\\u0645\\u0646\\u064e \\u064f\\u0627\\u0652\\u0644\\u064f\\u0645\\u064e\\u0624\\u0651\\u0633\\u0633\\u064c\\u0627\\u062a \\u064b\\u0627\\u064f\\u0644\\u0645\\u0650\\u0627\\u064f\\u0644\\u0650\\u064a\\u0629\\u064f \\u064c\\u062a\\u0648\\u0627\\u062c\\u0647\\u064d \\u062d\\u0627\\u0644\\u064a\\u0627\\u064f \\u0627\\u0652\\u0644\\u0650\\u062d\\u0627\\u0651\\u062c\\u064b\\u0629\\u0650 \\u0627\\u064c\\u0644\\u064d\\u0649 \\u0627\\u0644\\u0651\\u0627\\u0646\\u062a\\u064d\\u0642\\u0652\\u0627\\u064b\\u0644\\u064f \\u0645\\u0646 \\u064b\\u0627\\u0644\\u0650\\u0646\\u0638\\u0645 \\u064e\\u0627\\u0644\\u0642\\u0650\\u062f\\u064f\\u064a\\u064e\\u0645\\u064e\\u0629 \\u0651\\u0627\\u0644\\u0649 \\u0652\\u0645\\u0646\\u064e\\u0635\\u0627\\u064d\\u062a \\u0651\\u062c\\u064f\\u062f\\u064b\\u064a\\u062f\\u064c\\u0629\\u064c\\u060c\\u064b \\u0648\\u064e\\u0647\\u0648\\u064e \\u064b\\u0623\\u064b\\u0645\\u0631\\u0650 \\u0651\\u062a\\u0628\\u0631\\u064b\\u0639 \\u064d\\u0641\\u064a\\u064f\\u0647\\u064d \\u064b\\u0634\\u0631\\u064e\\u0643\\u0652\\u0629 \\u064d\\u0623\\u062a\\u0650\\u0634\\u064c\\u064a\\u0641\\u0648 \\u0648\\u0650\\u062d\\u0635\\u0650\\u0644\\u062a\\u0651 \\u0639\\u0644\\u0650\\u0649\\u0652 \\u0645\\u0650\\u0624\\u0652\\u0647\\u0650\\u0644\\u0652\\u0627\\u064e\\u062a \\u0645\\u062d\\u062f\\u0651\\u062f\\u0629\\u0652 \\u0650\\u0645\\u064c\\u0646 \\u064b\\u0627\\u0644\\u0634\\u0650\\u0631\\u0643\\u064f\\u0627\\u0652\\u062a\\u0650 \\u064b\\u0645\\u062b\\u064e\\u0644\\u064b \\u0634\\u064b\\u0631\\u064f\\u0643\\u0629\\u064c \\u0647\\u064e\\u064a\\u0650\\u0648\\u064b\\u0644\\u064a\\u064e\\u062a\\u0652 \\u0628\\u064f\\u0627\\u0643\\u064d\\u0627\\u0631\\u0652\\u062f\\u0652 \\u064c(\\u0652\\u0623\\u062a\\u0634 \\u064d\\u0628\\u064d\\u064a\\u0650)\\u0650 .\\u0648\\u0642\\u0627\\u064b\\u0644 \\u062f\\u0651\\u064a\\u0641\\u0650\\u064a\\u062f\\u0651 \\u062f\\u0650\\u0627\\u064b\\u0633\\u064f\\u062a\\u0650\\u0641\\u0631\\u064c\\u060c \\u064b\\u0627\\u0651\\u0644\\u064d\\u0634\\u0631\\u064a\\u0643\\u064c \\u0627\\u0650\\u0644\\u0650\\u0625\\u062f\\u0627\\u0631\\u064a \\u064f\\u0644\\u0652\\u0634\\u0631\\u064d\\u0643\\u064c\\u0629 \\u0625\\u0646\\u0652\\u0648\\u0650\\u0641\\u064e\\u0633\\u0650\\u062a \\u063a\\u0651\\u0631\\u0652\\u0648\\u064d\\u0628\\u0650\\u060c\\u0650 \\u0625\\u0646\\u0650 \\u0623\\u0650\\u062a\\u0634\\u064a\\u064d\\u0641\\u0650\\u0648 \\u062a\\u0651\\u0642\\u064f\\u062f\\u0645 \\u064d\\u0628\\u062f\\u064a\\u064e\\u0644\\u064f\\u0627\\u064d \\u062c\\u0630\\u064d\\u0627\\u0628\\u064e\\u0627 \\u064f\\u0644\\u063a\\u064b\\u064a\\u0631\\u064f\\u0647\\u064e\\u0627\\u064f \\u0645\\u0646 \\u064d\\u0627\\u064e\\u0644\\u064f\\u0634\\u0652\\u0631\\u0643\\u064b\\u0627\\u062a\\u0651 \\u0650\\u0627\\u0644\\u062a\\u0652\\u064a \\u0650\\u062a\\u0642\\u0650\\u062f\\u064c\\u0645 \\u062e\\u064b\\u062f\\u0645\\u0627\\u062a \\u0650\\u062a\\u0639\\u0647\\u064d\\u064a\\u062f \\u062a\\u0642\\u0646\\u0652\\u064a\\u0629 \\u064d\\u0627\\u0644\\u0645\\u0650\\u0639\\u0644\\u0648\\u064c\\u0645\\u0627\\u062a\\u064d \\u0652. \\u064e\\u0648\\u0641\\u0651\\u064a \\u0627\\u0644\\u064d\\u0641\\u062a\\u064c\\u0631\\u0629 \\u0650\\u0627\\u0644\\u0652\\u062a\\u064a\\u064d \\u0651\\u064a\\u064f\\u0633\\u0639\\u0651\\u0649 \\u0652\\u0641\\u064a\\u0651\\u0647\\u064b\\u0627\\u064d \\u0627\\u0651\\u0644\\u064c\\u0634\\u064b\\u0631\\u0642\\u064c \\u0627\\u0652\\u0644\\u0652\\u0623\\u0648\\u0633\\u064c\\u0637\\u064e \\u0644\\u064b\\u0646\\u0642\\u0644 \\u064c\\u0627\\u0642\\u062a\\u0635\\u0627\\u062f\\u0627\\u064b\\u062a\\u0650\\u0647\\u0650 \\u0625\\u0644\\u064b\\u0649\\u064e \\u064f\\u0645\\u0627\\u0651 \\u0651\\u064a\\u0652\\u062a\\u064b\\u0639\\u064b\\u062f\\u0649\\u0650 \\u0627\\u0650\\u0644\\u0646\\u0641\\u0637\\u060c \\u0641\\u0625\\u0646 \\u064c\\u0647\\u064d\\u0646\\u0627\\u0643 \\u064e\\u062d\\u0627\\u062c\\u0629\\u064c \\u0650\\u0648\\u0650\\u0627\\u064d\\u0636\\u062d\\u0651\\u0629\\u064f \\u064e\\u0644\\u064b\\u062e\\u064e\\u062f\\u0645\\u0627\\u062a\\u064e \\u064d\\u062a\\u0652\\u0639\\u0647\\u064a\\u0651\\u062f\\u064f \\u0650\\u062a\\u064c\\u0642\\u0652\\u0646\\u0651\\u064a\\u064b\\u0629 \\u064f\\u0627\\u064b\\u0644\\u0650\\u0645\\u0639\\u064f\\u0644\\u064e\\u0648\\u064b\\u0645\\u0627\\u064b\\u062a\\u0650 \\u064f\\u0627\\u064c\\u0644\\u0645\\u0652\\u062e\\u0635\\u0650\\u0635\\u064d\\u0629 \\u0644\\u0650\\u0644\\u0652\\u0645\\u0634\\u0627\\u0631\\u064c\\u064a\\u0639\\u064e \\u0627\\u064d\\u0644\\u0645\\u064f\\u062a\\u0652\\u0648\\u0633\\u0651\\u0637\\u0629 \\u0627\\u064f\\u0644\\u064b\\u062d\\u062c\\u0645\\u064d .\\u0652 \\u064b\\u0625\\u0646\\u064f \\u0650\\u063a\\u0650\\u0627\\u064c\\u0644\\u0628\\u064f\\u064a\\u0629\\u0652 \\u0645\\u0648\\u0627\\u0631\\u062f \\u062e\\u062f\\u064b\\u0645\\u064f\\u0627\\u0650\\u062a \\u062a\\u0639\\u0647\\u064a\\u0650\\u062f\\u064d \\u064c\\u062a\\u064b\\u0642\\u0646\\u064a\\u0629 \\u064f\\u0627\\u064e\\u0644\\u0645\\u0639\\u0644\\u0651\\u0648\\u064f\\u0645\\u0627\\u062a \\u0627\\u0644\\u0652\\u0645\\u062a\\u064b\\u0648\\u064b\\u0641\\u0652\\u0631\\u0629\\u064f \\u0652\\u0641\\u064a\\u0651 \\u0627\\u064f\\u0644\\u0652\\u0645\\u0650\\u0646\\u0637\\u0642\\u0629 \\u064f\\u0647\\u064c\\u064a \\u064e\\u0634\\u064d\\u0631\\u0651\\u0643\\u0627\\u064f\\u062a\\u0651 \\u0651\\u062a\\u0642\\u064f\\u0646\\u064e\\u064a\\u0650\\u0629 \\u0645\\u0639\\u0644\\u0651\\u0648\\u064e\\u0645\\u064f\\u0627\\u062a\\u064e \\u064f\\u0643\\u064c\\u0628\\u0631\\u0649\\u0652 \\u064b\\u0645\\u0652\\u0646\\u064e \\u064b\\u0627\\u064c\\u0644\\u064e\\u0648\\u0644\\u064b\\u0627\\u064f\\u064a\\u0627\\u062a \\u0627\\u0644\\u064b\\u0645\\u062a\\u064d\\u062d\\u0651\\u062f\\u0629 \\u064b\\u0648\\u0650\\u0627\\u0644\\u0647\\u064f\\u0646\\u062f \\u064d.\\u064c \\u064d\\u0648\\u064f\\u0644\\u0643\\u0646\\u064f\\u0646\\u0627\\u064b \\u0644\\u064c\\u0645 \\u0646\\u0652\\u0631\\u064c \\u0623\\u0652\\u064a\\u064b\\u0629 \\u0634\\u064d\\u0631\\u0643\\u0629\\u0650 \\u064f\\u0645\\u0650\\u0643\\u0631\\u064e\\u0633\\u0629\\u064c \\u0644\\u0644\\u0645\\u0650\\u0634\\u0627\\u064c\\u0631\\u064c\\u064a\\u0639 \\u0627\\u064d\\u0644\\u0645\\u064d\\u062a\\u0651\\u0648\\u0633\\u0651\\u0637\\u0629\\u0652 \\u0627\\u064c\\u0644\\u0652\\u062d\\u0651\\u062c\\u064c\\u0645\\u064e \\u0651.\\u0650\",\n          \"https://example.com/resource/\\u0623\\u0639\\u064d\\u0644\\u0646 \\u0627\\u0644\\u064e\\u0627\\u062a\\u064c\\u062d\\u064e\\u0627\\u062f \\u0627\\u0644\\u062f\\u0650\\u0648\\u0644\\u0651\\u064a\\u0651 \\u0644\\u0643\\u0631\\u0651\\u0629\\u064b \\u0627\\u0644\\u0642\\u062f\\u0652\\u0645 \\u064e(\\u0641\\u064a\\u0641\\u0627\\u064d)\\u064b \\u064f\\u0625\\u0652\\u064a\\u0642\\u064c\\u0627\\u0641\\u0650 \\u0651\\u0627\\u064c\\u0644\\u0627\\u0652\\u062a\\u062d\\u0627\\u0652\\u062f \\u0627\\u064b\\u0644\\u064b\\u0646\\u064e\\u064a\\u064d\\u062c\\u064f\\u064a\\u0631\\u064a \\u0644\\u0644\\u0650\\u0639\\u064f\\u0628\\u0650\\u0629\\u064e \\u0628\\u0634\\u0643\\u0644\\u0651 \\u064f\\u0641\\u064d\\u0648\\u0631\\u0652\\u064a\\u064e .\\u064c\\u0648\\u0650\\u0623\\u064d\\u0643\\u0650\\u062f\\u064c \\u064f\\u0627\\u0644\\u064b\\u0641\\u064a\\u064b\\u0641\\u0627\\u064f \\u064b\\u0641\\u0651\\u064a \\u0628\\u064a\\u0650\\u0627\\u0652\\u0646 \\u064d\\u0623\\u064d\\u0635\\u0651\\u062f\\u064f\\u0631\\u0647 \\u0623\\u0646 \\u064e\\u0644\\u0651\\u062c\\u064f\\u0646\\u064f\\u0629\\u0652 \\u064c\\u0627\\u064b\\u0644\\u064e\\u0637\\u0648\\u0627\\u0631\\u0650\\u0626\\u064d \\u0652\\u0628\\u0652\\u0627\\u0644\\u064d\\u0627\\u062a\\u062d\\u0627\\u062f \\u0627\\u064c\\u0644\\u062f\\u0652\\u0648\\u0650\\u0644\\u064e\\u064a \\u064c\\u0627\\u062a\\u0650\\u062e\\u0630\\u062a \\u0647\\u0630\\u0627\\u0652 \\u064e\\u0627\\u0644\\u0642\\u0631\\u0627\\u0631\\u064f \\u064c\\u0628\\u0633\\u0628\\u0650\\u0628\\u0650 \\u064e\\u0627\\u064e\\u0644\\u064c\\u062a\\u064c\\u062f\\u0650\\u062e\\u064e\\u0644\\u064e \\u0627\\u0644\\u0651\\u062d\\u0643\\u0651\\u0648\\u0645\\u064a \\u0650\\u0641\\u064a \\u0643\\u064e\\u0631\\u0652\\u0629\\u064c \\u064b\\u0627\\u0644\\u0642\\u064c\\u062f\\u0652\\u0645 \\u064f\\u0628\\u0646\\u064a\\u062c\\u064e\\u064a\\u0652\\u0631\\u064c\\u064a\\u0651\\u0627 .\\u064e\\u0648\\u0623\\u0648\\u064c\\u0636\\u064d\\u062d \\u0627\\u0644\\u0628\\u064a\\u0650\\u0627\\u0646\\u0652 \\u0627\\u0644\\u0642\\u0631\\u064f\\u0627\\u0631 \\u064a\\u064c\\u062a\\u064c\\u0628\\u064c\\u0639\\u064b \\u064f\\u0627\\u0644\\u0652\\u0623\\u062d\\u0652\\u062f\\u0627\\u064c\\u062b \\u0652\\u0627\\u0651\\u0644\\u0623\\u062e\\u064a\\u0631\\u0629\\u064b \\u0627\\u064d\\u0644\\u0651\\u0645\\u064d\\u062a\\u0639\\u064b\\u0644\\u064d\\u0642\\u0629 \\u0652\\u0628\\u064f\\u0627\\u0650\\u0644\\u064b\\u0627\\u062a\\u062d\\u0650\\u0627\\u062f\\u0652 \\u0627\\u064c\\u0644\\u0646\\u0650\\u064a\\u0652\\u062c\\u064d\\u064a\\u0650\\u0631\\u064a\\u0651 \\u0644\\u0643\\u0631\\u0651\\u0629\\u064c \\u0627\\u0644\\u0642\\u064b\\u062f\\u064f\\u0645\\u0652\\u060c\\u0650 \\u0645\\u062b\\u0644\\u0652 \\u064f\\u0627\\u062a\\u064c\\u062e\\u0652\\u0627\\u0652\\u0630\\u064c \\u064b\\u0625\\u062c\\u0631\\u0650\\u0627\\u064e\\u0621\\u0627\\u062a \\u064d\\u0642\\u0636\\u0627\\u0626\\u064a\\u0629 \\u064e\\u0636\\u064f\\u062f \\u0623\\u064c\\u0639\\u0636\\u0627\\u0621 \\u064c\\u0628\\u0627\\u064f\\u0644\\u0644\\u0650\\u062c\\u0646\\u0650\\u0629\\u064e \\u064e\\u0627\\u064f\\u0644\\u064f\\u062a\\u064d\\u0646\\u0641\\u064d\\u064a\\u064c\\u0630\\u064a\\u0629\\u064b \\u0644\\u0644\\u064d\\u0627\\u064b\\u062a\\u062d\\u0627\\u0650\\u062f\\u0652 \\u0628\\u062d\\u0631\\u0645\\u0627\\u0646\\u0652\\u0647\\u0645 \\u064d\\u0645\\u064f\\u0646\\u0650 \\u0627\\u0644\\u0642\\u0652\\u064a\\u0627\\u0645\\u0652 \\u064c\\u0628\\u0645\\u0647\\u064d\\u0627\\u064c\\u0645\\u064d\\u0647\\u064d\\u0645\\u0652 \\u0648\\u064c\\u0648\\u0627\\u062c\\u0628\\u064f\\u0627\\u0652\\u062a\\u0647\\u064d\\u0645\\u060c \\u0648\\u0650\\u062a\\u0646\\u062d\\u064a \\u0627\\u0650\\u0644\\u0633\\u064f\\u0643\\u0631\\u062a\\u064d\\u064a\\u0631 \\u0650\\u0627\\u0644\\u0652\\u0639\\u0650\\u0627\\u0645 \\u064f\\u0644\\u064b\\u0644\\u0652\\u0627\\u062a\\u0652\\u062d\\u0627\\u0652\\u062f \\u064f\\u0628\\u064d\\u0646\\u0651\\u0627\\u0621\\u0652 \\u0651\\u0639\\u0644\\u0649\\u0650 \\u062a\\u064b\\u0639\\u0644\\u064f\\u064a\\u0645\\u0627\\u0651\\u062a \\u064d\\u0627\\u064d\\u0644\\u0652\\u0644\\u0650\\u062c\\u0651\\u0646\\u0629 \\u0627\\u0644\\u0650\\u0631\\u064a\\u0650\\u0627\\u0636\\u064a\\u0651\\u0629 \\u0627\\u0644\\u0642\\u0648\\u0645\\u064a\\u064b\\u0629\\u064b\\u060c\\u064c \\u0652\\u0648\\u0642\\u0631\\u0627\\u0631\\u064c \\u0651\\u0648\\u0632\\u064a\\u064e\\u0631 \\u0627\\u0644\\u064f\\u0631\\u064c\\u064a\\u0627\\u0636\\u064f\\u0629\\u064e \\u064f\\u0628\\u0623\\u0646\\u0650 \\u064c\\u064a\\u064b\\u0628\\u0651\\u062f\\u064d\\u0623 \\u0627\\u0644\\u062f\\u0648\\u064c\\u0631\\u064a \\u0650\\u0627\\u0650\\u0644\\u0646\\u064a\\u062c\\u0651\\u064a\\u0631\\u0652\\u064a\\u0652 \\u0645\\u0652\\u0646 \\u0652\\u062f\\u0648\\u064f\\u0646\\u064f \\u0647\\u0628\\u0648\\u0637\\u064c \\u064d\\u0641\\u064e\\u0631\\u0642\\u064b \\u0652\\u0645\\u0646\\u064b \\u0650\\u0627\\u064e\\u0644\\u0645\\u0648\\u0633\\u0645 \\u0627\\u064d\\u0644\\u0650\\u0645\\u064e\\u0627\\u0636\\u064a\\u064c\\u060c \\u064c\\u0648\\u0652\\u062d\\u0650\\u0642\\u064a\\u0642\\u0629\\u064c \\u0623\\u0646 \\u0627\\u0644\\u0627\\u0650\\u062a\\u0652\\u062d\\u0627\\u064b\\u062f\\u064f \\u064c\\u0627\\u0644\\u0652\\u0646\\u064a\\u064c\\u062c\\u064a\\u0650\\u0631\\u064e\\u064a\\u0652 \\u0644\\u0644\\u0639\\u064d\\u0628\\u0629 \\u0644\\u064b\\u0627\\u0651 \\u0650\\u064a\\u064b\\u0645\\u0652\\u0643\\u064e\\u0646\\u0647\\u0650 \\u0650\\u0627\\u064f\\u0644\\u064b\\u0642\\u064d\\u064a\\u064b\\u0627\\u0645 \\u0628\\u0639\\u0645\\u0644\\u0647\\u0651 \\u064e\\u0639\\u064c\\u0644\\u064e\\u0649\\u0652 \\u0652\\u0627\\u0644\\u0646\\u062d\\u0648\\u064f \\u0627\\u064d\\u0644\\u0623\\u064f\\u0645\\u064f\\u062b\\u0650\\u0644\\u0650 \\u0628\\u0633\\u0628\\u0652\\u0628\\u064f \\u0627\\u0644\\u062a\\u062f\\u062e\\u0644 \\u0627\\u064f\\u0644\\u064c\\u062d\\u0643\\u0648\\u0645\\u064b\\u064a\\u0650 \\u0651.\\u064e\\u0648\\u0623\\u064b\\u0634\\u0627\\u064c\\u0631 \\u0650\\u0627\\u0651\\u0644\\u0641\\u064b\\u064a\\u0641\\u064c\\u0627 \\u0623\\u0646\\u064f \\u0652\\u0627\\u0644\\u064d\\u0639\\u0642\\u0650\\u0648\\u064b\\u0628\\u0627\\u064c\\u062a\\u064c \\u0633\\u062a\\u0650\\u0638\\u0644 \\u0633\\u0627\\u0631\\u0651\\u064a\\u0652\\u0629\\u0651 \\u0644\\u064d\\u062d\\u064a\\u0646 \\u0627\\u0650\\u0644\\u062a\\u0623\\u0643\\u064d\\u062f \\u0645\\u064b\\u0646\\u0650 \\u064f\\u0639\\u062f\\u064f\\u0645\\u0651 \\u0650\\u0648\\u0650\\u062c\\u0652\\u0648\\u062f \\u0627\\u0652\\u0644\\u0645\\u064c\\u0632\\u0652\\u064a\\u062f \\u064c\\u0645\\u0646 \\u064e\\u0627\\u0644\\u0623\\u064d\\u062d\\u0643\\u064f\\u0627\\u0645 \\u064b\\u0648\\u0625\\u064d\\u0645\\u0643\\u0650\\u0627\\u064c\\u0646\\u064a\\u064f\\u0629\\u064f \\u0639\\u0645\\u0644\\u064b \\u0652\\u0627\\u064c\\u0644\\u064c\\u0644\\u064c\\u062c\\u0646\\u0629\\u0650 \\u064f\\u0627\\u0644\\u0650\\u062a\\u0646\\u0650\\u0641\\u064a\\u0630\\u064a\\u0650\\u0629 \\u0644\\u0627\\u064e\\u062a\\u064e\\u062d\\u064d\\u0627\\u064b\\u062f \\u0652\\u0627\\u0644\\u0643\\u0631\\u0629\\u064b \\u062f\\u064c\\u0648\\u0646\\u0650 \\u0623\\u064c\\u064a \\u062a\\u062f\\u0650\\u062e\\u0652\\u0644 \\u0650.\\u064e\\u0648\\u062a\\u0627\\u0628\\u0639 \\u0627\\u064f\\u0644\\u0628\\u064a\\u0652\\u0627\\u0651\\u0646 \\u062e\\u0650\\u0644\\u064f\\u0627\\u0644\\u064e \\u0652\\u0641\\u062a\\u064d\\u0631\\u0629 \\u0650\\u0627\\u0644\\u0625\\u064b\\u064a\\u0642\\u064e\\u0627\\u064f\\u0641 \\u0652\\u0644\\u0646\\u064c \\u064a\\u062a\\u0652\\u0645\\u0652\\u0643\\u064b\\u0646 \\u0627\\u064e\\u062a\\u064b\\u062d\\u0627\\u062f\\u064c \\u0627\\u0644\\u064f\\u0643\\u0631\\u0650\\u0629 \\u0627\\u0644\\u064b\\u0646\\u064a\\u0651\\u062c\\u064a\\u064b\\u0631\\u064b\\u064a \\u064c\\u0645\\u0650\\u0646\\u0652 \\u0627\\u0644\\u064f\\u062a\\u0650\\u0645\\u064b\\u062b\\u064c\\u064a\\u064d\\u0644\\u064e \\u0641\\u064f\\u064a\\u064f \\u0623\\u064a\\u0650 \\u0628\\u0652\\u0637\\u0648\\u064e\\u0644\\u0629\\u064b \\u0627\\u0642\\u0644\\u064d\\u064a\\u064f\\u0645\\u064a\\u0652\\u0629\\u064b \\u0623\\u0648\\u0651 \\u0642\\u064f\\u0627\\u0652\\u0631\\u0651\\u064a\\u0629\\u064f \\u064e\\u0623\\u0648\\u0652 \\u062f\\u064b\\u0648\\u064c\\u0644\\u0652\\u064a\\u0650\\u0629\\u060c\\u064e \\u0651\\u0628\\u0645\\u0627\\u064f \\u0650\\u0641\\u064d\\u064a\\u0652 \\u0630\\u064e\\u0644\\u0650\\u0643\\u064e \\u0639\\u064f\\u0644\\u0652\\u0649\\u0650 \\u0645\\u064e\\u0633\\u062a\\u064c\\u0648\\u0649\\u0652 \\u0627\\u0652\\u0644\\u0623\\u0646\\u062f\\u064b\\u064a\\u0629\\u064b\\u060c \\u0648\\u0651\\u0643\\u0630\\u064c\\u0644\\u0643\\u064c \\u0627\\u064f\\u0644\\u0645\\u0628\\u0652\\u0627\\u064f\\u0631\\u064a\\u0651\\u0627\\u0651\\u062a \\u0651\\u0627\\u0644\\u0648\\u062f\\u0652\\u064a\\u0629\\u064e .\\u0652\\u0648\\u0623\\u064c\\u0643\\u062f \\u064c\\u0627\\u0644\\u0628\\u064d\\u064a\\u0627\\u0646\\u064c \\u064e\\u0623\\u0652\\u0646\\u064d \\u064c\\u0644\\u0627\\u064c\\u064a\\u0645\\u0651\\u0643\\u064e\\u0646 \\u0644\\u064d\\u0623\\u064e\\u064a\\u064d \\u0645\\u064d\\u0633\\u0624\\u0648\\u0644 \\u064d\\u0623\\u0648 \\u0652\\u0639\\u0636\\u0648\\u064b \\u0628\\u0627\\u062a\\u062d\\u0627\\u062f \\u0627\\u064f\\u0644\\u0643\\u0651\\u0631\\u064d\\u0629\\u0650 \\u064c\\u0627\\u064d\\u0644\\u0651\\u0627\\u0646\\u0651\\u062a\\u0641\\u0627\\u064f\\u0639 \\u0651\\u0645\\u0646\\u0652 \\u064c\\u0623\\u064a \\u064b\\u0628\\u0631\\u064f\\u0646\\u0627\\u064c\\u0645\\u064f\\u062c \\u064c\\u062a\\u064e\\u0637\\u0648\\u064a\\u064f\\u0631 \\u0623\\u0648 \\u0651\\u062f\\u0648\\u064f\\u0631\\u064f\\u0629 \\u062a\\u0651\\u0639\\u064f\\u0644\\u064a\\u0645\\u064a\\u0629 \\u064d\\u0623\\u0648\\u064c \\u0651\\u062a\\u064c\\u062f\\u0631\\u064f\\u064a\\u0628 \\u0645\\u0646\\u064d \\u0627\\u0644\\u064d\\u0641\\u064a\\u0652\\u0641\\u064c\\u0627\\u064e \\u0652\\u0623\\u0648\\u064d \\u064d\\u0627\\u064c\\u0644\\u0643\\u0627\\u0650\\u0641 \\u064c(\\u064e\\u0627\\u0644\\u0627\\u064f\\u062a\\u064d\\u062d\\u0627\\u062f \\u0627\\u064d\\u0644\\u064d\\u0625\\u0641\\u0631\\u0651\\u064a\\u064c\\u0642\\u0652\\u064a\\u064f \\u0644\\u0643\\u0631\\u0651\\u0629\\u064f \\u064d\\u0627\\u0644\\u0642\\u062f\\u064e\\u0645\\u064c) \\u064d\\u0623\\u062b\\u0652\\u0646\\u064d\\u0627\\u064f\\u0621\\u064d \\u0641\\u064f\\u062a\\u0631\\u0629 \\u0627\\u0652\\u0644\\u0625\\u064a\\u0642\\u0627\\u0641 .\\u0651\"\n        ],\n        \"semantic_type\": \"\",\n        \"description\": \"\"\n      }\n    },\n    {\n      \"column\": \"label\",\n      \"properties\": {\n        \"dtype\": \"string\",\n        \"num_unique_values\": 6,\n        \"samples\": [\n          \"Medical\",\n          \"Tech\",\n          \"Culture\"\n        ],\n        \"semantic_type\": \"\",\n        \"description\": \"\"\n      }\n    }\n  ]\n}"
            }
          },
          "metadata": {},
          "execution_count": 9
        }
      ]
    },
    {
      "cell_type": "markdown",
      "metadata": {
        "id": "X_oEu0TkSMEB"
      },
      "source": [
        "# Data Cleaning and Preprocessing"
      ]
    },
    {
      "cell_type": "markdown",
      "metadata": {
        "id": "wSAFiozlRQHt"
      },
      "source": [
        "In this section, we will focus on cleaning and filtering the dataset, preparing it for the text classification task. We will implement the following steps:\n",
        "\n",
        "1. **Remove missing values**:\n",
        "   First, we eliminate any rows with missing values to ensure the dataset is complete and consistent.\n",
        "\n",
        "2. **Filter by text length (Bonus)**:\n",
        "   To maintain a uniform dataset, we will filter the text samples by a specified word count range. This ensures that the texts are neither too short to lack context nor too long to introduce unnecessary complexity.\n",
        "\n",
        "3. **Arabic stopwords loading**:\n",
        "   We load a list of Arabic stopwords to filter out commonly used but contextually insignificant words. This is an important step for improving the performance of the model, as stopwords do not contribute valuable information.\n",
        "\n",
        "4. **Text cleaning**:\n",
        "   We apply a series of text cleaning steps to standardize and simplify the text data. This involves:\n",
        "   - **Removing links (URLs)**: Any URLs present in the text are removed as they are not meaningful for classification purposes.\n",
        "   - **Removing special characters and punctuation**: This step removes any non-alphabetical characters, ensuring the text only contains meaningful words.\n",
        "   - **Removing Arabic diacritics (Tashkeel) and elongated letters (Tatweel)**: Diacritical marks and elongated letters are stripped out to standardize the text.\n",
        "   - **Removing Arabic stopwords**: Words that are part of the stopwords list are removed, as they do not add value to the classification task.\n",
        "   - **Stemming or Lemmmatization**: Either stemming or lemmatization is applied to reduce words to their root or base form.\n",
        "   - **Normalizing Hamza**: Any variation of the Hamza character is normalized for consistency.\n",
        "\n",
        "   **Note:** Most of these you can do using the library [PyArabic](https://pyarabic.readthedocs.io/ar/latest/README.html#features)\n",
        "\n",
        "5. **Final cleanup**:\n",
        "   Apply the cleanup function to the feature column.\n",
        "\n",
        "By following these steps, the text will be cleaned, filtered, and ready for tokenization!"
      ]
    },
    {
      "cell_type": "code",
      "execution_count": 52,
      "metadata": {
        "id": "mHEObOY_fHhq",
        "colab": {
          "base_uri": "https://localhost:8080/",
          "height": 146
        },
        "outputId": "fa1be2a5-63a5-4444-af1d-3e4b87c0729d"
      },
      "outputs": [
        {
          "output_type": "execute_result",
          "data": {
            "text/plain": [
              "text     0\n",
              "label    0\n",
              "dtype: int64"
            ],
            "text/html": [
              "<div>\n",
              "<style scoped>\n",
              "    .dataframe tbody tr th:only-of-type {\n",
              "        vertical-align: middle;\n",
              "    }\n",
              "\n",
              "    .dataframe tbody tr th {\n",
              "        vertical-align: top;\n",
              "    }\n",
              "\n",
              "    .dataframe thead th {\n",
              "        text-align: right;\n",
              "    }\n",
              "</style>\n",
              "<table border=\"1\" class=\"dataframe\">\n",
              "  <thead>\n",
              "    <tr style=\"text-align: right;\">\n",
              "      <th></th>\n",
              "      <th>0</th>\n",
              "    </tr>\n",
              "  </thead>\n",
              "  <tbody>\n",
              "    <tr>\n",
              "      <th>text</th>\n",
              "      <td>0</td>\n",
              "    </tr>\n",
              "    <tr>\n",
              "      <th>label</th>\n",
              "      <td>0</td>\n",
              "    </tr>\n",
              "  </tbody>\n",
              "</table>\n",
              "</div><br><label><b>dtype:</b> int64</label>"
            ]
          },
          "metadata": {},
          "execution_count": 52
        }
      ],
      "source": [
        "df.isna().sum()"
      ]
    },
    {
      "cell_type": "code",
      "source": [
        "df.duplicated().sum()"
      ],
      "metadata": {
        "colab": {
          "base_uri": "https://localhost:8080/"
        },
        "id": "AdMBtB0kLcgf",
        "outputId": "dfe15f56-ea1e-4ff4-cc41-02762c7851f9"
      },
      "execution_count": 53,
      "outputs": [
        {
          "output_type": "execute_result",
          "data": {
            "text/plain": [
              "0"
            ]
          },
          "metadata": {},
          "execution_count": 53
        }
      ]
    },
    {
      "cell_type": "code",
      "source": [
        "df['length'] = df['text'].str.len()\n",
        "df = df[df['label'] != 'Mixed']"
      ],
      "metadata": {
        "id": "-YZ-JsbvL4MZ"
      },
      "execution_count": 54,
      "outputs": []
    },
    {
      "cell_type": "code",
      "source": [
        "df['label'].value_counts()"
      ],
      "metadata": {
        "colab": {
          "base_uri": "https://localhost:8080/",
          "height": 335
        },
        "id": "bWRbG9pcL6IW",
        "outputId": "304a22d5-855a-4d34-83b8-4a5ce80c5981"
      },
      "execution_count": 55,
      "outputs": [
        {
          "output_type": "execute_result",
          "data": {
            "text/plain": [
              "label\n",
              "Politics    6334\n",
              "Medical     6292\n",
              "Culture     6098\n",
              "Finance     6095\n",
              "Tech        5979\n",
              "Sports      5859\n",
              "Religion    3228\n",
              "Name: count, dtype: int64"
            ],
            "text/html": [
              "<div>\n",
              "<style scoped>\n",
              "    .dataframe tbody tr th:only-of-type {\n",
              "        vertical-align: middle;\n",
              "    }\n",
              "\n",
              "    .dataframe tbody tr th {\n",
              "        vertical-align: top;\n",
              "    }\n",
              "\n",
              "    .dataframe thead th {\n",
              "        text-align: right;\n",
              "    }\n",
              "</style>\n",
              "<table border=\"1\" class=\"dataframe\">\n",
              "  <thead>\n",
              "    <tr style=\"text-align: right;\">\n",
              "      <th></th>\n",
              "      <th>count</th>\n",
              "    </tr>\n",
              "    <tr>\n",
              "      <th>label</th>\n",
              "      <th></th>\n",
              "    </tr>\n",
              "  </thead>\n",
              "  <tbody>\n",
              "    <tr>\n",
              "      <th>Politics</th>\n",
              "      <td>6334</td>\n",
              "    </tr>\n",
              "    <tr>\n",
              "      <th>Medical</th>\n",
              "      <td>6292</td>\n",
              "    </tr>\n",
              "    <tr>\n",
              "      <th>Culture</th>\n",
              "      <td>6098</td>\n",
              "    </tr>\n",
              "    <tr>\n",
              "      <th>Finance</th>\n",
              "      <td>6095</td>\n",
              "    </tr>\n",
              "    <tr>\n",
              "      <th>Tech</th>\n",
              "      <td>5979</td>\n",
              "    </tr>\n",
              "    <tr>\n",
              "      <th>Sports</th>\n",
              "      <td>5859</td>\n",
              "    </tr>\n",
              "    <tr>\n",
              "      <th>Religion</th>\n",
              "      <td>3228</td>\n",
              "    </tr>\n",
              "  </tbody>\n",
              "</table>\n",
              "</div><br><label><b>dtype:</b> int64</label>"
            ]
          },
          "metadata": {},
          "execution_count": 55
        }
      ]
    },
    {
      "cell_type": "code",
      "source": [
        "from sklearn.model_selection import train_test_split\n",
        "\n",
        "train_val, test = train_test_split(df, test_size=0.2, random_state=42)\n",
        "\n",
        "train, val = train_test_split(train_val, test_size=0.2, random_state=42)"
      ],
      "metadata": {
        "id": "GaJpG37mMpQj"
      },
      "execution_count": 56,
      "outputs": []
    },
    {
      "cell_type": "code",
      "source": [],
      "metadata": {
        "id": "PArb13NyPDdc"
      },
      "execution_count": null,
      "outputs": []
    },
    {
      "cell_type": "code",
      "source": [
        "df.shape"
      ],
      "metadata": {
        "colab": {
          "base_uri": "https://localhost:8080/"
        },
        "id": "gs7qpSDhM4Rq",
        "outputId": "03fda7c1-9277-4b61-fb5c-afed02f1b809"
      },
      "execution_count": 57,
      "outputs": [
        {
          "output_type": "execute_result",
          "data": {
            "text/plain": [
              "(39885, 3)"
            ]
          },
          "metadata": {},
          "execution_count": 57
        }
      ]
    },
    {
      "cell_type": "markdown",
      "metadata": {
        "id": "VF45GS_ZSEix"
      },
      "source": [
        "# Tokenization, Padding, and Data Splitting"
      ]
    },
    {
      "cell_type": "markdown",
      "metadata": {
        "id": "YmsL3S-5SIbl"
      },
      "source": [
        "In this step, we will prepare the text data for input into a model by converting the text into numerical sequences, padding them to a uniform length, and splitting the dataset into training and testing sets. Here's an overview of the steps involved:\n",
        "\n",
        "1. **Tokenization**:\n",
        "   We use a tokenizer to convert the cleaned text into numerical sequences. You can use `Tokenizer` tokenizer from `tensorflow.keras.preprocessing.text` package or any other tokenizer you like.\n",
        "\n",
        "2. **Text to sequences**:\n",
        "   After fitting the tokenizer on the cleaned text, we transform each text into a sequence of numbers, where each number corresponds to a token (word) in the text.\n",
        "\n",
        "3. **Padding the sequences**:\n",
        "   Since different texts may vary in length, we pad the sequences to ensure they all have the same length.\n",
        "\n",
        "4. **Label encoding**:\n",
        "   The labels (target values) also need to be converted into numerical form if they are not encoded.\n",
        "\n",
        "5. **Train-test split**:\n",
        "   The dataset is divided into training and testing sets. We allocate 80% of the data for training the model and reserve 20% for testing its performance.\n",
        "   \n",
        "   - The **training data** consists of the padded sequences used to train the model.\n",
        "   - The **training labels** are the encoded labels corresponding to the training data.\n",
        "   - The **testing data** is used to assess the model’s performance after training.\n",
        "   - The **testing labels** are the encoded labels corresponding to the testing data.\n",
        "\n",
        "6. **Data shape confirmation**:\n",
        "   After splitting the data, we print the shape (dimensions) of both the training and testing sets to confirm that the data is properly divided and formatted.\n",
        "\n",
        "By the end of this step, the text data will be transformed into padded numerical sequences, the labels will be encoded, and the data will be split into training and testing sets for model development and evaluation."
      ]
    },
    {
      "cell_type": "code",
      "execution_count": 58,
      "metadata": {
        "id": "z401Re0VfI1f",
        "colab": {
          "base_uri": "https://localhost:8080/",
          "height": 423
        },
        "outputId": "68586ad0-20e2-4384-fe0d-6ac726212576"
      },
      "outputs": [
        {
          "output_type": "execute_result",
          "data": {
            "text/plain": [
              "                                                    text     label  length\n",
              "38617  https://example.com/resource/دِبُي ٍ-ً \"ًاَلخٍ...      Tech    2037\n",
              "30087  https://example.com/resource/فازٌ ْمنُتّخب سلَ...    Sports     644\n",
              "11982  https://example.com/resource/أبٍوَظبيَ «ْاِلخل...   Finance    3280\n",
              "17754  https://example.com/resource/دٍبْي ُ- \"الخَليج...   Medical    2528\n",
              "2420   https://example.com/resource/دبّيٌ ْ-ّ ّمحمدٍ ...   Culture    4979\n",
              "...                                                  ...       ...     ...\n",
              "20281  https://example.com/resource/اٍلُجزائَرّ -ُ \"ٌ...  Politics    1370\n",
              "37067  https://example.com/resource/كشًفّ ً«ّمُعهٌد ْ...      Tech    3915\n",
              "15503  https://example.com/resource/نًظمٍت َطَالْباْت...   Medical    3212\n",
              "35326  https://example.com/resource/أٍعُلٍنّت ّسُوني ...      Tech    1502\n",
              "3144   https://example.com/resource/تُعٌنٌيِ ْكُلِمُة...   Culture    3081\n",
              "\n",
              "[25526 rows x 3 columns]"
            ],
            "text/html": [
              "\n",
              "  <div id=\"df-93faf423-3cbb-46e0-abbd-00d48f4a7bd4\" class=\"colab-df-container\">\n",
              "    <div>\n",
              "<style scoped>\n",
              "    .dataframe tbody tr th:only-of-type {\n",
              "        vertical-align: middle;\n",
              "    }\n",
              "\n",
              "    .dataframe tbody tr th {\n",
              "        vertical-align: top;\n",
              "    }\n",
              "\n",
              "    .dataframe thead th {\n",
              "        text-align: right;\n",
              "    }\n",
              "</style>\n",
              "<table border=\"1\" class=\"dataframe\">\n",
              "  <thead>\n",
              "    <tr style=\"text-align: right;\">\n",
              "      <th></th>\n",
              "      <th>text</th>\n",
              "      <th>label</th>\n",
              "      <th>length</th>\n",
              "    </tr>\n",
              "  </thead>\n",
              "  <tbody>\n",
              "    <tr>\n",
              "      <th>38617</th>\n",
              "      <td>https://example.com/resource/دِبُي ٍ-ً \"ًاَلخٍ...</td>\n",
              "      <td>Tech</td>\n",
              "      <td>2037</td>\n",
              "    </tr>\n",
              "    <tr>\n",
              "      <th>30087</th>\n",
              "      <td>https://example.com/resource/فازٌ ْمنُتّخب سلَ...</td>\n",
              "      <td>Sports</td>\n",
              "      <td>644</td>\n",
              "    </tr>\n",
              "    <tr>\n",
              "      <th>11982</th>\n",
              "      <td>https://example.com/resource/أبٍوَظبيَ «ْاِلخل...</td>\n",
              "      <td>Finance</td>\n",
              "      <td>3280</td>\n",
              "    </tr>\n",
              "    <tr>\n",
              "      <th>17754</th>\n",
              "      <td>https://example.com/resource/دٍبْي ُ- \"الخَليج...</td>\n",
              "      <td>Medical</td>\n",
              "      <td>2528</td>\n",
              "    </tr>\n",
              "    <tr>\n",
              "      <th>2420</th>\n",
              "      <td>https://example.com/resource/دبّيٌ ْ-ّ ّمحمدٍ ...</td>\n",
              "      <td>Culture</td>\n",
              "      <td>4979</td>\n",
              "    </tr>\n",
              "    <tr>\n",
              "      <th>...</th>\n",
              "      <td>...</td>\n",
              "      <td>...</td>\n",
              "      <td>...</td>\n",
              "    </tr>\n",
              "    <tr>\n",
              "      <th>20281</th>\n",
              "      <td>https://example.com/resource/اٍلُجزائَرّ -ُ \"ٌ...</td>\n",
              "      <td>Politics</td>\n",
              "      <td>1370</td>\n",
              "    </tr>\n",
              "    <tr>\n",
              "      <th>37067</th>\n",
              "      <td>https://example.com/resource/كشًفّ ً«ّمُعهٌد ْ...</td>\n",
              "      <td>Tech</td>\n",
              "      <td>3915</td>\n",
              "    </tr>\n",
              "    <tr>\n",
              "      <th>15503</th>\n",
              "      <td>https://example.com/resource/نًظمٍت َطَالْباْت...</td>\n",
              "      <td>Medical</td>\n",
              "      <td>3212</td>\n",
              "    </tr>\n",
              "    <tr>\n",
              "      <th>35326</th>\n",
              "      <td>https://example.com/resource/أٍعُلٍنّت ّسُوني ...</td>\n",
              "      <td>Tech</td>\n",
              "      <td>1502</td>\n",
              "    </tr>\n",
              "    <tr>\n",
              "      <th>3144</th>\n",
              "      <td>https://example.com/resource/تُعٌنٌيِ ْكُلِمُة...</td>\n",
              "      <td>Culture</td>\n",
              "      <td>3081</td>\n",
              "    </tr>\n",
              "  </tbody>\n",
              "</table>\n",
              "<p>25526 rows × 3 columns</p>\n",
              "</div>\n",
              "    <div class=\"colab-df-buttons\">\n",
              "\n",
              "  <div class=\"colab-df-container\">\n",
              "    <button class=\"colab-df-convert\" onclick=\"convertToInteractive('df-93faf423-3cbb-46e0-abbd-00d48f4a7bd4')\"\n",
              "            title=\"Convert this dataframe to an interactive table.\"\n",
              "            style=\"display:none;\">\n",
              "\n",
              "  <svg xmlns=\"http://www.w3.org/2000/svg\" height=\"24px\" viewBox=\"0 -960 960 960\">\n",
              "    <path d=\"M120-120v-720h720v720H120Zm60-500h600v-160H180v160Zm220 220h160v-160H400v160Zm0 220h160v-160H400v160ZM180-400h160v-160H180v160Zm440 0h160v-160H620v160ZM180-180h160v-160H180v160Zm440 0h160v-160H620v160Z\"/>\n",
              "  </svg>\n",
              "    </button>\n",
              "\n",
              "  <style>\n",
              "    .colab-df-container {\n",
              "      display:flex;\n",
              "      gap: 12px;\n",
              "    }\n",
              "\n",
              "    .colab-df-convert {\n",
              "      background-color: #E8F0FE;\n",
              "      border: none;\n",
              "      border-radius: 50%;\n",
              "      cursor: pointer;\n",
              "      display: none;\n",
              "      fill: #1967D2;\n",
              "      height: 32px;\n",
              "      padding: 0 0 0 0;\n",
              "      width: 32px;\n",
              "    }\n",
              "\n",
              "    .colab-df-convert:hover {\n",
              "      background-color: #E2EBFA;\n",
              "      box-shadow: 0px 1px 2px rgba(60, 64, 67, 0.3), 0px 1px 3px 1px rgba(60, 64, 67, 0.15);\n",
              "      fill: #174EA6;\n",
              "    }\n",
              "\n",
              "    .colab-df-buttons div {\n",
              "      margin-bottom: 4px;\n",
              "    }\n",
              "\n",
              "    [theme=dark] .colab-df-convert {\n",
              "      background-color: #3B4455;\n",
              "      fill: #D2E3FC;\n",
              "    }\n",
              "\n",
              "    [theme=dark] .colab-df-convert:hover {\n",
              "      background-color: #434B5C;\n",
              "      box-shadow: 0px 1px 3px 1px rgba(0, 0, 0, 0.15);\n",
              "      filter: drop-shadow(0px 1px 2px rgba(0, 0, 0, 0.3));\n",
              "      fill: #FFFFFF;\n",
              "    }\n",
              "  </style>\n",
              "\n",
              "    <script>\n",
              "      const buttonEl =\n",
              "        document.querySelector('#df-93faf423-3cbb-46e0-abbd-00d48f4a7bd4 button.colab-df-convert');\n",
              "      buttonEl.style.display =\n",
              "        google.colab.kernel.accessAllowed ? 'block' : 'none';\n",
              "\n",
              "      async function convertToInteractive(key) {\n",
              "        const element = document.querySelector('#df-93faf423-3cbb-46e0-abbd-00d48f4a7bd4');\n",
              "        const dataTable =\n",
              "          await google.colab.kernel.invokeFunction('convertToInteractive',\n",
              "                                                    [key], {});\n",
              "        if (!dataTable) return;\n",
              "\n",
              "        const docLinkHtml = 'Like what you see? Visit the ' +\n",
              "          '<a target=\"_blank\" href=https://colab.research.google.com/notebooks/data_table.ipynb>data table notebook</a>'\n",
              "          + ' to learn more about interactive tables.';\n",
              "        element.innerHTML = '';\n",
              "        dataTable['output_type'] = 'display_data';\n",
              "        await google.colab.output.renderOutput(dataTable, element);\n",
              "        const docLink = document.createElement('div');\n",
              "        docLink.innerHTML = docLinkHtml;\n",
              "        element.appendChild(docLink);\n",
              "      }\n",
              "    </script>\n",
              "  </div>\n",
              "\n",
              "\n",
              "<div id=\"df-6ea1c9ec-5f9f-4845-93c8-485f0ce94cee\">\n",
              "  <button class=\"colab-df-quickchart\" onclick=\"quickchart('df-6ea1c9ec-5f9f-4845-93c8-485f0ce94cee')\"\n",
              "            title=\"Suggest charts\"\n",
              "            style=\"display:none;\">\n",
              "\n",
              "<svg xmlns=\"http://www.w3.org/2000/svg\" height=\"24px\"viewBox=\"0 0 24 24\"\n",
              "     width=\"24px\">\n",
              "    <g>\n",
              "        <path d=\"M19 3H5c-1.1 0-2 .9-2 2v14c0 1.1.9 2 2 2h14c1.1 0 2-.9 2-2V5c0-1.1-.9-2-2-2zM9 17H7v-7h2v7zm4 0h-2V7h2v10zm4 0h-2v-4h2v4z\"/>\n",
              "    </g>\n",
              "</svg>\n",
              "  </button>\n",
              "\n",
              "<style>\n",
              "  .colab-df-quickchart {\n",
              "      --bg-color: #E8F0FE;\n",
              "      --fill-color: #1967D2;\n",
              "      --hover-bg-color: #E2EBFA;\n",
              "      --hover-fill-color: #174EA6;\n",
              "      --disabled-fill-color: #AAA;\n",
              "      --disabled-bg-color: #DDD;\n",
              "  }\n",
              "\n",
              "  [theme=dark] .colab-df-quickchart {\n",
              "      --bg-color: #3B4455;\n",
              "      --fill-color: #D2E3FC;\n",
              "      --hover-bg-color: #434B5C;\n",
              "      --hover-fill-color: #FFFFFF;\n",
              "      --disabled-bg-color: #3B4455;\n",
              "      --disabled-fill-color: #666;\n",
              "  }\n",
              "\n",
              "  .colab-df-quickchart {\n",
              "    background-color: var(--bg-color);\n",
              "    border: none;\n",
              "    border-radius: 50%;\n",
              "    cursor: pointer;\n",
              "    display: none;\n",
              "    fill: var(--fill-color);\n",
              "    height: 32px;\n",
              "    padding: 0;\n",
              "    width: 32px;\n",
              "  }\n",
              "\n",
              "  .colab-df-quickchart:hover {\n",
              "    background-color: var(--hover-bg-color);\n",
              "    box-shadow: 0 1px 2px rgba(60, 64, 67, 0.3), 0 1px 3px 1px rgba(60, 64, 67, 0.15);\n",
              "    fill: var(--button-hover-fill-color);\n",
              "  }\n",
              "\n",
              "  .colab-df-quickchart-complete:disabled,\n",
              "  .colab-df-quickchart-complete:disabled:hover {\n",
              "    background-color: var(--disabled-bg-color);\n",
              "    fill: var(--disabled-fill-color);\n",
              "    box-shadow: none;\n",
              "  }\n",
              "\n",
              "  .colab-df-spinner {\n",
              "    border: 2px solid var(--fill-color);\n",
              "    border-color: transparent;\n",
              "    border-bottom-color: var(--fill-color);\n",
              "    animation:\n",
              "      spin 1s steps(1) infinite;\n",
              "  }\n",
              "\n",
              "  @keyframes spin {\n",
              "    0% {\n",
              "      border-color: transparent;\n",
              "      border-bottom-color: var(--fill-color);\n",
              "      border-left-color: var(--fill-color);\n",
              "    }\n",
              "    20% {\n",
              "      border-color: transparent;\n",
              "      border-left-color: var(--fill-color);\n",
              "      border-top-color: var(--fill-color);\n",
              "    }\n",
              "    30% {\n",
              "      border-color: transparent;\n",
              "      border-left-color: var(--fill-color);\n",
              "      border-top-color: var(--fill-color);\n",
              "      border-right-color: var(--fill-color);\n",
              "    }\n",
              "    40% {\n",
              "      border-color: transparent;\n",
              "      border-right-color: var(--fill-color);\n",
              "      border-top-color: var(--fill-color);\n",
              "    }\n",
              "    60% {\n",
              "      border-color: transparent;\n",
              "      border-right-color: var(--fill-color);\n",
              "    }\n",
              "    80% {\n",
              "      border-color: transparent;\n",
              "      border-right-color: var(--fill-color);\n",
              "      border-bottom-color: var(--fill-color);\n",
              "    }\n",
              "    90% {\n",
              "      border-color: transparent;\n",
              "      border-bottom-color: var(--fill-color);\n",
              "    }\n",
              "  }\n",
              "</style>\n",
              "\n",
              "  <script>\n",
              "    async function quickchart(key) {\n",
              "      const quickchartButtonEl =\n",
              "        document.querySelector('#' + key + ' button');\n",
              "      quickchartButtonEl.disabled = true;  // To prevent multiple clicks.\n",
              "      quickchartButtonEl.classList.add('colab-df-spinner');\n",
              "      try {\n",
              "        const charts = await google.colab.kernel.invokeFunction(\n",
              "            'suggestCharts', [key], {});\n",
              "      } catch (error) {\n",
              "        console.error('Error during call to suggestCharts:', error);\n",
              "      }\n",
              "      quickchartButtonEl.classList.remove('colab-df-spinner');\n",
              "      quickchartButtonEl.classList.add('colab-df-quickchart-complete');\n",
              "    }\n",
              "    (() => {\n",
              "      let quickchartButtonEl =\n",
              "        document.querySelector('#df-6ea1c9ec-5f9f-4845-93c8-485f0ce94cee button');\n",
              "      quickchartButtonEl.style.display =\n",
              "        google.colab.kernel.accessAllowed ? 'block' : 'none';\n",
              "    })();\n",
              "  </script>\n",
              "</div>\n",
              "\n",
              "  <div id=\"id_60b37aea-1ba3-456e-b09f-ee0521c1bb5d\">\n",
              "    <style>\n",
              "      .colab-df-generate {\n",
              "        background-color: #E8F0FE;\n",
              "        border: none;\n",
              "        border-radius: 50%;\n",
              "        cursor: pointer;\n",
              "        display: none;\n",
              "        fill: #1967D2;\n",
              "        height: 32px;\n",
              "        padding: 0 0 0 0;\n",
              "        width: 32px;\n",
              "      }\n",
              "\n",
              "      .colab-df-generate:hover {\n",
              "        background-color: #E2EBFA;\n",
              "        box-shadow: 0px 1px 2px rgba(60, 64, 67, 0.3), 0px 1px 3px 1px rgba(60, 64, 67, 0.15);\n",
              "        fill: #174EA6;\n",
              "      }\n",
              "\n",
              "      [theme=dark] .colab-df-generate {\n",
              "        background-color: #3B4455;\n",
              "        fill: #D2E3FC;\n",
              "      }\n",
              "\n",
              "      [theme=dark] .colab-df-generate:hover {\n",
              "        background-color: #434B5C;\n",
              "        box-shadow: 0px 1px 3px 1px rgba(0, 0, 0, 0.15);\n",
              "        filter: drop-shadow(0px 1px 2px rgba(0, 0, 0, 0.3));\n",
              "        fill: #FFFFFF;\n",
              "      }\n",
              "    </style>\n",
              "    <button class=\"colab-df-generate\" onclick=\"generateWithVariable('train')\"\n",
              "            title=\"Generate code using this dataframe.\"\n",
              "            style=\"display:none;\">\n",
              "\n",
              "  <svg xmlns=\"http://www.w3.org/2000/svg\" height=\"24px\"viewBox=\"0 0 24 24\"\n",
              "       width=\"24px\">\n",
              "    <path d=\"M7,19H8.4L18.45,9,17,7.55,7,17.6ZM5,21V16.75L18.45,3.32a2,2,0,0,1,2.83,0l1.4,1.43a1.91,1.91,0,0,1,.58,1.4,1.91,1.91,0,0,1-.58,1.4L9.25,21ZM18.45,9,17,7.55Zm-12,3A5.31,5.31,0,0,0,4.9,8.1,5.31,5.31,0,0,0,1,6.5,5.31,5.31,0,0,0,4.9,4.9,5.31,5.31,0,0,0,6.5,1,5.31,5.31,0,0,0,8.1,4.9,5.31,5.31,0,0,0,12,6.5,5.46,5.46,0,0,0,6.5,12Z\"/>\n",
              "  </svg>\n",
              "    </button>\n",
              "    <script>\n",
              "      (() => {\n",
              "      const buttonEl =\n",
              "        document.querySelector('#id_60b37aea-1ba3-456e-b09f-ee0521c1bb5d button.colab-df-generate');\n",
              "      buttonEl.style.display =\n",
              "        google.colab.kernel.accessAllowed ? 'block' : 'none';\n",
              "\n",
              "      buttonEl.onclick = () => {\n",
              "        google.colab.notebook.generateWithVariable('train');\n",
              "      }\n",
              "      })();\n",
              "    </script>\n",
              "  </div>\n",
              "\n",
              "    </div>\n",
              "  </div>\n"
            ],
            "application/vnd.google.colaboratory.intrinsic+json": {
              "type": "dataframe",
              "variable_name": "train",
              "summary": "{\n  \"name\": \"train\",\n  \"rows\": 25526,\n  \"fields\": [\n    {\n      \"column\": \"text\",\n      \"properties\": {\n        \"dtype\": \"string\",\n        \"num_unique_values\": 25526,\n        \"samples\": [\n          \"https://example.com/resource/\\u062f\\u064f\\u0639\\u064b\\u0627\\u0651 \\u0645\\u0627\\u0644\\u064e\\u0643 \\u0622\\u0644 \\u064e\\u0645\\u0650\\u0627\\u0644\\u064c\\u0643\\u060c \\u064c\\u0627\\u0651\\u0644\\u0650\\u0645\\u062f\\u064d\\u064a\\u064e\\u0631 \\u064c\\u0627\\u0650\\u0644\\u062a\\u0646\\u0641\\u064a\\u064e\\u0630\\u064c\\u064a \\u064f\\u0644\\u064c\\u0645\\u064b\\u062f\\u064a\\u064b\\u0646\\u0629 \\u062f\\u0650\\u0628\\u064b\\u064a\\u064e \\u064d\\u0644\\u0652\\u0644\\u064e\\u0625\\u0646\\u062a\\u064d\\u0631\\u0646\\u062a\\u064c\\u060c\\u064d \\u0652\\u0634\\u0650\\u0631\\u0651\\u0643\\u0627\\u062a\\u064d \\u064e\\u0627\\u0644\\u0650\\u0627\\u062a\\u0635\\u0627\\u064f\\u0644\\u0627\\u062a \\u064c\\u0641\\u064a\\u0652 \\u0652\\u0645\\u064d\\u0646\\u0637\\u0642\\u064b\\u0629 \\u064f\\u0627\\u0644\\u0634\\u064c\\u0631\\u0642\\u064b \\u0627\\u0652\\u0644\\u0651\\u0623\\u064c\\u0648\\u0633\\u064e\\u0637 \\u064b\\u0625\\u064d\\u0644\\u0649\\u064c \\u0651\\u0631\\u064c\\u0635\\u0650\\u062f \\u0648\\u062f\\u0639\\u0651\\u0645 \\u0634\\u0652\\u0631\\u0651\\u0643\\u064b\\u0627\\u064e\\u062a\\u0651 \\u0627\\u064e\\u0644\\u0650\\u062a\\u064b\\u0643\\u0646\\u0648\\u064b\\u0644\\u0648\\u064d\\u062c\\u064a\\u0627 \\u0627\\u064c\\u0644\\u064f\\u0646\\u0627\\u0651\\u0634\\u0652\\u0626\\u0629\\u0650 \\u064f\\u0627\\u0644\\u062a\\u064d\\u064a \\u064f\\u064a\\u0650\\u0645\\u064d\\u0643\\u0646\\u064f \\u0650\\u0623\\u0652\\u0646 \\u064b\\u062a\\u0634\\u0643\\u0644 \\u064c\\u0645\\u0635\\u0650\\u062f\\u064f\\u0631\\u0627\\u064e\\u064b \\u064e\\u062d\\u064a\\u0652\\u0648\\u064a\\u064b\\u0627\\u0652\\u064b\\u064d \\u0651\\u0644\\u0645\\u064e\\u0646\\u064c\\u062a\\u062c\\u064f\\u0627\\u062a \\u0650\\u0648\\u062e\\u062f\\u064c\\u0645\\u0650\\u0627\\u062a \\u0652\\u0645\\u064f\\u0628\\u062a\\u064f\\u0643\\u0631\\u0629\\u064d \\u064e.\\u064e\\u062c\\u0652\\u0627\\u0652\\u0621\\u064b \\u0630\\u0644\\u064b\\u0643 \\u064c\\u062e\\u064f\\u0644\\u0627\\u0652\\u0644\\u0650 \\u0652\\u0643\\u064e\\u0644\\u0645\\u0651\\u0629 \\u064b\\u0631\\u0651\\u0626\\u064b\\u064a\\u0633\\u0651\\u064a\\u064e\\u0629\\u064e \\u0652\\u0628\\u0651\\u0639\\u064b\\u0646\\u064e\\u0648\\u064d\\u0627\\u0646\\u0652 \\u0651\\u0646\\u0638\\u064b\\u0631\\u064b\\u0629\\u064c \\u0639\\u0644\\u0652\\u0649 \\u0642\\u064c\\u0637\\u0627\\u064f\\u0639 \\u0627\\u0644\\u064b\\u0627\\u0652\\u062a\\u064c\\u0635\\u0627\\u0644\\u064d\\u0627\\u062a \\u064d\\u0641\\u0652\\u064a \\u0627\\u064e\\u0644\\u0650\\u0634\\u064c\\u0631\\u064b\\u0642\\u064c \\u0627\\u0644\\u0623\\u064b\\u0648\\u064f\\u0633\\u0637\\u0651\\u060c \\u0623\\u064f\\u0644\\u0642\\u064f\\u0627\\u0647\\u064f\\u0627 \\u0622\\u0644\\u0651 \\u064e\\u0645\\u0627\\u0644\\u0651\\u0643 \\u064c\\u0641\\u064a\\u064f \\u064e\\u0627\\u0644\\u064a\\u064c\\u0648\\u0645 \\u0627\\u0644\\u0623\\u064b\\u0648\\u0644\\u064e \\u064f\\u0645\\u0646 \\u0641\\u0651\\u0639\\u0627\\u0644\\u064a\\u064f\\u0627\\u062a\\u064f \\u064b\\u0627\\u064d\\u0644\\u064d\\u0645\\u0652\\u0624\\u064f\\u062a\\u064c\\u0645\\u0631 \\u0627\\u064c\\u0644\\u0633\\u0646\\u064d\\u0648\\u064a\\u064d \\u0627\\u0644\\u0651\\u062b\\u0627\\u0651\\u0644\\u062b\\u0652 \\u0644\\u062a\\u064f\\u0645\\u0648\\u064a\\u064e\\u0644\\u064e \\u064b\\u0627\\u0644\\u0627\\u062a\\u0652\\u0635\\u0627\\u0644\\u0650\\u0627\\u062a\\u064d \\u064d\\u0641\\u064b\\u064a \\u0627\\u0652\\u0644\\u0652\\u0634\\u064f\\u0631\\u0642\\u064e \\u0627\\u0650\\u0644\\u0623\\u064d\\u0648\\u064f\\u0633\\u064d\\u0637\\u0651 \\u0648\\u0625\\u0641\\u064c\\u0631\\u064c\\u064a\\u064d\\u0642\\u064d\\u064a\\u0627\\u064d \\u060c\\u06502\\u065000\\u06509\\u0652 \\u064f\\u0627\\u064b\\u0644\\u0630\\u064f\\u064a \\u064e\\u0639\\u0642\\u062f \\u0623\\u0650\\u0645\\u0633\\u0652 \\u0627\\u0644\\u0623\\u0648\\u0652\\u0644\\u064f \\u0641\\u0651\\u064a\\u064e \\u0641\\u0646\\u064f\\u062f\\u0652\\u0642\\u064d \\u0628\\u0627\\u064d\\u0631\\u064e\\u0643\\u064e \\u064d\\u062d\\u064a\\u0650\\u0627\\u064f\\u0629 \\u0628\\u0652\\u062f\\u0628\\u064a\\u064b \\u064c.\\u0648\\u0623\\u064d\\u0636\\u0627\\u064f\\u0641 \\u0652\\u0622\\u064d\\u0644 \\u064c\\u0645\\u064b\\u0627\\u0644\\u0643\\u064d \\u0627\\u0644\\u064e\\u0630\\u064a \\u064b\\u064a\\u064d\\u0642\\u0651\\u0648\\u0650\\u062f\\u0650 \\u0652\\u0648\\u0627\\u062d\\u062f\\u0629 \\u0651\\u0645\\u064e\\u0646 \\u064f\\u0623\\u0652\\u0643\\u064c\\u0628\\u0631 \\u0645\\u064d\\u062c\\u0650\\u0645\\u064d\\u0639\\u0627\\u064c\\u062a\\u064e \\u062a\\u0643\\u0646\\u0648\\u0644\\u0651\\u0648\\u062c\\u064a\\u064f\\u0627\\u0652 \\u064b\\u0627\\u0644\\u064d\\u0645\\u0639\\u064b\\u0644\\u0648\\u064d\\u0645\\u0627\\u062a \\u064e\\u0648\\u0627\\u0644\\u0627\\u064e\\u062a\\u064c\\u0635\\u064b\\u0627\\u064e\\u0644\\u0627\\u062a \\u0641\\u0651\\u064a \\u0627\\u0650\\u0644\\u0639\\u064b\\u0627\\u0644\\u064f\\u0645: \\u064f\\u064a\\u064b\\u0645\\u064d\\u0643\\u0646\\u0651 \\u0644\\u0644\\u0634\\u0631\\u064e\\u0643\\u064f\\u0627\\u062a\\u064e \\u0627\\u064d\\u0644\\u0646\\u064f\\u0627\\u0634\\u0626\\u064b\\u0629 \\u0623\\u0652\\u0646\\u064f \\u0651\\u062a\\u0633\\u0647\\u064c\\u0645 \\u064b\\u0628\\u0641\\u064f\\u0639\\u0627\\u0644\\u064a\\u0629\\u064f \\u0641\\u064f\\u064a\\u064e \\u062a\\u0652\\u0642\\u0644\\u064b\\u064a\\u0650\\u0635 \\u0627\\u0644\\u064c\\u0648\\u0642\\u064c\\u062a\\u064f \\u0648\\u0627\\u0644\\u062a\\u0643\\u0627\\u0644\\u064e\\u064a\\u0650\\u0641\\u064d \\u064f\\u0644\\u062a\\u0637\\u0648\\u064a\\u064d\\u0631\\u064f \\u0651\\u062a\\u064d\\u0642\\u064d\\u0646\\u064a\\u0627\\u062a\\u064e \\u064b\\u062c\\u062f\\u064f\\u064a\\u062f\\u0652\\u0629\\u0650 \\u0644\\u064d\\u0634\\u064d\\u0631\\u064c\\u0643\\u0627\\u064c\\u062a\\u0650 \\u064c\\u0627\\u064c\\u0644\\u064c\\u0627\\u062a\\u0635\\u064b\\u0627\\u0644\\u0627\\u0652\\u062a \\u064b.\\u0651 \\u0648\\u064c\\u0641\\u064a\\u064b \\u064f\\u062d\\u064b\\u064a\\u0646 \\u0623\\u064d\\u0646\\u064d \\u064d\\u0628\\u064d\\u0639\\u0650\\u0636\\u0651 \\u064e\\u0634\\u0631\\u0643\\u0650\\u0627\\u0652\\u062a\\u064d \\u0627\\u0644\\u064e\\u0627\\u064d\\u062a\\u0635\\u064c\\u0627\\u0644\\u0627\\u062a\\u064b \\u062d\\u0648\\u064f\\u0644\\u0652 \\u0652\\u0627\\u0644\\u0650\\u0639\\u0627\\u064b\\u0644\\u064c\\u0645 \\u064e\\u0642\\u062f\\u0651 \\u064c\\u0628\\u0652\\u062f\\u0623\\u062a\\u0652 \\u0628\\u062a\\u064f\\u062e\\u0635\\u064a\\u064e\\u0635 \\u0627\\u064c\\u0644\\u0645\\u064e\\u0648\\u064b\\u0627\\u0631\\u064e\\u062f\\u0651 \\u0644\\u064b\\u0645\\u064b\\u0631\\u064b\\u0627\\u0651\\u0642\\u0628\\u064f\\u0629 \\u064d\\u0627\\u064c\\u0644\\u0650\\u0633\\u0648\\u0650\\u0642 \\u0651\\u0628\\u062d\\u064f\\u062b\\u0627\\u064e\\u064b\\u0651 \\u0652\\u0639\\u064b\\u0646 \\u064d\\u0634\\u0650\\u0631\\u064d\\u0643\\u0627\\u062a \\u0627\\u0652\\u0644\\u0650\\u062a\\u0643\\u0646\\u0648\\u064f\\u0644\\u0648\\u062c\\u064e\\u064a\\u0627 \\u0627\\u0644\\u0650\\u0645\\u0652\\u0628\\u062a\\u0651\\u0643\\u0631\\u064b\\u0629\\u060c \\u0641\\u064d\\u0625\\u0650\\u0646\\u064f \\u0642\\u0637\\u064b\\u0627\\u064d\\u0639 \\u0650\\u0627\\u064e\\u0644\\u0627\\u064e\\u062a\\u064b\\u0635\\u0652\\u0627\\u0652\\u0644\\u064d\\u0627\\u064c\\u062a\\u0651 \\u0641\\u064a \\u0627\\u0644\\u064e\\u0634\\u064d\\u0631\\u0652\\u0642 \\u064d\\u0627\\u064c\\u0644\\u064e\\u0623\\u0648\\u064c\\u0633\\u0652\\u0637\\u0651 \\u0633\\u064a\\u0650\\u0633\\u062a\\u064f\\u0641\\u0650\\u064a\\u064e\\u062f \\u064e\\u0623\\u064c\\u064a\\u0636\\u064c\\u0627\\u064b \\u0645\\u0646 \\u0646\\u0645\\u0650\\u0648\\u064c\\u0630\\u062c\\u064f \\u0639\\u064d\\u0645\\u0644 \\u0645\\u0645\\u0627\\u062b\\u0644 \\u064b.\\u0648\\u0650\\u062a\\u0637\\u0631\\u0642 \\u0627\\u0644\\u064f\\u0645\\u064b\\u062f\\u064f\\u064a\\u0631 \\u0627\\u064c\\u0644\\u062a\\u0650\\u0646\\u0641\\u064a\\u064f\\u0630\\u064e\\u064a \\u0644\\u064d\\u062f\\u064b\\u0628\\u0651\\u064a\\u0652 \\u0644\\u0644\\u0625\\u0646\\u062a\\u0631\\u064e\\u0646\\u062a \\u0625\\u064d\\u0644\\u0649\\u064d \\u0627\\u0644\\u0650\\u062a\\u0652\\u063a\\u064a\\u064f\\u064a\\u0631\\u0627\\u062a \\u0627\\u0650\\u0644\\u0650\\u062a\\u0652\\u064a\\u0651 \\u0650\\u0627\\u064b\\u062c\\u064d\\u062a\\u0651\\u0627\\u062d\\u062a \\u0652\\u0645\\u0646\\u0637\\u0642\\u0629 \\u0651\\u0627\\u0644\\u064b\\u0634\\u0631\\u064f\\u0642\\u0651 \\u0627\\u0650\\u0644\\u064d\\u0623\\u0648\\u064c\\u0633\\u0637\\u064e \\u0639\\u064c\\u0644\\u0651\\u0649\\u064e \\u0645\\u0652\\u062f\\u0650\\u0649\\u064f \\u0650\\u0627\\u0644\\u0639\\u0642\\u0652\\u062f\\u064c \\u064e\\u0627\\u064b\\u0644\\u0650\\u0645\\u0652\\u0627\\u0636\\u0652\\u064a\\u0650\\u060c\\u064b \\u0627\\u064f\\u0644\\u064d\\u0623\\u064e\\u0645\\u0631 \\u0627\\u0644\\u0630\\u0651\\u064a\\u064b \\u064f\\u0623\\u062f\\u064f\\u0649\\u0650 \\u0625\\u0644\\u064c\\u0649\\u0650 \\u064e\\u0646\\u0634\\u0648\\u064e\\u0621\\u064b \\u062a\\u0650\\u0648\\u062c\\u0647\\u0652 \\u064c\\u062c\\u062f\\u064a\\u062f \\u064d\\u0641\\u064c\\u0631\\u064b\\u0636\\u064e \\u0639\\u0650\\u0644\\u0649\\u0650 \\u0634\\u064b\\u0631\\u0652\\u0643\\u064e\\u0627\\u0651\\u062a\\u064b \\u064e\\u0627\\u0644\\u064f\\u0627\\u0650\\u062a\\u064d\\u0635\\u0627\\u0644\\u0627\\u062a \\u064d\\u0636\\u064d\\u0631\\u0648\\u064f\\u0631\\u064b\\u0629\\u0650 \\u064c\\u0627\\u0644\\u0645\\u064b\\u062d\\u064f\\u0627\\u064e\\u0641\\u0652\\u0638\\u0629\\u0651 \\u0639\\u064b\\u0644\\u0649\\u064f \\u0642\\u064d\\u062f\\u0652\\u0631\\u064c\\u0627\\u062a\\u0651\\u0647\\u0650\\u0627\\u0652 \\u064d\\u0627\\u064c\\u0644\\u0650\\u062a\\u064e\\u0646\\u0627\\u064d\\u0641\\u0651\\u0633\\u064a\\u0629\\u064d \\u0628\\u0634\\u0643\\u0644 \\u0645\\u064f\\u0633\\u064d\\u062a\\u0645\\u0652\\u0631 \\u0652\\u0645\\u0646 \\u0652\\u062e\\u0644\\u0627\\u0644\\u0651 \\u062a\\u0648\\u0641\\u064a\\u0631\\u0652 \\u0645\\u0651\\u0646\\u064f\\u062a\\u062c\\u0652\\u0627\\u062a \\u064c\\u0648\\u064c\\u062e\\u062f\\u0645\\u0627\\u064e\\u062a \\u0645\\u0628\\u062a\\u0651\\u0643\\u064c\\u0631\\u0629 \\u064d\\u0644\\u062f\\u064f\\u0639\\u0645 \\u0627\\u064d\\u0644\\u0651\\u0628\\u0651\\u0646\\u0652\\u064a\\u0629\\u0652 \\u0650\\u0627\\u064b\\u0644\\u0650\\u062a\\u064e\\u062d\\u062a\\u064a\\u0629 \\u064d\\u0644\\u0645\\u0650\\u0632\\u064f\\u0648\\u062f\\u064a \\u062e\\u062f\\u0645\\u0650\\u0627\\u062a \\u0627\\u0644\\u064b\\u0627\\u062a\\u064e\\u0635\\u0627\\u0652\\u0644\\u0650\\u0627\\u0650\\u062a\\u064c \\u064f.\\u0648\\u0623\\u0634\\u0627\\u0650\\u0631 \\u064e\\u0645\\u0627\\u0651\\u0644\\u0651\\u0643\\u0652 \\u064f\\u0622\\u0644\\u064c \\u0645\\u0627\\u0644\\u0651\\u0643 \\u0625\\u064e\\u0644\\u0650\\u0649 \\u0652\\u0648\\u0650\\u062c\\u064f\\u0648\\u064e\\u062f\\u0651 \\u064b\\u0625\\u064d\\u0645\\u0643\\u0627\\u0650\\u0646\\u0627\\u064c\\u062a \\u0650\\u0646\\u0645\\u0648 \\u0651\\u0643\\u064c\\u0628\\u064a\\u0631\\u064e\\u0629 \\u0641\\u064b\\u064a\\u0652 \\u0650\\u0642\\u0637\\u0650\\u0627\\u0639\\u0650 \\u064d\\u0627\\u0644\\u0651\\u0627\\u0651\\u062a\\u0652\\u0635\\u064d\\u0627\\u0644\\u0627\\u064c\\u062a \\u0641\\u0651\\u064a \\u0652\\u0627\\u064f\\u0644\\u0651\\u0645\\u0646\\u0637\\u0642\\u0629 \\u0645\\u0633\\u062a\\u0634\\u0652\\u0647\\u0650\\u062f\\u0650\\u0627\\u0652\\u064b\\u064f \\u064d\\u0628\\u064c\\u0639\\u0652\\u062f\\u062f \\u0651\\u0645\\u0650\\u0646\\u0652 \\u0623\\u0647\\u064f\\u0645\\u0651 \\u0627\\u0644\\u0645\\u0652\\u0635\\u064d\\u0627\\u0650\\u062f\\u0652\\u0631 \\u0652\\u0627\\u064d\\u0644\\u0639\\u0652\\u0627\\u0644\\u064d\\u0645\\u064a\\u0629\\u060c \\u0628\\u0645\\u0627\\u064d \\u0651\\u0641\\u064a\\u0647\\u0627 \\u062a\\u0642\\u0651\\u0631\\u064a\\u0650\\u0631\\u064f \\u064e\\u062a\\u064f\\u0643\\u064b\\u0646\\u064b\\u0648\\u0644\\u0648\\u062c\\u064e\\u064a\\u0650\\u0627\\u0651 \\u0627\\u0644\\u0645\\u064e\\u0639\\u0644\\u0648\\u0645\\u064b\\u0627\\u064c\\u062a\\u064c \\u0627\\u0644\\u0652\\u062f\\u064e\\u0648\\u0644\\u064a\\u064f\\u0629\\u064f\\u060c\\u064f \\u0627\\u064c\\u0644\\u064e\\u0630\\u064a\\u0651 \\u0635\\u0650\\u062f\\u0631\\u0651 \\u0645\\u064e\\u0624\\u064c\\u062e\\u064d\\u0631\\u064e\\u0627\\u064b\\u064f \\u0639\\u064c\\u0646\\u064e \\u0627\\u0644\\u0645\\u0646\\u062a\\u0650\\u062f\\u0649 \\u064e\\u0627\\u0644\\u064b\\u0627\\u0642\\u064f\\u062a\\u0635\\u064e\\u0627\\u0652\\u062f\\u064a\\u064c \\u0627\\u0651\\u0644\\u0639\\u064d\\u0627\\u0650\\u0644\\u0645\\u0652\\u064a\\u064f \\u0648\\u0652\\u0643\\u0644\\u064d\\u064a\\u0652\\u0629 \\u0627\\u064c\\u0646\\u0652\\u0633\\u064a\\u0651\\u062f \\u064d\\u0644\\u0652\\u0644\\u0652\\u0623\\u064c\\u0639\\u0645\\u0627\\u0644 \\u064d.\\u064f \\u064b\\u0648\\u0623\\u0643\\u064e\\u062f \\u0639\\u0652\\u0644\\u0649 \\u0627\\u064c\\u0644\\u0652\\u0641\\u0631\\u064f\\u0635\\u0651 \\u0627\\u064b\\u0644\\u0648\\u0627\\u0639\\u062f\\u064f\\u0629 \\u0650\\u0627\\u064c\\u0644\\u064b\\u062a\\u064f\\u064a \\u064c\\u062a\\u062a\\u064a\\u062d\\u064b\\u0647\\u0627 \\u0623\\u064f\\u0633\\u0651\\u0648\\u0627\\u0642 \\u0627\\u064e\\u0644\\u0645\\u0646\\u064f\\u0637\\u0651\\u0642\\u064f\\u0629\\u064f\\u060c\\u0652 \\u0650\\u062d\\u0650\\u064a\\u064c\\u062b\\u064b \\u064a\\u064b\\u0642\\u062f\\u064b\\u0631 \\u0623\\u0646\\u0650 \\u064a\\u0635\\u0652\\u0644\\u0652 \\u064f\\u062d\\u062c\\u064b\\u0645 \\u0627\\u0651\\u0644\\u0625\\u0646\\u0650\\u0641\\u0627\\u0642\\u064c \\u0651\\u0639\\u0650\\u0644\\u064c\\u0649\\u064e \\u064d\\u062e\\u064f\\u062f\\u0645\\u0627\\u064f\\u062a \\u062a\\u064c\\u0643\\u064e\\u0646\\u064f\\u0648\\u0644\\u0648\\u062c\\u0652\\u064a\\u0627 \\u0627\\u0644\\u064f\\u0645\\u0650\\u0639\\u0644\\u0648\\u0651\\u0645\\u064c\\u0627\\u062a\\u064c \\u064c\\u0641\\u064a \\u0642\\u064b\\u0637\\u0627\\u0639 \\u0627\\u064b\\u0644\\u0627\\u062a\\u0635\\u0627\\u0644\\u064c\\u0627\\u0650\\u062a\\u064d \\u0652\\u0641\\u0651\\u064a\\u064c \\u0627\\u064b\\u0644\\u062f\\u0648\\u064b\\u0644\\u0629 \\u0644\\u0649 97\\u064f \\u064e\\u0645\\u0644\\u064a\\u064e\\u0648\\u064b\\u0646 \\u0651\\u062f\\u064d\\u0648\\u064f\\u0644\\u0652\\u0627\\u0631\\u0650 \\u0623\\u0645\\u0631\\u064c\\u064a\\u0643\\u064b\\u064a\\u064b \\u0641\\u064a \\u0651\\u0639\\u0650\\u0627\\u064e\\u0645 \\u064c\\u060c2\\u065200\\u064e9 \\u0644\\u064a\\u0631\\u064f\\u062a\\u064d\\u0641\\u0652\\u0639 \\u064c\\u0625\\u0644\\u064b\\u0649 1\\u065133 \\u0650\\u0645\\u064f\\u0644\\u064d\\u064a\\u0648\\u0646\\u0650 \\u064b\\u062f\\u0648\\u0644\\u0627\\u064c\\u0631 \\u0628\\u064d\\u062d\\u0652\\u0644\\u064c\\u0648\\u0644\\u064e \\u064e2\\u06520\\u065111 .\\u0652\",\n          \"https://example.com/resource/\\u0625\\u0639\\u062f\\u064b\\u0627\\u062f:\\u064b \\u064d\\u0645\\u0652\\u062d\\u0645\\u062f \\u0635\\u0627\\u0652\\u0644\\u062d \\u0650\\u0627\\u0644\\u0642\\u0631\\u0651\\u0642\\u0651\\u0648\\u0627\\u0641\\u0642 \\u064d\\u0627\\u0652\\u0644\\u0623\\u0648\\u0644 \\u064f\\u0645\\u064b\\u0646\\u0652 \\u0627\\u0650\\u0644\\u0633\\u0646\\u0629\\u0650 \\u064a\\u0648\\u0645\\u064d \\u0627\\u0644\\u0623\\u062d\\u064d\\u062f 1\\u06517\\u064c \\u0651\\u0645\\u0627\\u064a\\u0648\\u064e \\u065066\\u064d0\\u064f\\u0645\\u064b \\u064d.\\u0652* \\u0652\\u0627\\u0644\\u0633\\u0650\\u0646\\u0651\\u0629 \\u0651\\u0627\\u064b\\u0644\\u064f\\u0623\\u062e\\u064a\\u064c\\u0631\\u0629\\u064f \\u0651\\u0644\\u064e\\u062e\\u064c\\u0644\\u0627\\u064c\\u0641\\u064b\\u0629 \\u0651\\u0639\\u0644\\u064a\\u064d \\u0628\\u064f\\u0646\\u064e \\u064f\\u0623\\u0628\\u064d\\u064a\\u064c \\u0637\\u0627\\u064b\\u0644\\u064c\\u0628\\u064c \\u064c\\u0648\\u0628\\u0647 \\u0652\\u0627\\u064c\\u0646\\u0651\\u062a\\u064b\\u0647\\u064c\\u0649\\u064c \\u0639\\u0635\\u0631\\u064b \\u0627\\u0644\\u062e\\u0651\\u0644\\u0651\\u0641\\u064f\\u0627\\u064d\\u0621\\u0652 \\u064c\\u0627\\u064e\\u0644\\u0631\\u064d\\u0627\\u0650\\u0634\\u062f\\u064c\\u064a\\u0646 .\\u064e* \\u062a\\u0648\\u0652\\u0644\\u064e\\u0649 \\u0639\\u0644\\u064f\\u0649\\u064f \\u064b\\u0627\\u0651\\u0644\\u0652\\u0645\\u062f\\u064a\\u0646\\u064f\\u0629 \\u0627\\u0644\\u0635\\u062d\\u0627\\u0628\\u064c\\u064a\\u064e \\u064c\\u0623\\u0628\\u064b\\u0648\\u064b \\u0623\\u064d\\u064a\\u0651\\u0648\\u0650\\u0628\\u0650 \\u0651\\u0627\\u0644\\u0623\\u064f\\u0646\\u0635\\u0627\\u0651\\u0631\\u064a\\u060c\\u064d \\u064f\\u0648\\u062e\\u0644\\u064e\\u0641\\u064c\\u0647 \\u0641\\u0652\\u064a \\u064e\\u0646\\u064f\\u0647\\u0627\\u064a\\u0629\\u064c \\u064b\\u0627\\u0644\\u0639\\u0627\\u064c\\u0645\\u0651 \\u0627\\u064b\\u0644\\u0635\\u0650\\u062d\\u064d\\u0627\\u0628\\u064a \\u064c\\u0627\\u064c\\u0644\\u0650\\u0645\\u0650\\u062d\\u0652\\u062f\\u062b \\u0623\\u0652\\u0628\\u064c\\u0648\\u0651 \\u064d\\u0647\\u0631\\u064a\\u064d\\u0631\\u0629\\u0651 \\u0645\\u064b\\u0646\\u0652 \\u0651\\u0642\\u0628\\u064b\\u0644 \\u0645\\u0639\\u0627\\u0652\\u0648\\u064f\\u064a\\u0629\\u064e\\u060c\\u0651 \\u0648\\u0639\\u0644\\u0650\\u0649 \\u064d\\u0627\\u064e\\u0644\\u0628\\u0652\\u0635\\u0631\\u0629 \\u0639\\u064b\\u0628\\u064e\\u062f\\u0627\\u064f\\u0644\\u064d\\u0644\\u0647 \\u0628\\u0650\\u0646 \\u064f\\u0639\\u064b\\u0628\\u0650\\u0627\\u0651\\u0633 \\u0651.*\\u064d \\u0623\\u0631\\u0650\\u0633\\u0652\\u0644\\u0650 \\u0645\\u0652\\u0639\\u0651\\u0627\\u0648\\u064f\\u064a\\u064d\\u0629 \\u0652\\u062c\\u064a\\u0634\\u0651\\u0627\\u0650\\u064b \\u0644\\u064e\\u0644\\u0651\\u0627\\u0633\\u0651\\u062a\\u064a\\u0651\\u0644\\u064d\\u0627\\u0621 \\u0650\\u0639\\u0644\\u064b\\u0649 \\u0627\\u0652\\u0644\\u064e\\u0645\\u062f\\u064a\\u0646\\u0629\\u064f \\u0650\\u0628\\u0650\\u0642\\u0651\\u064a\\u0627\\u064f\\u062f\\u0629\\u064d \\u0628\\u064d\\u0633\\u064b\\u0631\\u064b \\u0650\\u0628\\u064c\\u0646\\u0652 \\u0627\\u0651\\u0631\\u0637\\u064e\\u0627\\u0629\\u064c \\u0651\\u0645\\u064f\\u0646 \\u0639\\u0627\\u0645\\u0651\\u0644\\u0651\\u0647\\u0627\\u064c \\u0652\\u0623\\u0652\\u0628\\u064a \\u0623\\u064a\\u0648\\u0651\\u0628 \\u0650\\u0627\\u0644\\u064e\\u0623\\u064d\\u0646\\u064c\\u0635\\u064c\\u0627\\u0631\\u0651\\u064a \\u0627\\u064b\\u0644\\u0630\\u064f\\u064a \\u064c\\u0646\\u0641\\u0631\\u064d \\u0645\\u0646\\u0647\\u064b\\u0627 \\u064d.\\u064f* \\u064f\\u0627\\u064c\\u0633\\u064e\\u062a\\u0634\\u064e\\u0647\\u062f \\u0650\\u0623\\u0645\\u0651\\u064a\\u064e\\u0631\\u064e \\u0627\\u0652\\u0644\\u0645\\u064f\\u0624\\u0645\\u0646\\u064a\\u0646\\u064b \\u0639\\u0644\\u064c\\u064a\\u064c \\u0628\\u0646\\u064b \\u0650\\u0623\\u064f\\u0628\\u064a\\u064c \\u0637\\u0627\\u0652\\u0644\\u064b\\u0628\\u0650 \\u0631\\u064e\\u0636\\u064a\\u064c \\u0627\\u064b\\u0644\\u0644\\u0647 \\u0639\\u0646\\u0652\\u0647\\u060c\\u064d \\u0625\\u0652\\u0630\\u064f \\u0627\\u063a\\u062a\\u0650\\u0627\\u0644\\u064c\\u0647\\u0650 \\u0639\\u064c\\u0628\\u0651\\u062f\\u0627\\u0644\\u0631\\u0652\\u062d\\u0645\\u0646 \\u0628\\u0646 \\u0645\\u064f\\u0644\\u0652\\u062c\\u064e\\u0645\\u060c\\u064c \\u0648\\u062a\\u0648\\u0641\\u0651\\u064a\\u0651 \\u0628\\u064d\\u0639\\u062f\\u0650 \\u064a\\u064e\\u0648\\u064c\\u0645\\u064a\\u0650\\u0646 \\u064c\\u0639\\u0644\\u0649\\u0650 \\u0627\\u064c\\u0644\\u0652\\u0623\\u0634\\u0647\\u0631 \\u0641\\u064e\\u064a\\u0651 \\u065017 \\u0631\\u0645\\u064c\\u0636\\u0627\\u0652\\u0646\\u0650 \\u064e(\\u064e2\\u064e4 \\u064a\\u0646\\u064d\\u0627\\u064e\\u064a\\u0631 \\u064d6\\u064e61\\u064d)\\u064e \\u0651\\u0648\\u064e\\u062f\\u0650\\u0641\\u0646 \\u0628\\u0627\\u064d\\u0644\\u0643\\u0650\\u0648\\u0641\\u0629 \\u0651\\u0648\\u062f\\u064b\\u0627\\u0645\\u064c\\u062a\\u064f \\u062e\\u0644\\u0627\\u0650\\u0641\\u0652\\u062a\\u064c\\u0647\\u0651 \\u062e\\u0645\\u0633\\u0652 \\u064f\\u0633\\u064f\\u0646\\u064d\\u064a\\u0646\\u0650 \\u0625\\u064b\\u0644\\u0627\\u0650 \\u0628\\u0651\\u0636\\u0639\\u0629\\u064d \\u064f\\u0623\\u064b\\u0634\\u0650\\u0647\\u0631 .*\\u0652 \\u0650\\u0628\\u0648\\u064b\\u064a\\u064d\\u0639 \\u0652\\u0627\\u064d\\u0644\\u0625\\u0645\\u0650\\u0627\\u064b\\u0645 \\u0627\\u0650\\u0644\\u064c\\u062d\\u064c\\u0633\\u064c\\u0646\\u064e \\u0651\\u0628\\u064d\\u0646\\u0650 \\u064d\\u0639\\u0644\\u064a \\u064d\\u0625\\u064c\\u062b\\u0652\\u0631 \\u064f\\u0627\\u0633\\u0650\\u062a\\u0652\\u0634\\u0647\\u0627\\u062f\\u064b \\u0623\\u064c\\u0628\\u0650\\u064a\\u0650\\u0647\\u0650 \\u0650.* \\u0648\\u064f\\u0644\\u064b\\u062f \\u0627\\u0644\\u062d\\u062c\\u0627\\u062c\\u0652 \\u064d\\u0628\\u064e\\u0646\\u0651 \\u064f\\u064a\\u0652\\u0648\\u0633\\u0641\\u0651 \\u0627\\u064e\\u0644\\u062b\\u0642\\u0652\\u0641\\u0651\\u064a\\u064f \\u064c\\u0623\\u0645\\u064a\\u064b\\u0631\\u0651 \\u0651\\u0627\\u0644\\u0651\\u0639\\u064b\\u0631\\u064b\\u0627\\u0642 \\u0625\\u0628\\u0627\\u0646\\u064f \\u0627\\u064e\\u0644\\u064b\\u062e\\u064c\\u0644\\u0651\\u0627\\u0641\\u0629 \\u064e\\u0627\\u0644\\u0623\\u0645\\u0648\\u064a\\u0652\\u0629\\u060c \\u0648\\u064c\\u0644\\u0627\\u064d\\u0629\\u064f \\u0651\\u0639\\u0644\\u0649 \\u0651\\u0627\\u0644\\u0639\\u064f\\u0631\\u0627\\u0642\\u064e \\u0639\\u0628\\u062f\\u0627\\u064b\\u0644\\u064e\\u0645\\u064b\\u0644\\u064f\\u0643 \\u0628\\u0646\\u0651 \\u064d\\u0645\\u064b\\u0631\\u0648\\u064b\\u0627\\u0646\\u064e \\u0652\\u0641\\u064b\\u064a\\u0650 \\u0652\\u0633\\u0646\\u064e \\u0627\\u0650\\u0644\\u062e\\u0627\\u064e\\u0645\\u064d\\u0633\\u0629 \\u0648\\u064e\\u0627\\u064c\\u0644\\u062b\\u0644\\u0627\\u062b\\u064b\\u064a\\u0652\\u0646\\u060c \\u0651\\u0648\\u064f\\u0641\\u064e\\u064a\\u064b\\u0647\\u064e\\u0627\\u064c \\u0648\\u0651\\u0644\\u062f\\u064c \\u0639\\u0645\\u064d\\u0631\\u064e \\u0651\\u0627\\u0644\\u0633\\u0651\\u0643\\u0648\\u0646\\u064a \\u0648\\u0652\\u0647\\u0648\\u064e \\u062a\\u064e\\u0627\\u0628\\u0652\\u0639\\u0652\\u064a \\u0651\\u0645\\u0646\\u064f \\u064e\\u0627\\u0644\\u062b\\u0650\\u0642\\u0650\\u0627\\u064e\\u0629\\u064b\\u060c\\u0650 \\u0648\\u064f\\u0641\\u0651\\u064a\\u0650\\u0647\\u0627\\u0650 \\u0648\\u0644\\u0651\\u062f\\u064d \\u0650\\u0639\\u0644\\u064a\\u0650 \\u064c\\u0627\\u0644\\u0633\\u062c\\u0627\\u062f \\u064e\\u0644\\u0651\\u0643\\u062b\\u0650\\u0631\\u0651\\u0629\\u064e \\u0633\\u064c\\u062c\\u0652\\u0648\\u062f\\u064f\\u0647\\u064c \\u0648\\u0651\\u062a\\u0639\\u0628\\u062f\\u0652\\u0647 \\u0652\\u0648\\u0647\\u0648\\u0650 \\u0651\\u062c\\u0652\\u062f\\u064e \\u064f\\u0627\\u064f\\u0644\\u0639\\u0628\\u064c\\u0627\\u0650\\u0633\\u064f\\u064a\\u064e\\u064a\\u0646\\u060c \\u0648\\u0651\\u0641\\u0652\\u064a\\u0647\\u064d\\u0627 \\u064d\\u0648\\u064e\\u0644\\u062f \\u0651\\u0647\\u0645\\u064d\\u0627\\u0645 \\u0628\\u0646\\u064b \\u0645\\u0646\\u0628\\u064d\\u0647\\u064b \\u064d\\u0623\\u064f\\u0642\\u064b\\u062f\\u0645 \\u0652\\u0645\\u064f\\u0646\\u064c \\u0651\\u0623\\u0644\\u0652\\u0641 \\u064e\\u0641\\u064e\\u064a\\u064d \\u0643\\u064d\\u062a\\u064d\\u0628\\u0651 \\u0627\\u064f\\u0644\\u064b\\u062d\\u062f\\u064c\\u064a\\u062b\\u064b . \\u064f\\u0639\\u0646 \\u0643\\u062a\\u0627\\u064b\\u0628\\u064c \\\"\\u062d\\u0648\\u0644\\u0651\\u064a\\u064e\\u0627\\u062a \\u064f\\u0627\\u064c\\u0644\\u0625\\u064c\\u0633\\u064c\\u0644\\u0650\\u0627\\u064d\\u0645\\u064c\\\"\\u0652 \\u0650\\u0644\\u0651\\u0623\\u062d\\u0651\\u0645\\u064b\\u062f\\u064d \\u0650\\u0639\\u0637\\u064a\\u0650\\u0629 \\u0627\\u0644\\u0644\\u0651\\u0647\\u064c\",\n          \"https://example.com/resource/\\u062f\\u0628\\u064a \\u064d\\u00ab\\u064d\\u0627\\u0644\\u062e\\u064d\\u0644\\u064c\\u064a\\u064f\\u062c\\u064d\\u00bb\\u064d:\\u0651 \\u0652\\u0628\\u064f\\u062b\\u062a \\u0645\\u064d\\u0633\\u0627\\u0651\\u0621\\u064f \\u064e\\u0623\\u0652\\u0645\\u0652\\u0633\\u064d \\u0652\\u0627\\u0651\\u0644\\u064b\\u0627\\u064c\\u0648\\u0644 \\u0627\\u0644\\u064b\\u062d\\u064c\\u0644\\u0642\\u064b\\u0629 \\u064e\\u0627\\u0644\\u0652\\u0631\\u064d\\u0627\\u0628\\u064d\\u0639\\u0629 \\u0645\\u0646 \\u0650\\u0628\\u0631\\u064e\\u0646\\u064b\\u0627\\u064b\\u0645\\u0651\\u062c \\u0651\\u00ab\\u0650\\u0627\\u064e\\u0644\\u0650\\u0628\\u064e\\u064a\\u062a\\u064d\\u00bb \\u0650\\u0627\\u0650\\u0644\\u0651\\u0630\\u064d\\u064a\\u064c \\u0651\\u064a\\u0651\\u0646\\u062a\\u062c\\u064d\\u0647 \\u0650\\u0648\\u064e\\u064a\\u0634\\u0652\\u0631\\u0641 \\u064c\\u0639\\u0652\\u0644\\u064a\\u0647 \\u0652\\u0645\\u064b\\u0631\\u0652\\u0643\\u0650\\u0632\\u064c \\u062d\\u0650\\u0645\\u0651\\u062f\\u064d\\u0627\\u0646 \\u064b\\u0628\\u0646\\u0652 \\u0645\\u062d\\u0645\\u0652\\u062f\\u064d \\u064d\\u0644\\u0652\\u0625\\u064d\\u062d\\u064a\\u064d\\u0627\\u0652\\u0621\\u0651 \\u064b\\u0627\\u064e\\u0644\\u062a\\u0631\\u0627\\u064e\\u062b\\u064e\\u060c\\u064e \\u0652\\u0648 \\u0634\\u064d\\u0647\\u064b\\u062f\\u062a\\u0651 \\u0627\\u0644\\u0651\\u062d\\u0644\\u064c\\u0642\\u0651\\u0629 \\u062a\\u0643\\u0631\\u0652\\u064a\\u0652\\u0645 \\u0634\\u0652\\u0627\\u064c\\u0639\\u0652\\u0631\\u0629\\u0651 \\u0627\\u0644\\u0634\\u064b\\u0637\\u0631\\u064b \\u0647\\u0650\\u064a\\u0627 \\u064e\\u0627\\u064b\\u0644\\u064b\\u062f\\u064d\\u0648\\u064e\\u0633\\u064c\\u0631\\u064a\\u064c \\u0645\\u0646\\u064d \\u0627\\u0644\\u0645\\u064d\\u0645\\u0650\\u0644\\u0643\\u064c\\u0629 \\u064c\\u0627\\u064c\\u0644\\u0639\\u0650\\u0631\\u0628\\u0652\\u064a\\u0629 \\u064c\\u0627\\u064f\\u0644\\u064c\\u0633\\u0650\\u0639\\u0648\\u0650\\u062f\\u064a\\u0629 \\u0627\\u0644\\u064e\\u062a\\u064a\\u064b \\u0641\\u064b\\u0627\\u0632\\u062a \\u0650\\u0628\\u062c\\u0651\\u0627\\u0626\\u0632\\u0629\\u064b \\u0652\\u0634\\u0627\\u0639\\u064f\\u0631 \\u0627\\u0650\\u0644\\u0652\\u0628\\u0651\\u064a\\u0651\\u062a \\u064e\\u0641\\u064a\\u064b \\u0627\\u064e\\u0644\\u064d\\u062d\\u064f\\u0644\\u0652\\u0642\\u0651\\u0629\\u064b \\u064d\\u0627\\u0644\\u0650\\u0645\\u0627\\u064b\\u0636\\u064a\\u0629 \\u064b\\u0648\\u064b\\u062a\\u0650\\u0643\\u064f\\u0631\\u0651\\u064a\\u0652\\u0645 \\u064d\\u0633\\u0650\\u0627\\u064d\\u0645\\u064e\\u064a\\u0652 \\u0652\\u0627\\u0652\\u0644\\u064e\\u0639\\u0631\\u0641\\u062c\\u064f \\u064d\\u0645\\u0652\\u0646\\u0652 \\u0627\\u0644\\u0652\\u0645\\u0645\\u0644\\u0643\\u0629 \\u0627\\u0650\\u0644\\u064d\\u0639\\u064e\\u0631\\u0628\\u064a\\u0650\\u0629 \\u0627\\u0644\\u0633\\u0639\\u0648\\u064c\\u062f\\u064d\\u064a\\u0629\\u064d \\u064f\\u0627\\u064e\\u0644\\u064d\\u0641\\u0627\\u0626\\u064b\\u0632 \\u064d\\u0641\\u0651\\u064a\\u064c \\u0650\\u0645\\u0633\\u0627\\u0628\\u0642\\u0629 \\u00ab\\u0646\\u0628\\u0636 \\u064b\\u0627\\u0644\\u064d\\u0635\\u064e\\u0648\\u0631\\u064c\\u0629\\u00bb \\u0641\\u064a \\u064b\\u0627\\u064c\\u0644\\u064b\\u062d\\u0644\\u064c\\u0642\\u0629 \\u064b\\u0627\\u0644\\u062b\\u0627\\u064b\\u0646\\u064e\\u064a\\u0629.\\u0650 \\u0643\\u0645\\u0627 \\u062a\\u0650\\u0645 \\u0627\\u0644\\u0625\\u064e\\u0639\\u0651\\u0644\\u0627\\u0646 \\u0639\\u0646\\u0651 \\u0627\\u064f\\u0644\\u0641\\u0627\\u0626\\u0632\\u064a\\u0646 \\u0650\\u0641\\u064b\\u064a \\u0652\\u0627\\u0644\\u062d\\u0650\\u0644\\u0642\\u0629 \\u0627\\u064c\\u0644\\u0631\\u0627\\u0628\\u0639\\u064d\\u0629 \\u064d\\u0648\\u064c\\u0647\\u064e\\u0645\\u064f: \\u0630\\u0639\\u064e\\u0627\\u0631\\u064d \\u0650\\u0627\\u0651\\u0644\\u062f\\u064a\\u064c\\u0631\\u064c\\u064a \\u0627\\u0644\\u0641\\u0627\\u0652\\u0626\\u0632\\u064c \\u064f\\u0641\\u064b\\u064a\\u0650 \\u0652\\u0645\\u064e\\u0633\\u0650\\u0627\\u0628\\u0642\\u0629\\u064c \\u0652\\u0627\\u0652\\u0644\\u0634\\u0637\\u0631\\u064c\\u060c \\u064e\\u0648\\u0652\\u0631\\u0651\\u0627\\u0650\\u0643\\u0627\\u0646 \\u064c\\u0627\\u064b\\u0644\\u0639\\u062a\\u064e\\u064a\\u064e\\u0628\\u064a\\u064f \\u064d\\u0627\\u0644\\u0650\\u0641\\u0652\\u0627\\u0626\\u064d\\u0632\\u064f \\u064d\\u0627\\u064b\\u0644\\u0630\\u064f\\u064a \\u064a\\u0651\\u062a\\u064e\\u0645\\u064e \\u064d\\u0627\\u062e\\u064b\\u062a\\u064a\\u0627\\u064d\\u0631\\u064f\\u0647\\u0652 \\u0645\\u0650\\u0646\\u0650 \\u0642\\u0628\\u064f\\u0644 \\u0650\\u0636\\u064a\\u064e\\u0641 \\u0652\\u0627\\u064b\\u0644\\u0634\\u064c\\u0644\\u0651\\u0629\\u060c\\u064e \\u064e\\u0648\\u0652\\u0647\\u064e\\u0648\\u064c \\u0627\\u0644\\u0652\\u0645\\u064c\\u0646\\u064e\\u0634\\u062f \\u064f\\u0627\\u0644\\u0633\\u0639\\u0650\\u0648\\u062f\\u064a \\u064e(\\u0652\\u0636\\u064a\\u0641\\u064c \\u064d\\u0627\\u0650\\u0644\\u0634\\u0652\\u0644\\u0629 \\u064d\\u0644\\u0644\\u0652\\u062d\\u0652\\u0644\\u0650\\u0642\\u0629\\u064e \\u0627\\u0644\\u064c\\u0631\\u064b\\u0627\\u0628\\u0639\\u064d\\u0629) \\u0635\\u064b\\u0627\\u064d\\u0644\\u0652\\u062d\\u064d \\u064d\\u0627\\u0644\\u064d\\u064a\\u064d\\u0627\\u0652\\u0645\\u064e\\u064a\\u060c \\u0628\\u064e\\u064a\\u0646\\u0645\\u0627 \\u0651\\u0641\\u0627\\u064e\\u0632\\u064b \\u064b\\u0633\\u0639\\u0648\\u062f\\u0651 \\u0633\\u064e\\u0644\\u064a\\u0652\\u0645\\u064f\\u0627\\u0651\\u0646 \\u0627\\u0650\\u0644\\u0651\\u0641\\u0644\\u064a\\u0650\\u062d\\u064b \\u0650\\u0641\\u064f\\u064a\\u064e \\u064d\\u0645\\u0650\\u0633\\u0652\\u0627\\u0651\\u0628\\u0642\\u064c\\u0629\\u064d \\u00ab\\u0646\\u0651\\u0628\\u0636\\u0651 \\u064b\\u0627\\u064e\\u0644\\u0635\\u0648\\u0631\\u064b\\u0629\\u0652\\u00bb\\u064d \\u0639\\u0652\\u0646 \\u0627\\u064d\\u0644\\u0635\\u0648\\u064d\\u0631\\u064d\\u0629 \\u0627\\u0644\\u0650\\u062a\\u064a\\u064c \\u0623\\u0652\\u0637\\u0650\\u0644\\u064b\\u0642\\u0650\\u062a\\u064f \\u064f\\u0641\\u064a\\u064f \\u064b\\u0627\\u0644\\u062d\\u0644\\u0652\\u0642\\u0651\\u0629 \\u0627\\u0644\\u064d\\u062b\\u064b\\u0627\\u0644\\u064d\\u062b\\u0629\\u064b. \\u0648\\u0642\\u064f\\u0627\\u064d\\u0644 \\u0627\\u0644\\u062f\\u0651\\u0643\\u0651\\u062a\\u0648\\u0631 \\u0628\\u0631\\u0643\\u0627\\u0650\\u062a\\u0652 \\u064f\\u0627\\u0644\\u064e\\u0648\\u0642\\u0650\\u064a\\u0627\\u0646 \\u064b\\u0645\\u0651\\u0642\\u0652\\u062f\\u0645\\u064b \\u064c\\u0627\\u0651\\u0644\\u0628\\u0631\\u064e\\u0646\\u0652\\u0627\\u0645\\u062c:\\u00bb\\u0627\\u0644\\u0651\\u0627\\u0650\\u0633\\u0650\\u062a\\u062d\\u0633\\u0627\\u064f\\u0646\\u0650 \\u064b\\u0627\\u064c\\u0644\\u064c\\u0630\\u064a\\u064b \\u0644\\u064c\\u0627\\u0642\\u0651\\u0627\\u064d\\u0647 \\u064b\\u0627\\u0650\\u0644\\u0628\\u0631\\u064d\\u0646\\u064e\\u0627\\u064d\\u0645\\u062c \\u0645\\u0651\\u062f\\u0639\\u0627\\u0629\\u0650 \\u064d\\u0644\\u0644\\u064c\\u0641\\u062e\\u0652\\u0631\\u060c \\u064b\\u0644\\u0652\\u0623\\u0652\\u0646\\u0647\\u0651 \\u0652\\u0623\\u0648\\u0635\\u064b\\u0644 \\u064c\\u0627\\u0644\\u0651\\u0634\\u064b\\u0639\\u0631\\u064c \\u0644\\u0623\\u0643\\u0628\\u064d\\u0631 \\u064d\\u0634\\u0631\\u064a\\u062d\\u0629 \\u0651\\u0645\\u0650\\u0645\\u064d\\u0643\\u0646\\u064f\\u0629\\u064b \\u064d\\u0639\\u0646 \\u064c\\u0637\\u064d\\u0631\\u064f\\u064a\\u0642\\u064f \\u064c\\u0648\\u0650\\u0633\\u0627\\u0626\\u0650\\u0644\\u0651 \\u0627\\u0650\\u0644\\u062a\\u0648\\u0650\\u0627\\u0635\\u064f\\u0644 \\u064c\\u0627\\u064d\\u0644\\u0650\\u0627\\u064d\\u062c\\u062a\\u064c\\u0645\\u0627\\u064c\\u0639\\u064d\\u064a.\\u064e \\u064c\\u0648\\u063a\\u0652\\u064a\\u0652\\u0631\\u064b\\u0651\\u062a\\u064f \\u0641\\u064d\\u0643\\u0631\\u0629\\u064d \\u0627\\u0651\\u0644\\u064f\\u0628\\u0631\\u064f\\u0646\\u064d\\u0627\\u0650\\u0645\\u062c\\u064e \\u064b\\u0645\\u064b\\u0646 \\u064e\\u0645\\u0646\\u0638\\u0651\\u0648\\u0652\\u0645\\u0652\\u0629 \\u0627\\u0644\\u0628\\u064d\\u0631\\u0627\\u0645\\u062c\\u0650 \\u0627\\u0650\\u0644\\u0634\\u064f\\u0639\\u0631\\u064a\\u0651\\u0629\\u064f\\u060c\\u0651 \\u0651\\u0644\\u0623\\u064f\\u0646\\u064e\\u0647\\u064b \\u064f\\u0627\\u062e\\u0651\\u062a\\u0635\\u0631 \\u0650\\u0627\\u0651\\u0644\\u0645\\u0633\\u0627\\u064d\\u0641\\u064c\\u0627\\u062a\\u0650 \\u0627\\u0644\\u062a\\u064b\\u064a\\u0650 \\u064d\\u0643\\u0627\\u0646\\u064f \\u064a\\u062d\\u062a\\u0651\\u0627\\u062c \\u0625\\u0644\\u064c\\u064a\\u0647\\u0627 \\u0652\\u0627\\u064f\\u0644\\u0634\\u064b\\u0627\\u0650\\u0639\\u064e\\u0631.\\u0651 \\u064c\\u0625\\u0646 \\u0627\\u0644\\u0652\\u062c\\u0645\\u064b\\u064a\\u0644 \\u0641\\u064c\\u064a \\u064f\\u0627\\u0644\\u0628\\u0650\\u0631\\u0646\\u0627\\u0645\\u062c\\u064e \\u0623\\u0646\\u064f\\u0646\\u0627 \\u064c\\u0646\\u064e\\u0639\\u0645\\u0644\\u0650 \\u064b\\u0643\\u0639\\u064e\\u0627\\u0626\\u0652\\u0644\\u064f\\u0629\\u064d \\u0648\\u0627\\u0650\\u062d\\u062f\\u0650\\u0629\\u0650 \\u062e\\u0644\\u064e\\u0627\\u0644\\u064e \\u0627\\u0652\\u062c\\u064e\\u062a\\u064e\\u0645\\u0652\\u0627\\u0639\\u0651\\u0627\\u062a\\u064b\\u0646\\u0627\\u064f \\u0652\\u0627\\u064b\\u0644\\u062f\\u0651\\u0627\\u0626\\u064c\\u0645\\u064f\\u0629\\u064c \\u0650\\u0644\\u0644\\u0650\\u062a\\u0628\\u0652\\u0627\\u062d\\u064b\\u062b \\u062d\\u0648\\u0644\\u0652 \\u0651\\u0643\\u064e\\u064a\\u0641\\u0651\\u064a\\u0652\\u0629 \\u062a\\u0651\\u0637\\u064b\\u0648\\u064a\\u0631 \\u0648\\u064f\\u062a\\u064b\\u062d\\u062f\\u064a\\u064d\\u062b\\u0652 \\u064c\\u0627\\u064b\\u0644\\u0628\\u0650\\u0631\\u0650\\u0646\\u0627\\u0645\\u064d\\u062c\\u064e \\u0652\\u0648\\u062a\\u064b\\u0642\\u0646\\u064d\\u064a\\u0627\\u064f\\u062a\\u064f\\u0647\\u064e.\\u064b \\u0650\\u0648\\u064e\\u064a\\u0650\\u0645\\u0651\\u0643\\u0646\\u0646\\u064d\\u0627 \\u064e\\u062a\\u064d\\u0648\\u064f\\u0638\\u064a\\u0641\\u0652 \\u064c\\u0648\\u0650\\u0633\\u0627\\u0626\\u0644 \\u064c\\u0627\\u0644\\u064f\\u062a\\u0648\\u0627\\u0635\\u0644 \\u0650\\u0627\\u0652\\u0644\\u064f\\u0627\\u0651\\u062c\\u064e\\u062a\\u064b\\u0645\\u064c\\u0627\\u0651\\u0639\\u064c\\u064a \\u064f\\u0648\\u0650\\u062a\\u0637\\u064c\\u0648\\u064a\\u064f\\u0639\\u0647\\u064c\\u0627\\u064f \\u0644\\u064f\\u062e\\u062f\\u0645\\u064d\\u0629 \\u0623\\u0650\\u0647\\u062f\\u064e\\u0627\\u0641\\u0646\\u0651\\u0627 \\u0650\\u0627\\u0644\\u0651\\u0645\\u062a\\u064b\\u0645\\u062b\\u0644\\u0629 \\u0651\\u0641\\u0651\\u064a\\u064b \\u062a\\u064c\\u0634\\u0650\\u062c\\u064f\\u064a\\u0639 \\u0646\\u0651\\u0638\\u0645\\u064f \\u064c\\u0627\\u0644\\u0651\\u0634\\u064d\\u0639\\u064d\\u0631\\u0651 \\u064c\\u0648\\u0650\\u0627\\u0644\\u0642\\u0631\\u064c\\u0627\\u0650\\u0621\\u0629\\u060c \\u0648\\u0641\\u0652\\u0631\\u0636\\u064b \\u0627\\u064f\\u0644\\u0652\\u062a\\u062d\\u062f\\u064e\\u064a\\u064b \\u064b\\u0639\\u0644\\u064d\\u0649\\u064d \\u0627\\u0644\\u0645\\u062a\\u0627\\u0628\\u0651\\u0639\\u064a\\u0646\\u0651 \\u0644\\u064b\\u0627\\u064f\\u062e\\u062a\\u0635\\u0627\\u064f\\u0631 \\u064f\\u0642\\u064b\\u0635\\u064a\\u064b\\u062f\\u0629 \\u0623\\u064f\\u0648 \\u0627\\u062e\\u064c\\u062a\\u0632\\u0627\\u0652\\u0644\\u0650 \\u0635\\u064d\\u0648\\u0652\\u0631\\u0650\\u0629 \\u0650\\u0641\\u064a\\u064b \\u064f\\u0628\\u064a\\u0651\\u062a\\u0650 \\u0651\\u0634\\u0650\\u0639\\u064e\\u0631 \\u0652\\u0648\\u0651\\u0627\\u062d\\u062f\\u064d.\\u0651 \\u064f\\u0644\\u0652\\u0642\\u062f \\u064c\\u0623\\u0635\\u0628\\u0650\\u062d\\u0651 \\u0647\\u0650\\u0630\\u0627 \\u064c\\u0627\\u064c\\u0644\\u0628\\u0631\\u0646\\u0627\\u0645\\u064b\\u062c \\u0652\\u0628\\u062d\\u0642\\u064e \\u0628\\u0652\\u0648\\u064e\\u0627\\u0628\\u0629 \\u0644\\u064f\\u0644\\u064e\\u0634\\u064d\\u0639\\u064e\\u0631\\u0627\\u064d\\u0621\\u064c\\u060c\\u064c \\u062d\\u064a\\u062b \\u0652\\u064a\\u064b\\u0648\\u064f\\u0641\\u064f\\u0631\\u064d \\u0651\\u0627\\u0644\\u0627\\u0633\\u064c\\u062a\\u0645\\u062a\\u0650\\u0627\\u0639 \\u0651\\u0648\\u064c\\u0627\\u064e\\u0644\\u064d\\u0625\\u0628\\u0651\\u062f\\u0627\\u0639\\u064c \\u0628\\u0646\\u064b\\u0641\\u064c\\u0633\\u0650 \\u0627\\u0644\\u0648\\u0642\\u062a \\u0650\\u0644\\u0644\\u0645\\u062a\\u0627\\u0628\\u0639\\u0651\\u064a\\u064e\\u0646\\u064e\\u060c\\u064d \\u0651\\u0648\\u064f\\u0627\\u0633\\u062a\\u0642\\u0628\\u0644\\u0646\\u0627 4\\u064b7\\u064d \\u0623\\u064e\\u0644\\u0641 \\u0645\\u0634\\u0650\\u0627\\u0652\\u0631\\u0643\\u0650\\u0629\\u064d \\u0641\\u0650\\u064a\\u064f \\u0627\\u0644\\u062d\\u0644\\u0642\\u0629 \\u0627\\u0644\\u0651\\u0633\\u0627\\u064b\\u0628\\u064f\\u0642\\u0629\\u00bb\\u0650.\\u064d \\u064d\\u0648\\u064f\\u0627\\u064e\\u062e\\u062a\\u064b\\u0627\\u0631\\u062a \\u0644\\u0650\\u062c\\u0652\\u0646\\u0650\\u0629 \\u0627\\u0644\\u062a\\u064e\\u062d\\u0643\\u064a\\u0645\\u060c\\u064c \\u0627\\u0644\\u0650\\u0634\\u0637\\u0631\\u064c \\u064d\\u0627\\u0644\\u0645\\u064c\\u0642\\u0650\\u062f\\u0645 \\u064f\\u0645\\u064b\\u0646 \\u0630\\u0639\\u064d\\u0627\\u0631\\u0650 \\u0627\\u0651\\u0644\\u064e\\u062f\\u064c\\u064a\\u0631\\u064e\\u064a\\u064b\\u060c \\u064d\\u0648\\u064b\\u0645\\u064f\\u0646\\u062d\\u0650 \\u0651\\u0644\\u0642\\u064c\\u0628\\u0650 \\u0650\\u0631\\u0650\\u0627\\u064e\\u0639\\u064d\\u064a \\u0652\\u0634\\u0637\\u0651\\u0631 \\u0627\\u0652\\u0644\\u062d\\u064b\\u0644\\u0642\\u064d\\u0629\\u064e \\u064e\\u0627\\u0651\\u0644\\u0631\\u0627\\u0628\\u0650\\u0639\\u0629 \\u0644\\u064a\\u062a\\u0650\\u0631\\u064f\\u0628\\u064f\\u0639 \\u0651\\u0639\\u0644\\u0650\\u0649 \\u064d\\u0639\\u0631\\u0634 \\u0627\\u0651\\u0644\\u0651\\u0634\\u0627\\u064f\\u0634\\u0629\\u064e \\u0627\\u064f\\u0644\\u0630\\u0647\\u0650\\u0628\\u064a\\u0629\\u0650\\u060c\\u0651 \\u0651\\u0628\\u0639\\u064f\\u062f\\u064c \\u0625\\u062c\\u0650\\u0645\\u064f\\u0627\\u0639\\u0651 \\u0652\\u0627\\u064d\\u0644\\u0652\\u0622\\u0631\\u064c\\u0627\\u064f\\u0621 \\u064f\\u0639\\u0644\\u0649\\u064c \\u064d\\u0639\\u064d\\u062c\\u064c\\u0632 \\u064e\\u0627\\u0644\\u0628\\u064f\\u064a\\u062a\\u064e:\\u064d \\u064b\\u0639\\u0652\\u0644\\u064e\\u0627\\u064d\\u062c\\u0651 \\u0648\\u0652\\u0627\\u062d\\u062f \\u064a\\u0646\\u0652\\u0641\\u0639 \\u0644\\u064f\\u0643\\u0650\\u0644 \\u064d\\u0627\\u0644\\u0650\\u062c\\u0631\\u0648\\u062d\\u0651 \\u064a\\u0642\\u0652\\u064a\\u0646\\u0643\\u064d \\u0625\\u064f\\u0630\\u0627 \\u0627\\u064b\\u0644\\u064d\\u0644\\u064b\\u0647 \\u062d\\u0628\\u0643\\u064c \\u00ab\\u0628\\u0644\\u064e\\u0627\\u0652\\u0643\\u00bb \\u0648\\u0641\\u0651\\u064a \\u0627\\u0651\\u0644\\u0648\\u064c\\u0642\\u062a\\u064c \\u0630\\u0627\\u0652\\u062a\\u0647\\u064b\\u060c\\u064c \\u0650\\u0641\\u0650\\u0642\\u062f\\u064d \\u064f\\u062a\\u0645\\u0650 \\u0650\\u0627\\u062e\\u062a\\u064a\\u0627\\u0631\\u0652 \\u0634\\u0637\\u0631\\u0651 \\u0650\\u0627\\u064e\\u0644\\u0645\\u0634\\u062a\\u064c\\u0631\\u0643\\u0650 \\u064e\\u0631\\u0650\\u0627\\u0643\\u0627\\u0646 \\u0627\\u0644\\u0651\\u0639\\u062a\\u0650\\u064a\\u064d\\u0628\\u064a\\u0650 \\u0645\\u0646 \\u0642\\u064d\\u0628\\u064d\\u0644\\u064e \\u0627\\u0644\\u0645\\u0652\\u0646\\u0634\\u062f \\u0652\\u0627\\u0644\\u0633\\u0639\\u0648\\u062f\\u064c\\u064a \\u0652\\u0635\\u0627\\u0644\\u062d\\u0651 \\u0627\\u0644\\u064a\\u064c\\u0627\\u0650\\u0645\\u0651\\u064a\\u0650 (\\u0636\\u064b\\u064a\\u0641\\u064b \\u0627\\u0651\\u0644\\u064c\\u0634\\u0650\\u0644\\u0629)\\u0650 \\u064b\\u0627\\u0652\\u0644\\u064f\\u0630\\u064a\\u0652 \\u064e\\u062d\\u0644\\u0651 \\u064f\\u0636\\u0652\\u064a\\u0641\\u064c\\u064b\\u0627 \\u0652\\u0639\\u0650\\u0644\\u0651\\u0649 \\u0650\\u0627\\u064b\\u0644\\u064b\\u0628\\u064b\\u064a\\u0652\\u062a\\u0652 \\u0650\\u0641\\u064a \\u064c\\u062d\\u064e\\u0644\\u0642\\u064c\\u062a\\u064d\\u0647\\u064e \\u064c\\u0627\\u064e\\u0644\\u0631\\u0627\\u064e\\u0628\\u0639\\u0629\\u060c \\u064f\\u0648\\u0644\\u064a\\u0643\\u0650\\u0633\\u0628\\u0647 \\u064f\\u0644\\u064c\\u0642\\u0652\\u0628\\u064e \\u0641\\u064c\\u0627\\u064f\\u0626\\u0652\\u0632 \\u0627\\u0644\\u064c\\u0634\\u0650\\u0637\\u0631\\u064e \\u0639\\u0650\\u0646 \\u0627\\u0652\\u0644\\u0650\\u0639\\u0650\\u062c\\u064e\\u0632\\u064c \\u0627\\u064f\\u0644\\u0645\\u0642\\u062f\\u0645\\u0651: \\u0639\\u0651\\u0644\\u0627\\u062c\\u064e \\u064f\\u0648\\u064d\\u0627\\u0652\\u062d\\u064d\\u062f\\u064c \\u064d\\u064a\\u0646\\u064c\\u0641\\u0651\\u0639 \\u064c\\u0644\\u064d\\u0643\\u064f\\u0644 \\u064f\\u0627\\u0644\\u062c\\u064c\\u0631\\u0648\\u064f\\u062d\\u064f (\\u0625\\u064e\\u0646\\u0643 \\u062a\\u0650\\u062b\\u064c\\u0642 \\u064f\\u0641\\u064b\\u064a \\u064f\\u0627\\u064c\\u0644\\u0644\\u0647) \\u0645\\u0627\\u064f \\u064f\\u0647\\u064d\\u0648 \\u0628\\u064b\\u0627\\u0644\\u064f\\u0639\\u064f\\u0644\\u0627\\u062c\\u064e.\\u064c\"\n        ],\n        \"semantic_type\": \"\",\n        \"description\": \"\"\n      }\n    },\n    {\n      \"column\": \"label\",\n      \"properties\": {\n        \"dtype\": \"category\",\n        \"num_unique_values\": 7,\n        \"samples\": [\n          \"Tech\",\n          \"Sports\",\n          \"Politics\"\n        ],\n        \"semantic_type\": \"\",\n        \"description\": \"\"\n      }\n    },\n    {\n      \"column\": \"length\",\n      \"properties\": {\n        \"dtype\": \"number\",\n        \"std\": 1506,\n        \"min\": 176,\n        \"max\": 7624,\n        \"num_unique_values\": 5728,\n        \"samples\": [\n          4470,\n          5886,\n          3737\n        ],\n        \"semantic_type\": \"\",\n        \"description\": \"\"\n      }\n    }\n  ]\n}"
            }
          },
          "metadata": {},
          "execution_count": 58
        }
      ],
      "source": [
        "train"
      ]
    },
    {
      "cell_type": "code",
      "source": [
        "from pyarabic.araby import strip_tashkeel, strip_tatweel, normalize_hamza\n",
        "import nltk\n",
        "nltk.download('stopwords')\n"
      ],
      "metadata": {
        "colab": {
          "base_uri": "https://localhost:8080/"
        },
        "id": "Tn-SK0xbsySI",
        "outputId": "7c6cfb14-30a2-4bf0-8b14-01a37a6f5b0a"
      },
      "execution_count": 59,
      "outputs": [
        {
          "output_type": "stream",
          "name": "stderr",
          "text": [
            "[nltk_data] Downloading package stopwords to /root/nltk_data...\n",
            "[nltk_data]   Package stopwords is already up-to-date!\n"
          ]
        },
        {
          "output_type": "execute_result",
          "data": {
            "text/plain": [
              "True"
            ]
          },
          "metadata": {},
          "execution_count": 59
        }
      ]
    },
    {
      "cell_type": "code",
      "source": [
        "from nltk.corpus import stopwords\n",
        "from nltk.stem.isri import ISRIStemmer\n",
        "import re\n",
        "\n",
        "st = ISRIStemmer()\n",
        "\n",
        "arabic_stopwords = set(stopwords.words('arabic'))"
      ],
      "metadata": {
        "id": "C2eqrsUgs13g"
      },
      "execution_count": 60,
      "outputs": []
    },
    {
      "cell_type": "code",
      "source": [
        "def unique_words(data):\n",
        "    text = data['text'].str.cat(sep=' ')\n",
        "    return set(text.split())"
      ],
      "metadata": {
        "id": "SVzVXa4As8SF"
      },
      "execution_count": 61,
      "outputs": []
    },
    {
      "cell_type": "code",
      "source": [
        "def clean_text(text):\n",
        "    # text = text.strip()\n",
        "    text = re.sub(r'https?\\S+|www\\S+', '', text)\n",
        "    text = re.sub(r'[^\\w\\s]', '', text)\n",
        "    text = strip_tashkeel(text)\n",
        "    text = strip_tatweel(text)\n",
        "\n",
        "    text = text.split()\n",
        "    text = [word for word in text if word not in arabic_stopwords]"
      ],
      "metadata": {
        "id": "bJB_Y6-StB_p"
      },
      "execution_count": 62,
      "outputs": []
    },
    {
      "cell_type": "code",
      "source": [
        "from nltk.stem import ISRIStemmer\n",
        "\n",
        "stemmer = ISRIStemmer()"
      ],
      "metadata": {
        "id": "Q0d_aqVxtLNq"
      },
      "execution_count": 63,
      "outputs": []
    },
    {
      "cell_type": "code",
      "source": [
        "\n",
        "\n",
        "train['text'] = train['text'].apply(lambda text: \" \".join([stemmer.stem(word) for word in text.split()]))"
      ],
      "metadata": {
        "id": "KDeCNSCwtSmR"
      },
      "execution_count": 64,
      "outputs": []
    },
    {
      "cell_type": "code",
      "source": [
        "def clean_dataframe(data):\n",
        "    data = data[(data['length'] >= 10) & (data['length'] <= 500)]\n",
        "    return data\n",
        "\n",
        "\n",
        "train = clean_dataframe(train)\n",
        "train['text'] = train['text'].apply(clean_text)\n",
        "val = clean_dataframe(val)\n",
        "val['text'] = val['text'].apply(clean_text)\n",
        "test = clean_dataframe(test)\n",
        "test['text'] = test['text'].apply(clean_text)"
      ],
      "metadata": {
        "colab": {
          "base_uri": "https://localhost:8080/"
        },
        "id": "5IEIoMrMtWl5",
        "outputId": "c55dd6e0-0272-46eb-daed-21c559ca8563"
      },
      "execution_count": 65,
      "outputs": [
        {
          "output_type": "stream",
          "name": "stderr",
          "text": [
            "<ipython-input-65-bb8034248a7e>:7: SettingWithCopyWarning: \n",
            "A value is trying to be set on a copy of a slice from a DataFrame.\n",
            "Try using .loc[row_indexer,col_indexer] = value instead\n",
            "\n",
            "See the caveats in the documentation: https://pandas.pydata.org/pandas-docs/stable/user_guide/indexing.html#returning-a-view-versus-a-copy\n",
            "  train['text'] = train['text'].apply(clean_text)\n",
            "<ipython-input-65-bb8034248a7e>:9: SettingWithCopyWarning: \n",
            "A value is trying to be set on a copy of a slice from a DataFrame.\n",
            "Try using .loc[row_indexer,col_indexer] = value instead\n",
            "\n",
            "See the caveats in the documentation: https://pandas.pydata.org/pandas-docs/stable/user_guide/indexing.html#returning-a-view-versus-a-copy\n",
            "  val['text'] = val['text'].apply(clean_text)\n",
            "<ipython-input-65-bb8034248a7e>:11: SettingWithCopyWarning: \n",
            "A value is trying to be set on a copy of a slice from a DataFrame.\n",
            "Try using .loc[row_indexer,col_indexer] = value instead\n",
            "\n",
            "See the caveats in the documentation: https://pandas.pydata.org/pandas-docs/stable/user_guide/indexing.html#returning-a-view-versus-a-copy\n",
            "  test['text'] = test['text'].apply(clean_text)\n"
          ]
        }
      ]
    },
    {
      "cell_type": "code",
      "source": [
        "import tensorflow\n",
        "from tensorflow.keras.models import Sequential\n",
        "from tensorflow.keras.layers import Embedding, LSTM, Dense, Dropout, Input, Bidirectional, SimpleRNN, LSTM\n",
        "\n",
        "from tensorflow.keras.preprocessing.text import Tokenizer\n",
        "from tensorflow.keras.preprocessing.sequence import pad_sequences\n",
        "from sklearn.preprocessing import LabelEncoder\n",
        "\n",
        "import matplotlib.pyplot as plt"
      ],
      "metadata": {
        "id": "bBoZXd24VU8O"
      },
      "execution_count": 66,
      "outputs": []
    },
    {
      "cell_type": "code",
      "source": [
        "train['text']"
      ],
      "metadata": {
        "colab": {
          "base_uri": "https://localhost:8080/",
          "height": 458
        },
        "id": "PtwwO_K5VZNZ",
        "outputId": "50a4c88c-6e15-4c3f-800f-2f5827fcbde4"
      },
      "execution_count": 67,
      "outputs": [
        {
          "output_type": "execute_result",
          "data": {
            "text/plain": [
              "29527    None\n",
              "7373     None\n",
              "10326    None\n",
              "23687    None\n",
              "32062    None\n",
              "         ... \n",
              "31014    None\n",
              "7392     None\n",
              "1702     None\n",
              "8881     None\n",
              "28572    None\n",
              "Name: text, Length: 903, dtype: object"
            ],
            "text/html": [
              "<div>\n",
              "<style scoped>\n",
              "    .dataframe tbody tr th:only-of-type {\n",
              "        vertical-align: middle;\n",
              "    }\n",
              "\n",
              "    .dataframe tbody tr th {\n",
              "        vertical-align: top;\n",
              "    }\n",
              "\n",
              "    .dataframe thead th {\n",
              "        text-align: right;\n",
              "    }\n",
              "</style>\n",
              "<table border=\"1\" class=\"dataframe\">\n",
              "  <thead>\n",
              "    <tr style=\"text-align: right;\">\n",
              "      <th></th>\n",
              "      <th>text</th>\n",
              "    </tr>\n",
              "  </thead>\n",
              "  <tbody>\n",
              "    <tr>\n",
              "      <th>29527</th>\n",
              "      <td>None</td>\n",
              "    </tr>\n",
              "    <tr>\n",
              "      <th>7373</th>\n",
              "      <td>None</td>\n",
              "    </tr>\n",
              "    <tr>\n",
              "      <th>10326</th>\n",
              "      <td>None</td>\n",
              "    </tr>\n",
              "    <tr>\n",
              "      <th>23687</th>\n",
              "      <td>None</td>\n",
              "    </tr>\n",
              "    <tr>\n",
              "      <th>32062</th>\n",
              "      <td>None</td>\n",
              "    </tr>\n",
              "    <tr>\n",
              "      <th>...</th>\n",
              "      <td>...</td>\n",
              "    </tr>\n",
              "    <tr>\n",
              "      <th>31014</th>\n",
              "      <td>None</td>\n",
              "    </tr>\n",
              "    <tr>\n",
              "      <th>7392</th>\n",
              "      <td>None</td>\n",
              "    </tr>\n",
              "    <tr>\n",
              "      <th>1702</th>\n",
              "      <td>None</td>\n",
              "    </tr>\n",
              "    <tr>\n",
              "      <th>8881</th>\n",
              "      <td>None</td>\n",
              "    </tr>\n",
              "    <tr>\n",
              "      <th>28572</th>\n",
              "      <td>None</td>\n",
              "    </tr>\n",
              "  </tbody>\n",
              "</table>\n",
              "<p>903 rows × 1 columns</p>\n",
              "</div><br><label><b>dtype:</b> object</label>"
            ]
          },
          "metadata": {},
          "execution_count": 67
        }
      ]
    },
    {
      "cell_type": "code",
      "source": [
        "tokenizer = Tokenizer()\n",
        "# train['text'] = train['text'].str.split()\n",
        "\n",
        "tokenizer.fit_on_texts(train['text'])\n",
        "\n",
        "label_encoder = LabelEncoder()\n",
        "\n",
        "def techniques(data):\n",
        "\n",
        "    data['text'] = tokenizer.texts_to_sequences(data['text'])\n",
        "    data['text'] = pad_sequences(data['text'], maxlen=300, padding='post')\n",
        "\n",
        "    data['label'] = label_encoder.fit_transform(data['label'])\n",
        "    return data\n",
        "\n",
        "train = techniques(train)\n",
        "val = techniques(val)\n",
        "test = techniques(test)"
      ],
      "metadata": {
        "colab": {
          "base_uri": "https://localhost:8080/",
          "height": 369
        },
        "id": "WevsP7cworBi",
        "outputId": "01922522-3465-4dfb-b8d2-d15c8261faa2"
      },
      "execution_count": 68,
      "outputs": [
        {
          "output_type": "error",
          "ename": "AttributeError",
          "evalue": "'NoneType' object has no attribute 'lower'",
          "traceback": [
            "\u001b[0;31m---------------------------------------------------------------------------\u001b[0m",
            "\u001b[0;31mAttributeError\u001b[0m                            Traceback (most recent call last)",
            "\u001b[0;32m<ipython-input-68-deb594559582>\u001b[0m in \u001b[0;36m<cell line: 4>\u001b[0;34m()\u001b[0m\n\u001b[1;32m      2\u001b[0m \u001b[0;31m# train['text'] = train['text'].str.split()\u001b[0m\u001b[0;34m\u001b[0m\u001b[0;34m\u001b[0m\u001b[0m\n\u001b[1;32m      3\u001b[0m \u001b[0;34m\u001b[0m\u001b[0m\n\u001b[0;32m----> 4\u001b[0;31m \u001b[0mtokenizer\u001b[0m\u001b[0;34m.\u001b[0m\u001b[0mfit_on_texts\u001b[0m\u001b[0;34m(\u001b[0m\u001b[0mtrain\u001b[0m\u001b[0;34m[\u001b[0m\u001b[0;34m'text'\u001b[0m\u001b[0;34m]\u001b[0m\u001b[0;34m)\u001b[0m\u001b[0;34m\u001b[0m\u001b[0;34m\u001b[0m\u001b[0m\n\u001b[0m\u001b[1;32m      5\u001b[0m \u001b[0;34m\u001b[0m\u001b[0m\n\u001b[1;32m      6\u001b[0m \u001b[0mlabel_encoder\u001b[0m \u001b[0;34m=\u001b[0m \u001b[0mLabelEncoder\u001b[0m\u001b[0;34m(\u001b[0m\u001b[0;34m)\u001b[0m\u001b[0;34m\u001b[0m\u001b[0;34m\u001b[0m\u001b[0m\n",
            "\u001b[0;32m/usr/local/lib/python3.10/dist-packages/keras/src/legacy/preprocessing/text.py\u001b[0m in \u001b[0;36mfit_on_texts\u001b[0;34m(self, texts)\u001b[0m\n\u001b[1;32m    131\u001b[0m             \u001b[0;32melse\u001b[0m\u001b[0;34m:\u001b[0m\u001b[0;34m\u001b[0m\u001b[0;34m\u001b[0m\u001b[0m\n\u001b[1;32m    132\u001b[0m                 \u001b[0;32mif\u001b[0m \u001b[0mself\u001b[0m\u001b[0;34m.\u001b[0m\u001b[0manalyzer\u001b[0m \u001b[0;32mis\u001b[0m \u001b[0;32mNone\u001b[0m\u001b[0;34m:\u001b[0m\u001b[0;34m\u001b[0m\u001b[0;34m\u001b[0m\u001b[0m\n\u001b[0;32m--> 133\u001b[0;31m                     seq = text_to_word_sequence(\n\u001b[0m\u001b[1;32m    134\u001b[0m                         \u001b[0mtext\u001b[0m\u001b[0;34m,\u001b[0m\u001b[0;34m\u001b[0m\u001b[0;34m\u001b[0m\u001b[0m\n\u001b[1;32m    135\u001b[0m                         \u001b[0mfilters\u001b[0m\u001b[0;34m=\u001b[0m\u001b[0mself\u001b[0m\u001b[0;34m.\u001b[0m\u001b[0mfilters\u001b[0m\u001b[0;34m,\u001b[0m\u001b[0;34m\u001b[0m\u001b[0;34m\u001b[0m\u001b[0m\n",
            "\u001b[0;32m/usr/local/lib/python3.10/dist-packages/keras/src/legacy/preprocessing/text.py\u001b[0m in \u001b[0;36mtext_to_word_sequence\u001b[0;34m(input_text, filters, lower, split)\u001b[0m\n\u001b[1;32m     20\u001b[0m     \u001b[0;34m\"\"\"DEPRECATED.\"\"\"\u001b[0m\u001b[0;34m\u001b[0m\u001b[0;34m\u001b[0m\u001b[0m\n\u001b[1;32m     21\u001b[0m     \u001b[0;32mif\u001b[0m \u001b[0mlower\u001b[0m\u001b[0;34m:\u001b[0m\u001b[0;34m\u001b[0m\u001b[0;34m\u001b[0m\u001b[0m\n\u001b[0;32m---> 22\u001b[0;31m         \u001b[0minput_text\u001b[0m \u001b[0;34m=\u001b[0m \u001b[0minput_text\u001b[0m\u001b[0;34m.\u001b[0m\u001b[0mlower\u001b[0m\u001b[0;34m(\u001b[0m\u001b[0;34m)\u001b[0m\u001b[0;34m\u001b[0m\u001b[0;34m\u001b[0m\u001b[0m\n\u001b[0m\u001b[1;32m     23\u001b[0m \u001b[0;34m\u001b[0m\u001b[0m\n\u001b[1;32m     24\u001b[0m     \u001b[0mtranslate_dict\u001b[0m \u001b[0;34m=\u001b[0m \u001b[0;34m{\u001b[0m\u001b[0mc\u001b[0m\u001b[0;34m:\u001b[0m \u001b[0msplit\u001b[0m \u001b[0;32mfor\u001b[0m \u001b[0mc\u001b[0m \u001b[0;32min\u001b[0m \u001b[0mfilters\u001b[0m\u001b[0;34m}\u001b[0m\u001b[0;34m\u001b[0m\u001b[0;34m\u001b[0m\u001b[0m\n",
            "\u001b[0;31mAttributeError\u001b[0m: 'NoneType' object has no attribute 'lower'"
          ]
        }
      ]
    },
    {
      "cell_type": "markdown",
      "metadata": {
        "id": "qd5Ek4NLTgVN"
      },
      "source": [
        "# Building the Classifier"
      ]
    },
    {
      "cell_type": "markdown",
      "metadata": {
        "id": "HpLEoTaITEGx"
      },
      "source": [
        "In this step, you will design and build a NLP Classifier model to classify text data. Below is a breakdown of the key components you'll implement, but it's up to you to decide how to configure them based on your understanding and experimentation:\n",
        "\n",
        "1. **Model Type**:\n",
        "   You will use a Sequential model, which allows you to stack layers in a linear sequence.\n",
        "\n",
        "2. **Input Layer**:\n",
        "   Define the shape of the input data. Consider the dimensions of your padded sequences and set the input shape accordingly.\n",
        "\n",
        "3. **Embedding Layer**:\n",
        "   The embedding layer will convert input tokens (integers) into dense vector representations. You will need to determine the size of the input dimension (based on your vocabulary) and the output dimension (embedding size).\n",
        "\n",
        "4. **Bidirectional Simple RNN/LSTM Layers**:\n",
        "   You can add one or more recurrent layers. Consider using Bidirectional layers to capture contextual information from both directions (forward and backward). You can chose SimpleRNN/GRU/LSTM to perform this step.\n",
        "\n",
        "5. **Dense Layers**:\n",
        "   Add one or more fully connected (Dense) layers to process the output from the RNN/GRU/LSTM layers.\n",
        "\n",
        "6. **Output Layer**:\n",
        "   The output layer should match the type of classification task you're working on. Consider using appropriate activation function with appropriate number of units.\n",
        "\n",
        "7. **Model Summary**:\n",
        "   After defining your model architecture, print a summary to review the number of layers, types of layers, and total parameters.\n",
        "\n",
        "8. **Model Compilation**:\n",
        "   Finally, compile the model by selecting an optimizer, a loss function, and metrics."
      ]
    },
    {
      "cell_type": "code",
      "source": [
        "model = Sequential([\n",
        "    Input(shape=(300,)),\n",
        "    Embedding(input_dim=len(tokenizer.word_index) + 1, output_dim=128, input_length=300),\n",
        "\n",
        "    Bidirectional(SimpleRNN(64, return_sequences=True)),\n",
        "\n",
        "    Bidirectional(SimpleRNN(32)),\n",
        "\n",
        "    Dense(64, activation='relu'),\n",
        "\n",
        "    Dense(1, activation='sigmoid')\n",
        "])\n",
        "\n"
      ],
      "metadata": {
        "colab": {
          "base_uri": "https://localhost:8080/"
        },
        "id": "0GHiwlF0UAKK",
        "outputId": "52a2f732-145c-4f2b-b563-93eb2923dc77"
      },
      "execution_count": 69,
      "outputs": [
        {
          "output_type": "stream",
          "name": "stderr",
          "text": [
            "/usr/local/lib/python3.10/dist-packages/keras/src/layers/core/embedding.py:90: UserWarning: Argument `input_length` is deprecated. Just remove it.\n",
            "  warnings.warn(\n"
          ]
        }
      ]
    },
    {
      "cell_type": "code",
      "source": [
        "model.summary()"
      ],
      "metadata": {
        "colab": {
          "base_uri": "https://localhost:8080/",
          "height": 294
        },
        "id": "ahY1XRyvuJSA",
        "outputId": "153ae144-e921-4327-d0d4-4b6c452135b5"
      },
      "execution_count": 70,
      "outputs": [
        {
          "output_type": "display_data",
          "data": {
            "text/plain": [
              "\u001b[1mModel: \"sequential\"\u001b[0m\n"
            ],
            "text/html": [
              "<pre style=\"white-space:pre;overflow-x:auto;line-height:normal;font-family:Menlo,'DejaVu Sans Mono',consolas,'Courier New',monospace\"><span style=\"font-weight: bold\">Model: \"sequential\"</span>\n",
              "</pre>\n"
            ]
          },
          "metadata": {}
        },
        {
          "output_type": "display_data",
          "data": {
            "text/plain": [
              "┏━━━━━━━━━━━━━━━━━━━━━━━━━━━━━━━━━━━━━━┳━━━━━━━━━━━━━━━━━━━━━━━━━━━━━┳━━━━━━━━━━━━━━━━━┓\n",
              "┃\u001b[1m \u001b[0m\u001b[1mLayer (type)                        \u001b[0m\u001b[1m \u001b[0m┃\u001b[1m \u001b[0m\u001b[1mOutput Shape               \u001b[0m\u001b[1m \u001b[0m┃\u001b[1m \u001b[0m\u001b[1m        Param #\u001b[0m\u001b[1m \u001b[0m┃\n",
              "┡━━━━━━━━━━━━━━━━━━━━━━━━━━━━━━━━━━━━━━╇━━━━━━━━━━━━━━━━━━━━━━━━━━━━━╇━━━━━━━━━━━━━━━━━┩\n",
              "│ embedding (\u001b[38;5;33mEmbedding\u001b[0m)                │ (\u001b[38;5;45mNone\u001b[0m, \u001b[38;5;34m300\u001b[0m, \u001b[38;5;34m128\u001b[0m)            │             \u001b[38;5;34m128\u001b[0m │\n",
              "├──────────────────────────────────────┼─────────────────────────────┼─────────────────┤\n",
              "│ bidirectional (\u001b[38;5;33mBidirectional\u001b[0m)        │ (\u001b[38;5;45mNone\u001b[0m, \u001b[38;5;34m300\u001b[0m, \u001b[38;5;34m128\u001b[0m)            │          \u001b[38;5;34m24,704\u001b[0m │\n",
              "├──────────────────────────────────────┼─────────────────────────────┼─────────────────┤\n",
              "│ bidirectional_1 (\u001b[38;5;33mBidirectional\u001b[0m)      │ (\u001b[38;5;45mNone\u001b[0m, \u001b[38;5;34m64\u001b[0m)                  │          \u001b[38;5;34m10,304\u001b[0m │\n",
              "├──────────────────────────────────────┼─────────────────────────────┼─────────────────┤\n",
              "│ dense (\u001b[38;5;33mDense\u001b[0m)                        │ (\u001b[38;5;45mNone\u001b[0m, \u001b[38;5;34m64\u001b[0m)                  │           \u001b[38;5;34m4,160\u001b[0m │\n",
              "├──────────────────────────────────────┼─────────────────────────────┼─────────────────┤\n",
              "│ dense_1 (\u001b[38;5;33mDense\u001b[0m)                      │ (\u001b[38;5;45mNone\u001b[0m, \u001b[38;5;34m1\u001b[0m)                   │              \u001b[38;5;34m65\u001b[0m │\n",
              "└──────────────────────────────────────┴─────────────────────────────┴─────────────────┘\n"
            ],
            "text/html": [
              "<pre style=\"white-space:pre;overflow-x:auto;line-height:normal;font-family:Menlo,'DejaVu Sans Mono',consolas,'Courier New',monospace\">┏━━━━━━━━━━━━━━━━━━━━━━━━━━━━━━━━━━━━━━┳━━━━━━━━━━━━━━━━━━━━━━━━━━━━━┳━━━━━━━━━━━━━━━━━┓\n",
              "┃<span style=\"font-weight: bold\"> Layer (type)                         </span>┃<span style=\"font-weight: bold\"> Output Shape                </span>┃<span style=\"font-weight: bold\">         Param # </span>┃\n",
              "┡━━━━━━━━━━━━━━━━━━━━━━━━━━━━━━━━━━━━━━╇━━━━━━━━━━━━━━━━━━━━━━━━━━━━━╇━━━━━━━━━━━━━━━━━┩\n",
              "│ embedding (<span style=\"color: #0087ff; text-decoration-color: #0087ff\">Embedding</span>)                │ (<span style=\"color: #00d7ff; text-decoration-color: #00d7ff\">None</span>, <span style=\"color: #00af00; text-decoration-color: #00af00\">300</span>, <span style=\"color: #00af00; text-decoration-color: #00af00\">128</span>)            │             <span style=\"color: #00af00; text-decoration-color: #00af00\">128</span> │\n",
              "├──────────────────────────────────────┼─────────────────────────────┼─────────────────┤\n",
              "│ bidirectional (<span style=\"color: #0087ff; text-decoration-color: #0087ff\">Bidirectional</span>)        │ (<span style=\"color: #00d7ff; text-decoration-color: #00d7ff\">None</span>, <span style=\"color: #00af00; text-decoration-color: #00af00\">300</span>, <span style=\"color: #00af00; text-decoration-color: #00af00\">128</span>)            │          <span style=\"color: #00af00; text-decoration-color: #00af00\">24,704</span> │\n",
              "├──────────────────────────────────────┼─────────────────────────────┼─────────────────┤\n",
              "│ bidirectional_1 (<span style=\"color: #0087ff; text-decoration-color: #0087ff\">Bidirectional</span>)      │ (<span style=\"color: #00d7ff; text-decoration-color: #00d7ff\">None</span>, <span style=\"color: #00af00; text-decoration-color: #00af00\">64</span>)                  │          <span style=\"color: #00af00; text-decoration-color: #00af00\">10,304</span> │\n",
              "├──────────────────────────────────────┼─────────────────────────────┼─────────────────┤\n",
              "│ dense (<span style=\"color: #0087ff; text-decoration-color: #0087ff\">Dense</span>)                        │ (<span style=\"color: #00d7ff; text-decoration-color: #00d7ff\">None</span>, <span style=\"color: #00af00; text-decoration-color: #00af00\">64</span>)                  │           <span style=\"color: #00af00; text-decoration-color: #00af00\">4,160</span> │\n",
              "├──────────────────────────────────────┼─────────────────────────────┼─────────────────┤\n",
              "│ dense_1 (<span style=\"color: #0087ff; text-decoration-color: #0087ff\">Dense</span>)                      │ (<span style=\"color: #00d7ff; text-decoration-color: #00d7ff\">None</span>, <span style=\"color: #00af00; text-decoration-color: #00af00\">1</span>)                   │              <span style=\"color: #00af00; text-decoration-color: #00af00\">65</span> │\n",
              "└──────────────────────────────────────┴─────────────────────────────┴─────────────────┘\n",
              "</pre>\n"
            ]
          },
          "metadata": {}
        },
        {
          "output_type": "display_data",
          "data": {
            "text/plain": [
              "\u001b[1m Total params: \u001b[0m\u001b[38;5;34m39,361\u001b[0m (153.75 KB)\n"
            ],
            "text/html": [
              "<pre style=\"white-space:pre;overflow-x:auto;line-height:normal;font-family:Menlo,'DejaVu Sans Mono',consolas,'Courier New',monospace\"><span style=\"font-weight: bold\"> Total params: </span><span style=\"color: #00af00; text-decoration-color: #00af00\">39,361</span> (153.75 KB)\n",
              "</pre>\n"
            ]
          },
          "metadata": {}
        },
        {
          "output_type": "display_data",
          "data": {
            "text/plain": [
              "\u001b[1m Trainable params: \u001b[0m\u001b[38;5;34m39,361\u001b[0m (153.75 KB)\n"
            ],
            "text/html": [
              "<pre style=\"white-space:pre;overflow-x:auto;line-height:normal;font-family:Menlo,'DejaVu Sans Mono',consolas,'Courier New',monospace\"><span style=\"font-weight: bold\"> Trainable params: </span><span style=\"color: #00af00; text-decoration-color: #00af00\">39,361</span> (153.75 KB)\n",
              "</pre>\n"
            ]
          },
          "metadata": {}
        },
        {
          "output_type": "display_data",
          "data": {
            "text/plain": [
              "\u001b[1m Non-trainable params: \u001b[0m\u001b[38;5;34m0\u001b[0m (0.00 B)\n"
            ],
            "text/html": [
              "<pre style=\"white-space:pre;overflow-x:auto;line-height:normal;font-family:Menlo,'DejaVu Sans Mono',consolas,'Courier New',monospace\"><span style=\"font-weight: bold\"> Non-trainable params: </span><span style=\"color: #00af00; text-decoration-color: #00af00\">0</span> (0.00 B)\n",
              "</pre>\n"
            ]
          },
          "metadata": {}
        }
      ]
    },
    {
      "cell_type": "markdown",
      "source": [],
      "metadata": {
        "id": "th8jdmjPtfDU"
      }
    },
    {
      "cell_type": "code",
      "source": [
        "model.compile(optimizer='adam', loss='binary_crossentropy', metrics=['accuracy'])"
      ],
      "metadata": {
        "id": "USE0votJuOAq"
      },
      "execution_count": 71,
      "outputs": []
    },
    {
      "cell_type": "markdown",
      "metadata": {
        "id": "57DXwqqQTloy"
      },
      "source": [
        "# Defining Batch Size, Creating Datasets, and Training the Model"
      ]
    },
    {
      "cell_type": "markdown",
      "metadata": {
        "id": "LEOvs_dETmQp"
      },
      "source": [
        "In this step, you will define the batch size, create TensorFlow Datasets for both training and testing, and train the model. The key elements to consider are outlined below, and it is up to you to choose the specific configurations based on your preferences and experimentation:\n",
        "\n",
        "1. **Batch Size**:\n",
        "   Select a batch size for training and testing. The batch size determines how many samples will be processed together in one forward and backward pass during training.\n",
        "\n",
        "2. **Creating Datasets**:\n",
        "   Use TensorFlow’s `Dataset.from_tensor_slices()` to create datasets from the training and testing data.\n",
        "\n",
        "3. **Batching the Datasets**:\n",
        "   Batch the datasets by grouping the data into batches of the specified size.\n",
        "\n",
        "4. **Training the Model**:\n",
        "   Train the model by fitting it on the training dataset for a specified number of epochs. You will also need to provide the validation data to monitor the model’s performance on unseen data during training.\n",
        "\n",
        "5. **Tracking Training History**:\n",
        "   During training, the model’s performance metrics (such as loss and accuracy) will be tracked over the epochs, and the results will be stored in the `history` object."
      ]
    },
    {
      "cell_type": "code",
      "source": [
        "import tensorflow as tf\n",
        "import tensorflow_datasets as tfds\n",
        "\n",
        "import numpy as np\n",
        "import matplotlib.pyplot as plt\n",
        "from tensorflow.keras.datasets import imdb\n",
        "from tensorflow.keras.preprocessing.sequence import pad_sequences\n"
      ],
      "metadata": {
        "id": "XCoeUPtwxgD3"
      },
      "execution_count": 79,
      "outputs": []
    },
    {
      "cell_type": "code",
      "source": [
        "train_dataset = tensorflow.data.Dataset.from_tensor_slices((train['text'], train['label']))\n",
        "\n",
        "val_dataset = tensorflow.data.Dataset.from_tensor_slices((val['text'], val['label']))\n",
        "\n",
        "test_dataset = tensorflow.data.Dataset.from_tensor_slices((test['text'], test['label']))"
      ],
      "metadata": {
        "colab": {
          "base_uri": "https://localhost:8080/",
          "height": 622
        },
        "id": "UjIshtoYwlQS",
        "outputId": "dba5b840-d10c-487e-a1df-2e5f9c71b7f6"
      },
      "execution_count": 80,
      "outputs": [
        {
          "output_type": "error",
          "ename": "ValueError",
          "evalue": "Failed to convert a NumPy array to a Tensor (Unsupported object type NoneType).",
          "traceback": [
            "\u001b[0;31m---------------------------------------------------------------------------\u001b[0m",
            "\u001b[0;31mTypeError\u001b[0m                                 Traceback (most recent call last)",
            "\u001b[0;32m/usr/local/lib/python3.10/dist-packages/tensorflow/python/data/util/structure.py\u001b[0m in \u001b[0;36mnormalize_element\u001b[0;34m(element, element_signature)\u001b[0m\n\u001b[1;32m    104\u001b[0m         \u001b[0;32mif\u001b[0m \u001b[0mspec\u001b[0m \u001b[0;32mis\u001b[0m \u001b[0;32mNone\u001b[0m\u001b[0;34m:\u001b[0m\u001b[0;34m\u001b[0m\u001b[0;34m\u001b[0m\u001b[0m\n\u001b[0;32m--> 105\u001b[0;31m           \u001b[0mspec\u001b[0m \u001b[0;34m=\u001b[0m \u001b[0mtype_spec_from_value\u001b[0m\u001b[0;34m(\u001b[0m\u001b[0mt\u001b[0m\u001b[0;34m,\u001b[0m \u001b[0muse_fallback\u001b[0m\u001b[0;34m=\u001b[0m\u001b[0;32mFalse\u001b[0m\u001b[0;34m)\u001b[0m\u001b[0;34m\u001b[0m\u001b[0;34m\u001b[0m\u001b[0m\n\u001b[0m\u001b[1;32m    106\u001b[0m       \u001b[0;32mexcept\u001b[0m \u001b[0mTypeError\u001b[0m\u001b[0;34m:\u001b[0m\u001b[0;34m\u001b[0m\u001b[0;34m\u001b[0m\u001b[0m\n",
            "\u001b[0;32m/usr/local/lib/python3.10/dist-packages/tensorflow/python/data/util/structure.py\u001b[0m in \u001b[0;36mtype_spec_from_value\u001b[0;34m(element, use_fallback)\u001b[0m\n\u001b[1;32m    513\u001b[0m \u001b[0;34m\u001b[0m\u001b[0m\n\u001b[0;32m--> 514\u001b[0;31m   raise TypeError(\"Could not build a `TypeSpec` for {} with type {}\".format(\n\u001b[0m\u001b[1;32m    515\u001b[0m       \u001b[0melement\u001b[0m\u001b[0;34m,\u001b[0m\u001b[0;34m\u001b[0m\u001b[0;34m\u001b[0m\u001b[0m\n",
            "\u001b[0;31mTypeError\u001b[0m: Could not build a `TypeSpec` for 29527    None\n7373     None\n10326    None\n23687    None\n32062    None\n         ... \n31014    None\n7392     None\n1702     None\n8881     None\n28572    None\nName: text, Length: 903, dtype: object with type Series",
            "\nDuring handling of the above exception, another exception occurred:\n",
            "\u001b[0;31mValueError\u001b[0m                                Traceback (most recent call last)",
            "\u001b[0;32m<ipython-input-80-bd4873216639>\u001b[0m in \u001b[0;36m<cell line: 1>\u001b[0;34m()\u001b[0m\n\u001b[0;32m----> 1\u001b[0;31m \u001b[0mtrain_dataset\u001b[0m \u001b[0;34m=\u001b[0m \u001b[0mtensorflow\u001b[0m\u001b[0;34m.\u001b[0m\u001b[0mdata\u001b[0m\u001b[0;34m.\u001b[0m\u001b[0mDataset\u001b[0m\u001b[0;34m.\u001b[0m\u001b[0mfrom_tensor_slices\u001b[0m\u001b[0;34m(\u001b[0m\u001b[0;34m(\u001b[0m\u001b[0mtrain\u001b[0m\u001b[0;34m[\u001b[0m\u001b[0;34m'text'\u001b[0m\u001b[0;34m]\u001b[0m\u001b[0;34m,\u001b[0m \u001b[0mtrain\u001b[0m\u001b[0;34m[\u001b[0m\u001b[0;34m'label'\u001b[0m\u001b[0;34m]\u001b[0m\u001b[0;34m)\u001b[0m\u001b[0;34m)\u001b[0m\u001b[0;34m\u001b[0m\u001b[0;34m\u001b[0m\u001b[0m\n\u001b[0m\u001b[1;32m      2\u001b[0m \u001b[0;34m\u001b[0m\u001b[0m\n\u001b[1;32m      3\u001b[0m \u001b[0mval_dataset\u001b[0m \u001b[0;34m=\u001b[0m \u001b[0mtensorflow\u001b[0m\u001b[0;34m.\u001b[0m\u001b[0mdata\u001b[0m\u001b[0;34m.\u001b[0m\u001b[0mDataset\u001b[0m\u001b[0;34m.\u001b[0m\u001b[0mfrom_tensor_slices\u001b[0m\u001b[0;34m(\u001b[0m\u001b[0;34m(\u001b[0m\u001b[0mval\u001b[0m\u001b[0;34m[\u001b[0m\u001b[0;34m'text'\u001b[0m\u001b[0;34m]\u001b[0m\u001b[0;34m,\u001b[0m \u001b[0mval\u001b[0m\u001b[0;34m[\u001b[0m\u001b[0;34m'label'\u001b[0m\u001b[0;34m]\u001b[0m\u001b[0;34m)\u001b[0m\u001b[0;34m)\u001b[0m\u001b[0;34m\u001b[0m\u001b[0;34m\u001b[0m\u001b[0m\n\u001b[1;32m      4\u001b[0m \u001b[0;34m\u001b[0m\u001b[0m\n\u001b[1;32m      5\u001b[0m \u001b[0mtest_dataset\u001b[0m \u001b[0;34m=\u001b[0m \u001b[0mtensorflow\u001b[0m\u001b[0;34m.\u001b[0m\u001b[0mdata\u001b[0m\u001b[0;34m.\u001b[0m\u001b[0mDataset\u001b[0m\u001b[0;34m.\u001b[0m\u001b[0mfrom_tensor_slices\u001b[0m\u001b[0;34m(\u001b[0m\u001b[0;34m(\u001b[0m\u001b[0mtest\u001b[0m\u001b[0;34m[\u001b[0m\u001b[0;34m'text'\u001b[0m\u001b[0;34m]\u001b[0m\u001b[0;34m,\u001b[0m \u001b[0mtest\u001b[0m\u001b[0;34m[\u001b[0m\u001b[0;34m'label'\u001b[0m\u001b[0;34m]\u001b[0m\u001b[0;34m)\u001b[0m\u001b[0;34m)\u001b[0m\u001b[0;34m\u001b[0m\u001b[0;34m\u001b[0m\u001b[0m\n",
            "\u001b[0;32m/usr/local/lib/python3.10/dist-packages/tensorflow/python/data/ops/dataset_ops.py\u001b[0m in \u001b[0;36mfrom_tensor_slices\u001b[0;34m(tensors, name)\u001b[0m\n\u001b[1;32m    824\u001b[0m     \u001b[0;31m# pylint: disable=g-import-not-at-top,protected-access\u001b[0m\u001b[0;34m\u001b[0m\u001b[0;34m\u001b[0m\u001b[0m\n\u001b[1;32m    825\u001b[0m     \u001b[0;32mfrom\u001b[0m \u001b[0mtensorflow\u001b[0m\u001b[0;34m.\u001b[0m\u001b[0mpython\u001b[0m\u001b[0;34m.\u001b[0m\u001b[0mdata\u001b[0m\u001b[0;34m.\u001b[0m\u001b[0mops\u001b[0m \u001b[0;32mimport\u001b[0m \u001b[0mfrom_tensor_slices_op\u001b[0m\u001b[0;34m\u001b[0m\u001b[0;34m\u001b[0m\u001b[0m\n\u001b[0;32m--> 826\u001b[0;31m     \u001b[0;32mreturn\u001b[0m \u001b[0mfrom_tensor_slices_op\u001b[0m\u001b[0;34m.\u001b[0m\u001b[0m_from_tensor_slices\u001b[0m\u001b[0;34m(\u001b[0m\u001b[0mtensors\u001b[0m\u001b[0;34m,\u001b[0m \u001b[0mname\u001b[0m\u001b[0;34m)\u001b[0m\u001b[0;34m\u001b[0m\u001b[0;34m\u001b[0m\u001b[0m\n\u001b[0m\u001b[1;32m    827\u001b[0m     \u001b[0;31m# pylint: enable=g-import-not-at-top,protected-access\u001b[0m\u001b[0;34m\u001b[0m\u001b[0;34m\u001b[0m\u001b[0m\n\u001b[1;32m    828\u001b[0m \u001b[0;34m\u001b[0m\u001b[0m\n",
            "\u001b[0;32m/usr/local/lib/python3.10/dist-packages/tensorflow/python/data/ops/from_tensor_slices_op.py\u001b[0m in \u001b[0;36m_from_tensor_slices\u001b[0;34m(tensors, name)\u001b[0m\n\u001b[1;32m     23\u001b[0m \u001b[0;34m\u001b[0m\u001b[0m\n\u001b[1;32m     24\u001b[0m \u001b[0;32mdef\u001b[0m \u001b[0m_from_tensor_slices\u001b[0m\u001b[0;34m(\u001b[0m\u001b[0mtensors\u001b[0m\u001b[0;34m,\u001b[0m \u001b[0mname\u001b[0m\u001b[0;34m=\u001b[0m\u001b[0;32mNone\u001b[0m\u001b[0;34m)\u001b[0m\u001b[0;34m:\u001b[0m\u001b[0;34m\u001b[0m\u001b[0;34m\u001b[0m\u001b[0m\n\u001b[0;32m---> 25\u001b[0;31m   \u001b[0;32mreturn\u001b[0m \u001b[0m_TensorSliceDataset\u001b[0m\u001b[0;34m(\u001b[0m\u001b[0mtensors\u001b[0m\u001b[0;34m,\u001b[0m \u001b[0mname\u001b[0m\u001b[0;34m=\u001b[0m\u001b[0mname\u001b[0m\u001b[0;34m)\u001b[0m\u001b[0;34m\u001b[0m\u001b[0;34m\u001b[0m\u001b[0m\n\u001b[0m\u001b[1;32m     26\u001b[0m \u001b[0;34m\u001b[0m\u001b[0m\n\u001b[1;32m     27\u001b[0m \u001b[0;34m\u001b[0m\u001b[0m\n",
            "\u001b[0;32m/usr/local/lib/python3.10/dist-packages/tensorflow/python/data/ops/from_tensor_slices_op.py\u001b[0m in \u001b[0;36m__init__\u001b[0;34m(self, element, is_files, name)\u001b[0m\n\u001b[1;32m     31\u001b[0m   \u001b[0;32mdef\u001b[0m \u001b[0m__init__\u001b[0m\u001b[0;34m(\u001b[0m\u001b[0mself\u001b[0m\u001b[0;34m,\u001b[0m \u001b[0melement\u001b[0m\u001b[0;34m,\u001b[0m \u001b[0mis_files\u001b[0m\u001b[0;34m=\u001b[0m\u001b[0;32mFalse\u001b[0m\u001b[0;34m,\u001b[0m \u001b[0mname\u001b[0m\u001b[0;34m=\u001b[0m\u001b[0;32mNone\u001b[0m\u001b[0;34m)\u001b[0m\u001b[0;34m:\u001b[0m\u001b[0;34m\u001b[0m\u001b[0;34m\u001b[0m\u001b[0m\n\u001b[1;32m     32\u001b[0m     \u001b[0;34m\"\"\"See `Dataset.from_tensor_slices` for details.\"\"\"\u001b[0m\u001b[0;34m\u001b[0m\u001b[0;34m\u001b[0m\u001b[0m\n\u001b[0;32m---> 33\u001b[0;31m     \u001b[0melement\u001b[0m \u001b[0;34m=\u001b[0m \u001b[0mstructure\u001b[0m\u001b[0;34m.\u001b[0m\u001b[0mnormalize_element\u001b[0m\u001b[0;34m(\u001b[0m\u001b[0melement\u001b[0m\u001b[0;34m)\u001b[0m\u001b[0;34m\u001b[0m\u001b[0;34m\u001b[0m\u001b[0m\n\u001b[0m\u001b[1;32m     34\u001b[0m     \u001b[0mbatched_spec\u001b[0m \u001b[0;34m=\u001b[0m \u001b[0mstructure\u001b[0m\u001b[0;34m.\u001b[0m\u001b[0mtype_spec_from_value\u001b[0m\u001b[0;34m(\u001b[0m\u001b[0melement\u001b[0m\u001b[0;34m)\u001b[0m\u001b[0;34m\u001b[0m\u001b[0;34m\u001b[0m\u001b[0m\n\u001b[1;32m     35\u001b[0m     \u001b[0mself\u001b[0m\u001b[0;34m.\u001b[0m\u001b[0m_tensors\u001b[0m \u001b[0;34m=\u001b[0m \u001b[0mstructure\u001b[0m\u001b[0;34m.\u001b[0m\u001b[0mto_batched_tensor_list\u001b[0m\u001b[0;34m(\u001b[0m\u001b[0mbatched_spec\u001b[0m\u001b[0;34m,\u001b[0m \u001b[0melement\u001b[0m\u001b[0;34m)\u001b[0m\u001b[0;34m\u001b[0m\u001b[0;34m\u001b[0m\u001b[0m\n",
            "\u001b[0;32m/usr/local/lib/python3.10/dist-packages/tensorflow/python/data/util/structure.py\u001b[0m in \u001b[0;36mnormalize_element\u001b[0;34m(element, element_signature)\u001b[0m\n\u001b[1;32m    108\u001b[0m         \u001b[0;31m# the value. As a fallback try converting the value to a tensor.\u001b[0m\u001b[0;34m\u001b[0m\u001b[0;34m\u001b[0m\u001b[0m\n\u001b[1;32m    109\u001b[0m         normalized_components.append(\n\u001b[0;32m--> 110\u001b[0;31m             ops.convert_to_tensor(t, name=\"component_%d\" % i))\n\u001b[0m\u001b[1;32m    111\u001b[0m       \u001b[0;32melse\u001b[0m\u001b[0;34m:\u001b[0m\u001b[0;34m\u001b[0m\u001b[0;34m\u001b[0m\u001b[0m\n\u001b[1;32m    112\u001b[0m         \u001b[0;31m# To avoid a circular dependency between dataset_ops and structure,\u001b[0m\u001b[0;34m\u001b[0m\u001b[0;34m\u001b[0m\u001b[0m\n",
            "\u001b[0;32m/usr/local/lib/python3.10/dist-packages/tensorflow/python/profiler/trace.py\u001b[0m in \u001b[0;36mwrapped\u001b[0;34m(*args, **kwargs)\u001b[0m\n\u001b[1;32m    181\u001b[0m         \u001b[0;32mwith\u001b[0m \u001b[0mTrace\u001b[0m\u001b[0;34m(\u001b[0m\u001b[0mtrace_name\u001b[0m\u001b[0;34m,\u001b[0m \u001b[0;34m**\u001b[0m\u001b[0mtrace_kwargs\u001b[0m\u001b[0;34m)\u001b[0m\u001b[0;34m:\u001b[0m\u001b[0;34m\u001b[0m\u001b[0;34m\u001b[0m\u001b[0m\n\u001b[1;32m    182\u001b[0m           \u001b[0;32mreturn\u001b[0m \u001b[0mfunc\u001b[0m\u001b[0;34m(\u001b[0m\u001b[0;34m*\u001b[0m\u001b[0margs\u001b[0m\u001b[0;34m,\u001b[0m \u001b[0;34m**\u001b[0m\u001b[0mkwargs\u001b[0m\u001b[0;34m)\u001b[0m\u001b[0;34m\u001b[0m\u001b[0;34m\u001b[0m\u001b[0m\n\u001b[0;32m--> 183\u001b[0;31m       \u001b[0;32mreturn\u001b[0m \u001b[0mfunc\u001b[0m\u001b[0;34m(\u001b[0m\u001b[0;34m*\u001b[0m\u001b[0margs\u001b[0m\u001b[0;34m,\u001b[0m \u001b[0;34m**\u001b[0m\u001b[0mkwargs\u001b[0m\u001b[0;34m)\u001b[0m\u001b[0;34m\u001b[0m\u001b[0;34m\u001b[0m\u001b[0m\n\u001b[0m\u001b[1;32m    184\u001b[0m \u001b[0;34m\u001b[0m\u001b[0m\n\u001b[1;32m    185\u001b[0m     \u001b[0;32mreturn\u001b[0m \u001b[0mwrapped\u001b[0m\u001b[0;34m\u001b[0m\u001b[0;34m\u001b[0m\u001b[0m\n",
            "\u001b[0;32m/usr/local/lib/python3.10/dist-packages/tensorflow/python/framework/ops.py\u001b[0m in \u001b[0;36mconvert_to_tensor\u001b[0;34m(value, dtype, name, as_ref, preferred_dtype, dtype_hint, ctx, accepted_result_types)\u001b[0m\n\u001b[1;32m    711\u001b[0m   \u001b[0;31m# TODO(b/142518781): Fix all call-sites and remove redundant arg\u001b[0m\u001b[0;34m\u001b[0m\u001b[0;34m\u001b[0m\u001b[0m\n\u001b[1;32m    712\u001b[0m   \u001b[0mpreferred_dtype\u001b[0m \u001b[0;34m=\u001b[0m \u001b[0mpreferred_dtype\u001b[0m \u001b[0;32mor\u001b[0m \u001b[0mdtype_hint\u001b[0m\u001b[0;34m\u001b[0m\u001b[0;34m\u001b[0m\u001b[0m\n\u001b[0;32m--> 713\u001b[0;31m   return tensor_conversion_registry.convert(\n\u001b[0m\u001b[1;32m    714\u001b[0m       \u001b[0mvalue\u001b[0m\u001b[0;34m,\u001b[0m \u001b[0mdtype\u001b[0m\u001b[0;34m,\u001b[0m \u001b[0mname\u001b[0m\u001b[0;34m,\u001b[0m \u001b[0mas_ref\u001b[0m\u001b[0;34m,\u001b[0m \u001b[0mpreferred_dtype\u001b[0m\u001b[0;34m,\u001b[0m \u001b[0maccepted_result_types\u001b[0m\u001b[0;34m\u001b[0m\u001b[0;34m\u001b[0m\u001b[0m\n\u001b[1;32m    715\u001b[0m   )\n",
            "\u001b[0;32m/usr/local/lib/python3.10/dist-packages/tensorflow/python/framework/tensor_conversion_registry.py\u001b[0m in \u001b[0;36mconvert\u001b[0;34m(value, dtype, name, as_ref, preferred_dtype, accepted_result_types)\u001b[0m\n\u001b[1;32m    232\u001b[0m \u001b[0;34m\u001b[0m\u001b[0m\n\u001b[1;32m    233\u001b[0m     \u001b[0;32mif\u001b[0m \u001b[0mret\u001b[0m \u001b[0;32mis\u001b[0m \u001b[0;32mNone\u001b[0m\u001b[0;34m:\u001b[0m\u001b[0;34m\u001b[0m\u001b[0;34m\u001b[0m\u001b[0m\n\u001b[0;32m--> 234\u001b[0;31m       \u001b[0mret\u001b[0m \u001b[0;34m=\u001b[0m \u001b[0mconversion_func\u001b[0m\u001b[0;34m(\u001b[0m\u001b[0mvalue\u001b[0m\u001b[0;34m,\u001b[0m \u001b[0mdtype\u001b[0m\u001b[0;34m=\u001b[0m\u001b[0mdtype\u001b[0m\u001b[0;34m,\u001b[0m \u001b[0mname\u001b[0m\u001b[0;34m=\u001b[0m\u001b[0mname\u001b[0m\u001b[0;34m,\u001b[0m \u001b[0mas_ref\u001b[0m\u001b[0;34m=\u001b[0m\u001b[0mas_ref\u001b[0m\u001b[0;34m)\u001b[0m\u001b[0;34m\u001b[0m\u001b[0;34m\u001b[0m\u001b[0m\n\u001b[0m\u001b[1;32m    235\u001b[0m \u001b[0;34m\u001b[0m\u001b[0m\n\u001b[1;32m    236\u001b[0m     \u001b[0;32mif\u001b[0m \u001b[0mret\u001b[0m \u001b[0;32mis\u001b[0m \u001b[0mNotImplemented\u001b[0m\u001b[0;34m:\u001b[0m\u001b[0;34m\u001b[0m\u001b[0;34m\u001b[0m\u001b[0m\n",
            "\u001b[0;32m/usr/local/lib/python3.10/dist-packages/tensorflow/python/framework/constant_tensor_conversion.py\u001b[0m in \u001b[0;36m_constant_tensor_conversion_function\u001b[0;34m(v, dtype, name, as_ref)\u001b[0m\n\u001b[1;32m     27\u001b[0m \u001b[0;34m\u001b[0m\u001b[0m\n\u001b[1;32m     28\u001b[0m   \u001b[0m_\u001b[0m \u001b[0;34m=\u001b[0m \u001b[0mas_ref\u001b[0m\u001b[0;34m\u001b[0m\u001b[0;34m\u001b[0m\u001b[0m\n\u001b[0;32m---> 29\u001b[0;31m   \u001b[0;32mreturn\u001b[0m \u001b[0mconstant_op\u001b[0m\u001b[0;34m.\u001b[0m\u001b[0mconstant\u001b[0m\u001b[0;34m(\u001b[0m\u001b[0mv\u001b[0m\u001b[0;34m,\u001b[0m \u001b[0mdtype\u001b[0m\u001b[0;34m=\u001b[0m\u001b[0mdtype\u001b[0m\u001b[0;34m,\u001b[0m \u001b[0mname\u001b[0m\u001b[0;34m=\u001b[0m\u001b[0mname\u001b[0m\u001b[0;34m)\u001b[0m\u001b[0;34m\u001b[0m\u001b[0;34m\u001b[0m\u001b[0m\n\u001b[0m\u001b[1;32m     30\u001b[0m \u001b[0;34m\u001b[0m\u001b[0m\n\u001b[1;32m     31\u001b[0m \u001b[0;34m\u001b[0m\u001b[0m\n",
            "\u001b[0;32m/usr/local/lib/python3.10/dist-packages/tensorflow/python/ops/weak_tensor_ops.py\u001b[0m in \u001b[0;36mwrapper\u001b[0;34m(*args, **kwargs)\u001b[0m\n\u001b[1;32m    140\u001b[0m   \u001b[0;32mdef\u001b[0m \u001b[0mwrapper\u001b[0m\u001b[0;34m(\u001b[0m\u001b[0;34m*\u001b[0m\u001b[0margs\u001b[0m\u001b[0;34m,\u001b[0m \u001b[0;34m**\u001b[0m\u001b[0mkwargs\u001b[0m\u001b[0;34m)\u001b[0m\u001b[0;34m:\u001b[0m\u001b[0;34m\u001b[0m\u001b[0;34m\u001b[0m\u001b[0m\n\u001b[1;32m    141\u001b[0m     \u001b[0;32mif\u001b[0m \u001b[0;32mnot\u001b[0m \u001b[0mops\u001b[0m\u001b[0;34m.\u001b[0m\u001b[0mis_auto_dtype_conversion_enabled\u001b[0m\u001b[0;34m(\u001b[0m\u001b[0;34m)\u001b[0m\u001b[0;34m:\u001b[0m\u001b[0;34m\u001b[0m\u001b[0;34m\u001b[0m\u001b[0m\n\u001b[0;32m--> 142\u001b[0;31m       \u001b[0;32mreturn\u001b[0m \u001b[0mop\u001b[0m\u001b[0;34m(\u001b[0m\u001b[0;34m*\u001b[0m\u001b[0margs\u001b[0m\u001b[0;34m,\u001b[0m \u001b[0;34m**\u001b[0m\u001b[0mkwargs\u001b[0m\u001b[0;34m)\u001b[0m\u001b[0;34m\u001b[0m\u001b[0;34m\u001b[0m\u001b[0m\n\u001b[0m\u001b[1;32m    143\u001b[0m     \u001b[0mbound_arguments\u001b[0m \u001b[0;34m=\u001b[0m \u001b[0msignature\u001b[0m\u001b[0;34m.\u001b[0m\u001b[0mbind\u001b[0m\u001b[0;34m(\u001b[0m\u001b[0;34m*\u001b[0m\u001b[0margs\u001b[0m\u001b[0;34m,\u001b[0m \u001b[0;34m**\u001b[0m\u001b[0mkwargs\u001b[0m\u001b[0;34m)\u001b[0m\u001b[0;34m\u001b[0m\u001b[0;34m\u001b[0m\u001b[0m\n\u001b[1;32m    144\u001b[0m     \u001b[0mbound_arguments\u001b[0m\u001b[0;34m.\u001b[0m\u001b[0mapply_defaults\u001b[0m\u001b[0;34m(\u001b[0m\u001b[0;34m)\u001b[0m\u001b[0;34m\u001b[0m\u001b[0;34m\u001b[0m\u001b[0m\n",
            "\u001b[0;32m/usr/local/lib/python3.10/dist-packages/tensorflow/python/framework/constant_op.py\u001b[0m in \u001b[0;36mconstant\u001b[0;34m(value, dtype, shape, name)\u001b[0m\n\u001b[1;32m    274\u001b[0m     \u001b[0mValueError\u001b[0m\u001b[0;34m:\u001b[0m \u001b[0;32mif\u001b[0m \u001b[0mcalled\u001b[0m \u001b[0mon\u001b[0m \u001b[0ma\u001b[0m \u001b[0msymbolic\u001b[0m \u001b[0mtensor\u001b[0m\u001b[0;34m.\u001b[0m\u001b[0;34m\u001b[0m\u001b[0;34m\u001b[0m\u001b[0m\n\u001b[1;32m    275\u001b[0m   \"\"\"\n\u001b[0;32m--> 276\u001b[0;31m   return _constant_impl(value, dtype, shape, name, verify_shape=False,\n\u001b[0m\u001b[1;32m    277\u001b[0m                         allow_broadcast=True)\n\u001b[1;32m    278\u001b[0m \u001b[0;34m\u001b[0m\u001b[0m\n",
            "\u001b[0;32m/usr/local/lib/python3.10/dist-packages/tensorflow/python/framework/constant_op.py\u001b[0m in \u001b[0;36m_constant_impl\u001b[0;34m(value, dtype, shape, name, verify_shape, allow_broadcast)\u001b[0m\n\u001b[1;32m    287\u001b[0m       \u001b[0;32mwith\u001b[0m \u001b[0mtrace\u001b[0m\u001b[0;34m.\u001b[0m\u001b[0mTrace\u001b[0m\u001b[0;34m(\u001b[0m\u001b[0;34m\"tf.constant\"\u001b[0m\u001b[0;34m)\u001b[0m\u001b[0;34m:\u001b[0m\u001b[0;34m\u001b[0m\u001b[0;34m\u001b[0m\u001b[0m\n\u001b[1;32m    288\u001b[0m         \u001b[0;32mreturn\u001b[0m \u001b[0m_constant_eager_impl\u001b[0m\u001b[0;34m(\u001b[0m\u001b[0mctx\u001b[0m\u001b[0;34m,\u001b[0m \u001b[0mvalue\u001b[0m\u001b[0;34m,\u001b[0m \u001b[0mdtype\u001b[0m\u001b[0;34m,\u001b[0m \u001b[0mshape\u001b[0m\u001b[0;34m,\u001b[0m \u001b[0mverify_shape\u001b[0m\u001b[0;34m)\u001b[0m\u001b[0;34m\u001b[0m\u001b[0;34m\u001b[0m\u001b[0m\n\u001b[0;32m--> 289\u001b[0;31m     \u001b[0;32mreturn\u001b[0m \u001b[0m_constant_eager_impl\u001b[0m\u001b[0;34m(\u001b[0m\u001b[0mctx\u001b[0m\u001b[0;34m,\u001b[0m \u001b[0mvalue\u001b[0m\u001b[0;34m,\u001b[0m \u001b[0mdtype\u001b[0m\u001b[0;34m,\u001b[0m \u001b[0mshape\u001b[0m\u001b[0;34m,\u001b[0m \u001b[0mverify_shape\u001b[0m\u001b[0;34m)\u001b[0m\u001b[0;34m\u001b[0m\u001b[0;34m\u001b[0m\u001b[0m\n\u001b[0m\u001b[1;32m    290\u001b[0m \u001b[0;34m\u001b[0m\u001b[0m\n\u001b[1;32m    291\u001b[0m   const_tensor = ops._create_graph_constant(  # pylint: disable=protected-access\n",
            "\u001b[0;32m/usr/local/lib/python3.10/dist-packages/tensorflow/python/framework/constant_op.py\u001b[0m in \u001b[0;36m_constant_eager_impl\u001b[0;34m(ctx, value, dtype, shape, verify_shape)\u001b[0m\n\u001b[1;32m    299\u001b[0m ) -> ops._EagerTensorBase:\n\u001b[1;32m    300\u001b[0m   \u001b[0;34m\"\"\"Creates a constant on the current device.\"\"\"\u001b[0m\u001b[0;34m\u001b[0m\u001b[0;34m\u001b[0m\u001b[0m\n\u001b[0;32m--> 301\u001b[0;31m   \u001b[0mt\u001b[0m \u001b[0;34m=\u001b[0m \u001b[0mconvert_to_eager_tensor\u001b[0m\u001b[0;34m(\u001b[0m\u001b[0mvalue\u001b[0m\u001b[0;34m,\u001b[0m \u001b[0mctx\u001b[0m\u001b[0;34m,\u001b[0m \u001b[0mdtype\u001b[0m\u001b[0;34m)\u001b[0m\u001b[0;34m\u001b[0m\u001b[0;34m\u001b[0m\u001b[0m\n\u001b[0m\u001b[1;32m    302\u001b[0m   \u001b[0;32mif\u001b[0m \u001b[0mshape\u001b[0m \u001b[0;32mis\u001b[0m \u001b[0;32mNone\u001b[0m\u001b[0;34m:\u001b[0m\u001b[0;34m\u001b[0m\u001b[0;34m\u001b[0m\u001b[0m\n\u001b[1;32m    303\u001b[0m     \u001b[0;32mreturn\u001b[0m \u001b[0mt\u001b[0m\u001b[0;34m\u001b[0m\u001b[0;34m\u001b[0m\u001b[0m\n",
            "\u001b[0;32m/usr/local/lib/python3.10/dist-packages/tensorflow/python/framework/constant_op.py\u001b[0m in \u001b[0;36mconvert_to_eager_tensor\u001b[0;34m(value, ctx, dtype)\u001b[0m\n\u001b[1;32m    106\u001b[0m       \u001b[0mdtype\u001b[0m \u001b[0;34m=\u001b[0m \u001b[0mdtypes\u001b[0m\u001b[0;34m.\u001b[0m\u001b[0mas_dtype\u001b[0m\u001b[0;34m(\u001b[0m\u001b[0mdtype\u001b[0m\u001b[0;34m)\u001b[0m\u001b[0;34m.\u001b[0m\u001b[0mas_datatype_enum\u001b[0m\u001b[0;34m\u001b[0m\u001b[0;34m\u001b[0m\u001b[0m\n\u001b[1;32m    107\u001b[0m   \u001b[0mctx\u001b[0m\u001b[0;34m.\u001b[0m\u001b[0mensure_initialized\u001b[0m\u001b[0;34m(\u001b[0m\u001b[0;34m)\u001b[0m\u001b[0;34m\u001b[0m\u001b[0;34m\u001b[0m\u001b[0m\n\u001b[0;32m--> 108\u001b[0;31m   \u001b[0;32mreturn\u001b[0m \u001b[0mops\u001b[0m\u001b[0;34m.\u001b[0m\u001b[0mEagerTensor\u001b[0m\u001b[0;34m(\u001b[0m\u001b[0mvalue\u001b[0m\u001b[0;34m,\u001b[0m \u001b[0mctx\u001b[0m\u001b[0;34m.\u001b[0m\u001b[0mdevice_name\u001b[0m\u001b[0;34m,\u001b[0m \u001b[0mdtype\u001b[0m\u001b[0;34m)\u001b[0m\u001b[0;34m\u001b[0m\u001b[0;34m\u001b[0m\u001b[0m\n\u001b[0m\u001b[1;32m    109\u001b[0m \u001b[0;34m\u001b[0m\u001b[0m\n\u001b[1;32m    110\u001b[0m \u001b[0;34m\u001b[0m\u001b[0m\n",
            "\u001b[0;31mValueError\u001b[0m: Failed to convert a NumPy array to a Tensor (Unsupported object type NoneType)."
          ]
        }
      ]
    },
    {
      "cell_type": "code",
      "source": [
        "batch_size = 32\n",
        "\n",
        "train_dataset = tf.data.Dataset.from_tensor_slices((train['text'], train['label']))\n",
        "test_dataset = tf.data.Dataset.from_tensor_slices((train['text'], train['label']))\n",
        "\n",
        "\n",
        "train_dataset = train_dataset.batch(batch_size)\n",
        "test_dataset = test_dataset.batch(batch_size)\n",
        "\n",
        "\n",
        "history = model.fit(\n",
        "    train_dataset,\n",
        "    epochs=5,\n",
        "    validation_data=test_dataset,\n",
        ")\n"
      ],
      "metadata": {
        "colab": {
          "base_uri": "https://localhost:8080/",
          "height": 218
        },
        "id": "NfjfhOqavooG",
        "outputId": "400107dc-4adc-4d17-88b7-e069f8458c18"
      },
      "execution_count": 78,
      "outputs": [
        {
          "output_type": "error",
          "ename": "NameError",
          "evalue": "name 'tf' is not defined",
          "traceback": [
            "\u001b[0;31m---------------------------------------------------------------------------\u001b[0m",
            "\u001b[0;31mNameError\u001b[0m                                 Traceback (most recent call last)",
            "\u001b[0;32m<ipython-input-78-7ff4cdd47d51>\u001b[0m in \u001b[0;36m<cell line: 3>\u001b[0;34m()\u001b[0m\n\u001b[1;32m      1\u001b[0m \u001b[0mbatch_size\u001b[0m \u001b[0;34m=\u001b[0m \u001b[0;36m32\u001b[0m\u001b[0;34m\u001b[0m\u001b[0;34m\u001b[0m\u001b[0m\n\u001b[1;32m      2\u001b[0m \u001b[0;34m\u001b[0m\u001b[0m\n\u001b[0;32m----> 3\u001b[0;31m \u001b[0mtrain_dataset\u001b[0m \u001b[0;34m=\u001b[0m \u001b[0mtf\u001b[0m\u001b[0;34m.\u001b[0m\u001b[0mdata\u001b[0m\u001b[0;34m.\u001b[0m\u001b[0mDataset\u001b[0m\u001b[0;34m.\u001b[0m\u001b[0mfrom_tensor_slices\u001b[0m\u001b[0;34m(\u001b[0m\u001b[0;34m(\u001b[0m\u001b[0mtrain\u001b[0m\u001b[0;34m[\u001b[0m\u001b[0;34m'text'\u001b[0m\u001b[0;34m]\u001b[0m\u001b[0;34m,\u001b[0m \u001b[0mtrain\u001b[0m\u001b[0;34m[\u001b[0m\u001b[0;34m'label'\u001b[0m\u001b[0;34m]\u001b[0m\u001b[0;34m)\u001b[0m\u001b[0;34m)\u001b[0m\u001b[0;34m\u001b[0m\u001b[0;34m\u001b[0m\u001b[0m\n\u001b[0m\u001b[1;32m      4\u001b[0m \u001b[0mtest_dataset\u001b[0m \u001b[0;34m=\u001b[0m \u001b[0mtf\u001b[0m\u001b[0;34m.\u001b[0m\u001b[0mdata\u001b[0m\u001b[0;34m.\u001b[0m\u001b[0mDataset\u001b[0m\u001b[0;34m.\u001b[0m\u001b[0mfrom_tensor_slices\u001b[0m\u001b[0;34m(\u001b[0m\u001b[0;34m(\u001b[0m\u001b[0mtrain\u001b[0m\u001b[0;34m[\u001b[0m\u001b[0;34m'text'\u001b[0m\u001b[0;34m]\u001b[0m\u001b[0;34m,\u001b[0m \u001b[0mtrain\u001b[0m\u001b[0;34m[\u001b[0m\u001b[0;34m'label'\u001b[0m\u001b[0;34m]\u001b[0m\u001b[0;34m)\u001b[0m\u001b[0;34m)\u001b[0m\u001b[0;34m\u001b[0m\u001b[0;34m\u001b[0m\u001b[0m\n\u001b[1;32m      5\u001b[0m \u001b[0;34m\u001b[0m\u001b[0m\n",
            "\u001b[0;31mNameError\u001b[0m: name 'tf' is not defined"
          ]
        }
      ]
    },
    {
      "cell_type": "code",
      "source": [
        "history = model.fit(train['text'],train['label'], validation_data=(val['text'],val['label']), epochs=2,batch_size=32)"
      ],
      "metadata": {
        "colab": {
          "base_uri": "https://localhost:8080/",
          "height": 296
        },
        "id": "zYSQY3PRuqz3",
        "outputId": "9b87a09f-8a19-40dd-9b3c-d05f4d163ecc"
      },
      "execution_count": 74,
      "outputs": [
        {
          "output_type": "error",
          "ename": "ValueError",
          "evalue": "Failed to convert a NumPy array to a Tensor (Unsupported object type NoneType).",
          "traceback": [
            "\u001b[0;31m---------------------------------------------------------------------------\u001b[0m",
            "\u001b[0;31mValueError\u001b[0m                                Traceback (most recent call last)",
            "\u001b[0;32m<ipython-input-74-8c4460fbf8fa>\u001b[0m in \u001b[0;36m<cell line: 1>\u001b[0;34m()\u001b[0m\n\u001b[0;32m----> 1\u001b[0;31m \u001b[0mhistory\u001b[0m \u001b[0;34m=\u001b[0m \u001b[0mmodel\u001b[0m\u001b[0;34m.\u001b[0m\u001b[0mfit\u001b[0m\u001b[0;34m(\u001b[0m\u001b[0mtrain\u001b[0m\u001b[0;34m[\u001b[0m\u001b[0;34m'text'\u001b[0m\u001b[0;34m]\u001b[0m\u001b[0;34m,\u001b[0m\u001b[0mtrain\u001b[0m\u001b[0;34m[\u001b[0m\u001b[0;34m'label'\u001b[0m\u001b[0;34m]\u001b[0m\u001b[0;34m,\u001b[0m \u001b[0mvalidation_data\u001b[0m\u001b[0;34m=\u001b[0m\u001b[0;34m(\u001b[0m\u001b[0mval\u001b[0m\u001b[0;34m[\u001b[0m\u001b[0;34m'text'\u001b[0m\u001b[0;34m]\u001b[0m\u001b[0;34m,\u001b[0m\u001b[0mval\u001b[0m\u001b[0;34m[\u001b[0m\u001b[0;34m'label'\u001b[0m\u001b[0;34m]\u001b[0m\u001b[0;34m)\u001b[0m\u001b[0;34m,\u001b[0m \u001b[0mepochs\u001b[0m\u001b[0;34m=\u001b[0m\u001b[0;36m2\u001b[0m\u001b[0;34m,\u001b[0m\u001b[0mbatch_size\u001b[0m\u001b[0;34m=\u001b[0m\u001b[0;36m32\u001b[0m\u001b[0;34m)\u001b[0m\u001b[0;34m\u001b[0m\u001b[0;34m\u001b[0m\u001b[0m\n\u001b[0m",
            "\u001b[0;32m/usr/local/lib/python3.10/dist-packages/keras/src/utils/traceback_utils.py\u001b[0m in \u001b[0;36merror_handler\u001b[0;34m(*args, **kwargs)\u001b[0m\n\u001b[1;32m    120\u001b[0m             \u001b[0;31m# To get the full stack trace, call:\u001b[0m\u001b[0;34m\u001b[0m\u001b[0;34m\u001b[0m\u001b[0m\n\u001b[1;32m    121\u001b[0m             \u001b[0;31m# `keras.config.disable_traceback_filtering()`\u001b[0m\u001b[0;34m\u001b[0m\u001b[0;34m\u001b[0m\u001b[0m\n\u001b[0;32m--> 122\u001b[0;31m             \u001b[0;32mraise\u001b[0m \u001b[0me\u001b[0m\u001b[0;34m.\u001b[0m\u001b[0mwith_traceback\u001b[0m\u001b[0;34m(\u001b[0m\u001b[0mfiltered_tb\u001b[0m\u001b[0;34m)\u001b[0m \u001b[0;32mfrom\u001b[0m \u001b[0;32mNone\u001b[0m\u001b[0;34m\u001b[0m\u001b[0;34m\u001b[0m\u001b[0m\n\u001b[0m\u001b[1;32m    123\u001b[0m         \u001b[0;32mfinally\u001b[0m\u001b[0;34m:\u001b[0m\u001b[0;34m\u001b[0m\u001b[0;34m\u001b[0m\u001b[0m\n\u001b[1;32m    124\u001b[0m             \u001b[0;32mdel\u001b[0m \u001b[0mfiltered_tb\u001b[0m\u001b[0;34m\u001b[0m\u001b[0;34m\u001b[0m\u001b[0m\n",
            "\u001b[0;32m/usr/local/lib/python3.10/dist-packages/tensorflow/python/framework/constant_op.py\u001b[0m in \u001b[0;36mconvert_to_eager_tensor\u001b[0;34m(value, ctx, dtype)\u001b[0m\n\u001b[1;32m    106\u001b[0m       \u001b[0mdtype\u001b[0m \u001b[0;34m=\u001b[0m \u001b[0mdtypes\u001b[0m\u001b[0;34m.\u001b[0m\u001b[0mas_dtype\u001b[0m\u001b[0;34m(\u001b[0m\u001b[0mdtype\u001b[0m\u001b[0;34m)\u001b[0m\u001b[0;34m.\u001b[0m\u001b[0mas_datatype_enum\u001b[0m\u001b[0;34m\u001b[0m\u001b[0;34m\u001b[0m\u001b[0m\n\u001b[1;32m    107\u001b[0m   \u001b[0mctx\u001b[0m\u001b[0;34m.\u001b[0m\u001b[0mensure_initialized\u001b[0m\u001b[0;34m(\u001b[0m\u001b[0;34m)\u001b[0m\u001b[0;34m\u001b[0m\u001b[0;34m\u001b[0m\u001b[0m\n\u001b[0;32m--> 108\u001b[0;31m   \u001b[0;32mreturn\u001b[0m \u001b[0mops\u001b[0m\u001b[0;34m.\u001b[0m\u001b[0mEagerTensor\u001b[0m\u001b[0;34m(\u001b[0m\u001b[0mvalue\u001b[0m\u001b[0;34m,\u001b[0m \u001b[0mctx\u001b[0m\u001b[0;34m.\u001b[0m\u001b[0mdevice_name\u001b[0m\u001b[0;34m,\u001b[0m \u001b[0mdtype\u001b[0m\u001b[0;34m)\u001b[0m\u001b[0;34m\u001b[0m\u001b[0;34m\u001b[0m\u001b[0m\n\u001b[0m\u001b[1;32m    109\u001b[0m \u001b[0;34m\u001b[0m\u001b[0m\n\u001b[1;32m    110\u001b[0m \u001b[0;34m\u001b[0m\u001b[0m\n",
            "\u001b[0;31mValueError\u001b[0m: Failed to convert a NumPy array to a Tensor (Unsupported object type NoneType)."
          ]
        }
      ]
    },
    {
      "cell_type": "markdown",
      "metadata": {
        "id": "XmoJfr3nfP-n"
      },
      "source": [
        "# Model Evaluation"
      ]
    },
    {
      "cell_type": "markdown",
      "metadata": {
        "id": "2Gb8G9XiT-ec"
      },
      "source": [
        "Once the model is trained, the next step is to evaluate its performance on the testing dataset.\n",
        "\n",
        "1. **Evaluate the Model**:\n",
        "   You will use the `evaluate()` method to assess the model’s performance on the test dataset.\n",
        "\n",
        "2. **Testing Dataset**:\n",
        "   Ensure that the testing dataset is properly prepared and batched, just like the training dataset.\n",
        "\n",
        "4. **Loss Curve**:\n",
        "   A loss curve plots the loss values for both the training and validation datasets over the epochs."
      ]
    },
    {
      "cell_type": "code",
      "execution_count": 77,
      "metadata": {
        "id": "SdECXvQGUQae",
        "colab": {
          "base_uri": "https://localhost:8080/",
          "height": 296
        },
        "outputId": "e8e1786a-2c79-47c3-9450-1f62eebd5298"
      },
      "outputs": [
        {
          "output_type": "error",
          "ename": "ValueError",
          "evalue": "Failed to convert a NumPy array to a Tensor (Unsupported object type NoneType).",
          "traceback": [
            "\u001b[0;31m---------------------------------------------------------------------------\u001b[0m",
            "\u001b[0;31mValueError\u001b[0m                                Traceback (most recent call last)",
            "\u001b[0;32m<ipython-input-77-63203e436b66>\u001b[0m in \u001b[0;36m<cell line: 1>\u001b[0;34m()\u001b[0m\n\u001b[0;32m----> 1\u001b[0;31m \u001b[0mprint\u001b[0m\u001b[0;34m(\u001b[0m\u001b[0mmodel\u001b[0m\u001b[0;34m.\u001b[0m\u001b[0mevaluate\u001b[0m\u001b[0;34m(\u001b[0m\u001b[0mtest\u001b[0m\u001b[0;34m[\u001b[0m\u001b[0;34m'text'\u001b[0m\u001b[0;34m]\u001b[0m\u001b[0;34m,\u001b[0m \u001b[0mtest\u001b[0m\u001b[0;34m[\u001b[0m\u001b[0;34m'label'\u001b[0m\u001b[0;34m]\u001b[0m\u001b[0;34m)\u001b[0m\u001b[0;34m)\u001b[0m\u001b[0;34m\u001b[0m\u001b[0;34m\u001b[0m\u001b[0m\n\u001b[0m",
            "\u001b[0;32m/usr/local/lib/python3.10/dist-packages/keras/src/utils/traceback_utils.py\u001b[0m in \u001b[0;36merror_handler\u001b[0;34m(*args, **kwargs)\u001b[0m\n\u001b[1;32m    120\u001b[0m             \u001b[0;31m# To get the full stack trace, call:\u001b[0m\u001b[0;34m\u001b[0m\u001b[0;34m\u001b[0m\u001b[0m\n\u001b[1;32m    121\u001b[0m             \u001b[0;31m# `keras.config.disable_traceback_filtering()`\u001b[0m\u001b[0;34m\u001b[0m\u001b[0;34m\u001b[0m\u001b[0m\n\u001b[0;32m--> 122\u001b[0;31m             \u001b[0;32mraise\u001b[0m \u001b[0me\u001b[0m\u001b[0;34m.\u001b[0m\u001b[0mwith_traceback\u001b[0m\u001b[0;34m(\u001b[0m\u001b[0mfiltered_tb\u001b[0m\u001b[0;34m)\u001b[0m \u001b[0;32mfrom\u001b[0m \u001b[0;32mNone\u001b[0m\u001b[0;34m\u001b[0m\u001b[0;34m\u001b[0m\u001b[0m\n\u001b[0m\u001b[1;32m    123\u001b[0m         \u001b[0;32mfinally\u001b[0m\u001b[0;34m:\u001b[0m\u001b[0;34m\u001b[0m\u001b[0;34m\u001b[0m\u001b[0m\n\u001b[1;32m    124\u001b[0m             \u001b[0;32mdel\u001b[0m \u001b[0mfiltered_tb\u001b[0m\u001b[0;34m\u001b[0m\u001b[0;34m\u001b[0m\u001b[0m\n",
            "\u001b[0;32m/usr/local/lib/python3.10/dist-packages/tensorflow/python/framework/constant_op.py\u001b[0m in \u001b[0;36mconvert_to_eager_tensor\u001b[0;34m(value, ctx, dtype)\u001b[0m\n\u001b[1;32m    106\u001b[0m       \u001b[0mdtype\u001b[0m \u001b[0;34m=\u001b[0m \u001b[0mdtypes\u001b[0m\u001b[0;34m.\u001b[0m\u001b[0mas_dtype\u001b[0m\u001b[0;34m(\u001b[0m\u001b[0mdtype\u001b[0m\u001b[0;34m)\u001b[0m\u001b[0;34m.\u001b[0m\u001b[0mas_datatype_enum\u001b[0m\u001b[0;34m\u001b[0m\u001b[0;34m\u001b[0m\u001b[0m\n\u001b[1;32m    107\u001b[0m   \u001b[0mctx\u001b[0m\u001b[0;34m.\u001b[0m\u001b[0mensure_initialized\u001b[0m\u001b[0;34m(\u001b[0m\u001b[0;34m)\u001b[0m\u001b[0;34m\u001b[0m\u001b[0;34m\u001b[0m\u001b[0m\n\u001b[0;32m--> 108\u001b[0;31m   \u001b[0;32mreturn\u001b[0m \u001b[0mops\u001b[0m\u001b[0;34m.\u001b[0m\u001b[0mEagerTensor\u001b[0m\u001b[0;34m(\u001b[0m\u001b[0mvalue\u001b[0m\u001b[0;34m,\u001b[0m \u001b[0mctx\u001b[0m\u001b[0;34m.\u001b[0m\u001b[0mdevice_name\u001b[0m\u001b[0;34m,\u001b[0m \u001b[0mdtype\u001b[0m\u001b[0;34m)\u001b[0m\u001b[0;34m\u001b[0m\u001b[0;34m\u001b[0m\u001b[0m\n\u001b[0m\u001b[1;32m    109\u001b[0m \u001b[0;34m\u001b[0m\u001b[0m\n\u001b[1;32m    110\u001b[0m \u001b[0;34m\u001b[0m\u001b[0m\n",
            "\u001b[0;31mValueError\u001b[0m: Failed to convert a NumPy array to a Tensor (Unsupported object type NoneType)."
          ]
        }
      ],
      "source": [
        "print(model.evaluate(test['text'], test['label']))"
      ]
    },
    {
      "cell_type": "code",
      "source": [
        "pd.DataFrame(history.history)[['val_accuracy','accuracy']].plot()"
      ],
      "metadata": {
        "id": "zTX2C6jHuynr"
      },
      "execution_count": null,
      "outputs": []
    },
    {
      "cell_type": "markdown",
      "metadata": {
        "id": "ifx5RFxnUQqc"
      },
      "source": [
        "# Model Inference"
      ]
    },
    {
      "cell_type": "markdown",
      "metadata": {
        "id": "sVh0WCBoUSlP"
      },
      "source": [
        "In this step, you will use the trained model to make predictions on new, unseen data (inference). Here’s an outline of the key points:\n",
        "\n",
        "1. **Create Test Sample**:\n",
        "   Create a string to test your modelm the goal here is to give the model Before making predictions, ensure that the new data is preprocessed in the same way as the training data. This includes tokenization, padding, and any other transformations you applied during the data preprocessing step. The data can be single text to see the result of the prediction.\n",
        "\n",
        "2. **Model Prediction**:\n",
        "   Use the `predict()` method to feed new samples into the trained model and obtain predictions. The model will output probabilities or predicted class labels based on the type of classification task (binary or multi-class).\n",
        "\n",
        "3. **Interpreting Predictions**:\n",
        "   The model will return probabilities for each class."
      ]
    },
    {
      "cell_type": "code",
      "execution_count": null,
      "metadata": {
        "id": "2XiahrhffR0J"
      },
      "outputs": [],
      "source": [
        "sample_text = [\"معسكر تقنيات ادارة الازدحام\"]\n",
        "\n",
        "sample_sequence = tokenizer.texts_to_sequences([clean_text(sample_text[0])])\n",
        "\n",
        "padded_sample_sequence = pad_sequences(sample_sequence, maxlen=300, padding='post')\n",
        "\n",
        "predicted_label = model.predict(padded_sample_sequence)\n",
        "\n",
        "print(\"Predicted label:\", label_encoder.inverse_transform([predicted_label.argmax()]))"
      ]
    },
    {
      "cell_type": "markdown",
      "metadata": {
        "id": "fHbgQVrt43DQ"
      },
      "source": [
        "# Notebook Question:\n",
        "- How did you handle text preprocessing? Why did you choose this approach?\n",
        "\n",
        "- Why did you choose this model design?\n",
        "\n",
        "- Why did you pick this number of layers or units for the model?\n",
        "\n",
        "- Why did you select these evaluation methods?\n",
        "\n",
        "- Does your model show signs of overfitting or underfitting? How do you know?\n",
        "\n",
        "- What changes could you make to improve the model and fix overfitting or underfitting?"
      ]
    },
    {
      "cell_type": "markdown",
      "metadata": {
        "id": "x7vOe0JZ43DQ"
      },
      "source": [
        "Answer Here:"
      ]
    }
  ],
  "metadata": {
    "accelerator": "GPU",
    "colab": {
      "gpuType": "T4",
      "provenance": [],
      "include_colab_link": true
    },
    "kernelspec": {
      "display_name": "Python 3",
      "name": "python3"
    },
    "language_info": {
      "name": "python"
    }
  },
  "nbformat": 4,
  "nbformat_minor": 0
}